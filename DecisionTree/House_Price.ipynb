{
 "cells": [
  {
   "cell_type": "code",
   "execution_count": null,
   "metadata": {},
   "outputs": [],
   "source": []
  },
  {
   "cell_type": "markdown",
   "metadata": {},
   "source": [
    "# Decision Tree Regressor"
   ]
  },
  {
   "cell_type": "code",
   "execution_count": 44,
   "metadata": {},
   "outputs": [],
   "source": [
    "import pandas as pd"
   ]
  },
  {
   "cell_type": "code",
   "execution_count": 41,
   "metadata": {},
   "outputs": [
    {
     "name": "stdout",
     "output_type": "stream",
     "text": [
      "Index(['Suburb', 'Address', 'Rooms', 'Type', 'Price', 'Method', 'SellerG',\n",
      "       'Date', 'Postcode', 'Regionname', 'Propertycount', 'Distance',\n",
      "       'CouncilArea'],\n",
      "      dtype='object')\n",
      "              Rooms         Price      Postcode  Propertycount      Distance\n",
      "count  58189.000000  4.504000e+04  58189.000000   58189.000000  58189.000000\n",
      "mean       3.111842  9.968538e+05   3125.581759    7618.117084     12.717893\n",
      "std        0.959051  5.957399e+05    125.439260    4424.787809      7.619876\n",
      "min        1.000000  8.500000e+04   3000.000000      39.000000      0.000000\n",
      "25%        3.000000  6.180000e+05   3056.000000    4380.000000      7.000000\n",
      "50%        3.000000  8.300000e+05   3107.000000    6795.000000     11.700000\n",
      "75%        4.000000  1.217000e+06   3163.000000   10412.000000     16.700000\n",
      "max       31.000000  1.120000e+07   3980.000000   21650.000000     64.100000\n",
      "Suburb \t: 0\n",
      "Address \t: 0\n",
      "Rooms \t: 0\n",
      "Type \t: 0\n",
      "Price \t: 13149\n",
      "Method \t: 0\n",
      "SellerG \t: 0\n",
      "Date \t: 0\n",
      "Postcode \t: 0\n",
      "Regionname \t: 0\n",
      "Propertycount \t: 0\n",
      "Distance \t: 0\n",
      "CouncilArea \t: 0\n"
     ]
    }
   ],
   "source": [
    "\n",
    "file_path = 'C:/Users/Leo/Desktop/Machine learning/ML_Practice/melbourne-housing-market/MELBOURNE_HOUSE_PRICES_LESS.csv'\n",
    "data = pd.read_csv(file_path)\n",
    "print(data.columns)\n",
    "print(data.describe())\n",
    "\n",
    "for name in data.columns:\n",
    "    print('%s \\t:'%(name),sum(pd.isnull(data[name])))"
   ]
  },
  {
   "cell_type": "code",
   "execution_count": 19,
   "metadata": {},
   "outputs": [],
   "source": [
    "data = data.dropna(axis=0)"
   ]
  },
  {
   "cell_type": "code",
   "execution_count": 21,
   "metadata": {},
   "outputs": [
    {
     "name": "stdout",
     "output_type": "stream",
     "text": [
      "              Rooms      Distance      Postcode\n",
      "count  45040.000000  45040.000000  45040.000000\n",
      "mean       3.072247     12.743184   3123.212944\n",
      "std        0.946267      7.580702    125.577159\n",
      "min        1.000000      0.000000   3000.000000\n",
      "25%        2.000000      7.000000   3051.000000\n",
      "50%        3.000000     11.700000   3103.000000\n",
      "75%        4.000000     16.700000   3163.000000\n",
      "max       31.000000     55.800000   3980.000000\n",
      "   Rooms  Distance  Postcode\n",
      "0      3       3.0      3067\n",
      "1      3       3.0      3067\n",
      "2      3       3.0      3067\n",
      "3      3       7.5      3040\n",
      "4      2      10.4      3042\n"
     ]
    }
   ],
   "source": [
    "y = data.Price\n",
    "features = ['Rooms', 'Distance', 'Postcode']\n",
    "X = data[features]\n",
    "print(X.describe())\n",
    "print(X.head())"
   ]
  },
  {
   "cell_type": "code",
   "execution_count": 22,
   "metadata": {},
   "outputs": [
    {
     "data": {
      "text/plain": [
       "DecisionTreeRegressor(criterion='mse', max_depth=None, max_features=None,\n",
       "           max_leaf_nodes=None, min_impurity_decrease=0.0,\n",
       "           min_impurity_split=None, min_samples_leaf=1,\n",
       "           min_samples_split=2, min_weight_fraction_leaf=0.0,\n",
       "           presort=False, random_state=1, splitter='best')"
      ]
     },
     "execution_count": 22,
     "metadata": {},
     "output_type": "execute_result"
    }
   ],
   "source": [
    "from sklearn.tree import DecisionTreeRegressor\n",
    "model = DecisionTreeRegressor(random_state=1)\n",
    "\n",
    "model.fit(X,y)"
   ]
  },
  {
   "cell_type": "code",
   "execution_count": 25,
   "metadata": {},
   "outputs": [
    {
     "name": "stdout",
     "output_type": "stream",
     "text": [
      "Making predictions for the following 5 houses:\n",
      "   Rooms  Distance  Postcode\n",
      "0      3       3.0      3067\n",
      "1      3       3.0      3067\n",
      "2      3       3.0      3067\n",
      "3      3       7.5      3040\n",
      "4      2      10.4      3042\n",
      "The predictions are\n",
      "[1248445.45454545 1248445.45454545 1248445.45454545 1159165.04854369\n",
      "  646547.94520548]\n",
      "The true values are\n",
      "0    1490000.0\n",
      "1    1220000.0\n",
      "2    1420000.0\n",
      "3    1515000.0\n",
      "4     670000.0\n",
      "Name: Price, dtype: float64\n"
     ]
    }
   ],
   "source": [
    "print(\"Making predictions for the following 5 houses:\")\n",
    "print(X.head())\n",
    "print(\"The predictions are\")\n",
    "print(model.predict(X.head()))\n",
    "print(\"The true values are\")\n",
    "print(y.head())"
   ]
  },
  {
   "cell_type": "code",
   "execution_count": 26,
   "metadata": {},
   "outputs": [
    {
     "data": {
      "text/plain": [
       "164168.31034107535"
      ]
     },
     "execution_count": 26,
     "metadata": {},
     "output_type": "execute_result"
    }
   ],
   "source": [
    "from sklearn.metrics import mean_absolute_error\n",
    "mean_absolute_error(y.head(), model.predict(X.head()))"
   ]
  },
  {
   "cell_type": "markdown",
   "metadata": {},
   "source": [
    "# A more professional way for data analysis\n",
    "## Splitting the data into train and validation data"
   ]
  },
  {
   "cell_type": "code",
   "execution_count": 27,
   "metadata": {},
   "outputs": [
    {
     "name": "stdout",
     "output_type": "stream",
     "text": [
      "211884.20825524998\n"
     ]
    }
   ],
   "source": [
    "from sklearn.model_selection import train_test_split\n",
    "train_X, val_X, train_y, val_y = train_test_split(X,y, random_state = 0)\n",
    "model = DecisionTreeRegressor()\n",
    "model.fit(train_X,train_y)\n",
    "\n",
    "predictions = model.predict(val_X)\n",
    "print(mean_absolute_error(val_y, predictions))"
   ]
  },
  {
   "cell_type": "markdown",
   "metadata": {},
   "source": [
    "# Optimizing the model (i.e. underfitting vs overfitting) by choosing the splits (max leaf nodes)"
   ]
  },
  {
   "cell_type": "code",
   "execution_count": 28,
   "metadata": {},
   "outputs": [],
   "source": [
    "def optimize_mae(max_leaf_nodes, train_X, val_X, train_y, val_y):\n",
    "    model = DecisionTreeRegressor(max_leaf_nodes = max_leaf_nodes, random_state = 0)\n",
    "    model.fit(train_X, train_y)\n",
    "    predictions = model.predict(val_X)\n",
    "    mae = mean_absolute_error(val_y, predictions)\n",
    "    return mae"
   ]
  },
  {
   "cell_type": "code",
   "execution_count": 30,
   "metadata": {},
   "outputs": [
    {
     "name": "stdout",
     "output_type": "stream",
     "text": [
      "Max leaf nodes: 5  \t\t Mean Absolute Error:  339930\n",
      "Max leaf nodes: 50  \t\t Mean Absolute Error:  228923\n",
      "Max leaf nodes: 500  \t\t Mean Absolute Error:  211840\n",
      "Max leaf nodes: 5000  \t\t Mean Absolute Error:  212081\n",
      "Of the options listed, 500 is the optimal number of leaves.\n"
     ]
    }
   ],
   "source": [
    "for max_leaf_nodes in [5,50,500,5000]:\n",
    "    my_mae = optimize_mae(max_leaf_nodes, train_X, val_X, train_y, val_y)\n",
    "    print(\"Max leaf nodes: %d  \\t\\t Mean Absolute Error:  %d\" %(max_leaf_nodes, my_mae))\n",
    "    \n",
    "print('Of the options listed, 500 is the optimal number of leaves.')"
   ]
  },
  {
   "cell_type": "code",
   "execution_count": 31,
   "metadata": {},
   "outputs": [
    {
     "data": {
      "text/plain": [
       "DecisionTreeRegressor(criterion='mse', max_depth=None, max_features=None,\n",
       "           max_leaf_nodes=None, min_impurity_decrease=0.0,\n",
       "           min_impurity_split=None, min_samples_leaf=1,\n",
       "           min_samples_split=2, min_weight_fraction_leaf=0.0,\n",
       "           presort=False, random_state=None, splitter='best')"
      ]
     },
     "execution_count": 31,
     "metadata": {},
     "output_type": "execute_result"
    }
   ],
   "source": [
    "final_model = DecisionTreeRegressor(max_leaf_nodes = 100, random_state=1)\n",
    "model.fit(X,y)\n"
   ]
  },
  {
   "cell_type": "markdown",
   "metadata": {},
   "source": [
    "# Random Forest Regressor"
   ]
  },
  {
   "cell_type": "code",
   "execution_count": 35,
   "metadata": {},
   "outputs": [
    {
     "name": "stdout",
     "output_type": "stream",
     "text": [
      "little improvement: 211294.1434559431\n"
     ]
    }
   ],
   "source": [
    "from sklearn.ensemble import RandomForestRegressor\n",
    "new_model = RandomForestRegressor(random_state=1)\n",
    "new_model.fit(train_X, train_y)\n",
    "new_predictions = new_model.predict(val_X)\n",
    "print('little improvement:', mean_absolute_error(val_y,new_predictions))"
   ]
  },
  {
   "cell_type": "markdown",
   "metadata": {},
   "source": [
    "## Handling the missing data"
   ]
  },
  {
   "cell_type": "code",
   "execution_count": 56,
   "metadata": {},
   "outputs": [
    {
     "name": "stdout",
     "output_type": "stream",
     "text": [
      "Index(['Suburb', 'Address', 'Rooms', 'Type', 'Price', 'Method', 'SellerG',\n",
      "       'Date', 'Distance', 'Postcode', 'Bedroom2', 'Bathroom', 'Car',\n",
      "       'Landsize', 'BuildingArea', 'YearBuilt', 'CouncilArea', 'Lattitude',\n",
      "       'Longtitude', 'Regionname', 'Propertycount'],\n",
      "      dtype='object')\n",
      "              Rooms         Price      Distance      Postcode      Bedroom2  \\\n",
      "count  34857.000000  2.724700e+04  34856.000000  34856.000000  26640.000000   \n",
      "mean       3.031012  1.050173e+06     11.184929   3116.062859      3.084647   \n",
      "std        0.969933  6.414671e+05      6.788892    109.023903      0.980690   \n",
      "min        1.000000  8.500000e+04      0.000000   3000.000000      0.000000   \n",
      "25%        2.000000  6.350000e+05      6.400000   3051.000000      2.000000   \n",
      "50%        3.000000  8.700000e+05     10.300000   3103.000000      3.000000   \n",
      "75%        4.000000  1.295000e+06     14.000000   3156.000000      4.000000   \n",
      "max       16.000000  1.120000e+07     48.100000   3978.000000     30.000000   \n",
      "\n",
      "           Bathroom           Car       Landsize  BuildingArea     YearBuilt  \\\n",
      "count  26631.000000  26129.000000   23047.000000   13742.00000  15551.000000   \n",
      "mean       1.624798      1.728845     593.598993     160.25640   1965.289885   \n",
      "std        0.724212      1.010771    3398.841946     401.26706     37.328178   \n",
      "min        0.000000      0.000000       0.000000       0.00000   1196.000000   \n",
      "25%        1.000000      1.000000     224.000000     102.00000   1940.000000   \n",
      "50%        2.000000      2.000000     521.000000     136.00000   1970.000000   \n",
      "75%        2.000000      2.000000     670.000000     188.00000   2000.000000   \n",
      "max       12.000000     26.000000  433014.000000   44515.00000   2106.000000   \n",
      "\n",
      "          Lattitude    Longtitude  Propertycount  \n",
      "count  26881.000000  26881.000000   34854.000000  \n",
      "mean     -37.810634    145.001851    7572.888306  \n",
      "std        0.090279      0.120169    4428.090313  \n",
      "min      -38.190430    144.423790      83.000000  \n",
      "25%      -37.862950    144.933500    4385.000000  \n",
      "50%      -37.807600    145.007800    6763.000000  \n",
      "75%      -37.754100    145.071900   10412.000000  \n",
      "max      -37.390200    145.526350   21650.000000  \n",
      "Suburb \t\t: 0\n",
      "Address \t\t: 0\n",
      "Rooms \t\t: 0\n",
      "Type \t\t: 0\n",
      "Price \t\t: 7610\n",
      "Method \t\t: 0\n",
      "SellerG \t\t: 0\n",
      "Date \t\t: 0\n",
      "Distance \t\t: 1\n",
      "Postcode \t\t: 1\n",
      "Bedroom2 \t\t: 8217\n",
      "Bathroom \t\t: 8226\n",
      "Car \t\t: 8728\n",
      "Landsize \t\t: 11810\n",
      "BuildingArea \t\t: 21115\n",
      "YearBuilt \t\t: 19306\n",
      "CouncilArea \t\t: 3\n",
      "Lattitude \t\t: 7976\n",
      "Longtitude \t\t: 7976\n",
      "Regionname \t\t: 3\n",
      "Propertycount \t\t: 3\n"
     ]
    }
   ],
   "source": [
    "file_path_test = 'C:/Users/Leo/Desktop/Machine learning/ML_Practice/melbourne-housing-market/Melbourne_housing_FULL.csv'\n",
    "data_test = pd.read_csv(file_path_test)\n",
    "print(data_test.columns)\n",
    "print(data_test.describe())\n",
    "\n",
    "for name in data_test.columns:\n",
    "    print('%s \\t\\t:' %(name),sum(pd.isnull(data_test[name])))"
   ]
  },
  {
   "cell_type": "code",
   "execution_count": 47,
   "metadata": {},
   "outputs": [
    {
     "name": "stdout",
     "output_type": "stream",
     "text": [
      "Price             7610\n",
      "Distance             1\n",
      "Postcode             1\n",
      "Bedroom2          8217\n",
      "Bathroom          8226\n",
      "Car               8728\n",
      "Landsize         11810\n",
      "BuildingArea     21115\n",
      "YearBuilt        19306\n",
      "CouncilArea          3\n",
      "Lattitude         7976\n",
      "Longtitude        7976\n",
      "Regionname           3\n",
      "Propertycount        3\n",
      "dtype: int64\n"
     ]
    }
   ],
   "source": [
    "missing_val_count_by_column = (data_test.isnull().sum())\n",
    "print(missing_val_count_by_column[missing_val_count_by_column > 0])"
   ]
  },
  {
   "cell_type": "markdown",
   "metadata": {},
   "source": [
    "### 1. Drop columns with misssing values"
   ]
  },
  {
   "cell_type": "code",
   "execution_count": 52,
   "metadata": {},
   "outputs": [
    {
     "name": "stdout",
     "output_type": "stream",
     "text": [
      "Suburb \t\t: 0\n",
      "Address \t\t: 0\n",
      "Rooms \t\t: 0\n",
      "Type \t\t: 0\n",
      "Method \t\t: 0\n",
      "SellerG \t\t: 0\n",
      "Date \t\t: 0\n"
     ]
    }
   ],
   "source": [
    "cols_with_missing = [col for col in data_test.columns \n",
    "                                 if data_test[col].isnull().any()]\n",
    "redued_original_data = data_test.drop(cols_with_missing, axis=1)\n",
    "for name in redued_original_data.columns:\n",
    "    print('%s \\t\\t:' %(name),sum(pd.isnull(redued_original_data[name])))"
   ]
  },
  {
   "cell_type": "markdown",
   "metadata": {},
   "source": [
    "### 2. Imputation (fills the blank with some numbers)"
   ]
  },
  {
   "cell_type": "code",
   "execution_count": 64,
   "metadata": {},
   "outputs": [
    {
     "name": "stdout",
     "output_type": "stream",
     "text": [
      "       Rooms      Price  Distance  Postcode  Bedroom2  Bathroom  Car\n",
      "0          2        NaN       2.5    3067.0       2.0       1.0  1.0\n",
      "1          2  1480000.0       2.5    3067.0       2.0       1.0  1.0\n",
      "2          2  1035000.0       2.5    3067.0       2.0       1.0  0.0\n",
      "3          3        NaN       2.5    3067.0       3.0       2.0  1.0\n",
      "4          3  1465000.0       2.5    3067.0       3.0       2.0  0.0\n",
      "5          3   850000.0       2.5    3067.0       3.0       2.0  1.0\n",
      "6          4  1600000.0       2.5    3067.0       3.0       1.0  2.0\n",
      "7          4        NaN       2.5    3067.0       3.0       2.0  2.0\n",
      "8          2        NaN       2.5    3067.0       4.0       1.0  2.0\n",
      "9          2        NaN       2.5    3067.0       3.0       2.0  1.0\n",
      "10         2   941000.0       2.5    3067.0       2.0       1.0  0.0\n",
      "11         3  1876000.0       2.5    3067.0       4.0       2.0  0.0\n",
      "12         2        NaN       2.5    3067.0       2.0       2.0  1.0\n",
      "13         4        NaN       2.5    3067.0       6.0       2.0  0.0\n",
      "14         2  1636000.0       2.5    3067.0       2.0       1.0  2.0\n",
      "15         3  1000000.0       2.5    3067.0       NaN       NaN  NaN\n",
      "16         2   745000.0       2.5    3067.0       NaN       NaN  NaN\n",
      "17         1   300000.0       2.5    3067.0       1.0       1.0  1.0\n",
      "18         2  1097000.0       2.5    3067.0       3.0       1.0  2.0\n",
      "19         2   542000.0       2.5    3067.0       NaN       NaN  NaN\n",
      "20         2        NaN       2.5    3067.0       2.0       1.0  1.0\n",
      "21         2   760000.0       2.5    3067.0       NaN       NaN  NaN\n",
      "22         1   481000.0       2.5    3067.0       NaN       NaN  NaN\n",
      "23         2   700000.0       2.5    3067.0       2.0       2.0  1.0\n",
      "24         3  1350000.0       2.5    3067.0       3.0       2.0  2.0\n",
      "25         2   750000.0       2.5    3067.0       2.0       2.0  1.0\n",
      "26         4  1985000.0       2.5    3067.0       NaN       NaN  NaN\n",
      "27         1   500000.0       2.5    3067.0       NaN       NaN  NaN\n",
      "28         2  1172500.0       2.5    3067.0       2.0       1.0  1.0\n",
      "29         1   441000.0       2.5    3067.0       1.0       1.0  1.0\n",
      "...      ...        ...       ...       ...       ...       ...  ...\n",
      "34827      4  1096000.0       6.4    3012.0       4.0       1.0  3.0\n",
      "34828      3   900000.0       6.4    3012.0       3.0       1.0  2.0\n",
      "34829      3        NaN       3.1    3003.0       NaN       NaN  NaN\n",
      "34830      3  1150000.0       3.1    3003.0       3.0       2.0  2.0\n",
      "34831      4   675000.0      16.5    3049.0       4.0       2.0  5.0\n",
      "34832      4   689000.0      16.5    3049.0       NaN       NaN  NaN\n",
      "34833      4   936000.0      16.7    3150.0       4.0       2.0  2.0\n",
      "34834      4        NaN      16.7    3150.0       4.0       2.0  2.0\n",
      "34835      3        NaN      16.7    3150.0       3.0       2.0  2.0\n",
      "34836      5  1400000.0      16.7    3150.0       5.0       2.0  2.0\n",
      "34837      5  2020000.0       6.8    3016.0       5.0       3.0  2.0\n",
      "34838      2   450000.0       6.8    3016.0       NaN       NaN  NaN\n",
      "34839      2   475000.0       6.8    3016.0       NaN       NaN  NaN\n",
      "34840      2   520000.0       6.8    3016.0       NaN       NaN  NaN\n",
      "34841      2   940000.0       6.8    3016.0       2.0       2.0  1.0\n",
      "34842      3  1400000.0       6.8    3016.0       3.0       2.0  NaN\n",
      "34843      3   830000.0       6.8    3016.0       3.0       1.0  2.0\n",
      "34844      1   440000.0       4.6    3181.0       NaN       NaN  NaN\n",
      "34845      4        NaN       4.6    3181.0       4.0       3.0  2.0\n",
      "34846      4   630000.0      25.5    3750.0       4.0       2.0  2.0\n",
      "34847      3   500000.0      25.5    3750.0       3.0       2.0  2.0\n",
      "34848      4   621000.0      25.5    3750.0       4.0       2.0  2.0\n",
      "34849      3   570000.0      25.5    3750.0       3.0       2.0  2.0\n",
      "34850      3        NaN      25.5    3750.0       3.0       2.0  2.0\n",
      "34851      3  1101000.0       6.3    3013.0       3.0       1.0  NaN\n",
      "34852      4  1480000.0       6.3    3013.0       4.0       1.0  3.0\n",
      "34853      2   888000.0       6.3    3013.0       2.0       2.0  1.0\n",
      "34854      2   705000.0       6.3    3013.0       2.0       1.0  2.0\n",
      "34855      3  1140000.0       6.3    3013.0       NaN       NaN  NaN\n",
      "34856      2  1020000.0       6.3    3013.0       2.0       1.0  0.0\n",
      "\n",
      "[34857 rows x 7 columns]\n",
      "[[2.00000000e+00 1.05017334e+06 2.50000000e+00 ... 2.00000000e+00\n",
      "  1.00000000e+00 1.00000000e+00]\n",
      " [2.00000000e+00 1.48000000e+06 2.50000000e+00 ... 2.00000000e+00\n",
      "  1.00000000e+00 1.00000000e+00]\n",
      " [2.00000000e+00 1.03500000e+06 2.50000000e+00 ... 2.00000000e+00\n",
      "  1.00000000e+00 0.00000000e+00]\n",
      " ...\n",
      " [2.00000000e+00 7.05000000e+05 6.30000000e+00 ... 2.00000000e+00\n",
      "  1.00000000e+00 2.00000000e+00]\n",
      " [3.00000000e+00 1.14000000e+06 6.30000000e+00 ... 3.08464715e+00\n",
      "  1.62479817e+00 1.72884534e+00]\n",
      " [2.00000000e+00 1.02000000e+06 6.30000000e+00 ... 2.00000000e+00\n",
      "  1.00000000e+00 0.00000000e+00]]\n"
     ]
    }
   ],
   "source": [
    "from sklearn.preprocessing import Imputer\n",
    "my_imputer = Imputer()\n",
    "data_test = data_test[['Rooms', 'Price', 'Distance', 'Postcode','Bedroom2', 'Bathroom','Car']]\n",
    "print(data_test)\n",
    "data_with_imputed_values = my_imputer.fit_transform(data_test)\n",
    "print(data_with_imputed_values)\n",
    "\n"
   ]
  },
  {
   "cell_type": "markdown",
   "metadata": {},
   "source": [
    "### Extended Imputation (tracking what is imputed)"
   ]
  },
  {
   "cell_type": "code",
   "execution_count": 128,
   "metadata": {},
   "outputs": [
    {
     "name": "stdout",
     "output_type": "stream",
     "text": [
      "['Price', 'Distance', 'Postcode', 'Bedroom2', 'Bathroom', 'Car']\n",
      "Index(['Rooms', 'Price', 'Distance', 'Postcode', 'Bedroom2', 'Bathroom', 'Car',\n",
      "       'Price_was_missing', 'Distance_was_missing', 'Postcode_was_missing',\n",
      "       'Bedroom2_was_missing', 'Bathroom_was_missing', 'Car_was_missing'],\n",
      "      dtype='object')\n",
      "   Rooms      Price  Distance  Postcode  Bedroom2  Bathroom  Car  \\\n",
      "0      2        NaN       2.5    3067.0       2.0       1.0  1.0   \n",
      "1      2  1480000.0       2.5    3067.0       2.0       1.0  1.0   \n",
      "2      2  1035000.0       2.5    3067.0       2.0       1.0  0.0   \n",
      "3      3        NaN       2.5    3067.0       3.0       2.0  1.0   \n",
      "4      3  1465000.0       2.5    3067.0       3.0       2.0  0.0   \n",
      "\n",
      "   Price_was_missing  Distance_was_missing  Postcode_was_missing  \\\n",
      "0               True                 False                 False   \n",
      "1              False                 False                 False   \n",
      "2              False                 False                 False   \n",
      "3               True                 False                 False   \n",
      "4              False                 False                 False   \n",
      "\n",
      "   Bedroom2_was_missing  Bathroom_was_missing  Car_was_missing  \n",
      "0                 False                 False            False  \n",
      "1                 False                 False            False  \n",
      "2                 False                 False            False  \n",
      "3                 False                 False            False  \n",
      "4                 False                 False            False  \n",
      "    0             1    2       3    4    5    6    7    8    9    10   11   12\n",
      "0  2.0  1.050173e+06  2.5  3067.0  2.0  1.0  1.0  1.0  0.0  0.0  0.0  0.0  0.0\n",
      "1  2.0  1.480000e+06  2.5  3067.0  2.0  1.0  1.0  0.0  0.0  0.0  0.0  0.0  0.0\n",
      "2  2.0  1.035000e+06  2.5  3067.0  2.0  1.0  0.0  0.0  0.0  0.0  0.0  0.0  0.0\n",
      "3  3.0  1.050173e+06  2.5  3067.0  3.0  2.0  1.0  1.0  0.0  0.0  0.0  0.0  0.0\n",
      "4  3.0  1.465000e+06  2.5  3067.0  3.0  2.0  0.0  0.0  0.0  0.0  0.0  0.0  0.0\n",
      "Index(['Rooms', 'Price', 'Distance', 'Postcode', 'Bedroom2', 'Bathroom', 'Car',\n",
      "       'Price_was_missing', 'Distance_was_missing', 'Postcode_was_missing',\n",
      "       'Bedroom2_was_missing', 'Bathroom_was_missing', 'Car_was_missing'],\n",
      "      dtype='object')\n"
     ]
    }
   ],
   "source": [
    "# make copy to avoid changing original data (when Imputing)\n",
    "new_data = data_test.copy()\n",
    "\n",
    "# make new columns indicating what will be imputed\n",
    "cols_with_missing = [col for col in new_data.columns \n",
    "                                 if new_data[col].isnull().any()]\n",
    "print(cols_with_missing)\n",
    "for col in cols_with_missing:\n",
    "    new_data[col + '_was_missing'] = new_data[col].isnull()\n",
    "print(new_data.columns)\n",
    "print(new_data.head())\n",
    "\n",
    "imputer_info = new_data.copy()\n",
    "\n",
    "# Imputation\n",
    "my_imputer = Imputer()\n",
    "new_data = pd.DataFrame(my_imputer.fit_transform(new_data))\n",
    "print(new_data.head())\n",
    "\n",
    "\n",
    "new_data.columns = imputer_info.columns\n",
    "print(new_data.columns)\n"
   ]
  },
  {
   "cell_type": "code",
   "execution_count": null,
   "metadata": {},
   "outputs": [],
   "source": []
  }
 ],
 "metadata": {
  "kernelspec": {
   "display_name": "Python 3",
   "language": "python",
   "name": "python3"
  },
  "language_info": {
   "codemirror_mode": {
    "name": "ipython",
    "version": 3
   },
   "file_extension": ".py",
   "mimetype": "text/x-python",
   "name": "python",
   "nbconvert_exporter": "python",
   "pygments_lexer": "ipython3",
   "version": "3.6.5"
  }
 },
 "nbformat": 4,
 "nbformat_minor": 2
}
