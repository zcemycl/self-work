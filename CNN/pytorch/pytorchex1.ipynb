{
 "cells": [
  {
   "cell_type": "code",
   "execution_count": 1,
   "metadata": {},
   "outputs": [
    {
     "data": {
      "text/plain": [
       "<torch._C.Generator at 0x273b307d070>"
      ]
     },
     "execution_count": 1,
     "metadata": {},
     "output_type": "execute_result"
    }
   ],
   "source": [
    "import torch\n",
    "import torchvision\n",
    "n_epochs = 3\n",
    "batch_size_train = 64\n",
    "batch_size_test = 1000\n",
    "learning_rate = 0.01\n",
    "momentum = 0.5\n",
    "log_interval = 10\n",
    "\n",
    "random_seed = 1\n",
    "torch.backends.cudnn.enabled = False\n",
    "torch.manual_seed(random_seed)"
   ]
  },
  {
   "cell_type": "code",
   "execution_count": 2,
   "metadata": {},
   "outputs": [
    {
     "name": "stdout",
     "output_type": "stream",
     "text": [
      "Downloading http://yann.lecun.com/exdb/mnist/train-images-idx3-ubyte.gz\n",
      "Downloading http://yann.lecun.com/exdb/mnist/train-labels-idx1-ubyte.gz\n",
      "Downloading http://yann.lecun.com/exdb/mnist/t10k-images-idx3-ubyte.gz\n",
      "Downloading http://yann.lecun.com/exdb/mnist/t10k-labels-idx1-ubyte.gz\n",
      "Processing...\n",
      "Done!\n"
     ]
    }
   ],
   "source": [
    "train_loader = torch.utils.data.DataLoader(\n",
    "  torchvision.datasets.MNIST('/files/', train=True, download=True,\n",
    "                             transform=torchvision.transforms.Compose([\n",
    "                               torchvision.transforms.ToTensor(),\n",
    "                               torchvision.transforms.Normalize(\n",
    "                                 (0.1307,), (0.3081,))\n",
    "                             ])),\n",
    "  batch_size=batch_size_train, shuffle=True)\n",
    "\n",
    "test_loader = torch.utils.data.DataLoader(\n",
    "  torchvision.datasets.MNIST('/files/', train=False, download=True,\n",
    "                             transform=torchvision.transforms.Compose([\n",
    "                               torchvision.transforms.ToTensor(),\n",
    "                               torchvision.transforms.Normalize(\n",
    "                                 (0.1307,), (0.3081,))\n",
    "                             ])),\n",
    "  batch_size=batch_size_test, shuffle=True)"
   ]
  },
  {
   "cell_type": "code",
   "execution_count": 23,
   "metadata": {},
   "outputs": [
    {
     "name": "stdout",
     "output_type": "stream",
     "text": [
      "<enumerate object at 0x0000027387EF9F78>\n"
     ]
    }
   ],
   "source": [
    "examples = enumerate(test_loader)\n",
    "print(examples)\n",
    "batch_idx, (example_data, example_targets) = next(examples)"
   ]
  },
  {
   "cell_type": "code",
   "execution_count": 31,
   "metadata": {},
   "outputs": [
    {
     "ename": "TypeError",
     "evalue": "object of type 'enumerate' has no len()",
     "output_type": "error",
     "traceback": [
      "\u001b[1;31m---------------------------------------------------------------------------\u001b[0m",
      "\u001b[1;31mTypeError\u001b[0m                                 Traceback (most recent call last)",
      "\u001b[1;32m<ipython-input-31-6fdd99b9113b>\u001b[0m in \u001b[0;36m<module>\u001b[1;34m()\u001b[0m\n\u001b[1;32m----> 1\u001b[1;33m \u001b[0mprint\u001b[0m\u001b[1;33m(\u001b[0m\u001b[0mlen\u001b[0m\u001b[1;33m(\u001b[0m\u001b[0mexamples\u001b[0m\u001b[1;33m)\u001b[0m\u001b[1;33m)\u001b[0m\u001b[1;33m\u001b[0m\u001b[0m\n\u001b[0m",
      "\u001b[1;31mTypeError\u001b[0m: object of type 'enumerate' has no len()"
     ]
    }
   ],
   "source": [
    "print(len(examples))"
   ]
  },
  {
   "cell_type": "code",
   "execution_count": 24,
   "metadata": {
    "scrolled": true
   },
   "outputs": [
    {
     "name": "stdout",
     "output_type": "stream",
     "text": [
      "0\n"
     ]
    }
   ],
   "source": [
    "print(batch_idx)"
   ]
  },
  {
   "cell_type": "code",
   "execution_count": 26,
   "metadata": {
    "scrolled": true
   },
   "outputs": [
    {
     "name": "stdout",
     "output_type": "stream",
     "text": [
      "tensor([[[[-0.4242, -0.4242, -0.4242,  ..., -0.4242, -0.4242, -0.4242],\n",
      "          [-0.4242, -0.4242, -0.4242,  ..., -0.4242, -0.4242, -0.4242],\n",
      "          [-0.4242, -0.4242, -0.4242,  ..., -0.4242, -0.4242, -0.4242],\n",
      "          ...,\n",
      "          [-0.4242, -0.4242, -0.4242,  ..., -0.4242, -0.4242, -0.4242],\n",
      "          [-0.4242, -0.4242, -0.4242,  ..., -0.4242, -0.4242, -0.4242],\n",
      "          [-0.4242, -0.4242, -0.4242,  ..., -0.4242, -0.4242, -0.4242]]],\n",
      "\n",
      "\n",
      "        [[[-0.4242, -0.4242, -0.4242,  ..., -0.4242, -0.4242, -0.4242],\n",
      "          [-0.4242, -0.4242, -0.4242,  ..., -0.4242, -0.4242, -0.4242],\n",
      "          [-0.4242, -0.4242, -0.4242,  ..., -0.4242, -0.4242, -0.4242],\n",
      "          ...,\n",
      "          [-0.4242, -0.4242, -0.4242,  ..., -0.4242, -0.4242, -0.4242],\n",
      "          [-0.4242, -0.4242, -0.4242,  ..., -0.4242, -0.4242, -0.4242],\n",
      "          [-0.4242, -0.4242, -0.4242,  ..., -0.4242, -0.4242, -0.4242]]],\n",
      "\n",
      "\n",
      "        [[[-0.4242, -0.4242, -0.4242,  ..., -0.4242, -0.4242, -0.4242],\n",
      "          [-0.4242, -0.4242, -0.4242,  ..., -0.4242, -0.4242, -0.4242],\n",
      "          [-0.4242, -0.4242, -0.4242,  ..., -0.4242, -0.4242, -0.4242],\n",
      "          ...,\n",
      "          [-0.4242, -0.4242, -0.4242,  ..., -0.4242, -0.4242, -0.4242],\n",
      "          [-0.4242, -0.4242, -0.4242,  ..., -0.4242, -0.4242, -0.4242],\n",
      "          [-0.4242, -0.4242, -0.4242,  ..., -0.4242, -0.4242, -0.4242]]],\n",
      "\n",
      "\n",
      "        ...,\n",
      "\n",
      "\n",
      "        [[[-0.4242, -0.4242, -0.4242,  ..., -0.4242, -0.4242, -0.4242],\n",
      "          [-0.4242, -0.4242, -0.4242,  ..., -0.4242, -0.4242, -0.4242],\n",
      "          [-0.4242, -0.4242, -0.4242,  ..., -0.4242, -0.4242, -0.4242],\n",
      "          ...,\n",
      "          [-0.4242, -0.4242, -0.4242,  ..., -0.4242, -0.4242, -0.4242],\n",
      "          [-0.4242, -0.4242, -0.4242,  ..., -0.4242, -0.4242, -0.4242],\n",
      "          [-0.4242, -0.4242, -0.4242,  ..., -0.4242, -0.4242, -0.4242]]],\n",
      "\n",
      "\n",
      "        [[[-0.4242, -0.4242, -0.4242,  ..., -0.4242, -0.4242, -0.4242],\n",
      "          [-0.4242, -0.4242, -0.4242,  ..., -0.4242, -0.4242, -0.4242],\n",
      "          [-0.4242, -0.4242, -0.4242,  ..., -0.4242, -0.4242, -0.4242],\n",
      "          ...,\n",
      "          [-0.4242, -0.4242, -0.4242,  ..., -0.4242, -0.4242, -0.4242],\n",
      "          [-0.4242, -0.4242, -0.4242,  ..., -0.4242, -0.4242, -0.4242],\n",
      "          [-0.4242, -0.4242, -0.4242,  ..., -0.4242, -0.4242, -0.4242]]],\n",
      "\n",
      "\n",
      "        [[[-0.4242, -0.4242, -0.4242,  ..., -0.4242, -0.4242, -0.4242],\n",
      "          [-0.4242, -0.4242, -0.4242,  ..., -0.4242, -0.4242, -0.4242],\n",
      "          [-0.4242, -0.4242, -0.4242,  ..., -0.4242, -0.4242, -0.4242],\n",
      "          ...,\n",
      "          [-0.4242, -0.4242, -0.4242,  ..., -0.4242, -0.4242, -0.4242],\n",
      "          [-0.4242, -0.4242, -0.4242,  ..., -0.4242, -0.4242, -0.4242],\n",
      "          [-0.4242, -0.4242, -0.4242,  ..., -0.4242, -0.4242, -0.4242]]]])\n"
     ]
    }
   ],
   "source": [
    "print(example_data) #x"
   ]
  },
  {
   "cell_type": "code",
   "execution_count": 27,
   "metadata": {
    "scrolled": true
   },
   "outputs": [
    {
     "name": "stdout",
     "output_type": "stream",
     "text": [
      "tensor([2, 6, 4, 0, 0, 0, 1, 6, 0, 8, 9, 8, 7, 6, 2, 5, 7, 1, 4, 2, 3, 9, 0, 9,\n",
      "        2, 9, 1, 6, 6, 7, 1, 4, 5, 0, 3, 8, 5, 9, 0, 6, 1, 4, 2, 9, 3, 0, 4, 7,\n",
      "        2, 3, 0, 9, 0, 1, 1, 0, 4, 7, 1, 9, 4, 2, 2, 7, 9, 1, 8, 0, 9, 5, 2, 9,\n",
      "        1, 0, 0, 0, 3, 1, 0, 4, 5, 9, 5, 3, 2, 7, 8, 4, 1, 3, 6, 8, 9, 5, 1, 6,\n",
      "        6, 3, 3, 7, 2, 0, 3, 1, 9, 9, 8, 8, 3, 2, 9, 9, 6, 0, 4, 5, 2, 1, 8, 2,\n",
      "        5, 8, 1, 1, 6, 4, 7, 6, 1, 2, 1, 8, 1, 6, 2, 8, 4, 8, 8, 7, 9, 7, 4, 8,\n",
      "        0, 4, 0, 3, 6, 7, 7, 2, 3, 5, 3, 8, 5, 5, 7, 0, 3, 0, 4, 7, 6, 4, 4, 0,\n",
      "        5, 2, 3, 1, 2, 1, 2, 8, 7, 3, 5, 4, 5, 5, 7, 9, 9, 4, 3, 1, 8, 8, 1, 6,\n",
      "        1, 1, 8, 7, 6, 3, 9, 8, 4, 5, 1, 6, 0, 9, 4, 4, 0, 2, 9, 8, 4, 2, 0, 8,\n",
      "        3, 8, 6, 3, 5, 4, 7, 6, 3, 7, 4, 3, 4, 8, 0, 1, 9, 3, 2, 2, 8, 9, 1, 3,\n",
      "        7, 8, 1, 5, 7, 2, 7, 1, 0, 7, 8, 8, 3, 8, 8, 3, 2, 8, 4, 3, 3, 3, 0, 1,\n",
      "        4, 4, 2, 8, 3, 3, 0, 0, 8, 4, 1, 5, 8, 4, 5, 8, 2, 9, 4, 9, 7, 4, 3, 3,\n",
      "        1, 6, 8, 8, 1, 1, 6, 8, 9, 4, 0, 7, 4, 0, 8, 5, 8, 4, 8, 5, 3, 7, 7, 0,\n",
      "        5, 3, 2, 6, 1, 1, 3, 4, 6, 3, 1, 5, 5, 1, 7, 8, 4, 5, 8, 7, 9, 0, 8, 8,\n",
      "        0, 0, 3, 8, 9, 6, 4, 7, 3, 4, 3, 0, 4, 6, 6, 8, 9, 1, 0, 5, 8, 1, 2, 5,\n",
      "        1, 0, 4, 1, 9, 6, 0, 9, 1, 9, 5, 2, 0, 0, 2, 3, 6, 0, 3, 9, 1, 9, 6, 0,\n",
      "        0, 1, 5, 6, 0, 1, 0, 0, 3, 1, 5, 8, 6, 7, 1, 1, 8, 8, 0, 1, 1, 8, 9, 8,\n",
      "        5, 6, 1, 8, 8, 9, 8, 2, 1, 9, 1, 7, 7, 1, 6, 7, 0, 8, 7, 1, 5, 7, 9, 4,\n",
      "        6, 9, 1, 5, 8, 0, 0, 5, 4, 8, 9, 5, 3, 0, 1, 4, 5, 6, 0, 0, 0, 0, 7, 4,\n",
      "        1, 6, 2, 3, 1, 6, 4, 8, 5, 9, 3, 8, 2, 0, 3, 7, 7, 6, 5, 1, 7, 6, 5, 0,\n",
      "        3, 2, 1, 1, 5, 4, 8, 9, 6, 3, 0, 4, 4, 5, 1, 8, 5, 3, 7, 4, 4, 9, 9, 0,\n",
      "        2, 2, 5, 0, 4, 2, 2, 8, 5, 5, 3, 2, 3, 6, 6, 4, 1, 5, 6, 9, 3, 8, 2, 9,\n",
      "        6, 0, 2, 1, 5, 5, 4, 1, 5, 7, 6, 6, 8, 6, 1, 4, 8, 4, 4, 3, 6, 2, 1, 1,\n",
      "        4, 3, 3, 1, 6, 1, 4, 7, 9, 4, 9, 9, 2, 0, 8, 3, 8, 1, 7, 3, 0, 1, 7, 4,\n",
      "        7, 9, 7, 8, 2, 8, 1, 2, 8, 5, 8, 2, 5, 3, 2, 9, 5, 4, 4, 2, 2, 9, 5, 4,\n",
      "        3, 2, 0, 9, 7, 4, 5, 5, 4, 0, 1, 7, 4, 6, 5, 8, 5, 2, 1, 5, 0, 1, 7, 8,\n",
      "        9, 2, 0, 3, 4, 0, 3, 6, 0, 4, 1, 0, 5, 4, 8, 4, 3, 4, 3, 3, 8, 4, 1, 9,\n",
      "        3, 7, 3, 7, 6, 1, 0, 9, 4, 6, 7, 9, 9, 8, 7, 5, 4, 4, 9, 2, 5, 8, 3, 7,\n",
      "        5, 4, 7, 7, 1, 7, 1, 9, 4, 6, 6, 3, 1, 6, 9, 4, 4, 2, 5, 8, 0, 8, 9, 4,\n",
      "        8, 3, 5, 4, 6, 7, 9, 8, 2, 4, 3, 5, 2, 5, 2, 8, 2, 6, 4, 5, 3, 3, 5, 2,\n",
      "        4, 7, 7, 7, 9, 5, 3, 1, 4, 7, 6, 2, 6, 3, 3, 6, 3, 8, 2, 9, 0, 1, 1, 6,\n",
      "        7, 5, 6, 2, 4, 2, 9, 8, 0, 5, 4, 8, 6, 6, 8, 0, 0, 7, 6, 0, 7, 6, 0, 0,\n",
      "        9, 7, 1, 3, 2, 6, 8, 7, 0, 2, 7, 4, 9, 7, 3, 8, 2, 4, 6, 6, 3, 6, 8, 5,\n",
      "        8, 4, 1, 6, 1, 6, 6, 8, 2, 1, 9, 1, 3, 7, 6, 3, 7, 6, 0, 9, 3, 0, 3, 7,\n",
      "        1, 6, 5, 8, 3, 7, 5, 4, 5, 9, 8, 5, 3, 9, 2, 7, 3, 6, 2, 6, 3, 7, 2, 8,\n",
      "        1, 7, 9, 5, 9, 7, 0, 1, 2, 2, 8, 4, 6, 1, 5, 8, 6, 3, 7, 6, 5, 5, 1, 1,\n",
      "        6, 4, 5, 7, 9, 0, 1, 7, 6, 0, 7, 2, 0, 2, 0, 3, 6, 7, 3, 0, 2, 1, 6, 7,\n",
      "        4, 0, 0, 2, 5, 4, 6, 6, 6, 6, 4, 8, 0, 8, 5, 1, 1, 0, 8, 9, 1, 8, 7, 9,\n",
      "        9, 4, 8, 0, 0, 8, 4, 7, 1, 5, 3, 4, 1, 7, 7, 8, 4, 7, 3, 6, 8, 4, 4, 9,\n",
      "        5, 8, 2, 5, 7, 7, 9, 3, 8, 5, 2, 0, 9, 3, 8, 9, 5, 0, 9, 7, 7, 8, 5, 9,\n",
      "        2, 7, 2, 7, 6, 1, 3, 8, 1, 1, 5, 4, 0, 5, 4, 9, 8, 4, 6, 7, 1, 3, 5, 1,\n",
      "        0, 2, 4, 1, 6, 7, 1, 4, 9, 7, 1, 8, 3, 7, 2, 7])\n"
     ]
    }
   ],
   "source": [
    "print(example_targets) #y"
   ]
  },
  {
   "cell_type": "code",
   "execution_count": 4,
   "metadata": {},
   "outputs": [
    {
     "data": {
      "text/plain": [
       "torch.Size([1000, 1, 28, 28])"
      ]
     },
     "execution_count": 4,
     "metadata": {},
     "output_type": "execute_result"
    }
   ],
   "source": [
    "example_data.shape"
   ]
  },
  {
   "cell_type": "code",
   "execution_count": 29,
   "metadata": {},
   "outputs": [
    {
     "data": {
      "text/plain": [
       "torch.Size([1000])"
      ]
     },
     "execution_count": 29,
     "metadata": {},
     "output_type": "execute_result"
    }
   ],
   "source": [
    "example_targets.shape"
   ]
  },
  {
   "cell_type": "code",
   "execution_count": 5,
   "metadata": {},
   "outputs": [
    {
     "data": {
      "text/plain": [
       "torch.Tensor"
      ]
     },
     "execution_count": 5,
     "metadata": {},
     "output_type": "execute_result"
    }
   ],
   "source": [
    "type(example_data)"
   ]
  },
  {
   "cell_type": "code",
   "execution_count": 32,
   "metadata": {},
   "outputs": [
    {
     "name": "stdout",
     "output_type": "stream",
     "text": [
      "1\n"
     ]
    }
   ],
   "source": [
    "batch_idx, (example_data, example_targets) = next(examples)\n",
    "print(batch_idx)"
   ]
  },
  {
   "cell_type": "code",
   "execution_count": 7,
   "metadata": {},
   "outputs": [
    {
     "data": {
      "image/png": "[encoded data removed]",
      "text/plain": [
       "<Figure size 432x288 with 6 Axes>"
      ]
     },
     "execution_count": 7,
     "metadata": {},
     "output_type": "execute_result"
    },
    {
     "data": {
      "image/png": "[encoded data removed]",
      "text/plain": [
       "<Figure size 432x288 with 6 Axes>"
      ]
     },
     "metadata": {},
     "output_type": "display_data"
    }
   ],
   "source": [
    "import matplotlib.pyplot as plt\n",
    "\n",
    "fig = plt.figure()\n",
    "for i in range(6):\n",
    "  plt.subplot(2,3,i+1)\n",
    "  plt.tight_layout()\n",
    "  plt.imshow(example_data[i][0], cmap='gray', interpolation='none')\n",
    "  plt.title(\"Ground Truth: {}\".format(example_targets[i]))\n",
    "  plt.xticks([])\n",
    "  plt.yticks([])\n",
    "fig"
   ]
  },
  {
   "cell_type": "code",
   "execution_count": 2,
   "metadata": {},
   "outputs": [],
   "source": [
    "import torch.nn as nn\n",
    "import torch.nn.functional as F\n",
    "import torch.optim as optim"
   ]
  },
  {
   "cell_type": "code",
   "execution_count": 3,
   "metadata": {},
   "outputs": [],
   "source": [
    "class Net(nn.Module):\n",
    "    def __init__(self):\n",
    "        super(Net, self).__init__()\n",
    "        self.conv1 = nn.Conv2d(1, 10, kernel_size=5)\n",
    "        self.conv2 = nn.Conv2d(10, 20, kernel_size=5)\n",
    "        self.conv2_drop = nn.Dropout2d()\n",
    "        self.fc1 = nn.Linear(320, 50)\n",
    "        self.fc2 = nn.Linear(50, 10)\n",
    "\n",
    "    def forward(self, x):\n",
    "        x = F.relu(F.max_pool2d(self.conv1(x), 2))\n",
    "        x = F.relu(F.max_pool2d(self.conv2_drop(self.conv2(x)), 2))\n",
    "        x = x.view(-1, 320)\n",
    "        x = F.relu(self.fc1(x))\n",
    "        x = F.dropout(x, training=self.training)\n",
    "        x = self.fc2(x)\n",
    "        return F.log_softmax(x)"
   ]
  },
  {
   "cell_type": "code",
   "execution_count": 16,
   "metadata": {},
   "outputs": [],
   "source": [
    "network = Net()\n",
    "#network.cuda()\n",
    "optimizer = optim.SGD(network.parameters(), lr=learning_rate,\n",
    "                      momentum=momentum)"
   ]
  },
  {
   "cell_type": "code",
   "execution_count": 12,
   "metadata": {},
   "outputs": [],
   "source": [
    "train_losses = []\n",
    "train_counter = []\n",
    "test_losses = []\n",
    "test_counter = [i*len(train_loader.dataset) for i in range(n_epochs + 1)]"
   ]
  },
  {
   "cell_type": "code",
   "execution_count": 18,
   "metadata": {},
   "outputs": [],
   "source": [
    "def train(epoch):\n",
    "  network.train()\n",
    "  for batch_idx, (data, target) in enumerate(train_loader):\n",
    "    optimizer.zero_grad()\n",
    "    output = network(data)\n",
    "    loss = F.nll_loss(output, target)\n",
    "    loss.backward()\n",
    "    optimizer.step()\n",
    "    if batch_idx % log_interval == 0:\n",
    "      print('Train Epoch: {} [{}/{} ({:.0f}%)]\\tLoss: {:.6f}'.format(\n",
    "        epoch, batch_idx * len(data), len(train_loader.dataset),\n",
    "        100. * batch_idx / len(train_loader), loss.item()))\n",
    "      train_losses.append(loss.item())\n",
    "      train_counter.append(\n",
    "        (batch_idx*64) + ((epoch-1)*len(train_loader.dataset)))\n",
    "      #torch.save(network.state_dict(), '/results/model.pth')\n",
    "      #torch.save(optimizer.state_dict(), '/results/optimizer.pth')"
   ]
  },
  {
   "cell_type": "code",
   "execution_count": 19,
   "metadata": {},
   "outputs": [],
   "source": [
    "def test():\n",
    "  network.eval()\n",
    "  test_loss = 0\n",
    "  correct = 0\n",
    "  with torch.no_grad():\n",
    "    for data, target in test_loader:\n",
    "      output = network(data)\n",
    "      test_loss += F.nll_loss(output, target, size_average=False).item()\n",
    "      pred = output.data.max(1, keepdim=True)[1]\n",
    "      correct += pred.eq(target.data.view_as(pred)).sum()\n",
    "  test_loss /= len(test_loader.dataset)\n",
    "  test_losses.append(test_loss)\n",
    "  print('\\nTest set: Avg. loss: {:.4f}, Accuracy: {}/{} ({:.0f}%)\\n'.format(\n",
    "    test_loss, correct, len(test_loader.dataset),\n",
    "    100. * correct / len(test_loader.dataset)))"
   ]
  },
  {
   "cell_type": "code",
   "execution_count": 20,
   "metadata": {
    "scrolled": true
   },
   "outputs": [
    {
     "name": "stderr",
     "output_type": "stream",
     "text": [
      "c:\\users\\leo\\appdata\\local\\programs\\python\\python36\\lib\\site-packages\\ipykernel_launcher.py:17: UserWarning: Implicit dimension choice for log_softmax has been deprecated. Change the call to include dim=X as an argument.\n",
      "c:\\users\\leo\\appdata\\local\\programs\\python\\python36\\lib\\site-packages\\torch\\nn\\_reduction.py:49: UserWarning: size_average and reduce args will be deprecated, please use reduction='sum' instead.\n",
      "  warnings.warn(warning.format(ret))\n"
     ]
    },
    {
     "name": "stdout",
     "output_type": "stream",
     "text": [
      "\n",
      "Test set: Avg. loss: 2.3024, Accuracy: 1009/10000 (10%)\n",
      "\n",
      "Train Epoch: 1 [0/60000 (0%)]\tLoss: 2.303525\n",
      "Train Epoch: 1 [640/60000 (1%)]\tLoss: 2.267654\n",
      "Train Epoch: 1 [1280/60000 (2%)]\tLoss: 2.282942\n",
      "Train Epoch: 1 [1920/60000 (3%)]\tLoss: 2.226078\n",
      "Train Epoch: 1 [2560/60000 (4%)]\tLoss: 2.191179\n",
      "Train Epoch: 1 [3200/60000 (5%)]\tLoss: 2.158659\n",
      "Train Epoch: 1 [3840/60000 (6%)]\tLoss: 2.134054\n",
      "Train Epoch: 1 [4480/60000 (7%)]\tLoss: 2.087886\n",
      "Train Epoch: 1 [5120/60000 (9%)]\tLoss: 2.078272\n",
      "Train Epoch: 1 [5760/60000 (10%)]\tLoss: 1.851918\n",
      "Train Epoch: 1 [6400/60000 (11%)]\tLoss: 1.923211\n",
      "Train Epoch: 1 [7040/60000 (12%)]\tLoss: 1.802145\n",
      "Train Epoch: 1 [7680/60000 (13%)]\tLoss: 1.544863\n",
      "Train Epoch: 1 [8320/60000 (14%)]\tLoss: 1.519731\n",
      "Train Epoch: 1 [8960/60000 (15%)]\tLoss: 1.384291\n",
      "Train Epoch: 1 [9600/60000 (16%)]\tLoss: 1.342506\n",
      "Train Epoch: 1 [10240/60000 (17%)]\tLoss: 1.251101\n",
      "Train Epoch: 1 [10880/60000 (18%)]\tLoss: 1.272088\n",
      "Train Epoch: 1 [11520/60000 (19%)]\tLoss: 1.357343\n",
      "Train Epoch: 1 [12160/60000 (20%)]\tLoss: 1.055120\n",
      "Train Epoch: 1 [12800/60000 (21%)]\tLoss: 1.154109\n",
      "Train Epoch: 1 [13440/60000 (22%)]\tLoss: 0.941273\n",
      "Train Epoch: 1 [14080/60000 (23%)]\tLoss: 1.117774\n",
      "Train Epoch: 1 [14720/60000 (25%)]\tLoss: 0.957381\n",
      "Train Epoch: 1 [15360/60000 (26%)]\tLoss: 1.089105\n",
      "Train Epoch: 1 [16000/60000 (27%)]\tLoss: 0.998655\n",
      "Train Epoch: 1 [16640/60000 (28%)]\tLoss: 1.115008\n",
      "Train Epoch: 1 [17280/60000 (29%)]\tLoss: 0.970422\n",
      "Train Epoch: 1 [17920/60000 (30%)]\tLoss: 0.764470\n",
      "Train Epoch: 1 [18560/60000 (31%)]\tLoss: 1.059160\n",
      "Train Epoch: 1 [19200/60000 (32%)]\tLoss: 0.865627\n",
      "Train Epoch: 1 [19840/60000 (33%)]\tLoss: 0.860105\n",
      "Train Epoch: 1 [20480/60000 (34%)]\tLoss: 0.781840\n",
      "Train Epoch: 1 [21120/60000 (35%)]\tLoss: 0.960313\n",
      "Train Epoch: 1 [21760/60000 (36%)]\tLoss: 0.804266\n",
      "Train Epoch: 1 [22400/60000 (37%)]\tLoss: 0.940672\n",
      "Train Epoch: 1 [23040/60000 (38%)]\tLoss: 0.657816\n",
      "Train Epoch: 1 [23680/60000 (39%)]\tLoss: 0.874502\n",
      "Train Epoch: 1 [24320/60000 (41%)]\tLoss: 0.565566\n",
      "Train Epoch: 1 [24960/60000 (42%)]\tLoss: 0.714417\n",
      "Train Epoch: 1 [25600/60000 (43%)]\tLoss: 0.661520\n",
      "Train Epoch: 1 [26240/60000 (44%)]\tLoss: 0.617160\n",
      "Train Epoch: 1 [26880/60000 (45%)]\tLoss: 1.076531\n",
      "Train Epoch: 1 [27520/60000 (46%)]\tLoss: 0.699636\n",
      "Train Epoch: 1 [28160/60000 (47%)]\tLoss: 0.506821\n",
      "Train Epoch: 1 [28800/60000 (48%)]\tLoss: 0.588746\n",
      "Train Epoch: 1 [29440/60000 (49%)]\tLoss: 0.480408\n",
      "Train Epoch: 1 [30080/60000 (50%)]\tLoss: 0.788339\n",
      "Train Epoch: 1 [30720/60000 (51%)]\tLoss: 0.509577\n",
      "Train Epoch: 1 [31360/60000 (52%)]\tLoss: 0.541024\n",
      "Train Epoch: 1 [32000/60000 (53%)]\tLoss: 0.699973\n",
      "Train Epoch: 1 [32640/60000 (54%)]\tLoss: 0.788844\n",
      "Train Epoch: 1 [33280/60000 (55%)]\tLoss: 0.563782\n",
      "Train Epoch: 1 [33920/60000 (57%)]\tLoss: 0.596075\n",
      "Train Epoch: 1 [34560/60000 (58%)]\tLoss: 0.511355\n",
      "Train Epoch: 1 [35200/60000 (59%)]\tLoss: 0.655027\n",
      "Train Epoch: 1 [35840/60000 (60%)]\tLoss: 0.508647\n",
      "Train Epoch: 1 [36480/60000 (61%)]\tLoss: 0.803133\n",
      "Train Epoch: 1 [37120/60000 (62%)]\tLoss: 0.587606\n",
      "Train Epoch: 1 [37760/60000 (63%)]\tLoss: 0.616122\n",
      "Train Epoch: 1 [38400/60000 (64%)]\tLoss: 0.723050\n",
      "Train Epoch: 1 [39040/60000 (65%)]\tLoss: 0.607324\n",
      "Train Epoch: 1 [39680/60000 (66%)]\tLoss: 0.519317\n",
      "Train Epoch: 1 [40320/60000 (67%)]\tLoss: 0.431207\n",
      "Train Epoch: 1 [40960/60000 (68%)]\tLoss: 0.430873\n",
      "Train Epoch: 1 [41600/60000 (69%)]\tLoss: 0.468915\n",
      "Train Epoch: 1 [42240/60000 (70%)]\tLoss: 0.414309\n",
      "Train Epoch: 1 [42880/60000 (71%)]\tLoss: 0.725144\n",
      "Train Epoch: 1 [43520/60000 (72%)]\tLoss: 0.570425\n",
      "Train Epoch: 1 [44160/60000 (74%)]\tLoss: 0.604518\n",
      "Train Epoch: 1 [44800/60000 (75%)]\tLoss: 0.555153\n",
      "Train Epoch: 1 [45440/60000 (76%)]\tLoss: 0.688894\n",
      "Train Epoch: 1 [46080/60000 (77%)]\tLoss: 0.390305\n",
      "Train Epoch: 1 [46720/60000 (78%)]\tLoss: 0.452024\n",
      "Train Epoch: 1 [47360/60000 (79%)]\tLoss: 0.585796\n",
      "Train Epoch: 1 [48000/60000 (80%)]\tLoss: 0.480346\n",
      "Train Epoch: 1 [48640/60000 (81%)]\tLoss: 0.511592\n",
      "Train Epoch: 1 [49280/60000 (82%)]\tLoss: 0.740048\n",
      "Train Epoch: 1 [49920/60000 (83%)]\tLoss: 0.446098\n",
      "Train Epoch: 1 [50560/60000 (84%)]\tLoss: 0.474370\n",
      "Train Epoch: 1 [51200/60000 (85%)]\tLoss: 1.001755\n",
      "Train Epoch: 1 [51840/60000 (86%)]\tLoss: 0.571457\n",
      "Train Epoch: 1 [52480/60000 (87%)]\tLoss: 0.557198\n",
      "Train Epoch: 1 [53120/60000 (88%)]\tLoss: 0.408381\n",
      "Train Epoch: 1 [53760/60000 (90%)]\tLoss: 0.381363\n",
      "Train Epoch: 1 [54400/60000 (91%)]\tLoss: 0.462997\n",
      "Train Epoch: 1 [55040/60000 (92%)]\tLoss: 0.503796\n",
      "Train Epoch: 1 [55680/60000 (93%)]\tLoss: 0.586302\n",
      "Train Epoch: 1 [56320/60000 (94%)]\tLoss: 0.379727\n",
      "Train Epoch: 1 [56960/60000 (95%)]\tLoss: 0.367413\n",
      "Train Epoch: 1 [57600/60000 (96%)]\tLoss: 0.443979\n",
      "Train Epoch: 1 [58240/60000 (97%)]\tLoss: 0.746662\n",
      "Train Epoch: 1 [58880/60000 (98%)]\tLoss: 0.447011\n",
      "Train Epoch: 1 [59520/60000 (99%)]\tLoss: 0.417862\n",
      "\n",
      "Test set: Avg. loss: 0.1954, Accuracy: 9432/10000 (94%)\n",
      "\n",
      "Train Epoch: 2 [0/60000 (0%)]\tLoss: 0.384835\n",
      "Train Epoch: 2 [640/60000 (1%)]\tLoss: 0.467893\n",
      "Train Epoch: 2 [1280/60000 (2%)]\tLoss: 0.607175\n",
      "Train Epoch: 2 [1920/60000 (3%)]\tLoss: 0.513239\n",
      "Train Epoch: 2 [2560/60000 (4%)]\tLoss: 0.533440\n",
      "Train Epoch: 2 [3200/60000 (5%)]\tLoss: 0.459598\n",
      "Train Epoch: 2 [3840/60000 (6%)]\tLoss: 0.312314\n",
      "Train Epoch: 2 [4480/60000 (7%)]\tLoss: 0.620360\n",
      "Train Epoch: 2 [5120/60000 (9%)]\tLoss: 0.490230\n",
      "Train Epoch: 2 [5760/60000 (10%)]\tLoss: 0.412748\n",
      "Train Epoch: 2 [6400/60000 (11%)]\tLoss: 0.722450\n",
      "Train Epoch: 2 [7040/60000 (12%)]\tLoss: 0.501533\n",
      "Train Epoch: 2 [7680/60000 (13%)]\tLoss: 0.327420\n",
      "Train Epoch: 2 [8320/60000 (14%)]\tLoss: 0.442782\n",
      "Train Epoch: 2 [8960/60000 (15%)]\tLoss: 0.365286\n",
      "Train Epoch: 2 [9600/60000 (16%)]\tLoss: 0.486584\n",
      "Train Epoch: 2 [10240/60000 (17%)]\tLoss: 0.632158\n",
      "Train Epoch: 2 [10880/60000 (18%)]\tLoss: 0.390862\n",
      "Train Epoch: 2 [11520/60000 (19%)]\tLoss: 0.463404\n",
      "Train Epoch: 2 [12160/60000 (20%)]\tLoss: 0.640491\n",
      "Train Epoch: 2 [12800/60000 (21%)]\tLoss: 0.480233\n",
      "Train Epoch: 2 [13440/60000 (22%)]\tLoss: 0.364552\n",
      "Train Epoch: 2 [14080/60000 (23%)]\tLoss: 0.367905\n",
      "Train Epoch: 2 [14720/60000 (25%)]\tLoss: 0.339555\n",
      "Train Epoch: 2 [15360/60000 (26%)]\tLoss: 0.521535\n",
      "Train Epoch: 2 [16000/60000 (27%)]\tLoss: 0.708045\n",
      "Train Epoch: 2 [16640/60000 (28%)]\tLoss: 0.471975\n",
      "Train Epoch: 2 [17280/60000 (29%)]\tLoss: 0.438148\n",
      "Train Epoch: 2 [17920/60000 (30%)]\tLoss: 0.248684\n",
      "Train Epoch: 2 [18560/60000 (31%)]\tLoss: 0.333774\n",
      "Train Epoch: 2 [19200/60000 (32%)]\tLoss: 0.508239\n",
      "Train Epoch: 2 [19840/60000 (33%)]\tLoss: 0.356788\n",
      "Train Epoch: 2 [20480/60000 (34%)]\tLoss: 0.454672\n",
      "Train Epoch: 2 [21120/60000 (35%)]\tLoss: 0.322413\n",
      "Train Epoch: 2 [21760/60000 (36%)]\tLoss: 0.595386\n",
      "Train Epoch: 2 [22400/60000 (37%)]\tLoss: 0.373469\n",
      "Train Epoch: 2 [23040/60000 (38%)]\tLoss: 0.360025\n",
      "Train Epoch: 2 [23680/60000 (39%)]\tLoss: 0.422360\n",
      "Train Epoch: 2 [24320/60000 (41%)]\tLoss: 0.436634\n",
      "Train Epoch: 2 [24960/60000 (42%)]\tLoss: 0.276298\n",
      "Train Epoch: 2 [25600/60000 (43%)]\tLoss: 0.387904\n",
      "Train Epoch: 2 [26240/60000 (44%)]\tLoss: 0.537544\n",
      "Train Epoch: 2 [26880/60000 (45%)]\tLoss: 0.448547\n",
      "Train Epoch: 2 [27520/60000 (46%)]\tLoss: 0.706102\n",
      "Train Epoch: 2 [28160/60000 (47%)]\tLoss: 0.422748\n",
      "Train Epoch: 2 [28800/60000 (48%)]\tLoss: 0.445160\n",
      "Train Epoch: 2 [29440/60000 (49%)]\tLoss: 0.348594\n",
      "Train Epoch: 2 [30080/60000 (50%)]\tLoss: 0.600279\n",
      "Train Epoch: 2 [30720/60000 (51%)]\tLoss: 0.665372\n",
      "Train Epoch: 2 [31360/60000 (52%)]\tLoss: 0.321580\n",
      "Train Epoch: 2 [32000/60000 (53%)]\tLoss: 0.392847\n",
      "Train Epoch: 2 [32640/60000 (54%)]\tLoss: 0.261517\n",
      "Train Epoch: 2 [33280/60000 (55%)]\tLoss: 0.263478\n",
      "Train Epoch: 2 [33920/60000 (57%)]\tLoss: 0.180595\n",
      "Train Epoch: 2 [34560/60000 (58%)]\tLoss: 0.714273\n",
      "Train Epoch: 2 [35200/60000 (59%)]\tLoss: 0.415505\n",
      "Train Epoch: 2 [35840/60000 (60%)]\tLoss: 0.458318\n",
      "Train Epoch: 2 [36480/60000 (61%)]\tLoss: 0.513585\n",
      "Train Epoch: 2 [37120/60000 (62%)]\tLoss: 0.347887\n",
      "Train Epoch: 2 [37760/60000 (63%)]\tLoss: 0.252759\n",
      "Train Epoch: 2 [38400/60000 (64%)]\tLoss: 0.329799\n",
      "Train Epoch: 2 [39040/60000 (65%)]\tLoss: 0.460778\n",
      "Train Epoch: 2 [39680/60000 (66%)]\tLoss: 0.585644\n",
      "Train Epoch: 2 [40320/60000 (67%)]\tLoss: 0.305275\n",
      "Train Epoch: 2 [40960/60000 (68%)]\tLoss: 0.290396\n",
      "Train Epoch: 2 [41600/60000 (69%)]\tLoss: 0.483517\n",
      "Train Epoch: 2 [42240/60000 (70%)]\tLoss: 0.366884\n",
      "Train Epoch: 2 [42880/60000 (71%)]\tLoss: 0.488428\n",
      "Train Epoch: 2 [43520/60000 (72%)]\tLoss: 0.364207\n",
      "Train Epoch: 2 [44160/60000 (74%)]\tLoss: 0.347167\n",
      "Train Epoch: 2 [44800/60000 (75%)]\tLoss: 0.630659\n",
      "Train Epoch: 2 [45440/60000 (76%)]\tLoss: 0.397444\n",
      "Train Epoch: 2 [46080/60000 (77%)]\tLoss: 0.621794\n",
      "Train Epoch: 2 [46720/60000 (78%)]\tLoss: 0.391169\n",
      "Train Epoch: 2 [47360/60000 (79%)]\tLoss: 0.176133\n",
      "Train Epoch: 2 [48000/60000 (80%)]\tLoss: 0.344335\n",
      "Train Epoch: 2 [48640/60000 (81%)]\tLoss: 0.178251\n",
      "Train Epoch: 2 [49280/60000 (82%)]\tLoss: 0.210046\n",
      "Train Epoch: 2 [49920/60000 (83%)]\tLoss: 0.355862\n",
      "Train Epoch: 2 [50560/60000 (84%)]\tLoss: 0.245922\n",
      "Train Epoch: 2 [51200/60000 (85%)]\tLoss: 0.363637\n",
      "Train Epoch: 2 [51840/60000 (86%)]\tLoss: 0.415202\n",
      "Train Epoch: 2 [52480/60000 (87%)]\tLoss: 0.266987\n",
      "Train Epoch: 2 [53120/60000 (88%)]\tLoss: 0.466223\n",
      "Train Epoch: 2 [53760/60000 (90%)]\tLoss: 0.706562\n",
      "Train Epoch: 2 [54400/60000 (91%)]\tLoss: 0.615791\n",
      "Train Epoch: 2 [55040/60000 (92%)]\tLoss: 0.459744\n",
      "Train Epoch: 2 [55680/60000 (93%)]\tLoss: 0.483820\n",
      "Train Epoch: 2 [56320/60000 (94%)]\tLoss: 0.243394\n",
      "Train Epoch: 2 [56960/60000 (95%)]\tLoss: 0.549082\n",
      "Train Epoch: 2 [57600/60000 (96%)]\tLoss: 0.514222\n",
      "Train Epoch: 2 [58240/60000 (97%)]\tLoss: 0.228814\n",
      "Train Epoch: 2 [58880/60000 (98%)]\tLoss: 0.315834\n",
      "Train Epoch: 2 [59520/60000 (99%)]\tLoss: 0.335643\n",
      "\n",
      "Test set: Avg. loss: 0.1240, Accuracy: 9614/10000 (96%)\n",
      "\n",
      "Train Epoch: 3 [0/60000 (0%)]\tLoss: 0.277915\n",
      "Train Epoch: 3 [640/60000 (1%)]\tLoss: 0.276170\n",
      "Train Epoch: 3 [1280/60000 (2%)]\tLoss: 0.622302\n",
      "Train Epoch: 3 [1920/60000 (3%)]\tLoss: 0.402458\n",
      "Train Epoch: 3 [2560/60000 (4%)]\tLoss: 0.470941\n",
      "Train Epoch: 3 [3200/60000 (5%)]\tLoss: 0.300961\n",
      "Train Epoch: 3 [3840/60000 (6%)]\tLoss: 0.298206\n",
      "Train Epoch: 3 [4480/60000 (7%)]\tLoss: 0.365986\n",
      "Train Epoch: 3 [5120/60000 (9%)]\tLoss: 0.375810\n",
      "Train Epoch: 3 [5760/60000 (10%)]\tLoss: 0.387310\n",
      "Train Epoch: 3 [6400/60000 (11%)]\tLoss: 0.345311\n",
      "Train Epoch: 3 [7040/60000 (12%)]\tLoss: 0.432149\n",
      "Train Epoch: 3 [7680/60000 (13%)]\tLoss: 0.183288\n",
      "Train Epoch: 3 [8320/60000 (14%)]\tLoss: 0.359114\n",
      "Train Epoch: 3 [8960/60000 (15%)]\tLoss: 0.390483\n",
      "Train Epoch: 3 [9600/60000 (16%)]\tLoss: 0.239251\n",
      "Train Epoch: 3 [10240/60000 (17%)]\tLoss: 0.169002\n",
      "Train Epoch: 3 [10880/60000 (18%)]\tLoss: 0.171619\n",
      "Train Epoch: 3 [11520/60000 (19%)]\tLoss: 0.380473\n",
      "Train Epoch: 3 [12160/60000 (20%)]\tLoss: 0.163409\n",
      "Train Epoch: 3 [12800/60000 (21%)]\tLoss: 0.208980\n",
      "Train Epoch: 3 [13440/60000 (22%)]\tLoss: 0.334657\n",
      "Train Epoch: 3 [14080/60000 (23%)]\tLoss: 0.193239\n",
      "Train Epoch: 3 [14720/60000 (25%)]\tLoss: 0.147139\n",
      "Train Epoch: 3 [15360/60000 (26%)]\tLoss: 0.356523\n",
      "Train Epoch: 3 [16000/60000 (27%)]\tLoss: 0.296712\n",
      "Train Epoch: 3 [16640/60000 (28%)]\tLoss: 0.346940\n",
      "Train Epoch: 3 [17280/60000 (29%)]\tLoss: 0.329565\n",
      "Train Epoch: 3 [17920/60000 (30%)]\tLoss: 0.397458\n",
      "Train Epoch: 3 [18560/60000 (31%)]\tLoss: 0.369354\n",
      "Train Epoch: 3 [19200/60000 (32%)]\tLoss: 0.347079\n",
      "Train Epoch: 3 [19840/60000 (33%)]\tLoss: 0.248179\n",
      "Train Epoch: 3 [20480/60000 (34%)]\tLoss: 0.195044\n",
      "Train Epoch: 3 [21120/60000 (35%)]\tLoss: 0.310085\n",
      "Train Epoch: 3 [21760/60000 (36%)]\tLoss: 0.216459\n",
      "Train Epoch: 3 [22400/60000 (37%)]\tLoss: 0.525339\n",
      "Train Epoch: 3 [23040/60000 (38%)]\tLoss: 0.446638\n",
      "Train Epoch: 3 [23680/60000 (39%)]\tLoss: 0.257320\n",
      "Train Epoch: 3 [24320/60000 (41%)]\tLoss: 0.175645\n",
      "Train Epoch: 3 [24960/60000 (42%)]\tLoss: 0.220876\n",
      "Train Epoch: 3 [25600/60000 (43%)]\tLoss: 0.252631\n",
      "Train Epoch: 3 [26240/60000 (44%)]\tLoss: 0.203222\n",
      "Train Epoch: 3 [26880/60000 (45%)]\tLoss: 0.199251\n",
      "Train Epoch: 3 [27520/60000 (46%)]\tLoss: 0.324789\n",
      "Train Epoch: 3 [28160/60000 (47%)]\tLoss: 0.307312\n",
      "Train Epoch: 3 [28800/60000 (48%)]\tLoss: 0.303960\n",
      "Train Epoch: 3 [29440/60000 (49%)]\tLoss: 0.326042\n",
      "Train Epoch: 3 [30080/60000 (50%)]\tLoss: 0.306865\n",
      "Train Epoch: 3 [30720/60000 (51%)]\tLoss: 0.228363\n",
      "Train Epoch: 3 [31360/60000 (52%)]\tLoss: 0.361845\n",
      "Train Epoch: 3 [32000/60000 (53%)]\tLoss: 0.487763\n",
      "Train Epoch: 3 [32640/60000 (54%)]\tLoss: 0.259592\n",
      "Train Epoch: 3 [33280/60000 (55%)]\tLoss: 0.433695\n",
      "Train Epoch: 3 [33920/60000 (57%)]\tLoss: 0.487830\n",
      "Train Epoch: 3 [34560/60000 (58%)]\tLoss: 0.413026\n",
      "Train Epoch: 3 [35200/60000 (59%)]\tLoss: 0.444600\n",
      "Train Epoch: 3 [35840/60000 (60%)]\tLoss: 0.231955\n",
      "Train Epoch: 3 [36480/60000 (61%)]\tLoss: 0.302718\n",
      "Train Epoch: 3 [37120/60000 (62%)]\tLoss: 0.203576\n",
      "Train Epoch: 3 [37760/60000 (63%)]\tLoss: 0.287701\n",
      "Train Epoch: 3 [38400/60000 (64%)]\tLoss: 0.225707\n",
      "Train Epoch: 3 [39040/60000 (65%)]\tLoss: 0.236098\n",
      "Train Epoch: 3 [39680/60000 (66%)]\tLoss: 0.456440\n",
      "Train Epoch: 3 [40320/60000 (67%)]\tLoss: 0.175332\n",
      "Train Epoch: 3 [40960/60000 (68%)]\tLoss: 0.275942\n",
      "Train Epoch: 3 [41600/60000 (69%)]\tLoss: 0.299465\n",
      "Train Epoch: 3 [42240/60000 (70%)]\tLoss: 0.349772\n",
      "Train Epoch: 3 [42880/60000 (71%)]\tLoss: 0.375131\n",
      "Train Epoch: 3 [43520/60000 (72%)]\tLoss: 0.212922\n",
      "Train Epoch: 3 [44160/60000 (74%)]\tLoss: 0.125867\n",
      "Train Epoch: 3 [44800/60000 (75%)]\tLoss: 0.487403\n",
      "Train Epoch: 3 [45440/60000 (76%)]\tLoss: 0.210256\n",
      "Train Epoch: 3 [46080/60000 (77%)]\tLoss: 0.306135\n",
      "Train Epoch: 3 [46720/60000 (78%)]\tLoss: 0.285048\n",
      "Train Epoch: 3 [47360/60000 (79%)]\tLoss: 0.233210\n",
      "Train Epoch: 3 [48000/60000 (80%)]\tLoss: 0.294295\n",
      "Train Epoch: 3 [48640/60000 (81%)]\tLoss: 0.313855\n",
      "Train Epoch: 3 [49280/60000 (82%)]\tLoss: 0.283685\n",
      "Train Epoch: 3 [49920/60000 (83%)]\tLoss: 0.435215\n",
      "Train Epoch: 3 [50560/60000 (84%)]\tLoss: 0.260967\n",
      "Train Epoch: 3 [51200/60000 (85%)]\tLoss: 0.221734\n",
      "Train Epoch: 3 [51840/60000 (86%)]\tLoss: 0.312574\n",
      "Train Epoch: 3 [52480/60000 (87%)]\tLoss: 0.602808\n",
      "Train Epoch: 3 [53120/60000 (88%)]\tLoss: 0.331857\n",
      "Train Epoch: 3 [53760/60000 (90%)]\tLoss: 0.247957\n",
      "Train Epoch: 3 [54400/60000 (91%)]\tLoss: 0.343601\n",
      "Train Epoch: 3 [55040/60000 (92%)]\tLoss: 0.171130\n",
      "Train Epoch: 3 [55680/60000 (93%)]\tLoss: 0.308064\n",
      "Train Epoch: 3 [56320/60000 (94%)]\tLoss: 0.547832\n",
      "Train Epoch: 3 [56960/60000 (95%)]\tLoss: 0.120091\n",
      "Train Epoch: 3 [57600/60000 (96%)]\tLoss: 0.170640\n",
      "Train Epoch: 3 [58240/60000 (97%)]\tLoss: 0.223622\n",
      "Train Epoch: 3 [58880/60000 (98%)]\tLoss: 0.137026\n",
      "Train Epoch: 3 [59520/60000 (99%)]\tLoss: 0.137766\n",
      "\n",
      "Test set: Avg. loss: 0.0956, Accuracy: 9714/10000 (97%)\n",
      "\n"
     ]
    }
   ],
   "source": [
    "test()\n",
    "for epoch in range(1, n_epochs + 1):\n",
    "  train(epoch)\n",
    "  test()"
   ]
  },
  {
   "cell_type": "code",
   "execution_count": null,
   "metadata": {},
   "outputs": [],
   "source": []
  }
 ],
 "metadata": {
  "kernelspec": {
   "display_name": "Python 3",
   "language": "python",
   "name": "python3"
  },
  "language_info": {
   "codemirror_mode": {
    "name": "ipython",
    "version": 3
   },
   "file_extension": ".py",
   "mimetype": "text/x-python",
   "name": "python",
   "nbconvert_exporter": "python",
   "pygments_lexer": "ipython3",
   "version": "3.6.5"
  }
 },
 "nbformat": 4,
 "nbformat_minor": 2
}
