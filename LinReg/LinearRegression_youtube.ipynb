{
 "cells": [
  {
   "cell_type": "code",
   "execution_count": 19,
   "metadata": {},
   "outputs": [],
   "source": [
    "from statistics import mean\n",
    "import numpy as np\n",
    "import matplotlib.pyplot as plt\n",
    "from matplotlib import style\n",
    "import random"
   ]
  },
  {
   "cell_type": "code",
   "execution_count": 2,
   "metadata": {},
   "outputs": [],
   "source": [
    "style.use('fivethirtyeight')"
   ]
  },
  {
   "cell_type": "code",
   "execution_count": 3,
   "metadata": {},
   "outputs": [],
   "source": [
    "xs = np.array([1,2,3,4,5,6], dtype=np.float64)\n",
    "ys = np.array([5,4,6,5,6,7], dtype=np.float64)"
   ]
  },
  {
   "cell_type": "markdown",
   "metadata": {},
   "source": [
    "# Slope and Intercept equations\n",
    "# $ m\\space(slope) = \\frac{\\bar{x}\\cdot\\bar{y} - \\overline{xy}}{(\\bar{x})^2 - \\overline{x^2}}$\n",
    "# $ b\\space(intercept) = \\bar{y} - m\\bar{x}$"
   ]
  },
  {
   "cell_type": "markdown",
   "metadata": {},
   "source": [
    "# Proof:\n",
    "### $ \\begin{align} \n",
    "E &= \\displaystyle\\sum_i (y_i - mx_i -b)^2  \\\\\n",
    " &= \\displaystyle\\sum_i (y_i^2 + m^2x_i^2+b^2 - 2mx_iy_i +2bmx_i -2by_i) \\\\ \n",
    " &=\\displaystyle\\sum_iy_i^2+m^2\\displaystyle\\sum_ix_i^2+\\displaystyle\\sum_ib^2+2bm\\displaystyle\\sum_ix_i-2m\\displaystyle\\sum_ix_iy_i-2b\\displaystyle\\sum_iy_i \\\\\n",
    " &=C + m^2A +Nb^2 +2bmX -2mB-2bY \\end{align} $\n",
    "### ,where $X = \\displaystyle\\sum_ix_i, Y = \\displaystyle\\sum_iy_i, A = \\displaystyle\\sum_ix_i^2, B = \\displaystyle\\sum_ix_iy_i, C = \\displaystyle\\sum_iy_i^2$\n",
    "### $ \\begin{align}\n",
    "\\frac{\\partial E}{\\partial m} &= 2\\displaystyle\\sum_i(y_i - mx_i -b)(-x_i) = 2\\displaystyle\\sum_i(mx_i^2 + bx_i-x_iy_i) \\\\\n",
    "&= 2mA + 2bX - 2B = 0 \\\\\n",
    "\\frac{\\partial E}{\\partial b} &= 2\\displaystyle\\sum_i(y_i-mx_i-b)(-1) = 2\\displaystyle\\sum_i(mx_i+b-y_i)\\\\\n",
    "&= 2mX+2bN-2Y = 0 \\\\\n",
    "Y &= mX+bN \\rightarrow  b = \\frac{Y-mX}{N} = \\frac{\\displaystyle\\sum_iy_i-m\\displaystyle\\sum_ix_i}{N} = \\bar{y}-m\\bar{x}\\\\\n",
    "0 &= mA + \\frac{Y-mX}{N}X - B = m(A-\\frac{X^2}{N}) +\\frac{XY}{N} - B \\\\\n",
    "m &= \\frac{NB-XY}{NA-X^2} = \\frac{\\frac{XY-NB}{N^2}}{\\frac{X^2-NA}{N^2}}\n",
    "= \\frac{\\frac{\\sum_ix_i\\sum_iy_i}{N^2}-\\frac{\\sum_ix_iy_i}{N}}{\\Bigg(\\frac{\\sum_ix_i}{N}\\Bigg)^2-\\frac{\\sum_ix_i^2}{N}} = \\frac{\\bar{x}\\cdot\\bar{y} - \\overline{xy}}{(\\bar{x})^2 - \\overline{x^2}}\n",
    "\\end{align}$"
   ]
  },
  {
   "cell_type": "code",
   "execution_count": 4,
   "metadata": {},
   "outputs": [],
   "source": [
    "def best_fit_slope_and_intercept(xs,ys):\n",
    "    m = ( (mean(xs)*mean(ys)) - mean(xs*ys) ) / ( (mean(xs))**2 - mean(xs**2))\n",
    "    b = mean(ys) - m*mean(xs)\n",
    "    return m,b "
   ]
  },
  {
   "cell_type": "code",
   "execution_count": 9,
   "metadata": {},
   "outputs": [
    {
     "name": "stdout",
     "output_type": "stream",
     "text": [
      "0.42857142857142866 4.0\n"
     ]
    }
   ],
   "source": [
    "m,b = best_fit_slope_and_intercept(xs,ys)\n",
    "print(m,b)"
   ]
  },
  {
   "cell_type": "code",
   "execution_count": 10,
   "metadata": {},
   "outputs": [],
   "source": [
    "regression_line = [ (m*x) + b for x in xs ]"
   ]
  },
  {
   "cell_type": "code",
   "execution_count": 11,
   "metadata": {},
   "outputs": [
    {
     "data": {
      "text/plain": [
       "[<matplotlib.lines.Line2D at 0x1667c0fe048>]"
      ]
     },
     "execution_count": 11,
     "metadata": {},
     "output_type": "execute_result"
    },
    {
     "data": {
      "image/png": "[encoded data removed]",
      "text/plain": [
       "<Figure size 432x288 with 1 Axes>"
      ]
     },
     "metadata": {},
     "output_type": "display_data"
    }
   ],
   "source": [
    "plt.scatter(xs,ys)\n",
    "plt.plot(xs, regression_line)"
   ]
  },
  {
   "cell_type": "markdown",
   "metadata": {},
   "source": [
    "# Prediction"
   ]
  },
  {
   "cell_type": "code",
   "execution_count": 12,
   "metadata": {},
   "outputs": [],
   "source": [
    "predict_x = 8\n",
    "predict_y = (m*predict_x) + b"
   ]
  },
  {
   "cell_type": "code",
   "execution_count": 13,
   "metadata": {
    "scrolled": true
   },
   "outputs": [
    {
     "data": {
      "text/plain": [
       "<matplotlib.collections.PathCollection at 0x1667c1cfc50>"
      ]
     },
     "execution_count": 13,
     "metadata": {},
     "output_type": "execute_result"
    },
    {
     "data": {
      "image/png": "[encoded data removed]",
      "text/plain": [
       "<Figure size 432x288 with 1 Axes>"
      ]
     },
     "metadata": {},
     "output_type": "display_data"
    }
   ],
   "source": [
    "plt.scatter(xs,ys)\n",
    "plt.plot(xs, regression_line)\n",
    "plt.scatter(predict_x,predict_y, color = 'g')"
   ]
  },
  {
   "cell_type": "markdown",
   "metadata": {},
   "source": [
    "# Acurancy & Confidence --> R-Squared"
   ]
  },
  {
   "cell_type": "markdown",
   "metadata": {},
   "source": [
    "# $ r^2 = 1 - \\frac{SE\\hat{y}}{SE\\bar{y}}\\space , where\\space SE = Squared\\space Error$\n",
    "# $ SE\\hat{y}$"
   ]
  },
  {
   "cell_type": "code",
   "execution_count": 15,
   "metadata": {},
   "outputs": [],
   "source": [
    "def squared_error(ys_orig, ys_line):\n",
    "    return sum((ys_line - ys_orig)**2)\n"
   ]
  },
  {
   "cell_type": "code",
   "execution_count": 18,
   "metadata": {},
   "outputs": [
    {
     "name": "stdout",
     "output_type": "stream",
     "text": [
      "0.5844155844155845\n"
     ]
    }
   ],
   "source": [
    "def coefficient_of_determination(ys_orig, ys_line):\n",
    "    ys_mean_line = [mean(ys_orig) for y in ys_orig]\n",
    "    squared_error_regr = squared_error(ys_orig, ys_line)\n",
    "    squared_error_y_mean = squared_error(ys_orig, ys_mean_line)\n",
    "    return 1 - (squared_error_regr/squared_error_y_mean)\n",
    "\n",
    "r_squared = coefficient_of_determination(ys,regression_line)\n",
    "print(r_squared)"
   ]
  },
  {
   "cell_type": "markdown",
   "metadata": {},
   "source": [
    "# Define Dataset for testing"
   ]
  },
  {
   "cell_type": "code",
   "execution_count": 21,
   "metadata": {},
   "outputs": [],
   "source": [
    "# how much number created, are they correlated\n",
    "def create_dataset(hm, variance, step=2, correlation=False):\n",
    "    val = 1 # starting value for y\n",
    "    ys = [] # empty list\n",
    "    for i in range(hm):\n",
    "        y = val + random.randrange(-variance, variance)\n",
    "        ys.append(y)\n",
    "        if correlation and correlation == 'pos':\n",
    "            val+= step\n",
    "        elif correlation and correlation == 'neg':\n",
    "            val-= step\n",
    "    xs = [i for i in range(len(ys))]\n",
    "    \n",
    "    return np.array(xs, dtype=np.float64), np.array(ys, dtype=np.float64)"
   ]
  },
  {
   "cell_type": "code",
   "execution_count": 30,
   "metadata": {},
   "outputs": [
    {
     "name": "stdout",
     "output_type": "stream",
     "text": [
      "[ 0.  1.  2.  3.  4.  5.  6.  7.  8.  9. 10. 11. 12. 13. 14. 15. 16. 17.\n",
      " 18. 19. 20. 21. 22. 23. 24. 25. 26. 27. 28. 29. 30. 31. 32. 33. 34. 35.\n",
      " 36. 37. 38. 39.] [ -1.  37. -20.  31.  44.  23.   4.  48.  35.  11.  20.  44.   3.  65.\n",
      "   5.   7.  67.  50.  63.  52.  67.  24.  82.  63.  12.  17.  26.  19.\n",
      "  56.  51.  90.  99.  65.  29. 107.  47.  40.  58.  97. 109.]\n"
     ]
    },
    {
     "data": {
      "text/plain": [
       "<matplotlib.collections.PathCollection at 0x1667c4c1400>"
      ]
     },
     "execution_count": 30,
     "metadata": {},
     "output_type": "execute_result"
    },
    {
     "data": {
      "image/png": "[encoded data removed]",
      "text/plain": [
       "<Figure size 432x288 with 1 Axes>"
      ]
     },
     "metadata": {},
     "output_type": "display_data"
    }
   ],
   "source": [
    "xs, ys = create_dataset(40, 40, 2, correlation='pos')\n",
    "print(xs,ys)\n",
    "plt.scatter(xs,ys)"
   ]
  },
  {
   "cell_type": "code",
   "execution_count": 31,
   "metadata": {},
   "outputs": [
    {
     "name": "stdout",
     "output_type": "stream",
     "text": [
      "0.35060688797722317\n"
     ]
    },
    {
     "data": {
      "image/png": "[encoded data removed]",
      "text/plain": [
       "<Figure size 432x288 with 1 Axes>"
      ]
     },
     "metadata": {},
     "output_type": "display_data"
    }
   ],
   "source": [
    "m,b = best_fit_slope_and_intercept(xs,ys)\n",
    "regression_line = [ (m*x) + b for x in xs ]\n",
    "plt.scatter(xs,ys)\n",
    "plt.plot(xs, regression_line)\n",
    "r_squared = coefficient_of_determination(ys,regression_line)\n",
    "print(r_squared)"
   ]
  },
  {
   "cell_type": "markdown",
   "metadata": {},
   "source": [
    "# How to test?\n",
    "## If decrease the variance, the coefficient should be higher since 1- the difference ratio.\n",
    "## If correlation becomes 'False', the coefficient decreases due to no correlation. --> cannot do linear regression if coefficient ~ 0.0005..."
   ]
  },
  {
   "cell_type": "code",
   "execution_count": null,
   "metadata": {},
   "outputs": [],
   "source": []
  }
 ],
 "metadata": {
  "kernelspec": {
   "display_name": "Python 3",
   "language": "python",
   "name": "python3"
  },
  "language_info": {
   "codemirror_mode": {
    "name": "ipython",
    "version": 3
   },
   "file_extension": ".py",
   "mimetype": "text/x-python",
   "name": "python",
   "nbconvert_exporter": "python",
   "pygments_lexer": "ipython3",
   "version": "3.6.5"
  }
 },
 "nbformat": 4,
 "nbformat_minor": 2
}
