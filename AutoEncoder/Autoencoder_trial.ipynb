{
 "cells": [
  {
   "cell_type": "code",
   "execution_count": 1,
   "metadata": {},
   "outputs": [
    {
     "name": "stderr",
     "output_type": "stream",
     "text": [
      "Using TensorFlow backend.\n"
     ]
    }
   ],
   "source": [
    "# Convolutional autoencoder\n",
    "from keras.layers import Input, Dense, Conv2D, MaxPooling2D, UpSampling2D\n",
    "from keras.models import Model\n",
    "from keras import backend as K"
   ]
  },
  {
   "cell_type": "code",
   "execution_count": 2,
   "metadata": {},
   "outputs": [],
   "source": [
    "import cv2\n",
    "import os \n",
    "import numpy as np\n",
    "from tqdm import tqdm\n",
    "import matplotlib.pyplot as plt\n",
    "\n",
    "DIR = 'C:/Users/Leo/Desktop/Machine learning/DL_Practice/digit_recognizer'\n",
    "\n",
    "img_size = 28\n",
    "num_classes = 10\n",
    "LR = 1e-3\n",
    "\n",
    "MODEL_NAME = 'digits-{}-{}.model'.format(LR,'2conv-basic')"
   ]
  },
  {
   "cell_type": "code",
   "execution_count": 3,
   "metadata": {
    "scrolled": true
   },
   "outputs": [
    {
     "name": "stdout",
     "output_type": "stream",
     "text": [
      "(42000, 28, 28, 1) (42000, 10)\n"
     ]
    }
   ],
   "source": [
    "from tensorflow.python import keras\n",
    "def train_data():\n",
    "    file = os.path.join(DIR, 'train.csv')\n",
    "    data = np.loadtxt(file, skiprows=1, delimiter=',')\n",
    "    \n",
    "    x = data[:,1:]\n",
    "    out_x = x.reshape(len(data),img_size,img_size,1)\n",
    "    out_x = out_x/np.amax(out_x)\n",
    "    \n",
    "    y = data[:,0]\n",
    "    out_y = keras.utils.to_categorical(np.array(y),num_classes)\n",
    "    \n",
    "    return out_x, out_y\n",
    "\n",
    "X_train, y_train = train_data()\n",
    "\n",
    "print(X_train.shape, y_train.shape)"
   ]
  },
  {
   "cell_type": "code",
   "execution_count": 25,
   "metadata": {},
   "outputs": [],
   "source": [
    "input_img = Input(shape=(28,28,1))\n",
    "\n",
    "x = Conv2D(16,(3,3),activation='relu',padding='same')(input_img)\n",
    "x = MaxPooling2D((2,2),padding='same')(x)\n",
    "x = Conv2D(8,(3,3),activation='relu',padding='same')(x)\n",
    "x = MaxPooling2D((2,2),padding='same')(x)\n",
    "x = Conv2D(8,(3,3),activation='relu',padding='same')(x)\n",
    "encoded = MaxPooling2D((2,2),padding='same')(x)\n",
    "\n",
    "x = Conv2D(8,(3,3),activation='relu',padding='same')(encoded)\n",
    "x = UpSampling2D((2,2))(x)\n",
    "x = Conv2D(8,(3,3),activation='relu',padding='same')(x)\n",
    "x = UpSampling2D((2,2))(x)\n",
    "x = Conv2D(16,(3,3),activation='relu')(x)\n",
    "x = UpSampling2D((2,2))(x)\n",
    "decoded = Conv2D(1,(3,3),activation='sigmoid',padding='same')(x)\n",
    "\n",
    "autoencoder = Model(input_img,decoded)\n",
    "autoencoder.compile(optimizer='adam',loss='binary_crossentropy',metrics=['accuracy'])"
   ]
  },
  {
   "cell_type": "code",
   "execution_count": 26,
   "metadata": {
    "scrolled": false
   },
   "outputs": [
    {
     "name": "stdout",
     "output_type": "stream",
     "text": [
      "Train on 40000 samples, validate on 2000 samples\n",
      "Epoch 1/50\n",
      " - 9s - loss: 0.2511 - acc: 0.7869 - val_loss: 0.1530 - val_acc: 0.8028\n",
      "Epoch 2/50\n",
      " - 5s - loss: 0.1432 - acc: 0.8027 - val_loss: 0.1332 - val_acc: 0.8075\n",
      "Epoch 3/50\n",
      " - 5s - loss: 0.1299 - acc: 0.8060 - val_loss: 0.1253 - val_acc: 0.8115\n",
      "Epoch 4/50\n",
      " - 6s - loss: 0.1224 - acc: 0.8077 - val_loss: 0.1186 - val_acc: 0.8115\n",
      "Epoch 5/50\n",
      " - 5s - loss: 0.1178 - acc: 0.8087 - val_loss: 0.1150 - val_acc: 0.8116\n",
      "Epoch 6/50\n",
      " - 5s - loss: 0.1146 - acc: 0.8093 - val_loss: 0.1127 - val_acc: 0.8113\n",
      "Epoch 7/50\n",
      " - 5s - loss: 0.1122 - acc: 0.8098 - val_loss: 0.1103 - val_acc: 0.8129\n",
      "Epoch 8/50\n",
      " - 5s - loss: 0.1102 - acc: 0.8101 - val_loss: 0.1085 - val_acc: 0.8126\n",
      "Epoch 9/50\n",
      " - 5s - loss: 0.1086 - acc: 0.8104 - val_loss: 0.1075 - val_acc: 0.8135\n",
      "Epoch 10/50\n",
      " - 5s - loss: 0.1073 - acc: 0.8106 - val_loss: 0.1059 - val_acc: 0.8134\n",
      "Epoch 11/50\n",
      " - 5s - loss: 0.1062 - acc: 0.8108 - val_loss: 0.1052 - val_acc: 0.8132\n",
      "Epoch 12/50\n",
      " - 5s - loss: 0.1053 - acc: 0.8110 - val_loss: 0.1046 - val_acc: 0.8127\n",
      "Epoch 13/50\n",
      " - 5s - loss: 0.1044 - acc: 0.8111 - val_loss: 0.1036 - val_acc: 0.8133\n",
      "Epoch 14/50\n",
      " - 5s - loss: 0.1036 - acc: 0.8113 - val_loss: 0.1026 - val_acc: 0.8135\n",
      "Epoch 15/50\n",
      " - 5s - loss: 0.1030 - acc: 0.8113 - val_loss: 0.1019 - val_acc: 0.8141\n",
      "Epoch 16/50\n",
      " - 5s - loss: 0.1024 - acc: 0.8115 - val_loss: 0.1016 - val_acc: 0.8142\n",
      "Epoch 17/50\n",
      " - 5s - loss: 0.1019 - acc: 0.8115 - val_loss: 0.1010 - val_acc: 0.8141\n",
      "Epoch 18/50\n",
      " - 6s - loss: 0.1014 - acc: 0.8116 - val_loss: 0.1005 - val_acc: 0.8140\n",
      "Epoch 19/50\n",
      " - 5s - loss: 0.1011 - acc: 0.8117 - val_loss: 0.1003 - val_acc: 0.8139\n",
      "Epoch 20/50\n",
      " - 5s - loss: 0.1007 - acc: 0.8117 - val_loss: 0.0998 - val_acc: 0.8145\n",
      "Epoch 21/50\n",
      " - 5s - loss: 0.1002 - acc: 0.8118 - val_loss: 0.0993 - val_acc: 0.8143\n",
      "Epoch 22/50\n",
      " - 6s - loss: 0.0998 - acc: 0.8118 - val_loss: 0.0995 - val_acc: 0.8146\n",
      "Epoch 23/50\n",
      " - 6s - loss: 0.0995 - acc: 0.8119 - val_loss: 0.0988 - val_acc: 0.8145\n",
      "Epoch 24/50\n",
      " - 5s - loss: 0.0991 - acc: 0.8119 - val_loss: 0.0988 - val_acc: 0.8140\n",
      "Epoch 25/50\n",
      " - 5s - loss: 0.0988 - acc: 0.8120 - val_loss: 0.0981 - val_acc: 0.8147\n",
      "Epoch 26/50\n",
      " - 5s - loss: 0.0986 - acc: 0.8120 - val_loss: 0.0978 - val_acc: 0.8148\n",
      "Epoch 27/50\n",
      " - 6s - loss: 0.0983 - acc: 0.8121 - val_loss: 0.0975 - val_acc: 0.8147\n",
      "Epoch 28/50\n",
      " - 5s - loss: 0.0980 - acc: 0.8121 - val_loss: 0.0978 - val_acc: 0.8149\n",
      "Epoch 29/50\n",
      " - 6s - loss: 0.0976 - acc: 0.8122 - val_loss: 0.0971 - val_acc: 0.8145\n",
      "Epoch 30/50\n",
      " - 6s - loss: 0.0973 - acc: 0.8122 - val_loss: 0.0988 - val_acc: 0.8154\n",
      "Epoch 31/50\n",
      " - 6s - loss: 0.0971 - acc: 0.8122 - val_loss: 0.0964 - val_acc: 0.8148\n",
      "Epoch 32/50\n",
      " - 5s - loss: 0.0969 - acc: 0.8123 - val_loss: 0.0963 - val_acc: 0.8145\n",
      "Epoch 33/50\n",
      " - 5s - loss: 0.0965 - acc: 0.8123 - val_loss: 0.0960 - val_acc: 0.8150\n",
      "Epoch 34/50\n",
      " - 6s - loss: 0.0964 - acc: 0.8123 - val_loss: 0.0958 - val_acc: 0.8151\n",
      "Epoch 35/50\n",
      " - 6s - loss: 0.0961 - acc: 0.8124 - val_loss: 0.0956 - val_acc: 0.8145\n",
      "Epoch 36/50\n",
      " - 5s - loss: 0.0958 - acc: 0.8124 - val_loss: 0.0955 - val_acc: 0.8147\n",
      "Epoch 37/50\n",
      " - 6s - loss: 0.0957 - acc: 0.8125 - val_loss: 0.0949 - val_acc: 0.8149\n",
      "Epoch 38/50\n",
      " - 5s - loss: 0.0954 - acc: 0.8125 - val_loss: 0.0950 - val_acc: 0.8152\n",
      "Epoch 39/50\n",
      " - 5s - loss: 0.0953 - acc: 0.8125 - val_loss: 0.0949 - val_acc: 0.8152\n",
      "Epoch 40/50\n",
      " - 5s - loss: 0.0950 - acc: 0.8126 - val_loss: 0.0944 - val_acc: 0.8154\n",
      "Epoch 41/50\n",
      " - 5s - loss: 0.0948 - acc: 0.8126 - val_loss: 0.0946 - val_acc: 0.8145\n",
      "Epoch 42/50\n",
      " - 5s - loss: 0.0946 - acc: 0.8126 - val_loss: 0.0952 - val_acc: 0.8144\n",
      "Epoch 43/50\n",
      " - 5s - loss: 0.0944 - acc: 0.8126 - val_loss: 0.0938 - val_acc: 0.8153\n",
      "Epoch 44/50\n",
      " - 5s - loss: 0.0941 - acc: 0.8127 - val_loss: 0.0940 - val_acc: 0.8155\n",
      "Epoch 45/50\n",
      " - 5s - loss: 0.0941 - acc: 0.8127 - val_loss: 0.0935 - val_acc: 0.8149\n",
      "Epoch 46/50\n",
      " - 6s - loss: 0.0938 - acc: 0.8127 - val_loss: 0.0931 - val_acc: 0.8152\n",
      "Epoch 47/50\n",
      " - 5s - loss: 0.0936 - acc: 0.8128 - val_loss: 0.0943 - val_acc: 0.8145\n",
      "Epoch 48/50\n",
      " - 5s - loss: 0.0935 - acc: 0.8128 - val_loss: 0.0930 - val_acc: 0.8155\n",
      "Epoch 49/50\n",
      " - 5s - loss: 0.0933 - acc: 0.8128 - val_loss: 0.0932 - val_acc: 0.8156\n",
      "Epoch 50/50\n",
      " - 5s - loss: 0.0932 - acc: 0.8128 - val_loss: 0.0928 - val_acc: 0.8151\n"
     ]
    },
    {
     "data": {
      "text/plain": [
       "<keras.callbacks.History at 0x150428b78d0>"
      ]
     },
     "execution_count": 26,
     "metadata": {},
     "output_type": "execute_result"
    }
   ],
   "source": [
    "autoencoder.fit(X_train[:40000],X_train[:40000], epochs=50, verbose=2, batch_size=128, shuffle=True, validation_data=(X_train[40000:],X_train[40000:]))"
   ]
  },
  {
   "cell_type": "code",
   "execution_count": 31,
   "metadata": {
    "scrolled": true
   },
   "outputs": [
    {
     "data": {
      "image/png": "[encoded data removed]",
      "text/plain": [
       "<Figure size 1440x288 with 18 Axes>"
      ]
     },
     "metadata": {},
     "output_type": "display_data"
    }
   ],
   "source": [
    "decoded_imgs = autoencoder.predict(X_train[40000:])\n",
    "\n",
    "n = 10\n",
    "plt.figure(figsize=(20, 4))\n",
    "for i in range(1,n):\n",
    "    # display original\n",
    "    ax = plt.subplot(2, n, i)\n",
    "    plt.imshow(X_train[40000+i].reshape(28, 28))\n",
    "    plt.gray()\n",
    "    ax.get_xaxis().set_visible(False)\n",
    "    ax.get_yaxis().set_visible(False)\n",
    "\n",
    "    # display reconstruction\n",
    "    ax = plt.subplot(2, n, i + n)\n",
    "    plt.imshow(decoded_imgs[i].reshape(28, 28))\n",
    "    plt.gray()\n",
    "    ax.get_xaxis().set_visible(False)\n",
    "    ax.get_yaxis().set_visible(False)\n",
    "plt.show()"
   ]
  },
  {
   "cell_type": "code",
   "execution_count": 32,
   "metadata": {},
   "outputs": [],
   "source": [
    "# A mix of convolutional layers and fully-connected layers\n",
    "# for autoencoder"
   ]
  },
  {
   "cell_type": "code",
   "execution_count": 33,
   "metadata": {},
   "outputs": [],
   "source": [
    "from keras.layers import Reshape, Flatten"
   ]
  },
  {
   "cell_type": "code",
   "execution_count": 34,
   "metadata": {},
   "outputs": [],
   "source": [
    "input_img = Input(shape=(28,28,1))\n",
    "\n",
    "#x = Conv2D(16,(3,3),activation='relu',padding='same')(input_img)\n",
    "#x = MaxPooling2D((2,2),padding='same')(x)\n",
    "#x = Conv2D(8,(3,3),activation='relu',padding='same')(x)\n",
    "\n",
    "x = Conv2D(8,(3,3),activation='relu',padding='same')(input_img)\n",
    "x = Conv2D(8,(3,3),activation='relu',padding='same')(x)\n",
    "x = MaxPooling2D((2,2),padding='same')(x)\n",
    "x = Conv2D(16,(3,3),activation='relu',padding='same')(x)\n",
    "x = Conv2D(16,(3,3),activation='relu',padding='same')(x)\n",
    "x = MaxPooling2D((2,2),padding='same')(x)\n",
    "x = Flatten()(x)\n",
    "encoded = Dense(256,activation='relu')(x)\n",
    "\n",
    "x = Dense(784,activation='relu')(encoded)\n",
    "#784 --> 16,7,7\n",
    "x = Reshape((7,7,16))(x)\n",
    "x = UpSampling2D((2,2))(x)\n",
    "x = Conv2D(16,(3,3),activation='relu',padding='same')(x)\n",
    "x = Conv2D(16,(3,3),activation='relu',padding='same')(x)\n",
    "x = UpSampling2D((2,2))(x)\n",
    "x = Conv2D(8,(3,3),activation='relu',padding='same')(x)\n",
    "decoded = Conv2D(1,(3,3),activation='sigmoid',padding='same')(x)\n",
    "\n",
    "\n",
    "autoencoder = Model(input_img,decoded)\n",
    "autoencoder.compile(optimizer='adam',loss='binary_crossentropy',metrics=['accuracy'])"
   ]
  },
  {
   "cell_type": "code",
   "execution_count": 35,
   "metadata": {
    "scrolled": true
   },
   "outputs": [
    {
     "name": "stdout",
     "output_type": "stream",
     "text": [
      "Train on 40000 samples, validate on 2000 samples\n",
      "Epoch 1/50\n",
      " - 10s - loss: 0.1895 - acc: 0.8033 - val_loss: 0.1053 - val_acc: 0.8135\n",
      "Epoch 2/50\n",
      " - 9s - loss: 0.0972 - acc: 0.8122 - val_loss: 0.0900 - val_acc: 0.8155\n",
      "Epoch 3/50\n",
      " - 9s - loss: 0.0874 - acc: 0.8136 - val_loss: 0.0847 - val_acc: 0.8161\n",
      "Epoch 4/50\n",
      " - 9s - loss: 0.0827 - acc: 0.8141 - val_loss: 0.0807 - val_acc: 0.8168\n",
      "Epoch 5/50\n",
      " - 9s - loss: 0.0797 - acc: 0.8144 - val_loss: 0.0783 - val_acc: 0.8170\n",
      "Epoch 6/50\n",
      " - 9s - loss: 0.0778 - acc: 0.8145 - val_loss: 0.0767 - val_acc: 0.8171\n",
      "Epoch 7/50\n",
      " - 9s - loss: 0.0763 - acc: 0.8147 - val_loss: 0.0753 - val_acc: 0.8172\n",
      "Epoch 8/50\n",
      " - 9s - loss: 0.0752 - acc: 0.8147 - val_loss: 0.0746 - val_acc: 0.8172\n",
      "Epoch 9/50\n",
      " - 9s - loss: 0.0743 - acc: 0.8148 - val_loss: 0.0733 - val_acc: 0.8173\n",
      "Epoch 10/50\n",
      " - 9s - loss: 0.0735 - acc: 0.8148 - val_loss: 0.0730 - val_acc: 0.8174\n",
      "Epoch 11/50\n",
      " - 9s - loss: 0.0729 - acc: 0.8149 - val_loss: 0.0721 - val_acc: 0.8174\n",
      "Epoch 12/50\n",
      " - 9s - loss: 0.0722 - acc: 0.8149 - val_loss: 0.0719 - val_acc: 0.8174\n",
      "Epoch 13/50\n",
      " - 9s - loss: 0.0718 - acc: 0.8149 - val_loss: 0.0714 - val_acc: 0.8174\n",
      "Epoch 14/50\n",
      " - 8s - loss: 0.0714 - acc: 0.8149 - val_loss: 0.0707 - val_acc: 0.8174\n",
      "Epoch 15/50\n",
      " - 9s - loss: 0.0710 - acc: 0.8149 - val_loss: 0.0706 - val_acc: 0.8174\n",
      "Epoch 16/50\n",
      " - 9s - loss: 0.0706 - acc: 0.8150 - val_loss: 0.0699 - val_acc: 0.8175\n",
      "Epoch 17/50\n",
      " - 9s - loss: 0.0703 - acc: 0.8150 - val_loss: 0.0700 - val_acc: 0.8175\n",
      "Epoch 18/50\n",
      " - 9s - loss: 0.0700 - acc: 0.8150 - val_loss: 0.0693 - val_acc: 0.8175\n",
      "Epoch 19/50\n",
      " - 8s - loss: 0.0697 - acc: 0.8150 - val_loss: 0.0694 - val_acc: 0.8175\n",
      "Epoch 20/50\n",
      " - 9s - loss: 0.0695 - acc: 0.8150 - val_loss: 0.0690 - val_acc: 0.8175\n",
      "Epoch 21/50\n",
      " - 9s - loss: 0.0693 - acc: 0.8150 - val_loss: 0.0695 - val_acc: 0.8175\n",
      "Epoch 22/50\n",
      " - 9s - loss: 0.0690 - acc: 0.8150 - val_loss: 0.0687 - val_acc: 0.8175\n",
      "Epoch 23/50\n",
      " - 9s - loss: 0.0688 - acc: 0.8150 - val_loss: 0.0685 - val_acc: 0.8175\n",
      "Epoch 24/50\n",
      " - 9s - loss: 0.0687 - acc: 0.8150 - val_loss: 0.0681 - val_acc: 0.8175\n",
      "Epoch 25/50\n",
      " - 9s - loss: 0.0685 - acc: 0.8150 - val_loss: 0.0683 - val_acc: 0.8175\n",
      "Epoch 26/50\n",
      " - 8s - loss: 0.0684 - acc: 0.8150 - val_loss: 0.0682 - val_acc: 0.8176\n",
      "Epoch 27/50\n",
      " - 9s - loss: 0.0682 - acc: 0.8150 - val_loss: 0.0681 - val_acc: 0.8176\n",
      "Epoch 28/50\n",
      " - 9s - loss: 0.0681 - acc: 0.8150 - val_loss: 0.0678 - val_acc: 0.8176\n",
      "Epoch 29/50\n",
      " - 8s - loss: 0.0680 - acc: 0.8151 - val_loss: 0.0675 - val_acc: 0.8176\n",
      "Epoch 30/50\n",
      " - 9s - loss: 0.0679 - acc: 0.8151 - val_loss: 0.0676 - val_acc: 0.8176\n",
      "Epoch 31/50\n",
      " - 9s - loss: 0.0677 - acc: 0.8151 - val_loss: 0.0675 - val_acc: 0.8176\n",
      "Epoch 32/50\n",
      " - 9s - loss: 0.0676 - acc: 0.8151 - val_loss: 0.0676 - val_acc: 0.8176\n",
      "Epoch 33/50\n",
      " - 9s - loss: 0.0676 - acc: 0.8151 - val_loss: 0.0671 - val_acc: 0.8176\n",
      "Epoch 34/50\n",
      " - 9s - loss: 0.0675 - acc: 0.8151 - val_loss: 0.0671 - val_acc: 0.8176\n",
      "Epoch 35/50\n",
      " - 9s - loss: 0.0673 - acc: 0.8151 - val_loss: 0.0672 - val_acc: 0.8176\n",
      "Epoch 36/50\n",
      " - 9s - loss: 0.0674 - acc: 0.8151 - val_loss: 0.0670 - val_acc: 0.8176\n",
      "Epoch 37/50\n",
      " - 8s - loss: 0.0672 - acc: 0.8151 - val_loss: 0.0671 - val_acc: 0.8176\n",
      "Epoch 38/50\n",
      " - 8s - loss: 0.0671 - acc: 0.8151 - val_loss: 0.0667 - val_acc: 0.8176\n",
      "Epoch 39/50\n",
      " - 9s - loss: 0.0670 - acc: 0.8151 - val_loss: 0.0666 - val_acc: 0.8176\n",
      "Epoch 40/50\n",
      " - 9s - loss: 0.0670 - acc: 0.8151 - val_loss: 0.0668 - val_acc: 0.8176\n",
      "Epoch 41/50\n",
      " - 9s - loss: 0.0669 - acc: 0.8151 - val_loss: 0.0670 - val_acc: 0.8176\n",
      "Epoch 42/50\n",
      " - 9s - loss: 0.0668 - acc: 0.8151 - val_loss: 0.0664 - val_acc: 0.8176\n",
      "Epoch 43/50\n",
      " - 8s - loss: 0.0668 - acc: 0.8151 - val_loss: 0.0665 - val_acc: 0.8176\n",
      "Epoch 44/50\n",
      " - 8s - loss: 0.0667 - acc: 0.8151 - val_loss: 0.0667 - val_acc: 0.8176\n",
      "Epoch 45/50\n",
      " - 8s - loss: 0.0666 - acc: 0.8151 - val_loss: 0.0662 - val_acc: 0.8176\n",
      "Epoch 46/50\n",
      " - 9s - loss: 0.0666 - acc: 0.8151 - val_loss: 0.0663 - val_acc: 0.8176\n",
      "Epoch 47/50\n",
      " - 9s - loss: 0.0665 - acc: 0.8151 - val_loss: 0.0662 - val_acc: 0.8176\n",
      "Epoch 48/50\n",
      " - 9s - loss: 0.0665 - acc: 0.8151 - val_loss: 0.0661 - val_acc: 0.8176\n",
      "Epoch 49/50\n",
      " - 9s - loss: 0.0664 - acc: 0.8151 - val_loss: 0.0660 - val_acc: 0.8176\n",
      "Epoch 50/50\n",
      " - 9s - loss: 0.0663 - acc: 0.8151 - val_loss: 0.0659 - val_acc: 0.8176\n"
     ]
    },
    {
     "data": {
      "text/plain": [
       "<keras.callbacks.History at 0x1504a1a8630>"
      ]
     },
     "execution_count": 35,
     "metadata": {},
     "output_type": "execute_result"
    }
   ],
   "source": [
    "autoencoder.fit(X_train[:40000],X_train[:40000], epochs=50, verbose=2, batch_size=128, shuffle=True, validation_data=(X_train[40000:],X_train[40000:]))"
   ]
  },
  {
   "cell_type": "code",
   "execution_count": 36,
   "metadata": {
    "scrolled": true
   },
   "outputs": [
    {
     "data": {
      "image/png": "[encoded data removed]",
      "text/plain": [
       "<Figure size 1440x288 with 18 Axes>"
      ]
     },
     "metadata": {},
     "output_type": "display_data"
    }
   ],
   "source": [
    "decoded_imgs = autoencoder.predict(X_train[40000:])\n",
    "\n",
    "n = 10\n",
    "plt.figure(figsize=(20, 4))\n",
    "for i in range(1,n):\n",
    "    # display original\n",
    "    ax = plt.subplot(2, n, i)\n",
    "    plt.imshow(X_train[40000+i].reshape(28, 28))\n",
    "    plt.gray()\n",
    "    ax.get_xaxis().set_visible(False)\n",
    "    ax.get_yaxis().set_visible(False)\n",
    "\n",
    "    # display reconstruction\n",
    "    ax = plt.subplot(2, n, i + n)\n",
    "    plt.imshow(decoded_imgs[i].reshape(28, 28))\n",
    "    plt.gray()\n",
    "    ax.get_xaxis().set_visible(False)\n",
    "    ax.get_yaxis().set_visible(False)\n",
    "plt.show()"
   ]
  },
  {
   "cell_type": "code",
   "execution_count": 19,
   "metadata": {},
   "outputs": [
    {
     "data": {
      "text/plain": [
       "784"
      ]
     },
     "execution_count": 19,
     "metadata": {},
     "output_type": "execute_result"
    }
   ],
   "source": [
    "28*28"
   ]
  },
  {
   "cell_type": "code",
   "execution_count": 6,
   "metadata": {},
   "outputs": [],
   "source": [
    "# Fully connected layers only"
   ]
  },
  {
   "cell_type": "code",
   "execution_count": 27,
   "metadata": {},
   "outputs": [
    {
     "name": "stdout",
     "output_type": "stream",
     "text": [
      "(?, 784)\n",
      "(?, 128)\n",
      "(?, 128)\n",
      "(?, 128)\n",
      "(?, 128)\n"
     ]
    }
   ],
   "source": [
    "input_img = Input(shape=(28,28))\n",
    "#x = Flatten()(input_img)\n",
    "x = Reshape((784,))(input_img)\n",
    "print(x.shape)\n",
    "x = Dense(128,activation='relu')(x)\n",
    "print(x.shape)\n",
    "encoded = Dense(32,activation='relu')(x)\n",
    "print(x.shape)\n",
    "\n",
    "x = Dense(128,activation='relu')(encoded)\n",
    "print(x.shape)\n",
    "decoded = Dense(784,activation='sigmoid')(x)\n",
    "print(x.shape)\n",
    "\n",
    "autoencoder = Model(input_img,decoded)\n",
    "autoencoder.compile(optimizer='adadelta', loss='binary_crossentropy')"
   ]
  },
  {
   "cell_type": "code",
   "execution_count": 24,
   "metadata": {},
   "outputs": [],
   "source": [
    "encoder = Model(input_img,encoded)"
   ]
  },
  {
   "cell_type": "code",
   "execution_count": 25,
   "metadata": {},
   "outputs": [
    {
     "ename": "ValueError",
     "evalue": "Error when checking input: expected input_8 to have 3 dimensions, but got array with shape (40000, 28, 28, 1)",
     "output_type": "error",
     "traceback": [
      "\u001b[1;31m---------------------------------------------------------------------------\u001b[0m",
      "\u001b[1;31mValueError\u001b[0m                                Traceback (most recent call last)",
      "\u001b[1;32m<ipython-input-25-27e83e28c987>\u001b[0m in \u001b[0;36m<module>\u001b[1;34m()\u001b[0m\n\u001b[0;32m      3\u001b[0m                 \u001b[0mbatch_size\u001b[0m\u001b[1;33m=\u001b[0m\u001b[1;36m256\u001b[0m\u001b[1;33m,\u001b[0m\u001b[1;33m\u001b[0m\u001b[0m\n\u001b[0;32m      4\u001b[0m                 \u001b[0mshuffle\u001b[0m\u001b[1;33m=\u001b[0m\u001b[1;32mTrue\u001b[0m\u001b[1;33m,\u001b[0m\u001b[1;33m\u001b[0m\u001b[0m\n\u001b[1;32m----> 5\u001b[1;33m                 validation_data=(X_train[40000:], X_train[40000:]))\n\u001b[0m",
      "\u001b[1;32mc:\\users\\leo\\appdata\\local\\programs\\python\\python36\\lib\\site-packages\\keras\\engine\\training.py\u001b[0m in \u001b[0;36mfit\u001b[1;34m(self, x, y, batch_size, epochs, verbose, callbacks, validation_split, validation_data, shuffle, class_weight, sample_weight, initial_epoch, steps_per_epoch, validation_steps, **kwargs)\u001b[0m\n\u001b[0;32m    948\u001b[0m             \u001b[0msample_weight\u001b[0m\u001b[1;33m=\u001b[0m\u001b[0msample_weight\u001b[0m\u001b[1;33m,\u001b[0m\u001b[1;33m\u001b[0m\u001b[0m\n\u001b[0;32m    949\u001b[0m             \u001b[0mclass_weight\u001b[0m\u001b[1;33m=\u001b[0m\u001b[0mclass_weight\u001b[0m\u001b[1;33m,\u001b[0m\u001b[1;33m\u001b[0m\u001b[0m\n\u001b[1;32m--> 950\u001b[1;33m             batch_size=batch_size)\n\u001b[0m\u001b[0;32m    951\u001b[0m         \u001b[1;31m# Prepare validation data.\u001b[0m\u001b[1;33m\u001b[0m\u001b[1;33m\u001b[0m\u001b[0m\n\u001b[0;32m    952\u001b[0m         \u001b[0mdo_validation\u001b[0m \u001b[1;33m=\u001b[0m \u001b[1;32mFalse\u001b[0m\u001b[1;33m\u001b[0m\u001b[0m\n",
      "\u001b[1;32mc:\\users\\leo\\appdata\\local\\programs\\python\\python36\\lib\\site-packages\\keras\\engine\\training.py\u001b[0m in \u001b[0;36m_standardize_user_data\u001b[1;34m(self, x, y, sample_weight, class_weight, check_array_lengths, batch_size)\u001b[0m\n\u001b[0;32m    747\u001b[0m             \u001b[0mfeed_input_shapes\u001b[0m\u001b[1;33m,\u001b[0m\u001b[1;33m\u001b[0m\u001b[0m\n\u001b[0;32m    748\u001b[0m             \u001b[0mcheck_batch_axis\u001b[0m\u001b[1;33m=\u001b[0m\u001b[1;32mFalse\u001b[0m\u001b[1;33m,\u001b[0m  \u001b[1;31m# Don't enforce the batch size.\u001b[0m\u001b[1;33m\u001b[0m\u001b[0m\n\u001b[1;32m--> 749\u001b[1;33m             exception_prefix='input')\n\u001b[0m\u001b[0;32m    750\u001b[0m \u001b[1;33m\u001b[0m\u001b[0m\n\u001b[0;32m    751\u001b[0m         \u001b[1;32mif\u001b[0m \u001b[0my\u001b[0m \u001b[1;32mis\u001b[0m \u001b[1;32mnot\u001b[0m \u001b[1;32mNone\u001b[0m\u001b[1;33m:\u001b[0m\u001b[1;33m\u001b[0m\u001b[0m\n",
      "\u001b[1;32mc:\\users\\leo\\appdata\\local\\programs\\python\\python36\\lib\\site-packages\\keras\\engine\\training_utils.py\u001b[0m in \u001b[0;36mstandardize_input_data\u001b[1;34m(data, names, shapes, check_batch_axis, exception_prefix)\u001b[0m\n\u001b[0;32m    125\u001b[0m                         \u001b[1;34m': expected '\u001b[0m \u001b[1;33m+\u001b[0m \u001b[0mnames\u001b[0m\u001b[1;33m[\u001b[0m\u001b[0mi\u001b[0m\u001b[1;33m]\u001b[0m \u001b[1;33m+\u001b[0m \u001b[1;34m' to have '\u001b[0m \u001b[1;33m+\u001b[0m\u001b[1;33m\u001b[0m\u001b[0m\n\u001b[0;32m    126\u001b[0m                         \u001b[0mstr\u001b[0m\u001b[1;33m(\u001b[0m\u001b[0mlen\u001b[0m\u001b[1;33m(\u001b[0m\u001b[0mshape\u001b[0m\u001b[1;33m)\u001b[0m\u001b[1;33m)\u001b[0m \u001b[1;33m+\u001b[0m \u001b[1;34m' dimensions, but got array '\u001b[0m\u001b[1;33m\u001b[0m\u001b[0m\n\u001b[1;32m--> 127\u001b[1;33m                         'with shape ' + str(data_shape))\n\u001b[0m\u001b[0;32m    128\u001b[0m                 \u001b[1;32mif\u001b[0m \u001b[1;32mnot\u001b[0m \u001b[0mcheck_batch_axis\u001b[0m\u001b[1;33m:\u001b[0m\u001b[1;33m\u001b[0m\u001b[0m\n\u001b[0;32m    129\u001b[0m                     \u001b[0mdata_shape\u001b[0m \u001b[1;33m=\u001b[0m \u001b[0mdata_shape\u001b[0m\u001b[1;33m[\u001b[0m\u001b[1;36m1\u001b[0m\u001b[1;33m:\u001b[0m\u001b[1;33m]\u001b[0m\u001b[1;33m\u001b[0m\u001b[0m\n",
      "\u001b[1;31mValueError\u001b[0m: Error when checking input: expected input_8 to have 3 dimensions, but got array with shape (40000, 28, 28, 1)"
     ]
    }
   ],
   "source": [
    "autoencoder.fit(X_train[:40000], X_train[:40000],\n",
    "                epochs=50,\n",
    "                batch_size=256,\n",
    "                shuffle=True,\n",
    "                validation_data=(X_train[40000:], X_train[40000:]))"
   ]
  },
  {
   "cell_type": "code",
   "execution_count": null,
   "metadata": {},
   "outputs": [],
   "source": []
  },
  {
   "cell_type": "code",
   "execution_count": 5,
   "metadata": {},
   "outputs": [],
   "source": [
    "# Directly from the examples\n",
    "from keras.datasets import mnist\n",
    "import numpy as np\n",
    "(x_train, _), (x_test, _) = mnist.load_data()"
   ]
  },
  {
   "cell_type": "code",
   "execution_count": 6,
   "metadata": {},
   "outputs": [],
   "source": [
    "from keras.layers import Input, Dense\n",
    "from keras.models import Model\n",
    "\n",
    "# this is the size of our encoded representations\n",
    "encoding_dim = 32  # 32 floats -> compression of factor 24.5, assuming the input is 784 floats\n",
    "\n",
    "# this is our input placeholder\n",
    "input_img = Input(shape=(784,))\n",
    "# \"encoded\" is the encoded representation of the input\n",
    "encoded = Dense(encoding_dim, activation='relu')(input_img)\n",
    "# \"decoded\" is the lossy reconstruction of the input\n",
    "decoded = Dense(784, activation='sigmoid')(encoded)\n",
    "\n",
    "# this model maps an input to its reconstruction\n",
    "autoencoder = Model(input_img, decoded)"
   ]
  },
  {
   "cell_type": "code",
   "execution_count": 7,
   "metadata": {},
   "outputs": [],
   "source": [
    "# this model maps an input to its encoded representation\n",
    "encoder = Model(input_img, encoded)"
   ]
  },
  {
   "cell_type": "code",
   "execution_count": 8,
   "metadata": {},
   "outputs": [],
   "source": [
    "# create a placeholder for an encoded (32-dimensional) input\n",
    "encoded_input = Input(shape=(encoding_dim,))\n",
    "# retrieve the last layer of the autoencoder model\n",
    "decoder_layer = autoencoder.layers[-1]\n",
    "# create the decoder model\n",
    "decoder = Model(encoded_input, decoder_layer(encoded_input))"
   ]
  },
  {
   "cell_type": "code",
   "execution_count": 15,
   "metadata": {},
   "outputs": [],
   "source": [
    "autoencoder.compile(optimizer='adadelta', loss='binary_crossentropy',metrics=['accuracy'])"
   ]
  },
  {
   "cell_type": "code",
   "execution_count": 11,
   "metadata": {},
   "outputs": [
    {
     "name": "stdout",
     "output_type": "stream",
     "text": [
      "(60000, 784)\n",
      "(10000, 784)\n"
     ]
    }
   ],
   "source": [
    "x_train = x_train.astype('float32') / 255.\n",
    "x_test = x_test.astype('float32') / 255.\n",
    "x_train = x_train.reshape((len(x_train), np.prod(x_train.shape[1:])))\n",
    "x_test = x_test.reshape((len(x_test), np.prod(x_test.shape[1:])))\n",
    "print(x_train.shape)\n",
    "print(x_test.shape)"
   ]
  },
  {
   "cell_type": "code",
   "execution_count": 20,
   "metadata": {},
   "outputs": [
    {
     "name": "stdout",
     "output_type": "stream",
     "text": [
      "[[0. 0. 0. ... 0. 0. 0.]\n",
      " [0. 0. 0. ... 0. 0. 0.]\n",
      " [0. 0. 0. ... 0. 0. 0.]\n",
      " ...\n",
      " [0. 0. 0. ... 0. 0. 0.]\n",
      " [0. 0. 0. ... 0. 0. 0.]\n",
      " [0. 0. 0. ... 0. 0. 0.]]\n"
     ]
    }
   ],
   "source": [
    "print(x_train)"
   ]
  },
  {
   "cell_type": "code",
   "execution_count": 19,
   "metadata": {},
   "outputs": [
    {
     "data": {
      "image/png": "[encoded data removed]",
      "text/plain": [
       "<Figure size 1440x288 with 10 Axes>"
      ]
     },
     "metadata": {},
     "output_type": "display_data"
    }
   ],
   "source": [
    "# use Matplotlib (don't ask)\n",
    "import matplotlib.pyplot as plt\n",
    "\n",
    "n = 10  # how many digits we will display\n",
    "plt.figure(figsize=(20, 4))\n",
    "for i in range(n):\n",
    "    # display original\n",
    "    ax = plt.subplot(2, n, i + 1)\n",
    "    plt.imshow(x_train[i].reshape(28, 28))\n",
    "    plt.gray()\n",
    "    ax.get_xaxis().set_visible(False)\n",
    "    ax.get_yaxis().set_visible(False)\n",
    "\n",
    "\n",
    "plt.show()"
   ]
  },
  {
   "cell_type": "code",
   "execution_count": 16,
   "metadata": {
    "scrolled": true
   },
   "outputs": [
    {
     "name": "stdout",
     "output_type": "stream",
     "text": [
      "Train on 60000 samples, validate on 10000 samples\n",
      "Epoch 1/50\n",
      " - 2s - loss: 0.1354 - acc: 0.8095 - val_loss: 0.1328 - val_acc: 0.8089\n",
      "Epoch 2/50\n",
      " - 2s - loss: 0.1331 - acc: 0.8098 - val_loss: 0.1308 - val_acc: 0.8094\n",
      "Epoch 3/50\n",
      " - 2s - loss: 0.1311 - acc: 0.8101 - val_loss: 0.1287 - val_acc: 0.8096\n",
      "Epoch 4/50\n",
      " - 2s - loss: 0.1291 - acc: 0.8104 - val_loss: 0.1267 - val_acc: 0.8098\n",
      "Epoch 5/50\n",
      " - 2s - loss: 0.1273 - acc: 0.8106 - val_loss: 0.1249 - val_acc: 0.8099\n",
      "Epoch 6/50\n",
      " - 2s - loss: 0.1255 - acc: 0.8109 - val_loss: 0.1231 - val_acc: 0.8101\n",
      "Epoch 7/50\n",
      " - 2s - loss: 0.1238 - acc: 0.8111 - val_loss: 0.1215 - val_acc: 0.8105\n",
      "Epoch 8/50\n",
      " - 2s - loss: 0.1222 - acc: 0.8113 - val_loss: 0.1200 - val_acc: 0.8106\n",
      "Epoch 9/50\n",
      " - 2s - loss: 0.1207 - acc: 0.8115 - val_loss: 0.1186 - val_acc: 0.8108\n",
      "Epoch 10/50\n",
      " - 2s - loss: 0.1193 - acc: 0.8117 - val_loss: 0.1171 - val_acc: 0.8110\n",
      "Epoch 11/50\n",
      " - 2s - loss: 0.1180 - acc: 0.8119 - val_loss: 0.1158 - val_acc: 0.8112\n",
      "Epoch 12/50\n",
      " - 1s - loss: 0.1167 - acc: 0.8120 - val_loss: 0.1146 - val_acc: 0.8112\n",
      "Epoch 13/50\n",
      " - 1s - loss: 0.1156 - acc: 0.8122 - val_loss: 0.1135 - val_acc: 0.8114\n",
      "Epoch 14/50\n",
      " - 1s - loss: 0.1145 - acc: 0.8123 - val_loss: 0.1124 - val_acc: 0.8115\n",
      "Epoch 15/50\n",
      " - 1s - loss: 0.1135 - acc: 0.8124 - val_loss: 0.1114 - val_acc: 0.8116\n",
      "Epoch 16/50\n",
      " - 1s - loss: 0.1125 - acc: 0.8126 - val_loss: 0.1105 - val_acc: 0.8117\n",
      "Epoch 17/50\n",
      " - 1s - loss: 0.1116 - acc: 0.8127 - val_loss: 0.1096 - val_acc: 0.8118\n",
      "Epoch 18/50\n",
      " - 1s - loss: 0.1108 - acc: 0.8127 - val_loss: 0.1088 - val_acc: 0.8119\n",
      "Epoch 19/50\n",
      " - 1s - loss: 0.1100 - acc: 0.8128 - val_loss: 0.1081 - val_acc: 0.8120\n",
      "Epoch 20/50\n",
      " - 1s - loss: 0.1093 - acc: 0.8129 - val_loss: 0.1074 - val_acc: 0.8121\n",
      "Epoch 21/50\n",
      " - 1s - loss: 0.1086 - acc: 0.8130 - val_loss: 0.1067 - val_acc: 0.8121\n",
      "Epoch 22/50\n",
      " - 1s - loss: 0.1080 - acc: 0.8130 - val_loss: 0.1061 - val_acc: 0.8122\n",
      "Epoch 23/50\n",
      " - 1s - loss: 0.1074 - acc: 0.8131 - val_loss: 0.1055 - val_acc: 0.8123\n",
      "Epoch 24/50\n",
      " - 1s - loss: 0.1068 - acc: 0.8132 - val_loss: 0.1050 - val_acc: 0.8123\n",
      "Epoch 25/50\n",
      " - 1s - loss: 0.1063 - acc: 0.8132 - val_loss: 0.1044 - val_acc: 0.8123\n",
      "Epoch 26/50\n",
      " - 1s - loss: 0.1058 - acc: 0.8132 - val_loss: 0.1040 - val_acc: 0.8124\n",
      "Epoch 27/50\n",
      " - 1s - loss: 0.1053 - acc: 0.8133 - val_loss: 0.1036 - val_acc: 0.8124\n",
      "Epoch 28/50\n",
      " - 1s - loss: 0.1049 - acc: 0.8133 - val_loss: 0.1031 - val_acc: 0.8124\n",
      "Epoch 29/50\n",
      " - 1s - loss: 0.1045 - acc: 0.8134 - val_loss: 0.1028 - val_acc: 0.8125\n",
      "Epoch 30/50\n",
      " - 1s - loss: 0.1041 - acc: 0.8134 - val_loss: 0.1024 - val_acc: 0.8125\n",
      "Epoch 31/50\n",
      " - 1s - loss: 0.1038 - acc: 0.8134 - val_loss: 0.1020 - val_acc: 0.8126\n",
      "Epoch 32/50\n",
      " - 1s - loss: 0.1034 - acc: 0.8135 - val_loss: 0.1017 - val_acc: 0.8126\n",
      "Epoch 33/50\n",
      " - 1s - loss: 0.1031 - acc: 0.8135 - val_loss: 0.1014 - val_acc: 0.8126\n",
      "Epoch 34/50\n",
      " - 1s - loss: 0.1028 - acc: 0.8135 - val_loss: 0.1011 - val_acc: 0.8126\n",
      "Epoch 35/50\n",
      " - 1s - loss: 0.1025 - acc: 0.8135 - val_loss: 0.1008 - val_acc: 0.8126\n",
      "Epoch 36/50\n",
      " - 1s - loss: 0.1022 - acc: 0.8135 - val_loss: 0.1006 - val_acc: 0.8127\n",
      "Epoch 37/50\n",
      " - 1s - loss: 0.1020 - acc: 0.8136 - val_loss: 0.1003 - val_acc: 0.8127\n",
      "Epoch 38/50\n",
      " - 1s - loss: 0.1018 - acc: 0.8136 - val_loss: 0.1001 - val_acc: 0.8127\n",
      "Epoch 39/50\n",
      " - 1s - loss: 0.1015 - acc: 0.8136 - val_loss: 0.0999 - val_acc: 0.8128\n",
      "Epoch 40/50\n",
      " - 1s - loss: 0.1013 - acc: 0.8136 - val_loss: 0.0997 - val_acc: 0.8127\n",
      "Epoch 41/50\n",
      " - 1s - loss: 0.1011 - acc: 0.8136 - val_loss: 0.0995 - val_acc: 0.8128\n",
      "Epoch 42/50\n",
      " - 1s - loss: 0.1009 - acc: 0.8137 - val_loss: 0.0993 - val_acc: 0.8128\n",
      "Epoch 43/50\n",
      " - 1s - loss: 0.1007 - acc: 0.8137 - val_loss: 0.0992 - val_acc: 0.8128\n",
      "Epoch 44/50\n",
      " - 1s - loss: 0.1005 - acc: 0.8137 - val_loss: 0.0990 - val_acc: 0.8128\n",
      "Epoch 45/50\n",
      " - 1s - loss: 0.1004 - acc: 0.8137 - val_loss: 0.0988 - val_acc: 0.8128\n",
      "Epoch 46/50\n",
      " - 1s - loss: 0.1002 - acc: 0.8137 - val_loss: 0.0987 - val_acc: 0.8128\n",
      "Epoch 47/50\n",
      " - 1s - loss: 0.1001 - acc: 0.8137 - val_loss: 0.0985 - val_acc: 0.8128\n",
      "Epoch 48/50\n",
      " - 1s - loss: 0.0999 - acc: 0.8137 - val_loss: 0.0984 - val_acc: 0.8129\n",
      "Epoch 49/50\n",
      " - 1s - loss: 0.0998 - acc: 0.8137 - val_loss: 0.0982 - val_acc: 0.8129\n",
      "Epoch 50/50\n",
      " - 1s - loss: 0.0997 - acc: 0.8138 - val_loss: 0.0981 - val_acc: 0.8128\n"
     ]
    },
    {
     "data": {
      "text/plain": [
       "<keras.callbacks.History at 0x150792bfb70>"
      ]
     },
     "execution_count": 16,
     "metadata": {},
     "output_type": "execute_result"
    }
   ],
   "source": [
    "autoencoder.fit(x_train, x_train,\n",
    "                epochs=50, verbose=2,\n",
    "                batch_size=256,\n",
    "                shuffle=True,\n",
    "                validation_data=(x_test, x_test))"
   ]
  },
  {
   "cell_type": "code",
   "execution_count": 17,
   "metadata": {},
   "outputs": [],
   "source": [
    "# encode and decode some digits\n",
    "# note that we take them from the *test* set\n",
    "encoded_imgs = encoder.predict(x_test)\n",
    "decoded_imgs = decoder.predict(encoded_imgs)"
   ]
  },
  {
   "cell_type": "code",
   "execution_count": 18,
   "metadata": {},
   "outputs": [
    {
     "data": {
      "image/png": "[encoded data removed]",
      "text/plain": [
       "<Figure size 1440x288 with 20 Axes>"
      ]
     },
     "metadata": {},
     "output_type": "display_data"
    }
   ],
   "source": [
    "# use Matplotlib (don't ask)\n",
    "import matplotlib.pyplot as plt\n",
    "\n",
    "n = 10  # how many digits we will display\n",
    "plt.figure(figsize=(20, 4))\n",
    "for i in range(n):\n",
    "    # display original\n",
    "    ax = plt.subplot(2, n, i + 1)\n",
    "    plt.imshow(x_test[i].reshape(28, 28))\n",
    "    plt.gray()\n",
    "    ax.get_xaxis().set_visible(False)\n",
    "    ax.get_yaxis().set_visible(False)\n",
    "\n",
    "    # display reconstruction\n",
    "    ax = plt.subplot(2, n, i + 1 + n)\n",
    "    plt.imshow(decoded_imgs[i].reshape(28, 28))\n",
    "    plt.gray()\n",
    "    ax.get_xaxis().set_visible(False)\n",
    "    ax.get_yaxis().set_visible(False)\n",
    "plt.show()"
   ]
  },
  {
   "cell_type": "code",
   "execution_count": 21,
   "metadata": {},
   "outputs": [],
   "source": [
    "# regularizers\n",
    "from keras import regularizers\n",
    "\n",
    "encoding_dim = 32\n",
    "\n",
    "input_img = Input(shape=(784,))\n",
    "# add a Dense layer with a L1 activity regularizer\n",
    "encoded = Dense(encoding_dim, activation='relu',\n",
    "                activity_regularizer=regularizers.l1(10e-5))(input_img)\n",
    "decoded = Dense(784, activation='sigmoid')(encoded)\n",
    "\n",
    "autoencoder = Model(input_img, decoded)"
   ]
  },
  {
   "cell_type": "code",
   "execution_count": 22,
   "metadata": {},
   "outputs": [],
   "source": [
    "autoencoder.compile(optimizer='adadelta', loss='binary_crossentropy',metrics=['accuracy'])"
   ]
  },
  {
   "cell_type": "code",
   "execution_count": 23,
   "metadata": {
    "scrolled": true
   },
   "outputs": [
    {
     "name": "stdout",
     "output_type": "stream",
     "text": [
      "Train on 60000 samples, validate on 10000 samples\n",
      "Epoch 1/50\n",
      " - 4s - loss: 0.6733 - acc: 0.7813 - val_loss: 0.6485 - val_acc: 0.8029\n",
      "Epoch 2/50\n",
      " - 2s - loss: 0.6284 - acc: 0.8043 - val_loss: 0.6090 - val_acc: 0.8030\n",
      "Epoch 3/50\n",
      " - 2s - loss: 0.5916 - acc: 0.8043 - val_loss: 0.5749 - val_acc: 0.8030\n",
      "Epoch 4/50\n",
      " - 2s - loss: 0.5598 - acc: 0.8044 - val_loss: 0.5454 - val_acc: 0.8030\n",
      "Epoch 5/50\n",
      " - 2s - loss: 0.5323 - acc: 0.8044 - val_loss: 0.5198 - val_acc: 0.8030\n",
      "Epoch 6/50\n",
      " - 1s - loss: 0.5084 - acc: 0.8044 - val_loss: 0.4975 - val_acc: 0.8030\n",
      "Epoch 7/50\n",
      " - 2s - loss: 0.4875 - acc: 0.8044 - val_loss: 0.4780 - val_acc: 0.8030\n",
      "Epoch 8/50\n",
      " - 2s - loss: 0.4692 - acc: 0.8044 - val_loss: 0.4609 - val_acc: 0.8030\n",
      "Epoch 9/50\n",
      " - 2s - loss: 0.4531 - acc: 0.8044 - val_loss: 0.4457 - val_acc: 0.8030\n",
      "Epoch 10/50\n",
      " - 2s - loss: 0.4389 - acc: 0.8044 - val_loss: 0.4324 - val_acc: 0.8030\n",
      "Epoch 11/50\n",
      " - 2s - loss: 0.4262 - acc: 0.8044 - val_loss: 0.4205 - val_acc: 0.8030\n",
      "Epoch 12/50\n",
      " - 1s - loss: 0.4150 - acc: 0.8044 - val_loss: 0.4098 - val_acc: 0.8030\n",
      "Epoch 13/50\n",
      " - 2s - loss: 0.4049 - acc: 0.8044 - val_loss: 0.4003 - val_acc: 0.8030\n",
      "Epoch 14/50\n",
      " - 2s - loss: 0.3959 - acc: 0.8044 - val_loss: 0.3918 - val_acc: 0.8030\n",
      "Epoch 15/50\n",
      " - 2s - loss: 0.3877 - acc: 0.8044 - val_loss: 0.3840 - val_acc: 0.8030\n",
      "Epoch 16/50\n",
      " - 1s - loss: 0.3804 - acc: 0.8044 - val_loss: 0.3771 - val_acc: 0.8030\n",
      "Epoch 17/50\n",
      " - 2s - loss: 0.3737 - acc: 0.8044 - val_loss: 0.3707 - val_acc: 0.8030\n",
      "Epoch 18/50\n",
      " - 2s - loss: 0.3676 - acc: 0.8044 - val_loss: 0.3649 - val_acc: 0.8030\n",
      "Epoch 19/50\n",
      " - 2s - loss: 0.3621 - acc: 0.8044 - val_loss: 0.3596 - val_acc: 0.8030\n",
      "Epoch 20/50\n",
      " - 2s - loss: 0.3570 - acc: 0.8044 - val_loss: 0.3548 - val_acc: 0.8030\n",
      "Epoch 21/50\n",
      " - 1s - loss: 0.3524 - acc: 0.8044 - val_loss: 0.3503 - val_acc: 0.8030\n",
      "Epoch 22/50\n",
      " - 2s - loss: 0.3481 - acc: 0.8044 - val_loss: 0.3463 - val_acc: 0.8030\n",
      "Epoch 23/50\n",
      " - 2s - loss: 0.3442 - acc: 0.8044 - val_loss: 0.3425 - val_acc: 0.8030\n",
      "Epoch 24/50\n",
      " - 2s - loss: 0.3406 - acc: 0.8044 - val_loss: 0.3390 - val_acc: 0.8030\n",
      "Epoch 25/50\n",
      " - 1s - loss: 0.3372 - acc: 0.8044 - val_loss: 0.3357 - val_acc: 0.8030\n",
      "Epoch 26/50\n",
      " - 2s - loss: 0.3341 - acc: 0.8044 - val_loss: 0.3327 - val_acc: 0.8030\n",
      "Epoch 27/50\n",
      " - 1s - loss: 0.3312 - acc: 0.8044 - val_loss: 0.3299 - val_acc: 0.8030\n",
      "Epoch 28/50\n",
      " - 1s - loss: 0.3285 - acc: 0.8044 - val_loss: 0.3273 - val_acc: 0.8030\n",
      "Epoch 29/50\n",
      " - 1s - loss: 0.3259 - acc: 0.8044 - val_loss: 0.3249 - val_acc: 0.8030\n",
      "Epoch 30/50\n",
      " - 2s - loss: 0.3236 - acc: 0.8044 - val_loss: 0.3226 - val_acc: 0.8030\n",
      "Epoch 31/50\n",
      " - 2s - loss: 0.3214 - acc: 0.8044 - val_loss: 0.3204 - val_acc: 0.8030\n",
      "Epoch 32/50\n",
      " - 2s - loss: 0.3193 - acc: 0.8044 - val_loss: 0.3184 - val_acc: 0.8030\n",
      "Epoch 33/50\n",
      " - 2s - loss: 0.3173 - acc: 0.8044 - val_loss: 0.3165 - val_acc: 0.8030\n",
      "Epoch 34/50\n",
      " - 2s - loss: 0.3155 - acc: 0.8044 - val_loss: 0.3147 - val_acc: 0.8030\n",
      "Epoch 35/50\n",
      " - 2s - loss: 0.3138 - acc: 0.8044 - val_loss: 0.3131 - val_acc: 0.8030\n",
      "Epoch 36/50\n",
      " - 2s - loss: 0.3121 - acc: 0.8044 - val_loss: 0.3115 - val_acc: 0.8030\n",
      "Epoch 37/50\n",
      " - 2s - loss: 0.3106 - acc: 0.8044 - val_loss: 0.3100 - val_acc: 0.8030\n",
      "Epoch 38/50\n",
      " - 2s - loss: 0.3091 - acc: 0.8044 - val_loss: 0.3085 - val_acc: 0.8030\n",
      "Epoch 39/50\n",
      " - 2s - loss: 0.3077 - acc: 0.8044 - val_loss: 0.3072 - val_acc: 0.8030\n",
      "Epoch 40/50\n",
      " - 2s - loss: 0.3064 - acc: 0.8044 - val_loss: 0.3059 - val_acc: 0.8030\n",
      "Epoch 41/50\n",
      " - 2s - loss: 0.3052 - acc: 0.8044 - val_loss: 0.3047 - val_acc: 0.8030\n",
      "Epoch 42/50\n",
      " - 2s - loss: 0.3040 - acc: 0.8044 - val_loss: 0.3035 - val_acc: 0.8030\n",
      "Epoch 43/50\n",
      " - 2s - loss: 0.3029 - acc: 0.8044 - val_loss: 0.3024 - val_acc: 0.8030\n",
      "Epoch 44/50\n",
      " - 2s - loss: 0.3018 - acc: 0.8044 - val_loss: 0.3014 - val_acc: 0.8030\n",
      "Epoch 45/50\n",
      " - 2s - loss: 0.3008 - acc: 0.8044 - val_loss: 0.3004 - val_acc: 0.8030\n",
      "Epoch 46/50\n",
      " - 2s - loss: 0.2998 - acc: 0.8044 - val_loss: 0.2994 - val_acc: 0.8030\n",
      "Epoch 47/50\n",
      " - 2s - loss: 0.2989 - acc: 0.8044 - val_loss: 0.2985 - val_acc: 0.8030\n",
      "Epoch 48/50\n",
      " - 2s - loss: 0.2980 - acc: 0.8044 - val_loss: 0.2976 - val_acc: 0.8030\n",
      "Epoch 49/50\n",
      " - 2s - loss: 0.2971 - acc: 0.8044 - val_loss: 0.2968 - val_acc: 0.8030\n",
      "Epoch 50/50\n",
      " - 2s - loss: 0.2963 - acc: 0.8044 - val_loss: 0.2960 - val_acc: 0.8030\n"
     ]
    },
    {
     "data": {
      "text/plain": [
       "<keras.callbacks.History at 0x1504204a8d0>"
      ]
     },
     "execution_count": 23,
     "metadata": {},
     "output_type": "execute_result"
    }
   ],
   "source": [
    "autoencoder.fit(x_train, x_train,\n",
    "                epochs=50, verbose=2,\n",
    "                batch_size=256,\n",
    "                shuffle=True,\n",
    "                validation_data=(x_test, x_test))"
   ]
  },
  {
   "cell_type": "code",
   "execution_count": 24,
   "metadata": {},
   "outputs": [
    {
     "data": {
      "image/png": "[encoded data removed]",
      "text/plain": [
       "<Figure size 1440x288 with 20 Axes>"
      ]
     },
     "metadata": {},
     "output_type": "display_data"
    }
   ],
   "source": [
    "# use Matplotlib (don't ask)\n",
    "import matplotlib.pyplot as plt\n",
    "\n",
    "n = 10  # how many digits we will display\n",
    "plt.figure(figsize=(20, 4))\n",
    "for i in range(n):\n",
    "    # display original\n",
    "    ax = plt.subplot(2, n, i + 1)\n",
    "    plt.imshow(x_test[i].reshape(28, 28))\n",
    "    plt.gray()\n",
    "    ax.get_xaxis().set_visible(False)\n",
    "    ax.get_yaxis().set_visible(False)\n",
    "\n",
    "    # display reconstruction\n",
    "    ax = plt.subplot(2, n, i + 1 + n)\n",
    "    plt.imshow(decoded_imgs[i].reshape(28, 28))\n",
    "    plt.gray()\n",
    "    ax.get_xaxis().set_visible(False)\n",
    "    ax.get_yaxis().set_visible(False)\n",
    "plt.show()"
   ]
  },
  {
   "cell_type": "code",
   "execution_count": 41,
   "metadata": {},
   "outputs": [],
   "source": [
    "# VAE for train_x and train_y\n",
    "from keras.layers import Input, LSTM, RepeatVector\n",
    "from keras.models import Model\n",
    "\n",
    "timesteps = 10\n",
    "input_dim = 784#(28,28)\n",
    "latent_dim = 10\n",
    "\n",
    "inputs = Input(shape=(timesteps, input_dim))\n",
    "encoded = LSTM(latent_dim)(inputs)\n",
    "\n",
    "decoded = RepeatVector(timesteps)(encoded)\n",
    "decoded = LSTM(input_dim, return_sequences=True)(decoded)\n",
    "\n",
    "sequence_autoencoder = Model(inputs, decoded)\n",
    "encoder = Model(inputs, encoded)"
   ]
  },
  {
   "cell_type": "code",
   "execution_count": 43,
   "metadata": {},
   "outputs": [
    {
     "ename": "NameError",
     "evalue": "name 'original_dim' is not defined",
     "output_type": "error",
     "traceback": [
      "\u001b[1;31m---------------------------------------------------------------------------\u001b[0m",
      "\u001b[1;31mNameError\u001b[0m                                 Traceback (most recent call last)",
      "\u001b[1;32m<ipython-input-43-b92bd4f3a822>\u001b[0m in \u001b[0;36m<module>\u001b[1;34m()\u001b[0m\n\u001b[0;32m      1\u001b[0m \u001b[0mbatch_size\u001b[0m \u001b[1;33m=\u001b[0m \u001b[1;36m100\u001b[0m\u001b[1;33m\u001b[0m\u001b[0m\n\u001b[0;32m      2\u001b[0m \u001b[1;33m\u001b[0m\u001b[0m\n\u001b[1;32m----> 3\u001b[1;33m \u001b[0mx\u001b[0m \u001b[1;33m=\u001b[0m \u001b[0mInput\u001b[0m\u001b[1;33m(\u001b[0m\u001b[0mbatch_shape\u001b[0m\u001b[1;33m=\u001b[0m\u001b[1;33m(\u001b[0m\u001b[0mbatch_size\u001b[0m\u001b[1;33m,\u001b[0m \u001b[0moriginal_dim\u001b[0m\u001b[1;33m)\u001b[0m\u001b[1;33m)\u001b[0m\u001b[1;33m\u001b[0m\u001b[0m\n\u001b[0m\u001b[0;32m      4\u001b[0m \u001b[0mh\u001b[0m \u001b[1;33m=\u001b[0m \u001b[0mDense\u001b[0m\u001b[1;33m(\u001b[0m\u001b[0mintermediate_dim\u001b[0m\u001b[1;33m,\u001b[0m \u001b[0mactivation\u001b[0m\u001b[1;33m=\u001b[0m\u001b[1;34m'relu'\u001b[0m\u001b[1;33m)\u001b[0m\u001b[1;33m(\u001b[0m\u001b[0mx\u001b[0m\u001b[1;33m)\u001b[0m\u001b[1;33m\u001b[0m\u001b[0m\n\u001b[0;32m      5\u001b[0m \u001b[0mz_mean\u001b[0m \u001b[1;33m=\u001b[0m \u001b[0mDense\u001b[0m\u001b[1;33m(\u001b[0m\u001b[0mlatent_dim\u001b[0m\u001b[1;33m)\u001b[0m\u001b[1;33m(\u001b[0m\u001b[0mh\u001b[0m\u001b[1;33m)\u001b[0m\u001b[1;33m\u001b[0m\u001b[0m\n",
      "\u001b[1;31mNameError\u001b[0m: name 'original_dim' is not defined"
     ]
    }
   ],
   "source": [
    "batch_size = 100\n",
    "\n",
    "x = Input(batch_shape=(batch_size, original_dim))\n",
    "h = Dense(intermediate_dim, activation='relu')(x)\n",
    "z_mean = Dense(latent_dim)(h)\n",
    "z_log_sigma = Dense(latent_dim)(h)"
   ]
  },
  {
   "cell_type": "code",
   "execution_count": 1,
   "metadata": {},
   "outputs": [
    {
     "name": "stderr",
     "output_type": "stream",
     "text": [
      "Using TensorFlow backend.\n"
     ]
    },
    {
     "name": "stdout",
     "output_type": "stream",
     "text": [
      "__________________________________________________________________________________________________\n",
      "Layer (type)                    Output Shape         Param #     Connected to                     \n",
      "==================================================================================================\n",
      "encoder_input (InputLayer)      (None, 784)          0                                            \n",
      "__________________________________________________________________________________________________\n",
      "dense_1 (Dense)                 (None, 512)          401920      encoder_input[0][0]              \n",
      "__________________________________________________________________________________________________\n",
      "z_mean (Dense)                  (None, 2)            1026        dense_1[0][0]                    \n",
      "__________________________________________________________________________________________________\n",
      "z_log_var (Dense)               (None, 2)            1026        dense_1[0][0]                    \n",
      "__________________________________________________________________________________________________\n",
      "z (Lambda)                      (None, 2)            0           z_mean[0][0]                     \n",
      "                                                                 z_log_var[0][0]                  \n",
      "==================================================================================================\n",
      "Total params: 403,972\n",
      "Trainable params: 403,972\n",
      "Non-trainable params: 0\n",
      "__________________________________________________________________________________________________\n"
     ]
    },
    {
     "ename": "OSError",
     "evalue": "`pydot` failed to call GraphViz.Please install GraphViz (https://www.graphviz.org/) and ensure that its executables are in the $PATH.",
     "output_type": "error",
     "traceback": [
      "\u001b[1;31m---------------------------------------------------------------------------\u001b[0m",
      "\u001b[1;31mFileNotFoundError\u001b[0m                         Traceback (most recent call last)",
      "\u001b[1;32mc:\\users\\leo\\appdata\\local\\programs\\python\\python36\\lib\\site-packages\\pydot.py\u001b[0m in \u001b[0;36mcreate\u001b[1;34m(self, prog, format, encoding)\u001b[0m\n\u001b[0;32m   1914\u001b[0m                 \u001b[0marguments\u001b[0m\u001b[1;33m=\u001b[0m\u001b[0marguments\u001b[0m\u001b[1;33m,\u001b[0m\u001b[1;33m\u001b[0m\u001b[0m\n\u001b[1;32m-> 1915\u001b[1;33m                 \u001b[0mworking_dir\u001b[0m\u001b[1;33m=\u001b[0m\u001b[0mtmp_dir\u001b[0m\u001b[1;33m,\u001b[0m\u001b[1;33m\u001b[0m\u001b[0m\n\u001b[0m\u001b[0;32m   1916\u001b[0m             )\n",
      "\u001b[1;32mc:\\users\\leo\\appdata\\local\\programs\\python\\python36\\lib\\site-packages\\pydot.py\u001b[0m in \u001b[0;36mcall_graphviz\u001b[1;34m(program, arguments, working_dir, **kwargs)\u001b[0m\n\u001b[0;32m    135\u001b[0m         \u001b[0mstdout\u001b[0m\u001b[1;33m=\u001b[0m\u001b[0msubprocess\u001b[0m\u001b[1;33m.\u001b[0m\u001b[0mPIPE\u001b[0m\u001b[1;33m,\u001b[0m\u001b[1;33m\u001b[0m\u001b[0m\n\u001b[1;32m--> 136\u001b[1;33m         \u001b[1;33m**\u001b[0m\u001b[0mkwargs\u001b[0m\u001b[1;33m\u001b[0m\u001b[0m\n\u001b[0m\u001b[0;32m    137\u001b[0m     )\n",
      "\u001b[1;32mc:\\users\\leo\\appdata\\local\\programs\\python\\python36\\lib\\subprocess.py\u001b[0m in \u001b[0;36m__init__\u001b[1;34m(self, args, bufsize, executable, stdin, stdout, stderr, preexec_fn, close_fds, shell, cwd, env, universal_newlines, startupinfo, creationflags, restore_signals, start_new_session, pass_fds, encoding, errors)\u001b[0m\n\u001b[0;32m    708\u001b[0m                                 \u001b[0merrread\u001b[0m\u001b[1;33m,\u001b[0m \u001b[0merrwrite\u001b[0m\u001b[1;33m,\u001b[0m\u001b[1;33m\u001b[0m\u001b[0m\n\u001b[1;32m--> 709\u001b[1;33m                                 restore_signals, start_new_session)\n\u001b[0m\u001b[0;32m    710\u001b[0m         \u001b[1;32mexcept\u001b[0m\u001b[1;33m:\u001b[0m\u001b[1;33m\u001b[0m\u001b[0m\n",
      "\u001b[1;32mc:\\users\\leo\\appdata\\local\\programs\\python\\python36\\lib\\subprocess.py\u001b[0m in \u001b[0;36m_execute_child\u001b[1;34m(self, args, executable, preexec_fn, close_fds, pass_fds, cwd, env, startupinfo, creationflags, shell, p2cread, p2cwrite, c2pread, c2pwrite, errread, errwrite, unused_restore_signals, unused_start_new_session)\u001b[0m\n\u001b[0;32m    996\u001b[0m                                          \u001b[0mos\u001b[0m\u001b[1;33m.\u001b[0m\u001b[0mfspath\u001b[0m\u001b[1;33m(\u001b[0m\u001b[0mcwd\u001b[0m\u001b[1;33m)\u001b[0m \u001b[1;32mif\u001b[0m \u001b[0mcwd\u001b[0m \u001b[1;32mis\u001b[0m \u001b[1;32mnot\u001b[0m \u001b[1;32mNone\u001b[0m \u001b[1;32melse\u001b[0m \u001b[1;32mNone\u001b[0m\u001b[1;33m,\u001b[0m\u001b[1;33m\u001b[0m\u001b[0m\n\u001b[1;32m--> 997\u001b[1;33m                                          startupinfo)\n\u001b[0m\u001b[0;32m    998\u001b[0m             \u001b[1;32mfinally\u001b[0m\u001b[1;33m:\u001b[0m\u001b[1;33m\u001b[0m\u001b[0m\n",
      "\u001b[1;31mFileNotFoundError\u001b[0m: [WinError 2] The system cannot find the file specified",
      "\nDuring handling of the above exception, another exception occurred:\n",
      "\u001b[1;31mFileNotFoundError\u001b[0m                         Traceback (most recent call last)",
      "\u001b[1;32mc:\\users\\leo\\appdata\\local\\programs\\python\\python36\\lib\\site-packages\\keras\\utils\\vis_utils.py\u001b[0m in \u001b[0;36m_check_pydot\u001b[1;34m()\u001b[0m\n\u001b[0;32m     25\u001b[0m         \u001b[1;31m# to check the pydot/graphviz installation.\u001b[0m\u001b[1;33m\u001b[0m\u001b[1;33m\u001b[0m\u001b[0m\n\u001b[1;32m---> 26\u001b[1;33m         \u001b[0mpydot\u001b[0m\u001b[1;33m.\u001b[0m\u001b[0mDot\u001b[0m\u001b[1;33m.\u001b[0m\u001b[0mcreate\u001b[0m\u001b[1;33m(\u001b[0m\u001b[0mpydot\u001b[0m\u001b[1;33m.\u001b[0m\u001b[0mDot\u001b[0m\u001b[1;33m(\u001b[0m\u001b[1;33m)\u001b[0m\u001b[1;33m)\u001b[0m\u001b[1;33m\u001b[0m\u001b[0m\n\u001b[0m\u001b[0;32m     27\u001b[0m     \u001b[1;32mexcept\u001b[0m \u001b[0mOSError\u001b[0m\u001b[1;33m:\u001b[0m\u001b[1;33m\u001b[0m\u001b[0m\n",
      "\u001b[1;32mc:\\users\\leo\\appdata\\local\\programs\\python\\python36\\lib\\site-packages\\pydot.py\u001b[0m in \u001b[0;36mcreate\u001b[1;34m(self, prog, format, encoding)\u001b[0m\n\u001b[0;32m   1921\u001b[0m                     prog=prog)\n\u001b[1;32m-> 1922\u001b[1;33m                 \u001b[1;32mraise\u001b[0m \u001b[0mOSError\u001b[0m\u001b[1;33m(\u001b[0m\u001b[1;33m*\u001b[0m\u001b[0margs\u001b[0m\u001b[1;33m)\u001b[0m\u001b[1;33m\u001b[0m\u001b[0m\n\u001b[0m\u001b[0;32m   1923\u001b[0m             \u001b[1;32melse\u001b[0m\u001b[1;33m:\u001b[0m\u001b[1;33m\u001b[0m\u001b[0m\n",
      "\u001b[1;31mFileNotFoundError\u001b[0m: [WinError 2] \"dot\" not found in path.",
      "\nDuring handling of the above exception, another exception occurred:\n",
      "\u001b[1;31mOSError\u001b[0m                                   Traceback (most recent call last)",
      "\u001b[1;32m<ipython-input-1-1a857acc480b>\u001b[0m in \u001b[0;36m<module>\u001b[1;34m()\u001b[0m\n\u001b[0;32m    127\u001b[0m \u001b[0mencoder\u001b[0m \u001b[1;33m=\u001b[0m \u001b[0mModel\u001b[0m\u001b[1;33m(\u001b[0m\u001b[0minputs\u001b[0m\u001b[1;33m,\u001b[0m \u001b[1;33m[\u001b[0m\u001b[0mz_mean\u001b[0m\u001b[1;33m,\u001b[0m \u001b[0mz_log_var\u001b[0m\u001b[1;33m,\u001b[0m \u001b[0mz\u001b[0m\u001b[1;33m]\u001b[0m\u001b[1;33m,\u001b[0m \u001b[0mname\u001b[0m\u001b[1;33m=\u001b[0m\u001b[1;34m'encoder'\u001b[0m\u001b[1;33m)\u001b[0m\u001b[1;33m\u001b[0m\u001b[0m\n\u001b[0;32m    128\u001b[0m \u001b[0mencoder\u001b[0m\u001b[1;33m.\u001b[0m\u001b[0msummary\u001b[0m\u001b[1;33m(\u001b[0m\u001b[1;33m)\u001b[0m\u001b[1;33m\u001b[0m\u001b[0m\n\u001b[1;32m--> 129\u001b[1;33m \u001b[0mplot_model\u001b[0m\u001b[1;33m(\u001b[0m\u001b[0mencoder\u001b[0m\u001b[1;33m,\u001b[0m \u001b[0mto_file\u001b[0m\u001b[1;33m=\u001b[0m\u001b[1;34m'vae_mlp_encoder.png'\u001b[0m\u001b[1;33m,\u001b[0m \u001b[0mshow_shapes\u001b[0m\u001b[1;33m=\u001b[0m\u001b[1;32mTrue\u001b[0m\u001b[1;33m)\u001b[0m\u001b[1;33m\u001b[0m\u001b[0m\n\u001b[0m\u001b[0;32m    130\u001b[0m \u001b[1;33m\u001b[0m\u001b[0m\n\u001b[0;32m    131\u001b[0m \u001b[1;31m# build decoder model\u001b[0m\u001b[1;33m\u001b[0m\u001b[1;33m\u001b[0m\u001b[0m\n",
      "\u001b[1;32mc:\\users\\leo\\appdata\\local\\programs\\python\\python36\\lib\\site-packages\\keras\\utils\\vis_utils.py\u001b[0m in \u001b[0;36mplot_model\u001b[1;34m(model, to_file, show_shapes, show_layer_names, rankdir)\u001b[0m\n\u001b[0;32m    130\u001b[0m             \u001b[1;34m'LR'\u001b[0m \u001b[0mcreates\u001b[0m \u001b[0ma\u001b[0m \u001b[0mhorizontal\u001b[0m \u001b[0mplot\u001b[0m\u001b[1;33m.\u001b[0m\u001b[1;33m\u001b[0m\u001b[0m\n\u001b[0;32m    131\u001b[0m     \"\"\"\n\u001b[1;32m--> 132\u001b[1;33m     \u001b[0mdot\u001b[0m \u001b[1;33m=\u001b[0m \u001b[0mmodel_to_dot\u001b[0m\u001b[1;33m(\u001b[0m\u001b[0mmodel\u001b[0m\u001b[1;33m,\u001b[0m \u001b[0mshow_shapes\u001b[0m\u001b[1;33m,\u001b[0m \u001b[0mshow_layer_names\u001b[0m\u001b[1;33m,\u001b[0m \u001b[0mrankdir\u001b[0m\u001b[1;33m)\u001b[0m\u001b[1;33m\u001b[0m\u001b[0m\n\u001b[0m\u001b[0;32m    133\u001b[0m     \u001b[0m_\u001b[0m\u001b[1;33m,\u001b[0m \u001b[0mextension\u001b[0m \u001b[1;33m=\u001b[0m \u001b[0mos\u001b[0m\u001b[1;33m.\u001b[0m\u001b[0mpath\u001b[0m\u001b[1;33m.\u001b[0m\u001b[0msplitext\u001b[0m\u001b[1;33m(\u001b[0m\u001b[0mto_file\u001b[0m\u001b[1;33m)\u001b[0m\u001b[1;33m\u001b[0m\u001b[0m\n\u001b[0;32m    134\u001b[0m     \u001b[1;32mif\u001b[0m \u001b[1;32mnot\u001b[0m \u001b[0mextension\u001b[0m\u001b[1;33m:\u001b[0m\u001b[1;33m\u001b[0m\u001b[0m\n",
      "\u001b[1;32mc:\\users\\leo\\appdata\\local\\programs\\python\\python36\\lib\\site-packages\\keras\\utils\\vis_utils.py\u001b[0m in \u001b[0;36mmodel_to_dot\u001b[1;34m(model, show_shapes, show_layer_names, rankdir)\u001b[0m\n\u001b[0;32m     53\u001b[0m     \u001b[1;32mfrom\u001b[0m \u001b[1;33m.\u001b[0m\u001b[1;33m.\u001b[0m\u001b[0mmodels\u001b[0m \u001b[1;32mimport\u001b[0m \u001b[0mSequential\u001b[0m\u001b[1;33m\u001b[0m\u001b[0m\n\u001b[0;32m     54\u001b[0m \u001b[1;33m\u001b[0m\u001b[0m\n\u001b[1;32m---> 55\u001b[1;33m     \u001b[0m_check_pydot\u001b[0m\u001b[1;33m(\u001b[0m\u001b[1;33m)\u001b[0m\u001b[1;33m\u001b[0m\u001b[0m\n\u001b[0m\u001b[0;32m     56\u001b[0m     \u001b[0mdot\u001b[0m \u001b[1;33m=\u001b[0m \u001b[0mpydot\u001b[0m\u001b[1;33m.\u001b[0m\u001b[0mDot\u001b[0m\u001b[1;33m(\u001b[0m\u001b[1;33m)\u001b[0m\u001b[1;33m\u001b[0m\u001b[0m\n\u001b[0;32m     57\u001b[0m     \u001b[0mdot\u001b[0m\u001b[1;33m.\u001b[0m\u001b[0mset\u001b[0m\u001b[1;33m(\u001b[0m\u001b[1;34m'rankdir'\u001b[0m\u001b[1;33m,\u001b[0m \u001b[0mrankdir\u001b[0m\u001b[1;33m)\u001b[0m\u001b[1;33m\u001b[0m\u001b[0m\n",
      "\u001b[1;32mc:\\users\\leo\\appdata\\local\\programs\\python\\python36\\lib\\site-packages\\keras\\utils\\vis_utils.py\u001b[0m in \u001b[0;36m_check_pydot\u001b[1;34m()\u001b[0m\n\u001b[0;32m     27\u001b[0m     \u001b[1;32mexcept\u001b[0m \u001b[0mOSError\u001b[0m\u001b[1;33m:\u001b[0m\u001b[1;33m\u001b[0m\u001b[0m\n\u001b[0;32m     28\u001b[0m         raise OSError(\n\u001b[1;32m---> 29\u001b[1;33m             \u001b[1;34m'`pydot` failed to call GraphViz.'\u001b[0m\u001b[1;33m\u001b[0m\u001b[0m\n\u001b[0m\u001b[0;32m     30\u001b[0m             \u001b[1;34m'Please install GraphViz (https://www.graphviz.org/) '\u001b[0m\u001b[1;33m\u001b[0m\u001b[0m\n\u001b[0;32m     31\u001b[0m             'and ensure that its executables are in the $PATH.')\n",
      "\u001b[1;31mOSError\u001b[0m: `pydot` failed to call GraphViz.Please install GraphViz (https://www.graphviz.org/) and ensure that its executables are in the $PATH."
     ]
    }
   ],
   "source": [
    "from __future__ import absolute_import\n",
    "from __future__ import division\n",
    "from __future__ import print_function\n",
    "\n",
    "from keras.layers import Lambda, Input, Dense\n",
    "from keras.models import Model\n",
    "from keras.datasets import mnist\n",
    "from keras.losses import mse, binary_crossentropy\n",
    "from keras.utils import plot_model\n",
    "from keras import backend as K\n",
    "\n",
    "import numpy as np\n",
    "import matplotlib.pyplot as plt\n",
    "import argparse\n",
    "import os\n",
    "\n",
    "\n",
    "# reparameterization trick\n",
    "# instead of sampling from Q(z|X), sample eps = N(0,I)\n",
    "# z = z_mean + sqrt(var)*eps\n",
    "def sampling(args):\n",
    "    \"\"\"Reparameterization trick by sampling fr an isotropic unit Gaussian.\n",
    "    # Arguments\n",
    "        args (tensor): mean and log of variance of Q(z|X)\n",
    "    # Returns\n",
    "        z (tensor): sampled latent vector\n",
    "    \"\"\"\n",
    "\n",
    "    z_mean, z_log_var = args\n",
    "    batch = K.shape(z_mean)[0]\n",
    "    dim = K.int_shape(z_mean)[1]\n",
    "    # by default, random_normal has mean=0 and std=1.0\n",
    "    epsilon = K.random_normal(shape=(batch, dim))\n",
    "    return z_mean + K.exp(0.5 * z_log_var) * epsilon\n",
    "\n",
    "\n",
    "def plot_results(models,\n",
    "                 data,\n",
    "                 batch_size=128,\n",
    "                 model_name=\"vae_mnist\"):\n",
    "    \"\"\"Plots labels and MNIST digits as function of 2-dim latent vector\n",
    "    # Arguments\n",
    "        models (tuple): encoder and decoder models\n",
    "        data (tuple): test data and label\n",
    "        batch_size (int): prediction batch size\n",
    "        model_name (string): which model is using this function\n",
    "    \"\"\"\n",
    "\n",
    "    encoder, decoder = models\n",
    "    x_test, y_test = data\n",
    "    os.makedirs(model_name, exist_ok=True)\n",
    "\n",
    "    filename = os.path.join(model_name, \"vae_mean.png\")\n",
    "    # display a 2D plot of the digit classes in the latent space\n",
    "    z_mean, _, _ = encoder.predict(x_test,\n",
    "                                   batch_size=batch_size)\n",
    "    plt.figure(figsize=(12, 10))\n",
    "    plt.scatter(z_mean[:, 0], z_mean[:, 1], c=y_test)\n",
    "    plt.colorbar()\n",
    "    plt.xlabel(\"z[0]\")\n",
    "    plt.ylabel(\"z[1]\")\n",
    "    plt.savefig(filename)\n",
    "    plt.show()\n",
    "\n",
    "    filename = os.path.join(model_name, \"digits_over_latent.png\")\n",
    "    # display a 30x30 2D manifold of digits\n",
    "    n = 30\n",
    "    digit_size = 28\n",
    "    figure = np.zeros((digit_size * n, digit_size * n))\n",
    "    # linearly spaced coordinates corresponding to the 2D plot\n",
    "    # of digit classes in the latent space\n",
    "    grid_x = np.linspace(-4, 4, n)\n",
    "    grid_y = np.linspace(-4, 4, n)[::-1]\n",
    "\n",
    "    for i, yi in enumerate(grid_y):\n",
    "        for j, xi in enumerate(grid_x):\n",
    "            z_sample = np.array([[xi, yi]])\n",
    "            x_decoded = decoder.predict(z_sample)\n",
    "            digit = x_decoded[0].reshape(digit_size, digit_size)\n",
    "            figure[i * digit_size: (i + 1) * digit_size,\n",
    "                   j * digit_size: (j + 1) * digit_size] = digit\n",
    "\n",
    "    plt.figure(figsize=(10, 10))\n",
    "    start_range = digit_size // 2\n",
    "    end_range = n * digit_size + start_range + 1\n",
    "    pixel_range = np.arange(start_range, end_range, digit_size)\n",
    "    sample_range_x = np.round(grid_x, 1)\n",
    "    sample_range_y = np.round(grid_y, 1)\n",
    "    plt.xticks(pixel_range, sample_range_x)\n",
    "    plt.yticks(pixel_range, sample_range_y)\n",
    "    plt.xlabel(\"z[0]\")\n",
    "    plt.ylabel(\"z[1]\")\n",
    "    plt.imshow(figure, cmap='Greys_r')\n",
    "    plt.savefig(filename)\n",
    "    plt.show()\n",
    "\n",
    "\n",
    "# MNIST dataset\n",
    "(x_train, y_train), (x_test, y_test) = mnist.load_data()\n",
    "\n",
    "image_size = x_train.shape[1]\n",
    "original_dim = image_size * image_size\n",
    "x_train = np.reshape(x_train, [-1, original_dim])\n",
    "x_test = np.reshape(x_test, [-1, original_dim])\n",
    "x_train = x_train.astype('float32') / 255\n",
    "x_test = x_test.astype('float32') / 255\n",
    "\n",
    "# network parameters\n",
    "input_shape = (original_dim, )\n",
    "intermediate_dim = 512\n",
    "batch_size = 128\n",
    "latent_dim = 2\n",
    "epochs = 50\n",
    "\n",
    "# VAE model = encoder + decoder\n",
    "# build encoder model\n",
    "inputs = Input(shape=input_shape, name='encoder_input')\n",
    "x = Dense(intermediate_dim, activation='relu')(inputs)\n",
    "z_mean = Dense(latent_dim, name='z_mean')(x)\n",
    "z_log_var = Dense(latent_dim, name='z_log_var')(x)\n",
    "\n",
    "# use reparameterization trick to push the sampling out as input\n",
    "# note that \"output_shape\" isn't necessary with the TensorFlow backend\n",
    "z = Lambda(sampling, output_shape=(latent_dim,), name='z')([z_mean, z_log_var])\n",
    "\n",
    "# instantiate encoder model\n",
    "encoder = Model(inputs, [z_mean, z_log_var, z], name='encoder')\n",
    "encoder.summary()\n",
    "plot_model(encoder, to_file='vae_mlp_encoder.png', show_shapes=True)\n",
    "\n",
    "# build decoder model\n",
    "latent_inputs = Input(shape=(latent_dim,), name='z_sampling')\n",
    "x = Dense(intermediate_dim, activation='relu')(latent_inputs)\n",
    "outputs = Dense(original_dim, activation='sigmoid')(x)\n",
    "\n",
    "# instantiate decoder model\n",
    "decoder = Model(latent_inputs, outputs, name='decoder')\n",
    "decoder.summary()\n",
    "plot_model(decoder, to_file='vae_mlp_decoder.png', show_shapes=True)\n",
    "\n",
    "# instantiate VAE model\n",
    "outputs = decoder(encoder(inputs)[2])\n",
    "vae = Model(inputs, outputs, name='vae_mlp')\n",
    "\n",
    "if __name__ == '__main__':\n",
    "    parser = argparse.ArgumentParser()\n",
    "    help_ = \"Load h5 model trained weights\"\n",
    "    parser.add_argument(\"-w\", \"--weights\", help=help_)\n",
    "    help_ = \"Use mse loss instead of binary cross entropy (default)\"\n",
    "    parser.add_argument(\"-m\",\n",
    "                        \"--mse\",\n",
    "                        help=help_, action='store_true')\n",
    "    args = parser.parse_args()\n",
    "    models = (encoder, decoder)\n",
    "    data = (x_test, y_test)\n",
    "\n",
    "    # VAE loss = mse_loss or xent_loss + kl_loss\n",
    "    if args.mse:\n",
    "        reconstruction_loss = mse(inputs, outputs)\n",
    "    else:\n",
    "        reconstruction_loss = binary_crossentropy(inputs,\n",
    "                                                  outputs)\n",
    "\n",
    "    reconstruction_loss *= original_dim\n",
    "    kl_loss = 1 + z_log_var - K.square(z_mean) - K.exp(z_log_var)\n",
    "    kl_loss = K.sum(kl_loss, axis=-1)\n",
    "    kl_loss *= -0.5\n",
    "    vae_loss = K.mean(reconstruction_loss + kl_loss)\n",
    "    vae.add_loss(vae_loss)\n",
    "    vae.compile(optimizer='adam')\n",
    "    vae.summary()\n",
    "    plot_model(vae,\n",
    "               to_file='vae_mlp.png',\n",
    "               show_shapes=True)\n",
    "\n",
    "    if args.weights:\n",
    "        vae.load_weights(args.weights)\n",
    "    else:\n",
    "        # train the autoencoder\n",
    "        vae.fit(x_train,\n",
    "                epochs=epochs,\n",
    "                batch_size=batch_size,\n",
    "                validation_data=(x_test, None))\n",
    "        vae.save_weights('vae_mlp_mnist.h5')\n",
    "\n",
    "    plot_results(models,\n",
    "                 data,\n",
    "                 batch_size=batch_size,\n",
    "                 model_name=\"vae_mlp\")"
   ]
  },
  {
   "cell_type": "code",
   "execution_count": null,
   "metadata": {},
   "outputs": [],
   "source": []
  },
  {
   "cell_type": "code",
   "execution_count": null,
   "metadata": {},
   "outputs": [],
   "source": []
  }
 ],
 "metadata": {
  "kernelspec": {
   "display_name": "Python 3",
   "language": "python",
   "name": "python3"
  },
  "language_info": {
   "codemirror_mode": {
    "name": "ipython",
    "version": 3
   },
   "file_extension": ".py",
   "mimetype": "text/x-python",
   "name": "python",
   "nbconvert_exporter": "python",
   "pygments_lexer": "ipython3",
   "version": "3.6.5"
  }
 },
 "nbformat": 4,
 "nbformat_minor": 2
}
