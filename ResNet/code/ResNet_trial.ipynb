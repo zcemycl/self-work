{
 "cells": [
  {
   "cell_type": "code",
   "execution_count": 1,
   "metadata": {},
   "outputs": [],
   "source": [
    "import numpy as np \n",
    "import pandas as pd\n",
    "import matplotlib.pyplot as plt\n",
    "import cv2\n",
    "import os\n",
    "import random\n",
    "from random import shuffle\n",
    "from IPython.display import Image, display\n",
    "from tqdm import tqdm\n",
    "from tensorflow.python import keras"
   ]
  },
  {
   "cell_type": "code",
   "execution_count": 2,
   "metadata": {},
   "outputs": [
    {
     "name": "stdout",
     "output_type": "stream",
     "text": [
      "['test', 'train', 'val', 'wnids.txt', 'words.txt']\n"
     ]
    }
   ],
   "source": [
    "DIR = 'C:/Users/Leo/Desktop/Cambridge/Probably_right_notes/Computer_Vision/mini-project/tiny-imagenet-200/tiny-imagenet-200'\n",
    "file = os.listdir(DIR)\n",
    "print(file)\n",
    "\n",
    "img_rows, img_cols = 64,64\n",
    "num_classes = 200\n"
   ]
  },
  {
   "cell_type": "code",
   "execution_count": 3,
   "metadata": {},
   "outputs": [],
   "source": [
    "train_x = np.load('train_x.npy')\n",
    "train_y = np.load('train_y.npy')"
   ]
  },
  {
   "cell_type": "code",
   "execution_count": 4,
   "metadata": {},
   "outputs": [
    {
     "name": "stderr",
     "output_type": "stream",
     "text": [
      "Using TensorFlow backend.\n"
     ]
    }
   ],
   "source": [
    "from keras.layers import Input\n",
    "from keras import layers\n",
    "from keras.layers import Dense\n",
    "from keras.layers import Activation\n",
    "from keras.layers import Flatten\n",
    "from keras.layers import Conv2D\n",
    "from keras.layers import MaxPooling2D\n",
    "from keras.layers import GlobalMaxPooling2D\n",
    "from keras.layers import ZeroPadding2D\n",
    "from keras.layers import AveragePooling2D\n",
    "from keras.layers import GlobalAveragePooling2D\n",
    "from keras.layers import BatchNormalization\n",
    "from keras.models import Model\n",
    "from keras.preprocessing import image\n",
    "import keras.backend as K\n",
    "from keras.utils import layer_utils\n",
    "from keras.utils.data_utils import get_file\n",
    "from keras.applications.imagenet_utils import decode_predictions\n",
    "from keras.applications.imagenet_utils import preprocess_input\n",
    "#from keras.applications.imagenet_utils import obtain_input_shape\n",
    "from keras.engine.topology import get_source_inputs"
   ]
  },
  {
   "cell_type": "code",
   "execution_count": 5,
   "metadata": {},
   "outputs": [],
   "source": [
    "from keras.layers import merge\n",
    "from keras.layers.convolutional import Convolution2D, MaxPooling2D,ZeroPadding2D,AveragePooling2D\n",
    "from keras.layers.core import Dense, Activation,Flatten\n",
    "from keras.layers.normalization import BatchNormalization\n",
    "from keras.models import Model\n",
    "from keras.layers import Input"
   ]
  },
  {
   "cell_type": "code",
   "execution_count": 6,
   "metadata": {},
   "outputs": [],
   "source": [
    "from keras.layers.advanced_activations import LeakyReLU"
   ]
  },
  {
   "cell_type": "code",
   "execution_count": 7,
   "metadata": {},
   "outputs": [],
   "source": [
    "from keras.layers import concatenate"
   ]
  },
  {
   "cell_type": "code",
   "execution_count": 8,
   "metadata": {},
   "outputs": [],
   "source": [
    "from keras.layers import Dropout"
   ]
  },
  {
   "cell_type": "code",
   "execution_count": 9,
   "metadata": {},
   "outputs": [],
   "source": [
    "from keras.models import Sequential, load_model\n",
    "from keras.layers import Dense, Dropout, Activation, Flatten, Input, Convolution2D, MaxPooling2D\n",
    "from keras.callbacks import Callback"
   ]
  },
  {
   "cell_type": "code",
   "execution_count": 11,
   "metadata": {
    "scrolled": true
   },
   "outputs": [
    {
     "name": "stderr",
     "output_type": "stream",
     "text": [
      "c:\\users\\leo\\appdata\\local\\programs\\python\\python36\\lib\\site-packages\\ipykernel_launcher.py:3: UserWarning: Update your `Conv2D` call to the Keras 2 API: `Conv2D(64, (3, 2), activation=\"linear\", input_shape=(64, 64, 3...)`\n",
      "  This is separate from the ipykernel package so we can avoid doing imports until\n",
      "c:\\users\\leo\\appdata\\local\\programs\\python\\python36\\lib\\site-packages\\ipykernel_launcher.py:5: UserWarning: Update your `Conv2D` call to the Keras 2 API: `Conv2D(64, (3, 2), activation=\"linear\")`\n",
      "  \"\"\"\n",
      "c:\\users\\leo\\appdata\\local\\programs\\python\\python36\\lib\\site-packages\\ipykernel_launcher.py:8: UserWarning: Update your `Conv2D` call to the Keras 2 API: `Conv2D(128, (3, 2), activation=\"linear\")`\n",
      "  \n",
      "c:\\users\\leo\\appdata\\local\\programs\\python\\python36\\lib\\site-packages\\ipykernel_launcher.py:10: UserWarning: Update your `Conv2D` call to the Keras 2 API: `Conv2D(128, (3, 2), activation=\"linear\")`\n",
      "  # Remove the CWD from sys.path while we load stuff.\n",
      "c:\\users\\leo\\appdata\\local\\programs\\python\\python36\\lib\\site-packages\\ipykernel_launcher.py:13: UserWarning: Update your `Conv2D` call to the Keras 2 API: `Conv2D(256, (3, 2), activation=\"linear\")`\n",
      "  del sys.path[0]\n",
      "c:\\users\\leo\\appdata\\local\\programs\\python\\python36\\lib\\site-packages\\ipykernel_launcher.py:15: UserWarning: Update your `Conv2D` call to the Keras 2 API: `Conv2D(256, (3, 2), activation=\"linear\")`\n",
      "  from ipykernel import kernelapp as app\n"
     ]
    },
    {
     "name": "stdout",
     "output_type": "stream",
     "text": [
      "Train on 90250 samples, validate on 4750 samples\n",
      "Epoch 1/20\n",
      " - 258s - loss: 0.0303 - acc: 0.0197 - val_loss: 0.0294 - val_acc: 0.0486\n",
      "Epoch 2/20\n"
     ]
    },
    {
     "ename": "KeyboardInterrupt",
     "evalue": "",
     "output_type": "error",
     "traceback": [
      "\u001b[1;31m---------------------------------------------------------------------------\u001b[0m",
      "\u001b[1;31mKeyboardInterrupt\u001b[0m                         Traceback (most recent call last)",
      "\u001b[1;32m<ipython-input-11-8763659eec18>\u001b[0m in \u001b[0;36m<module>\u001b[1;34m()\u001b[0m\n\u001b[0;32m     25\u001b[0m \u001b[1;33m\u001b[0m\u001b[0m\n\u001b[0;32m     26\u001b[0m \u001b[0mmodel\u001b[0m\u001b[1;33m.\u001b[0m\u001b[0mcompile\u001b[0m\u001b[1;33m(\u001b[0m\u001b[0mloss\u001b[0m\u001b[1;33m=\u001b[0m\u001b[1;34m'poisson'\u001b[0m\u001b[1;33m,\u001b[0m\u001b[0moptimizer\u001b[0m\u001b[1;33m=\u001b[0m\u001b[1;34m'adam'\u001b[0m\u001b[1;33m,\u001b[0m\u001b[0mmetrics\u001b[0m\u001b[1;33m=\u001b[0m\u001b[1;33m[\u001b[0m\u001b[1;34m'accuracy'\u001b[0m\u001b[1;33m]\u001b[0m\u001b[1;33m)\u001b[0m\u001b[1;33m\u001b[0m\u001b[0m\n\u001b[1;32m---> 27\u001b[1;33m \u001b[0mmodel\u001b[0m\u001b[1;33m.\u001b[0m\u001b[0mfit\u001b[0m\u001b[1;33m(\u001b[0m\u001b[0mtrain_x\u001b[0m\u001b[1;33m[\u001b[0m\u001b[1;33m:\u001b[0m\u001b[1;36m95000\u001b[0m\u001b[1;33m]\u001b[0m\u001b[1;33m,\u001b[0m\u001b[0mtrain_y\u001b[0m\u001b[1;33m[\u001b[0m\u001b[1;33m:\u001b[0m\u001b[1;36m95000\u001b[0m\u001b[1;33m]\u001b[0m\u001b[1;33m,\u001b[0m\u001b[0mbatch_size\u001b[0m\u001b[1;33m=\u001b[0m\u001b[1;36m100\u001b[0m\u001b[1;33m,\u001b[0m\u001b[0mepochs\u001b[0m\u001b[1;33m=\u001b[0m\u001b[1;36m20\u001b[0m\u001b[1;33m,\u001b[0m\u001b[0mverbose\u001b[0m\u001b[1;33m=\u001b[0m\u001b[1;36m2\u001b[0m\u001b[1;33m,\u001b[0m\u001b[0mvalidation_split\u001b[0m\u001b[1;33m=\u001b[0m\u001b[1;36m0.05\u001b[0m\u001b[1;33m)\u001b[0m\u001b[1;33m\u001b[0m\u001b[0m\n\u001b[0m\u001b[0;32m     28\u001b[0m \u001b[0mtest_acc\u001b[0m\u001b[1;33m(\u001b[0m\u001b[0mmodel\u001b[0m\u001b[1;33m,\u001b[0m\u001b[0mtrain_x\u001b[0m\u001b[1;33m[\u001b[0m\u001b[1;36m95000\u001b[0m\u001b[1;33m:\u001b[0m\u001b[1;33m]\u001b[0m\u001b[1;33m,\u001b[0m\u001b[0mtrain_y\u001b[0m\u001b[1;33m[\u001b[0m\u001b[1;36m95000\u001b[0m\u001b[1;33m:\u001b[0m\u001b[1;33m]\u001b[0m\u001b[1;33m)\u001b[0m\u001b[1;33m\u001b[0m\u001b[0m\n",
      "\u001b[1;32mc:\\users\\leo\\appdata\\local\\programs\\python\\python36\\lib\\site-packages\\keras\\engine\\training.py\u001b[0m in \u001b[0;36mfit\u001b[1;34m(self, x, y, batch_size, epochs, verbose, callbacks, validation_split, validation_data, shuffle, class_weight, sample_weight, initial_epoch, steps_per_epoch, validation_steps, **kwargs)\u001b[0m\n\u001b[0;32m   1035\u001b[0m                                         \u001b[0minitial_epoch\u001b[0m\u001b[1;33m=\u001b[0m\u001b[0minitial_epoch\u001b[0m\u001b[1;33m,\u001b[0m\u001b[1;33m\u001b[0m\u001b[0m\n\u001b[0;32m   1036\u001b[0m                                         \u001b[0msteps_per_epoch\u001b[0m\u001b[1;33m=\u001b[0m\u001b[0msteps_per_epoch\u001b[0m\u001b[1;33m,\u001b[0m\u001b[1;33m\u001b[0m\u001b[0m\n\u001b[1;32m-> 1037\u001b[1;33m                                         validation_steps=validation_steps)\n\u001b[0m\u001b[0;32m   1038\u001b[0m \u001b[1;33m\u001b[0m\u001b[0m\n\u001b[0;32m   1039\u001b[0m     def evaluate(self, x=None, y=None,\n",
      "\u001b[1;32mc:\\users\\leo\\appdata\\local\\programs\\python\\python36\\lib\\site-packages\\keras\\engine\\training_arrays.py\u001b[0m in \u001b[0;36mfit_loop\u001b[1;34m(model, f, ins, out_labels, batch_size, epochs, verbose, callbacks, val_f, val_ins, shuffle, callback_metrics, initial_epoch, steps_per_epoch, validation_steps)\u001b[0m\n\u001b[0;32m    197\u001b[0m                     \u001b[0mins_batch\u001b[0m\u001b[1;33m[\u001b[0m\u001b[0mi\u001b[0m\u001b[1;33m]\u001b[0m \u001b[1;33m=\u001b[0m \u001b[0mins_batch\u001b[0m\u001b[1;33m[\u001b[0m\u001b[0mi\u001b[0m\u001b[1;33m]\u001b[0m\u001b[1;33m.\u001b[0m\u001b[0mtoarray\u001b[0m\u001b[1;33m(\u001b[0m\u001b[1;33m)\u001b[0m\u001b[1;33m\u001b[0m\u001b[0m\n\u001b[0;32m    198\u001b[0m \u001b[1;33m\u001b[0m\u001b[0m\n\u001b[1;32m--> 199\u001b[1;33m                 \u001b[0mouts\u001b[0m \u001b[1;33m=\u001b[0m \u001b[0mf\u001b[0m\u001b[1;33m(\u001b[0m\u001b[0mins_batch\u001b[0m\u001b[1;33m)\u001b[0m\u001b[1;33m\u001b[0m\u001b[0m\n\u001b[0m\u001b[0;32m    200\u001b[0m                 \u001b[0mouts\u001b[0m \u001b[1;33m=\u001b[0m \u001b[0mto_list\u001b[0m\u001b[1;33m(\u001b[0m\u001b[0mouts\u001b[0m\u001b[1;33m)\u001b[0m\u001b[1;33m\u001b[0m\u001b[0m\n\u001b[0;32m    201\u001b[0m                 \u001b[1;32mfor\u001b[0m \u001b[0ml\u001b[0m\u001b[1;33m,\u001b[0m \u001b[0mo\u001b[0m \u001b[1;32min\u001b[0m \u001b[0mzip\u001b[0m\u001b[1;33m(\u001b[0m\u001b[0mout_labels\u001b[0m\u001b[1;33m,\u001b[0m \u001b[0mouts\u001b[0m\u001b[1;33m)\u001b[0m\u001b[1;33m:\u001b[0m\u001b[1;33m\u001b[0m\u001b[0m\n",
      "\u001b[1;32mc:\\users\\leo\\appdata\\local\\programs\\python\\python36\\lib\\site-packages\\keras\\backend\\tensorflow_backend.py\u001b[0m in \u001b[0;36m__call__\u001b[1;34m(self, inputs)\u001b[0m\n\u001b[0;32m   2664\u001b[0m                 \u001b[1;32mreturn\u001b[0m \u001b[0mself\u001b[0m\u001b[1;33m.\u001b[0m\u001b[0m_legacy_call\u001b[0m\u001b[1;33m(\u001b[0m\u001b[0minputs\u001b[0m\u001b[1;33m)\u001b[0m\u001b[1;33m\u001b[0m\u001b[0m\n\u001b[0;32m   2665\u001b[0m \u001b[1;33m\u001b[0m\u001b[0m\n\u001b[1;32m-> 2666\u001b[1;33m             \u001b[1;32mreturn\u001b[0m \u001b[0mself\u001b[0m\u001b[1;33m.\u001b[0m\u001b[0m_call\u001b[0m\u001b[1;33m(\u001b[0m\u001b[0minputs\u001b[0m\u001b[1;33m)\u001b[0m\u001b[1;33m\u001b[0m\u001b[0m\n\u001b[0m\u001b[0;32m   2667\u001b[0m         \u001b[1;32melse\u001b[0m\u001b[1;33m:\u001b[0m\u001b[1;33m\u001b[0m\u001b[0m\n\u001b[0;32m   2668\u001b[0m             \u001b[1;32mif\u001b[0m \u001b[0mpy_any\u001b[0m\u001b[1;33m(\u001b[0m\u001b[0mis_tensor\u001b[0m\u001b[1;33m(\u001b[0m\u001b[0mx\u001b[0m\u001b[1;33m)\u001b[0m \u001b[1;32mfor\u001b[0m \u001b[0mx\u001b[0m \u001b[1;32min\u001b[0m \u001b[0minputs\u001b[0m\u001b[1;33m)\u001b[0m\u001b[1;33m:\u001b[0m\u001b[1;33m\u001b[0m\u001b[0m\n",
      "\u001b[1;32mc:\\users\\leo\\appdata\\local\\programs\\python\\python36\\lib\\site-packages\\keras\\backend\\tensorflow_backend.py\u001b[0m in \u001b[0;36m_call\u001b[1;34m(self, inputs)\u001b[0m\n\u001b[0;32m   2634\u001b[0m                                 \u001b[0msymbol_vals\u001b[0m\u001b[1;33m,\u001b[0m\u001b[1;33m\u001b[0m\u001b[0m\n\u001b[0;32m   2635\u001b[0m                                 session)\n\u001b[1;32m-> 2636\u001b[1;33m         \u001b[0mfetched\u001b[0m \u001b[1;33m=\u001b[0m \u001b[0mself\u001b[0m\u001b[1;33m.\u001b[0m\u001b[0m_callable_fn\u001b[0m\u001b[1;33m(\u001b[0m\u001b[1;33m*\u001b[0m\u001b[0marray_vals\u001b[0m\u001b[1;33m)\u001b[0m\u001b[1;33m\u001b[0m\u001b[0m\n\u001b[0m\u001b[0;32m   2637\u001b[0m         \u001b[1;32mreturn\u001b[0m \u001b[0mfetched\u001b[0m\u001b[1;33m[\u001b[0m\u001b[1;33m:\u001b[0m\u001b[0mlen\u001b[0m\u001b[1;33m(\u001b[0m\u001b[0mself\u001b[0m\u001b[1;33m.\u001b[0m\u001b[0moutputs\u001b[0m\u001b[1;33m)\u001b[0m\u001b[1;33m]\u001b[0m\u001b[1;33m\u001b[0m\u001b[0m\n\u001b[0;32m   2638\u001b[0m \u001b[1;33m\u001b[0m\u001b[0m\n",
      "\u001b[1;32mc:\\users\\leo\\appdata\\local\\programs\\python\\python36\\lib\\site-packages\\tensorflow\\python\\client\\session.py\u001b[0m in \u001b[0;36m__call__\u001b[1;34m(self, *args, **kwargs)\u001b[0m\n\u001b[0;32m   1380\u001b[0m           ret = tf_session.TF_SessionRunCallable(\n\u001b[0;32m   1381\u001b[0m               \u001b[0mself\u001b[0m\u001b[1;33m.\u001b[0m\u001b[0m_session\u001b[0m\u001b[1;33m.\u001b[0m\u001b[0m_session\u001b[0m\u001b[1;33m,\u001b[0m \u001b[0mself\u001b[0m\u001b[1;33m.\u001b[0m\u001b[0m_handle\u001b[0m\u001b[1;33m,\u001b[0m \u001b[0margs\u001b[0m\u001b[1;33m,\u001b[0m \u001b[0mstatus\u001b[0m\u001b[1;33m,\u001b[0m\u001b[1;33m\u001b[0m\u001b[0m\n\u001b[1;32m-> 1382\u001b[1;33m               run_metadata_ptr)\n\u001b[0m\u001b[0;32m   1383\u001b[0m         \u001b[1;32mif\u001b[0m \u001b[0mrun_metadata\u001b[0m\u001b[1;33m:\u001b[0m\u001b[1;33m\u001b[0m\u001b[0m\n\u001b[0;32m   1384\u001b[0m           \u001b[0mproto_data\u001b[0m \u001b[1;33m=\u001b[0m \u001b[0mtf_session\u001b[0m\u001b[1;33m.\u001b[0m\u001b[0mTF_GetBuffer\u001b[0m\u001b[1;33m(\u001b[0m\u001b[0mrun_metadata_ptr\u001b[0m\u001b[1;33m)\u001b[0m\u001b[1;33m\u001b[0m\u001b[0m\n",
      "\u001b[1;31mKeyboardInterrupt\u001b[0m: "
     ]
    }
   ],
   "source": [
    "model = Sequential()\n",
    "\n",
    "model.add(Convolution2D(64,3,2,activation='linear',input_shape=(img_rows,img_cols,3)))\n",
    "model.add(LeakyReLU(alpha=0.01))\n",
    "model.add(Convolution2D(64,3,2,activation='linear'))\n",
    "model.add(LeakyReLU(alpha=0.01))\n",
    "model.add(MaxPooling2D(pool_size=(2,2)))\n",
    "model.add(Convolution2D(128,3,2,activation='linear'))\n",
    "model.add(LeakyReLU(alpha=0.01))\n",
    "model.add(Convolution2D(128,3,2,activation='linear'))\n",
    "model.add(LeakyReLU(alpha=0.01))\n",
    "model.add(MaxPooling2D(pool_size=(2,2)))\n",
    "model.add(Convolution2D(256,3,2,activation='linear'))\n",
    "model.add(LeakyReLU(alpha=0.01))\n",
    "model.add(Convolution2D(256,3,2,activation='linear'))\n",
    "model.add(LeakyReLU(alpha=0.01))\n",
    "model.add(Dropout(0.5))\n",
    "model.add(MaxPooling2D(pool_size=(4,4)))\n",
    "model.add(Flatten())\n",
    "\n",
    "model.add(Dense(512,activation='linear'))\n",
    "model.add(LeakyReLU(alpha=0.01))\n",
    "model.add(Dropout(0.5))\n",
    "model.add(Dense(num_classes,activation='softmax'))\n",
    "\n",
    "model.compile(loss='poisson',optimizer='adam',metrics=['accuracy'])\n",
    "model.fit(train_x[:95000],train_y[:95000],batch_size=100,epochs=20,verbose=2,validation_split=0.05)\n",
    "test_acc(model,train_x[95000:],train_y[95000:])"
   ]
  },
  {
   "cell_type": "code",
   "execution_count": 18,
   "metadata": {},
   "outputs": [],
   "source": [
    "def norm_model():\n",
    "    \n",
    "    inp = Input(shape=(img_rows,img_cols,3))\n",
    "    out = Convolution2D(32,3,3)(inp)\n",
    "    out = BatchNormalization(axis=1)(out) # same function as dropout\n",
    "    #out = Activation('relu')(out)\n",
    "    out = LeakyReLU(alpha=0.01)(out)\n",
    "    out = MaxPooling2D((2,2))(out)\n",
    "    \n",
    "    out = Flatten()(out)\n",
    "    out = Dense(200, activation='softmax')(out)\n",
    "    \n",
    "    model = Model(inp,out)\n",
    "    \n",
    "    return model"
   ]
  },
  {
   "cell_type": "code",
   "execution_count": 19,
   "metadata": {
    "scrolled": true
   },
   "outputs": [
    {
     "name": "stderr",
     "output_type": "stream",
     "text": [
      "c:\\users\\leo\\appdata\\local\\programs\\python\\python36\\lib\\site-packages\\ipykernel_launcher.py:4: UserWarning: Update your `Conv2D` call to the Keras 2 API: `Conv2D(32, (3, 3))`\n",
      "  after removing the cwd from sys.path.\n"
     ]
    },
    {
     "name": "stdout",
     "output_type": "stream",
     "text": [
      "Train on 90250 samples, validate on 4750 samples\n",
      "Epoch 1/20\n",
      " - 77s - loss: 0.0358 - acc: 0.0789 - val_loss: 0.0262 - val_acc: 0.1404\n",
      "Epoch 2/20\n",
      " - 59s - loss: 0.0237 - acc: 0.2192 - val_loss: 0.0257 - val_acc: 0.1608\n",
      "Epoch 3/20\n",
      " - 58s - loss: 0.0179 - acc: 0.4230 - val_loss: 0.0282 - val_acc: 0.1512\n",
      "Epoch 4/20\n"
     ]
    },
    {
     "ename": "KeyboardInterrupt",
     "evalue": "",
     "output_type": "error",
     "traceback": [
      "\u001b[1;31m---------------------------------------------------------------------------\u001b[0m",
      "\u001b[1;31mKeyboardInterrupt\u001b[0m                         Traceback (most recent call last)",
      "\u001b[1;32m<ipython-input-19-666a8b136581>\u001b[0m in \u001b[0;36m<module>\u001b[1;34m()\u001b[0m\n\u001b[0;32m      1\u001b[0m \u001b[0mmodel\u001b[0m \u001b[1;33m=\u001b[0m \u001b[0mnorm_model\u001b[0m\u001b[1;33m(\u001b[0m\u001b[1;33m)\u001b[0m\u001b[1;33m\u001b[0m\u001b[0m\n\u001b[0;32m      2\u001b[0m \u001b[0mmodel\u001b[0m\u001b[1;33m.\u001b[0m\u001b[0mcompile\u001b[0m\u001b[1;33m(\u001b[0m\u001b[0mloss\u001b[0m\u001b[1;33m=\u001b[0m\u001b[1;34m'poisson'\u001b[0m\u001b[1;33m,\u001b[0m\u001b[0moptimizer\u001b[0m\u001b[1;33m=\u001b[0m\u001b[1;34m'adam'\u001b[0m\u001b[1;33m,\u001b[0m\u001b[0mmetrics\u001b[0m\u001b[1;33m=\u001b[0m\u001b[1;33m[\u001b[0m\u001b[1;34m'accuracy'\u001b[0m\u001b[1;33m]\u001b[0m\u001b[1;33m)\u001b[0m\u001b[1;33m\u001b[0m\u001b[0m\n\u001b[1;32m----> 3\u001b[1;33m \u001b[0mmodel\u001b[0m\u001b[1;33m.\u001b[0m\u001b[0mfit\u001b[0m\u001b[1;33m(\u001b[0m\u001b[0mtrain_x\u001b[0m\u001b[1;33m[\u001b[0m\u001b[1;33m:\u001b[0m\u001b[1;36m95000\u001b[0m\u001b[1;33m]\u001b[0m\u001b[1;33m,\u001b[0m\u001b[0mtrain_y\u001b[0m\u001b[1;33m[\u001b[0m\u001b[1;33m:\u001b[0m\u001b[1;36m95000\u001b[0m\u001b[1;33m]\u001b[0m\u001b[1;33m,\u001b[0m\u001b[0mbatch_size\u001b[0m\u001b[1;33m=\u001b[0m\u001b[1;36m100\u001b[0m\u001b[1;33m,\u001b[0m\u001b[0mepochs\u001b[0m\u001b[1;33m=\u001b[0m\u001b[1;36m20\u001b[0m\u001b[1;33m,\u001b[0m\u001b[0mverbose\u001b[0m\u001b[1;33m=\u001b[0m\u001b[1;36m2\u001b[0m\u001b[1;33m,\u001b[0m\u001b[0mvalidation_split\u001b[0m\u001b[1;33m=\u001b[0m\u001b[1;36m0.05\u001b[0m\u001b[1;33m)\u001b[0m\u001b[1;33m\u001b[0m\u001b[0m\n\u001b[0m",
      "\u001b[1;32mc:\\users\\leo\\appdata\\local\\programs\\python\\python36\\lib\\site-packages\\keras\\engine\\training.py\u001b[0m in \u001b[0;36mfit\u001b[1;34m(self, x, y, batch_size, epochs, verbose, callbacks, validation_split, validation_data, shuffle, class_weight, sample_weight, initial_epoch, steps_per_epoch, validation_steps, **kwargs)\u001b[0m\n\u001b[0;32m   1035\u001b[0m                                         \u001b[0minitial_epoch\u001b[0m\u001b[1;33m=\u001b[0m\u001b[0minitial_epoch\u001b[0m\u001b[1;33m,\u001b[0m\u001b[1;33m\u001b[0m\u001b[0m\n\u001b[0;32m   1036\u001b[0m                                         \u001b[0msteps_per_epoch\u001b[0m\u001b[1;33m=\u001b[0m\u001b[0msteps_per_epoch\u001b[0m\u001b[1;33m,\u001b[0m\u001b[1;33m\u001b[0m\u001b[0m\n\u001b[1;32m-> 1037\u001b[1;33m                                         validation_steps=validation_steps)\n\u001b[0m\u001b[0;32m   1038\u001b[0m \u001b[1;33m\u001b[0m\u001b[0m\n\u001b[0;32m   1039\u001b[0m     def evaluate(self, x=None, y=None,\n",
      "\u001b[1;32mc:\\users\\leo\\appdata\\local\\programs\\python\\python36\\lib\\site-packages\\keras\\engine\\training_arrays.py\u001b[0m in \u001b[0;36mfit_loop\u001b[1;34m(model, f, ins, out_labels, batch_size, epochs, verbose, callbacks, val_f, val_ins, shuffle, callback_metrics, initial_epoch, steps_per_epoch, validation_steps)\u001b[0m\n\u001b[0;32m    197\u001b[0m                     \u001b[0mins_batch\u001b[0m\u001b[1;33m[\u001b[0m\u001b[0mi\u001b[0m\u001b[1;33m]\u001b[0m \u001b[1;33m=\u001b[0m \u001b[0mins_batch\u001b[0m\u001b[1;33m[\u001b[0m\u001b[0mi\u001b[0m\u001b[1;33m]\u001b[0m\u001b[1;33m.\u001b[0m\u001b[0mtoarray\u001b[0m\u001b[1;33m(\u001b[0m\u001b[1;33m)\u001b[0m\u001b[1;33m\u001b[0m\u001b[0m\n\u001b[0;32m    198\u001b[0m \u001b[1;33m\u001b[0m\u001b[0m\n\u001b[1;32m--> 199\u001b[1;33m                 \u001b[0mouts\u001b[0m \u001b[1;33m=\u001b[0m \u001b[0mf\u001b[0m\u001b[1;33m(\u001b[0m\u001b[0mins_batch\u001b[0m\u001b[1;33m)\u001b[0m\u001b[1;33m\u001b[0m\u001b[0m\n\u001b[0m\u001b[0;32m    200\u001b[0m                 \u001b[0mouts\u001b[0m \u001b[1;33m=\u001b[0m \u001b[0mto_list\u001b[0m\u001b[1;33m(\u001b[0m\u001b[0mouts\u001b[0m\u001b[1;33m)\u001b[0m\u001b[1;33m\u001b[0m\u001b[0m\n\u001b[0;32m    201\u001b[0m                 \u001b[1;32mfor\u001b[0m \u001b[0ml\u001b[0m\u001b[1;33m,\u001b[0m \u001b[0mo\u001b[0m \u001b[1;32min\u001b[0m \u001b[0mzip\u001b[0m\u001b[1;33m(\u001b[0m\u001b[0mout_labels\u001b[0m\u001b[1;33m,\u001b[0m \u001b[0mouts\u001b[0m\u001b[1;33m)\u001b[0m\u001b[1;33m:\u001b[0m\u001b[1;33m\u001b[0m\u001b[0m\n",
      "\u001b[1;32mc:\\users\\leo\\appdata\\local\\programs\\python\\python36\\lib\\site-packages\\keras\\backend\\tensorflow_backend.py\u001b[0m in \u001b[0;36m__call__\u001b[1;34m(self, inputs)\u001b[0m\n\u001b[0;32m   2664\u001b[0m                 \u001b[1;32mreturn\u001b[0m \u001b[0mself\u001b[0m\u001b[1;33m.\u001b[0m\u001b[0m_legacy_call\u001b[0m\u001b[1;33m(\u001b[0m\u001b[0minputs\u001b[0m\u001b[1;33m)\u001b[0m\u001b[1;33m\u001b[0m\u001b[0m\n\u001b[0;32m   2665\u001b[0m \u001b[1;33m\u001b[0m\u001b[0m\n\u001b[1;32m-> 2666\u001b[1;33m             \u001b[1;32mreturn\u001b[0m \u001b[0mself\u001b[0m\u001b[1;33m.\u001b[0m\u001b[0m_call\u001b[0m\u001b[1;33m(\u001b[0m\u001b[0minputs\u001b[0m\u001b[1;33m)\u001b[0m\u001b[1;33m\u001b[0m\u001b[0m\n\u001b[0m\u001b[0;32m   2667\u001b[0m         \u001b[1;32melse\u001b[0m\u001b[1;33m:\u001b[0m\u001b[1;33m\u001b[0m\u001b[0m\n\u001b[0;32m   2668\u001b[0m             \u001b[1;32mif\u001b[0m \u001b[0mpy_any\u001b[0m\u001b[1;33m(\u001b[0m\u001b[0mis_tensor\u001b[0m\u001b[1;33m(\u001b[0m\u001b[0mx\u001b[0m\u001b[1;33m)\u001b[0m \u001b[1;32mfor\u001b[0m \u001b[0mx\u001b[0m \u001b[1;32min\u001b[0m \u001b[0minputs\u001b[0m\u001b[1;33m)\u001b[0m\u001b[1;33m:\u001b[0m\u001b[1;33m\u001b[0m\u001b[0m\n",
      "\u001b[1;32mc:\\users\\leo\\appdata\\local\\programs\\python\\python36\\lib\\site-packages\\keras\\backend\\tensorflow_backend.py\u001b[0m in \u001b[0;36m_call\u001b[1;34m(self, inputs)\u001b[0m\n\u001b[0;32m   2634\u001b[0m                                 \u001b[0msymbol_vals\u001b[0m\u001b[1;33m,\u001b[0m\u001b[1;33m\u001b[0m\u001b[0m\n\u001b[0;32m   2635\u001b[0m                                 session)\n\u001b[1;32m-> 2636\u001b[1;33m         \u001b[0mfetched\u001b[0m \u001b[1;33m=\u001b[0m \u001b[0mself\u001b[0m\u001b[1;33m.\u001b[0m\u001b[0m_callable_fn\u001b[0m\u001b[1;33m(\u001b[0m\u001b[1;33m*\u001b[0m\u001b[0marray_vals\u001b[0m\u001b[1;33m)\u001b[0m\u001b[1;33m\u001b[0m\u001b[0m\n\u001b[0m\u001b[0;32m   2637\u001b[0m         \u001b[1;32mreturn\u001b[0m \u001b[0mfetched\u001b[0m\u001b[1;33m[\u001b[0m\u001b[1;33m:\u001b[0m\u001b[0mlen\u001b[0m\u001b[1;33m(\u001b[0m\u001b[0mself\u001b[0m\u001b[1;33m.\u001b[0m\u001b[0moutputs\u001b[0m\u001b[1;33m)\u001b[0m\u001b[1;33m]\u001b[0m\u001b[1;33m\u001b[0m\u001b[0m\n\u001b[0;32m   2638\u001b[0m \u001b[1;33m\u001b[0m\u001b[0m\n",
      "\u001b[1;32mc:\\users\\leo\\appdata\\local\\programs\\python\\python36\\lib\\site-packages\\tensorflow\\python\\client\\session.py\u001b[0m in \u001b[0;36m__call__\u001b[1;34m(self, *args, **kwargs)\u001b[0m\n\u001b[0;32m   1380\u001b[0m           ret = tf_session.TF_SessionRunCallable(\n\u001b[0;32m   1381\u001b[0m               \u001b[0mself\u001b[0m\u001b[1;33m.\u001b[0m\u001b[0m_session\u001b[0m\u001b[1;33m.\u001b[0m\u001b[0m_session\u001b[0m\u001b[1;33m,\u001b[0m \u001b[0mself\u001b[0m\u001b[1;33m.\u001b[0m\u001b[0m_handle\u001b[0m\u001b[1;33m,\u001b[0m \u001b[0margs\u001b[0m\u001b[1;33m,\u001b[0m \u001b[0mstatus\u001b[0m\u001b[1;33m,\u001b[0m\u001b[1;33m\u001b[0m\u001b[0m\n\u001b[1;32m-> 1382\u001b[1;33m               run_metadata_ptr)\n\u001b[0m\u001b[0;32m   1383\u001b[0m         \u001b[1;32mif\u001b[0m \u001b[0mrun_metadata\u001b[0m\u001b[1;33m:\u001b[0m\u001b[1;33m\u001b[0m\u001b[0m\n\u001b[0;32m   1384\u001b[0m           \u001b[0mproto_data\u001b[0m \u001b[1;33m=\u001b[0m \u001b[0mtf_session\u001b[0m\u001b[1;33m.\u001b[0m\u001b[0mTF_GetBuffer\u001b[0m\u001b[1;33m(\u001b[0m\u001b[0mrun_metadata_ptr\u001b[0m\u001b[1;33m)\u001b[0m\u001b[1;33m\u001b[0m\u001b[0m\n",
      "\u001b[1;31mKeyboardInterrupt\u001b[0m: "
     ]
    }
   ],
   "source": [
    "model = norm_model()\n",
    "model.compile(loss='poisson',optimizer='adam',metrics=['accuracy'])\n",
    "model.fit(train_x[:95000],train_y[:95000],batch_size=100,epochs=20,verbose=2,validation_split=0.05)"
   ]
  },
  {
   "cell_type": "code",
   "execution_count": 11,
   "metadata": {},
   "outputs": [],
   "source": [
    "def block1(x, nb_filter, kernel_size=3):\n",
    "    k1,k2,k3 = nb_filter\n",
    "    out = Convolution2D(k1,1,1)(x)\n",
    "    out = BatchNormalization()(out)\n",
    "    out = LeakyReLU(alpha=0.01)(out)\n",
    "    #out = Activation('relu')(out)\n",
    "    \n",
    "    out = Convolution2D(k2,kernel_size,kernel_size,border_mode='same')(out)\n",
    "    out = BatchNormalization()(out)\n",
    "    out = LeakyReLU(alpha=0.01)(out)\n",
    "    #out = Activation('relu')(out)\n",
    "    \n",
    "    out = Convolution2D(k3,1,1)(out)\n",
    "    out = BatchNormalization()(out)\n",
    "    \n",
    "    out = layers.add([out,x])\n",
    "    out = LeakyReLU(alpha=0.01)(out)\n",
    "    \n",
    "    return out"
   ]
  },
  {
   "cell_type": "code",
   "execution_count": 43,
   "metadata": {},
   "outputs": [],
   "source": [
    "def ResNet1():\n",
    "    \n",
    "    inp = Input(shape=(img_rows,img_cols,3))\n",
    "    out = ZeroPadding2D((3,3))(inp)\n",
    "    out = Convolution2D(64,7,7,subsample=(2,2))(inp)\n",
    "    out = BatchNormalization()(out) # same function as dropout\n",
    "    out = LeakyReLU(alpha=0.01)(out)\n",
    "    out = MaxPooling2D((3,3),strides=(2,2))(out)\n",
    "    \n",
    "    out = block1(out,[32,32,64])\n",
    "    \n",
    "    out = Flatten()(out)\n",
    "    out = Dense(200, activation='softmax')(out)\n",
    "    \n",
    "    model = Model(inp,out)\n",
    "    \n",
    "    return model"
   ]
  },
  {
   "cell_type": "code",
   "execution_count": 45,
   "metadata": {
    "scrolled": true
   },
   "outputs": [
    {
     "name": "stderr",
     "output_type": "stream",
     "text": [
      "c:\\users\\leo\\appdata\\local\\programs\\python\\python36\\lib\\site-packages\\ipykernel_launcher.py:5: UserWarning: Update your `Conv2D` call to the Keras 2 API: `Conv2D(64, (7, 7), strides=(2, 2))`\n",
      "  \"\"\"\n",
      "c:\\users\\leo\\appdata\\local\\programs\\python\\python36\\lib\\site-packages\\ipykernel_launcher.py:3: UserWarning: Update your `Conv2D` call to the Keras 2 API: `Conv2D(32, (1, 1))`\n",
      "  This is separate from the ipykernel package so we can avoid doing imports until\n",
      "c:\\users\\leo\\appdata\\local\\programs\\python\\python36\\lib\\site-packages\\ipykernel_launcher.py:8: UserWarning: Update your `Conv2D` call to the Keras 2 API: `Conv2D(32, (3, 3), padding=\"same\")`\n",
      "  \n",
      "c:\\users\\leo\\appdata\\local\\programs\\python\\python36\\lib\\site-packages\\ipykernel_launcher.py:13: UserWarning: Update your `Conv2D` call to the Keras 2 API: `Conv2D(64, (1, 1))`\n",
      "  del sys.path[0]\n"
     ]
    },
    {
     "name": "stdout",
     "output_type": "stream",
     "text": [
      "Train on 90250 samples, validate on 4750 samples\n",
      "Epoch 1/7\n",
      " - 53s - loss: 0.0400 - acc: 0.0580 - val_loss: 0.0265 - val_acc: 0.1128\n",
      "Epoch 2/7\n",
      " - 41s - loss: 0.0243 - acc: 0.1857 - val_loss: 0.0256 - val_acc: 0.1509\n",
      "Epoch 3/7\n",
      " - 41s - loss: 0.0207 - acc: 0.2994 - val_loss: 0.0255 - val_acc: 0.1722\n",
      "Epoch 4/7\n",
      " - 41s - loss: 0.0173 - acc: 0.4299 - val_loss: 0.0267 - val_acc: 0.1558\n",
      "Epoch 5/7\n",
      " - 41s - loss: 0.0138 - acc: 0.5725 - val_loss: 0.0270 - val_acc: 0.1672\n",
      "Epoch 6/7\n",
      " - 41s - loss: 0.0107 - acc: 0.7178 - val_loss: 0.0299 - val_acc: 0.1583\n",
      "Epoch 7/7\n",
      " - 41s - loss: 0.0083 - acc: 0.8288 - val_loss: 0.0334 - val_acc: 0.1583\n"
     ]
    },
    {
     "data": {
      "text/plain": [
       "<keras.callbacks.History at 0x27586d625c0>"
      ]
     },
     "execution_count": 45,
     "metadata": {},
     "output_type": "execute_result"
    }
   ],
   "source": [
    "model = ResNet1()\n",
    "model.compile(loss='poisson',optimizer='adam',metrics=['accuracy'])\n",
    "model.fit(train_x[:95000],train_y[:95000],batch_size=100,epochs=7,verbose=2,validation_split=0.05)"
   ]
  },
  {
   "cell_type": "code",
   "execution_count": 10,
   "metadata": {},
   "outputs": [],
   "source": [
    "def block2(x, nb_filter, kernel_size=3):\n",
    "    k1,k2,k3 = nb_filter\n",
    "    out = Convolution2D(k1,1,1)(x)\n",
    "    out = BatchNormalization()(out)\n",
    "    out = LeakyReLU(alpha=0.01)(out)\n",
    "    #out = Activation('relu')(out)\n",
    "    \n",
    "    out = Convolution2D(k2,kernel_size,kernel_size,border_mode='same')(out)\n",
    "    out = BatchNormalization()(out)\n",
    "    out = LeakyReLU(alpha=0.01)(out)\n",
    "    #out = Activation('relu')(out)\n",
    "    \n",
    "    out = Convolution2D(k3,1,1)(out)\n",
    "    out = BatchNormalization()(out)\n",
    "    \n",
    "        \n",
    "    x = Convolution2D(k3,1,1)(x)\n",
    "    x = BatchNormalization()(x)\n",
    "\n",
    "    out = layers.add([out,x])\n",
    "    out = LeakyReLU(alpha=0.01)(out)\n",
    "    #out = Activation('relu')(out)\n",
    "\n",
    "\n",
    "    \n",
    "    return out"
   ]
  },
  {
   "cell_type": "code",
   "execution_count": 58,
   "metadata": {},
   "outputs": [],
   "source": [
    "def ResNet2():\n",
    "    \n",
    "    inp = Input(shape=(img_rows,img_cols,3))\n",
    "    out = ZeroPadding2D((3,3))(inp)\n",
    "    out = Convolution2D(64,7,7,subsample=(2,2))(inp)\n",
    "    out = BatchNormalization()(out) # same function as dropout\n",
    "    out = LeakyReLU(alpha=0.01)(out)\n",
    "    out = MaxPooling2D((3,3),strides=(2,2))(out)\n",
    "    \n",
    "    out = block2(out,[32,32,64])\n",
    "    out = block1(out,[32,32,64])\n",
    "\n",
    "    \n",
    "    out = Flatten()(out)\n",
    "    out = Dense(200, activation='softmax')(out)\n",
    "    \n",
    "    model = Model(inp,out)\n",
    "    \n",
    "    return model"
   ]
  },
  {
   "cell_type": "code",
   "execution_count": 59,
   "metadata": {},
   "outputs": [
    {
     "name": "stderr",
     "output_type": "stream",
     "text": [
      "c:\\users\\leo\\appdata\\local\\programs\\python\\python36\\lib\\site-packages\\ipykernel_launcher.py:5: UserWarning: Update your `Conv2D` call to the Keras 2 API: `Conv2D(64, (7, 7), strides=(2, 2))`\n",
      "  \"\"\"\n",
      "c:\\users\\leo\\appdata\\local\\programs\\python\\python36\\lib\\site-packages\\ipykernel_launcher.py:3: UserWarning: Update your `Conv2D` call to the Keras 2 API: `Conv2D(32, (1, 1))`\n",
      "  This is separate from the ipykernel package so we can avoid doing imports until\n",
      "c:\\users\\leo\\appdata\\local\\programs\\python\\python36\\lib\\site-packages\\ipykernel_launcher.py:8: UserWarning: Update your `Conv2D` call to the Keras 2 API: `Conv2D(32, (3, 3), padding=\"same\")`\n",
      "  \n",
      "c:\\users\\leo\\appdata\\local\\programs\\python\\python36\\lib\\site-packages\\ipykernel_launcher.py:13: UserWarning: Update your `Conv2D` call to the Keras 2 API: `Conv2D(64, (1, 1))`\n",
      "  del sys.path[0]\n",
      "c:\\users\\leo\\appdata\\local\\programs\\python\\python36\\lib\\site-packages\\ipykernel_launcher.py:17: UserWarning: Update your `Conv2D` call to the Keras 2 API: `Conv2D(64, (1, 1))`\n"
     ]
    },
    {
     "name": "stdout",
     "output_type": "stream",
     "text": [
      "Train on 90250 samples, validate on 4750 samples\n",
      "Epoch 1/7\n",
      " - 60s - loss: 0.0303 - acc: 0.0984 - val_loss: 0.0263 - val_acc: 0.1343\n",
      "Epoch 2/7\n",
      " - 73s - loss: 0.0222 - acc: 0.2505 - val_loss: 0.0245 - val_acc: 0.1857\n",
      "Epoch 3/7\n",
      " - 59s - loss: 0.0181 - acc: 0.3960 - val_loss: 0.0253 - val_acc: 0.1827\n",
      "Epoch 4/7\n",
      " - 55s - loss: 0.0135 - acc: 0.5867 - val_loss: 0.0286 - val_acc: 0.1552\n",
      "Epoch 5/7\n",
      " - 56s - loss: 0.0094 - acc: 0.7756 - val_loss: 0.0325 - val_acc: 0.1604\n",
      "Epoch 6/7\n",
      " - 68s - loss: 0.0071 - acc: 0.8869 - val_loss: 0.0358 - val_acc: 0.1566\n",
      "Epoch 7/7\n",
      " - 73s - loss: 0.0063 - acc: 0.9307 - val_loss: 0.0388 - val_acc: 0.1545\n"
     ]
    },
    {
     "data": {
      "text/plain": [
       "<keras.callbacks.History at 0x2759d2b6358>"
      ]
     },
     "execution_count": 59,
     "metadata": {},
     "output_type": "execute_result"
    }
   ],
   "source": [
    "model = ResNet2()\n",
    "model.compile(loss='poisson',optimizer='adam',metrics=['accuracy'])\n",
    "model.fit(train_x[:95000],train_y[:95000],batch_size=100,epochs=7,verbose=2,validation_split=0.05)"
   ]
  },
  {
   "cell_type": "code",
   "execution_count": 62,
   "metadata": {},
   "outputs": [],
   "source": [
    "def ResNet3():\n",
    "    \n",
    "    inp = Input(shape=(img_rows,img_cols,3))\n",
    "    out = ZeroPadding2D((3,3))(inp)\n",
    "    out = Convolution2D(64,7,7,subsample=(2,2))(inp)\n",
    "    out = BatchNormalization()(out) # same function as dropout\n",
    "    out = LeakyReLU(alpha=0.01)(out)\n",
    "    out = MaxPooling2D((3,3),strides=(2,2))(out)\n",
    "    \n",
    "    out = block2(out,[32,32,64])\n",
    "    out = block1(out,[32,32,64])\n",
    "    out = block1(out,[32,32,64])\n",
    "    \n",
    "    out = Flatten()(out)\n",
    "    #out = Dense(512, activation='relu')(out) # will lead to very low accuracy\n",
    "    \n",
    "    out = Dense(200, activation='softmax')(out)\n",
    "    \n",
    "    model = Model(inp,out)\n",
    "    \n",
    "    return model"
   ]
  },
  {
   "cell_type": "code",
   "execution_count": 63,
   "metadata": {},
   "outputs": [
    {
     "name": "stderr",
     "output_type": "stream",
     "text": [
      "c:\\users\\leo\\appdata\\local\\programs\\python\\python36\\lib\\site-packages\\ipykernel_launcher.py:5: UserWarning: Update your `Conv2D` call to the Keras 2 API: `Conv2D(64, (7, 7), strides=(2, 2))`\n",
      "  \"\"\"\n",
      "c:\\users\\leo\\appdata\\local\\programs\\python\\python36\\lib\\site-packages\\ipykernel_launcher.py:3: UserWarning: Update your `Conv2D` call to the Keras 2 API: `Conv2D(32, (1, 1))`\n",
      "  This is separate from the ipykernel package so we can avoid doing imports until\n",
      "c:\\users\\leo\\appdata\\local\\programs\\python\\python36\\lib\\site-packages\\ipykernel_launcher.py:8: UserWarning: Update your `Conv2D` call to the Keras 2 API: `Conv2D(32, (3, 3), padding=\"same\")`\n",
      "  \n",
      "c:\\users\\leo\\appdata\\local\\programs\\python\\python36\\lib\\site-packages\\ipykernel_launcher.py:13: UserWarning: Update your `Conv2D` call to the Keras 2 API: `Conv2D(64, (1, 1))`\n",
      "  del sys.path[0]\n",
      "c:\\users\\leo\\appdata\\local\\programs\\python\\python36\\lib\\site-packages\\ipykernel_launcher.py:17: UserWarning: Update your `Conv2D` call to the Keras 2 API: `Conv2D(64, (1, 1))`\n"
     ]
    },
    {
     "name": "stdout",
     "output_type": "stream",
     "text": [
      "Train on 90250 samples, validate on 4750 samples\n",
      "Epoch 1/5\n",
      " - 69s - loss: 0.0330 - acc: 0.0767 - val_loss: 0.0265 - val_acc: 0.1347\n",
      "Epoch 2/5\n",
      " - 64s - loss: 0.0234 - acc: 0.2110 - val_loss: 0.0246 - val_acc: 0.1697\n",
      "Epoch 3/5\n",
      " - 64s - loss: 0.0192 - acc: 0.3507 - val_loss: 0.0244 - val_acc: 0.1952\n",
      "Epoch 4/5\n",
      " - 116s - loss: 0.0147 - acc: 0.5325 - val_loss: 0.0280 - val_acc: 0.1579\n",
      "Epoch 5/5\n",
      " - 71s - loss: 0.0102 - acc: 0.7359 - val_loss: 0.0316 - val_acc: 0.1627\n"
     ]
    },
    {
     "data": {
      "text/plain": [
       "<keras.callbacks.History at 0x275a6a59668>"
      ]
     },
     "execution_count": 63,
     "metadata": {},
     "output_type": "execute_result"
    }
   ],
   "source": [
    "model = ResNet3()\n",
    "model.compile(loss='poisson',optimizer='adam',metrics=['accuracy'])\n",
    "model.fit(train_x[:95000],train_y[:95000],batch_size=100,epochs=5,verbose=2,validation_split=0.05)"
   ]
  },
  {
   "cell_type": "code",
   "execution_count": 22,
   "metadata": {},
   "outputs": [],
   "source": [
    "def ResNet4():\n",
    "    \n",
    "    inp = Input(shape=(img_rows,img_cols,3))\n",
    "    out = ZeroPadding2D((3,3))(inp)\n",
    "    out = Convolution2D(64,7,7,subsample=(2,2))(inp)\n",
    "    out = BatchNormalization()(out) # same function as dropout\n",
    "    out = LeakyReLU(alpha=0.01)(out)\n",
    "    out = MaxPooling2D((3,3),strides=(2,2))(out)\n",
    "    \n",
    "    out = block2(out,[64,64,128])\n",
    "    out = block1(out,[64,64,128])\n",
    "    out = block1(out,[64,64,128])\n",
    "    \n",
    "    #out = block2(out,[128,128,512])\n",
    "    #out = block1(out,[128,128,512])\n",
    "    #out = block1(out,[128,128,512])\n",
    "    #out = block1(out,[128,128,512])\n",
    "    \n",
    "    #out = Flatten()(out)\n",
    "    #out = Dense(512, activation='relu')(out) # will lead to very low accuracy\n",
    "    \n",
    "    out = AveragePooling2D((7,7))(out)\n",
    "    out = Flatten()(out)\n",
    "    out = Dense(200, activation='softmax')(out)\n",
    "    \n",
    "    \n",
    "    model = Model(inp,out)\n",
    "    \n",
    "    return model"
   ]
  },
  {
   "cell_type": "code",
   "execution_count": 23,
   "metadata": {
    "scrolled": false
   },
   "outputs": [
    {
     "name": "stderr",
     "output_type": "stream",
     "text": [
      "c:\\users\\leo\\appdata\\local\\programs\\python\\python36\\lib\\site-packages\\ipykernel_launcher.py:5: UserWarning: Update your `Conv2D` call to the Keras 2 API: `Conv2D(64, (7, 7), strides=(2, 2))`\n",
      "  \"\"\"\n",
      "c:\\users\\leo\\appdata\\local\\programs\\python\\python36\\lib\\site-packages\\ipykernel_launcher.py:3: UserWarning: Update your `Conv2D` call to the Keras 2 API: `Conv2D(64, (1, 1))`\n",
      "  This is separate from the ipykernel package so we can avoid doing imports until\n",
      "c:\\users\\leo\\appdata\\local\\programs\\python\\python36\\lib\\site-packages\\ipykernel_launcher.py:8: UserWarning: Update your `Conv2D` call to the Keras 2 API: `Conv2D(64, (3, 3), padding=\"same\")`\n",
      "  \n",
      "c:\\users\\leo\\appdata\\local\\programs\\python\\python36\\lib\\site-packages\\ipykernel_launcher.py:13: UserWarning: Update your `Conv2D` call to the Keras 2 API: `Conv2D(128, (1, 1))`\n",
      "  del sys.path[0]\n",
      "c:\\users\\leo\\appdata\\local\\programs\\python\\python36\\lib\\site-packages\\ipykernel_launcher.py:17: UserWarning: Update your `Conv2D` call to the Keras 2 API: `Conv2D(128, (1, 1))`\n"
     ]
    },
    {
     "name": "stdout",
     "output_type": "stream",
     "text": [
      "Train on 90250 samples, validate on 4750 samples\n",
      "Epoch 1/5\n",
      " - 73s - loss: 0.0268 - acc: 0.1029 - val_loss: 0.0263 - val_acc: 0.1202\n",
      "Epoch 2/5\n",
      " - 68s - loss: 0.0230 - acc: 0.2035 - val_loss: 0.0280 - val_acc: 0.1263\n",
      "Epoch 3/5\n",
      " - 69s - loss: 0.0214 - acc: 0.2576 - val_loss: 0.0221 - val_acc: 0.2389\n",
      "Epoch 4/5\n",
      " - 69s - loss: 0.0203 - acc: 0.2973 - val_loss: 0.0237 - val_acc: 0.2069\n",
      "Epoch 5/5\n",
      " - 69s - loss: 0.0195 - acc: 0.3284 - val_loss: 0.0232 - val_acc: 0.2114\n"
     ]
    },
    {
     "data": {
      "text/plain": [
       "<keras.callbacks.History at 0x2da52255ac8>"
      ]
     },
     "execution_count": 23,
     "metadata": {},
     "output_type": "execute_result"
    }
   ],
   "source": [
    "model = ResNet4()\n",
    "model.compile(loss='poisson',optimizer='adam',metrics=['accuracy'])\n",
    "model.fit(train_x[:95000],train_y[:95000],batch_size=100,epochs=5,verbose=2,validation_split=0.05)"
   ]
  },
  {
   "cell_type": "code",
   "execution_count": 24,
   "metadata": {},
   "outputs": [
    {
     "name": "stderr",
     "output_type": "stream",
     "text": [
      "c:\\users\\leo\\appdata\\local\\programs\\python\\python36\\lib\\site-packages\\ipykernel_launcher.py:5: UserWarning: Update your `Conv2D` call to the Keras 2 API: `Conv2D(64, (7, 7), strides=(2, 2))`\n",
      "  \"\"\"\n",
      "c:\\users\\leo\\appdata\\local\\programs\\python\\python36\\lib\\site-packages\\ipykernel_launcher.py:3: UserWarning: Update your `Conv2D` call to the Keras 2 API: `Conv2D(128, (1, 1))`\n",
      "  This is separate from the ipykernel package so we can avoid doing imports until\n",
      "c:\\users\\leo\\appdata\\local\\programs\\python\\python36\\lib\\site-packages\\ipykernel_launcher.py:8: UserWarning: Update your `Conv2D` call to the Keras 2 API: `Conv2D(128, (3, 3), padding=\"same\")`\n",
      "  \n",
      "c:\\users\\leo\\appdata\\local\\programs\\python\\python36\\lib\\site-packages\\ipykernel_launcher.py:13: UserWarning: Update your `Conv2D` call to the Keras 2 API: `Conv2D(512, (1, 1))`\n",
      "  del sys.path[0]\n",
      "c:\\users\\leo\\appdata\\local\\programs\\python\\python36\\lib\\site-packages\\ipykernel_launcher.py:17: UserWarning: Update your `Conv2D` call to the Keras 2 API: `Conv2D(512, (1, 1))`\n"
     ]
    },
    {
     "name": "stdout",
     "output_type": "stream",
     "text": [
      "Train on 90250 samples, validate on 4750 samples\n",
      "Epoch 1/5\n",
      " - 196s - loss: 0.0268 - acc: 0.1156 - val_loss: 0.0267 - val_acc: 0.1143\n",
      "Epoch 2/5\n",
      " - 196s - loss: 0.0223 - acc: 0.2296 - val_loss: 0.0228 - val_acc: 0.2124\n",
      "Epoch 3/5\n",
      " - 202s - loss: 0.0203 - acc: 0.3020 - val_loss: 0.0251 - val_acc: 0.1771\n",
      "Epoch 4/5\n",
      " - 228s - loss: 0.0188 - acc: 0.3566 - val_loss: 0.0210 - val_acc: 0.2756\n",
      "Epoch 5/5\n",
      " - 237s - loss: 0.0176 - acc: 0.4017 - val_loss: 0.0201 - val_acc: 0.3080\n"
     ]
    },
    {
     "data": {
      "text/plain": [
       "<keras.callbacks.History at 0x2da8ebf1e48>"
      ]
     },
     "execution_count": 24,
     "metadata": {},
     "output_type": "execute_result"
    }
   ],
   "source": [
    "def ResNet5():\n",
    "    \n",
    "    inp = Input(shape=(img_rows,img_cols,3))\n",
    "    out = ZeroPadding2D((3,3))(inp)\n",
    "    out = Convolution2D(64,7,7,subsample=(2,2))(inp)\n",
    "    out = BatchNormalization()(out) # same function as dropout\n",
    "    out = LeakyReLU(alpha=0.01)(out)\n",
    "    out = MaxPooling2D((3,3),strides=(2,2))(out)\n",
    "    \n",
    "   \n",
    "    out = block2(out,[128,128,512])\n",
    "    out = block1(out,[128,128,512])\n",
    "    out = block1(out,[128,128,512])\n",
    "    out = block1(out,[128,128,512])\n",
    "    \n",
    "    #out = Flatten()(out)\n",
    "    #out = Dense(512, activation='relu')(out) # will lead to very low accuracy\n",
    "    \n",
    "    out = AveragePooling2D((7,7))(out)\n",
    "    out = Flatten()(out)\n",
    "    out = Dense(200, activation='softmax')(out)\n",
    "    \n",
    "    \n",
    "    model = Model(inp,out)\n",
    "    \n",
    "    return model\n",
    "\n",
    "model = ResNet5()\n",
    "model.compile(loss='poisson',optimizer='adam',metrics=['accuracy'])\n",
    "model.fit(train_x[:95000],train_y[:95000],batch_size=100,epochs=5,verbose=2,validation_split=0.05)"
   ]
  },
  {
   "cell_type": "code",
   "execution_count": 25,
   "metadata": {},
   "outputs": [],
   "source": [
    "model.save('ResNetpro.h5')  # creates a HDF5 file 'my_model.h5'\n",
    "del model  # deletes the existing model"
   ]
  },
  {
   "cell_type": "code",
   "execution_count": 26,
   "metadata": {},
   "outputs": [],
   "source": [
    "model = load_model('ResNetpro.h5') # 65"
   ]
  },
  {
   "cell_type": "code",
   "execution_count": 27,
   "metadata": {},
   "outputs": [
    {
     "name": "stdout",
     "output_type": "stream",
     "text": [
      "Train on 90250 samples, validate on 4750 samples\n",
      "Epoch 1/5\n",
      " - 209s - loss: 0.0165 - acc: 0.4444 - val_loss: 0.0200 - val_acc: 0.3278\n",
      "Epoch 2/5\n",
      " - 230s - loss: 0.0155 - acc: 0.4830 - val_loss: 0.0196 - val_acc: 0.3535\n",
      "Epoch 3/5\n",
      " - 235s - loss: 0.0146 - acc: 0.5244 - val_loss: 0.0193 - val_acc: 0.3558\n",
      "Epoch 4/5\n",
      " - 234s - loss: 0.0137 - acc: 0.5597 - val_loss: 0.0195 - val_acc: 0.3648\n",
      "Epoch 5/5\n",
      " - 237s - loss: 0.0129 - acc: 0.5925 - val_loss: 0.0197 - val_acc: 0.3552\n"
     ]
    },
    {
     "data": {
      "text/plain": [
       "<keras.callbacks.History at 0x2da9e6196d8>"
      ]
     },
     "execution_count": 27,
     "metadata": {},
     "output_type": "execute_result"
    }
   ],
   "source": [
    "model.compile(loss='poisson',optimizer='adam',metrics=['accuracy'])\n",
    "model.fit(train_x[:95000],train_y[:95000],batch_size=100,epochs=5,verbose=2,validation_split=0.05)"
   ]
  },
  {
   "cell_type": "code",
   "execution_count": 28,
   "metadata": {},
   "outputs": [],
   "source": [
    "model.save('ResNet14.h5')  # creates a HDF5 file 'my_model.h5'\n",
    "del model  # deletes the existing model"
   ]
  },
  {
   "cell_type": "code",
   "execution_count": 29,
   "metadata": {},
   "outputs": [
    {
     "name": "stderr",
     "output_type": "stream",
     "text": [
      "c:\\users\\leo\\appdata\\local\\programs\\python\\python36\\lib\\site-packages\\ipykernel_launcher.py:5: UserWarning: Update your `Conv2D` call to the Keras 2 API: `Conv2D(64, (7, 7), strides=(2, 2))`\n",
      "  \"\"\"\n",
      "c:\\users\\leo\\appdata\\local\\programs\\python\\python36\\lib\\site-packages\\ipykernel_launcher.py:3: UserWarning: Update your `Conv2D` call to the Keras 2 API: `Conv2D(256, (1, 1))`\n",
      "  This is separate from the ipykernel package so we can avoid doing imports until\n",
      "c:\\users\\leo\\appdata\\local\\programs\\python\\python36\\lib\\site-packages\\ipykernel_launcher.py:8: UserWarning: Update your `Conv2D` call to the Keras 2 API: `Conv2D(256, (3, 3), padding=\"same\")`\n",
      "  \n",
      "c:\\users\\leo\\appdata\\local\\programs\\python\\python36\\lib\\site-packages\\ipykernel_launcher.py:13: UserWarning: Update your `Conv2D` call to the Keras 2 API: `Conv2D(1024, (1, 1))`\n",
      "  del sys.path[0]\n",
      "c:\\users\\leo\\appdata\\local\\programs\\python\\python36\\lib\\site-packages\\ipykernel_launcher.py:17: UserWarning: Update your `Conv2D` call to the Keras 2 API: `Conv2D(1024, (1, 1))`\n"
     ]
    },
    {
     "name": "stdout",
     "output_type": "stream",
     "text": [
      "Train on 90250 samples, validate on 4750 samples\n",
      "Epoch 1/5\n",
      " - 724s - loss: 0.0290 - acc: 0.0898 - val_loss: 0.0256 - val_acc: 0.1301\n",
      "Epoch 2/5\n",
      " - 693s - loss: 0.0231 - acc: 0.2089 - val_loss: 0.0242 - val_acc: 0.1783\n",
      "Epoch 3/5\n",
      " - 695s - loss: 0.0208 - acc: 0.2844 - val_loss: 0.0213 - val_acc: 0.2703\n",
      "Epoch 4/5\n",
      " - 694s - loss: 0.0190 - acc: 0.3491 - val_loss: 0.0206 - val_acc: 0.2968\n",
      "Epoch 5/5\n",
      " - 693s - loss: 0.0175 - acc: 0.4076 - val_loss: 0.0193 - val_acc: 0.3440\n"
     ]
    },
    {
     "data": {
      "text/plain": [
       "<keras.callbacks.History at 0x2daa7bc85c0>"
      ]
     },
     "execution_count": 29,
     "metadata": {},
     "output_type": "execute_result"
    }
   ],
   "source": [
    "def ResNet6():\n",
    "    \n",
    "    inp = Input(shape=(img_rows,img_cols,3))\n",
    "    out = ZeroPadding2D((3,3))(inp)\n",
    "    out = Convolution2D(64,7,7,subsample=(2,2))(inp)\n",
    "    out = BatchNormalization()(out) # same function as dropout\n",
    "    out = LeakyReLU(alpha=0.01)(out)\n",
    "    out = MaxPooling2D((3,3),strides=(2,2))(out)\n",
    "    \n",
    "   \n",
    "    out = block2(out,[256,256,1024])\n",
    "    out = block1(out,[256,256,1024])\n",
    "    out = block1(out,[256,256,1024])\n",
    "    out = block1(out,[256,256,1024])\n",
    "    out = block1(out,[256,256,1024])\n",
    "    out = block1(out,[256,256,1024])\n",
    "    \n",
    "    \n",
    "    out = AveragePooling2D((7,7))(out)\n",
    "    out = Flatten()(out)\n",
    "    out = Dense(200, activation='softmax')(out)\n",
    "    \n",
    "    \n",
    "    model = Model(inp,out)\n",
    "    \n",
    "    return model\n",
    "\n",
    "model = ResNet6()\n",
    "model.compile(loss='poisson',optimizer='adam',metrics=['accuracy'])\n",
    "model.fit(train_x[:95000],train_y[:95000],batch_size=100,epochs=5,verbose=2,validation_split=0.05)"
   ]
  },
  {
   "cell_type": "code",
   "execution_count": 30,
   "metadata": {
    "scrolled": true
   },
   "outputs": [
    {
     "name": "stdout",
     "output_type": "stream",
     "text": [
      "Train on 90250 samples, validate on 4750 samples\n",
      "Epoch 1/15\n",
      " - 699s - loss: 0.0161 - acc: 0.4632 - val_loss: 0.0201 - val_acc: 0.3234\n",
      "Epoch 2/15\n",
      " - 691s - loss: 0.0148 - acc: 0.5165 - val_loss: 0.0217 - val_acc: 0.2933\n",
      "Epoch 3/15\n"
     ]
    },
    {
     "ename": "ResourceExhaustedError",
     "evalue": "OOM when allocating tensor with shape[100,1024,14,14] and type float on /job:localhost/replica:0/task:0/device:GPU:0 by allocator GPU_0_bfc\n\t [[Node: training_6/Adam/gradients/average_pooling2d_6/AvgPool_grad/AvgPoolGrad = AvgPoolGrad[T=DT_FLOAT, data_format=\"NCHW\", ksize=[1, 1, 7, 7], padding=\"VALID\", strides=[1, 1, 7, 7], _device=\"/job:localhost/replica:0/task:0/device:GPU:0\"](training_6/Adam/gradients/average_pooling2d_6/AvgPool_grad/Shape, training_6/Adam/gradients/average_pooling2d_6/AvgPool_grad/AvgPoolGrad-1-TransposeNHWCToNCHW-LayoutOptimizer)]]\nHint: If you want to see a list of allocated tensors when OOM happens, add report_tensor_allocations_upon_oom to RunOptions for current allocation info.\n",
     "output_type": "error",
     "traceback": [
      "\u001b[1;31m---------------------------------------------------------------------------\u001b[0m",
      "\u001b[1;31mResourceExhaustedError\u001b[0m                    Traceback (most recent call last)",
      "\u001b[1;32m<ipython-input-30-b6996e7cbb94>\u001b[0m in \u001b[0;36m<module>\u001b[1;34m()\u001b[0m\n\u001b[0;32m      1\u001b[0m \u001b[0mmodel\u001b[0m\u001b[1;33m.\u001b[0m\u001b[0mcompile\u001b[0m\u001b[1;33m(\u001b[0m\u001b[0mloss\u001b[0m\u001b[1;33m=\u001b[0m\u001b[1;34m'poisson'\u001b[0m\u001b[1;33m,\u001b[0m\u001b[0moptimizer\u001b[0m\u001b[1;33m=\u001b[0m\u001b[1;34m'adam'\u001b[0m\u001b[1;33m,\u001b[0m\u001b[0mmetrics\u001b[0m\u001b[1;33m=\u001b[0m\u001b[1;33m[\u001b[0m\u001b[1;34m'accuracy'\u001b[0m\u001b[1;33m]\u001b[0m\u001b[1;33m)\u001b[0m\u001b[1;33m\u001b[0m\u001b[0m\n\u001b[1;32m----> 2\u001b[1;33m \u001b[0mmodel\u001b[0m\u001b[1;33m.\u001b[0m\u001b[0mfit\u001b[0m\u001b[1;33m(\u001b[0m\u001b[0mtrain_x\u001b[0m\u001b[1;33m[\u001b[0m\u001b[1;33m:\u001b[0m\u001b[1;36m95000\u001b[0m\u001b[1;33m]\u001b[0m\u001b[1;33m,\u001b[0m\u001b[0mtrain_y\u001b[0m\u001b[1;33m[\u001b[0m\u001b[1;33m:\u001b[0m\u001b[1;36m95000\u001b[0m\u001b[1;33m]\u001b[0m\u001b[1;33m,\u001b[0m\u001b[0mbatch_size\u001b[0m\u001b[1;33m=\u001b[0m\u001b[1;36m100\u001b[0m\u001b[1;33m,\u001b[0m\u001b[0mepochs\u001b[0m\u001b[1;33m=\u001b[0m\u001b[1;36m15\u001b[0m\u001b[1;33m,\u001b[0m\u001b[0mverbose\u001b[0m\u001b[1;33m=\u001b[0m\u001b[1;36m2\u001b[0m\u001b[1;33m,\u001b[0m\u001b[0mvalidation_split\u001b[0m\u001b[1;33m=\u001b[0m\u001b[1;36m0.05\u001b[0m\u001b[1;33m)\u001b[0m\u001b[1;33m\u001b[0m\u001b[0m\n\u001b[0m",
      "\u001b[1;32mc:\\users\\leo\\appdata\\local\\programs\\python\\python36\\lib\\site-packages\\keras\\engine\\training.py\u001b[0m in \u001b[0;36mfit\u001b[1;34m(self, x, y, batch_size, epochs, verbose, callbacks, validation_split, validation_data, shuffle, class_weight, sample_weight, initial_epoch, steps_per_epoch, validation_steps, **kwargs)\u001b[0m\n\u001b[0;32m   1035\u001b[0m                                         \u001b[0minitial_epoch\u001b[0m\u001b[1;33m=\u001b[0m\u001b[0minitial_epoch\u001b[0m\u001b[1;33m,\u001b[0m\u001b[1;33m\u001b[0m\u001b[0m\n\u001b[0;32m   1036\u001b[0m                                         \u001b[0msteps_per_epoch\u001b[0m\u001b[1;33m=\u001b[0m\u001b[0msteps_per_epoch\u001b[0m\u001b[1;33m,\u001b[0m\u001b[1;33m\u001b[0m\u001b[0m\n\u001b[1;32m-> 1037\u001b[1;33m                                         validation_steps=validation_steps)\n\u001b[0m\u001b[0;32m   1038\u001b[0m \u001b[1;33m\u001b[0m\u001b[0m\n\u001b[0;32m   1039\u001b[0m     def evaluate(self, x=None, y=None,\n",
      "\u001b[1;32mc:\\users\\leo\\appdata\\local\\programs\\python\\python36\\lib\\site-packages\\keras\\engine\\training_arrays.py\u001b[0m in \u001b[0;36mfit_loop\u001b[1;34m(model, f, ins, out_labels, batch_size, epochs, verbose, callbacks, val_f, val_ins, shuffle, callback_metrics, initial_epoch, steps_per_epoch, validation_steps)\u001b[0m\n\u001b[0;32m    197\u001b[0m                     \u001b[0mins_batch\u001b[0m\u001b[1;33m[\u001b[0m\u001b[0mi\u001b[0m\u001b[1;33m]\u001b[0m \u001b[1;33m=\u001b[0m \u001b[0mins_batch\u001b[0m\u001b[1;33m[\u001b[0m\u001b[0mi\u001b[0m\u001b[1;33m]\u001b[0m\u001b[1;33m.\u001b[0m\u001b[0mtoarray\u001b[0m\u001b[1;33m(\u001b[0m\u001b[1;33m)\u001b[0m\u001b[1;33m\u001b[0m\u001b[0m\n\u001b[0;32m    198\u001b[0m \u001b[1;33m\u001b[0m\u001b[0m\n\u001b[1;32m--> 199\u001b[1;33m                 \u001b[0mouts\u001b[0m \u001b[1;33m=\u001b[0m \u001b[0mf\u001b[0m\u001b[1;33m(\u001b[0m\u001b[0mins_batch\u001b[0m\u001b[1;33m)\u001b[0m\u001b[1;33m\u001b[0m\u001b[0m\n\u001b[0m\u001b[0;32m    200\u001b[0m                 \u001b[0mouts\u001b[0m \u001b[1;33m=\u001b[0m \u001b[0mto_list\u001b[0m\u001b[1;33m(\u001b[0m\u001b[0mouts\u001b[0m\u001b[1;33m)\u001b[0m\u001b[1;33m\u001b[0m\u001b[0m\n\u001b[0;32m    201\u001b[0m                 \u001b[1;32mfor\u001b[0m \u001b[0ml\u001b[0m\u001b[1;33m,\u001b[0m \u001b[0mo\u001b[0m \u001b[1;32min\u001b[0m \u001b[0mzip\u001b[0m\u001b[1;33m(\u001b[0m\u001b[0mout_labels\u001b[0m\u001b[1;33m,\u001b[0m \u001b[0mouts\u001b[0m\u001b[1;33m)\u001b[0m\u001b[1;33m:\u001b[0m\u001b[1;33m\u001b[0m\u001b[0m\n",
      "\u001b[1;32mc:\\users\\leo\\appdata\\local\\programs\\python\\python36\\lib\\site-packages\\keras\\backend\\tensorflow_backend.py\u001b[0m in \u001b[0;36m__call__\u001b[1;34m(self, inputs)\u001b[0m\n\u001b[0;32m   2664\u001b[0m                 \u001b[1;32mreturn\u001b[0m \u001b[0mself\u001b[0m\u001b[1;33m.\u001b[0m\u001b[0m_legacy_call\u001b[0m\u001b[1;33m(\u001b[0m\u001b[0minputs\u001b[0m\u001b[1;33m)\u001b[0m\u001b[1;33m\u001b[0m\u001b[0m\n\u001b[0;32m   2665\u001b[0m \u001b[1;33m\u001b[0m\u001b[0m\n\u001b[1;32m-> 2666\u001b[1;33m             \u001b[1;32mreturn\u001b[0m \u001b[0mself\u001b[0m\u001b[1;33m.\u001b[0m\u001b[0m_call\u001b[0m\u001b[1;33m(\u001b[0m\u001b[0minputs\u001b[0m\u001b[1;33m)\u001b[0m\u001b[1;33m\u001b[0m\u001b[0m\n\u001b[0m\u001b[0;32m   2667\u001b[0m         \u001b[1;32melse\u001b[0m\u001b[1;33m:\u001b[0m\u001b[1;33m\u001b[0m\u001b[0m\n\u001b[0;32m   2668\u001b[0m             \u001b[1;32mif\u001b[0m \u001b[0mpy_any\u001b[0m\u001b[1;33m(\u001b[0m\u001b[0mis_tensor\u001b[0m\u001b[1;33m(\u001b[0m\u001b[0mx\u001b[0m\u001b[1;33m)\u001b[0m \u001b[1;32mfor\u001b[0m \u001b[0mx\u001b[0m \u001b[1;32min\u001b[0m \u001b[0minputs\u001b[0m\u001b[1;33m)\u001b[0m\u001b[1;33m:\u001b[0m\u001b[1;33m\u001b[0m\u001b[0m\n",
      "\u001b[1;32mc:\\users\\leo\\appdata\\local\\programs\\python\\python36\\lib\\site-packages\\keras\\backend\\tensorflow_backend.py\u001b[0m in \u001b[0;36m_call\u001b[1;34m(self, inputs)\u001b[0m\n\u001b[0;32m   2634\u001b[0m                                 \u001b[0msymbol_vals\u001b[0m\u001b[1;33m,\u001b[0m\u001b[1;33m\u001b[0m\u001b[0m\n\u001b[0;32m   2635\u001b[0m                                 session)\n\u001b[1;32m-> 2636\u001b[1;33m         \u001b[0mfetched\u001b[0m \u001b[1;33m=\u001b[0m \u001b[0mself\u001b[0m\u001b[1;33m.\u001b[0m\u001b[0m_callable_fn\u001b[0m\u001b[1;33m(\u001b[0m\u001b[1;33m*\u001b[0m\u001b[0marray_vals\u001b[0m\u001b[1;33m)\u001b[0m\u001b[1;33m\u001b[0m\u001b[0m\n\u001b[0m\u001b[0;32m   2637\u001b[0m         \u001b[1;32mreturn\u001b[0m \u001b[0mfetched\u001b[0m\u001b[1;33m[\u001b[0m\u001b[1;33m:\u001b[0m\u001b[0mlen\u001b[0m\u001b[1;33m(\u001b[0m\u001b[0mself\u001b[0m\u001b[1;33m.\u001b[0m\u001b[0moutputs\u001b[0m\u001b[1;33m)\u001b[0m\u001b[1;33m]\u001b[0m\u001b[1;33m\u001b[0m\u001b[0m\n\u001b[0;32m   2638\u001b[0m \u001b[1;33m\u001b[0m\u001b[0m\n",
      "\u001b[1;32mc:\\users\\leo\\appdata\\local\\programs\\python\\python36\\lib\\site-packages\\tensorflow\\python\\client\\session.py\u001b[0m in \u001b[0;36m__call__\u001b[1;34m(self, *args, **kwargs)\u001b[0m\n\u001b[0;32m   1380\u001b[0m           ret = tf_session.TF_SessionRunCallable(\n\u001b[0;32m   1381\u001b[0m               \u001b[0mself\u001b[0m\u001b[1;33m.\u001b[0m\u001b[0m_session\u001b[0m\u001b[1;33m.\u001b[0m\u001b[0m_session\u001b[0m\u001b[1;33m,\u001b[0m \u001b[0mself\u001b[0m\u001b[1;33m.\u001b[0m\u001b[0m_handle\u001b[0m\u001b[1;33m,\u001b[0m \u001b[0margs\u001b[0m\u001b[1;33m,\u001b[0m \u001b[0mstatus\u001b[0m\u001b[1;33m,\u001b[0m\u001b[1;33m\u001b[0m\u001b[0m\n\u001b[1;32m-> 1382\u001b[1;33m               run_metadata_ptr)\n\u001b[0m\u001b[0;32m   1383\u001b[0m         \u001b[1;32mif\u001b[0m \u001b[0mrun_metadata\u001b[0m\u001b[1;33m:\u001b[0m\u001b[1;33m\u001b[0m\u001b[0m\n\u001b[0;32m   1384\u001b[0m           \u001b[0mproto_data\u001b[0m \u001b[1;33m=\u001b[0m \u001b[0mtf_session\u001b[0m\u001b[1;33m.\u001b[0m\u001b[0mTF_GetBuffer\u001b[0m\u001b[1;33m(\u001b[0m\u001b[0mrun_metadata_ptr\u001b[0m\u001b[1;33m)\u001b[0m\u001b[1;33m\u001b[0m\u001b[0m\n",
      "\u001b[1;32mc:\\users\\leo\\appdata\\local\\programs\\python\\python36\\lib\\site-packages\\tensorflow\\python\\framework\\errors_impl.py\u001b[0m in \u001b[0;36m__exit__\u001b[1;34m(self, type_arg, value_arg, traceback_arg)\u001b[0m\n\u001b[0;32m    517\u001b[0m             \u001b[1;32mNone\u001b[0m\u001b[1;33m,\u001b[0m \u001b[1;32mNone\u001b[0m\u001b[1;33m,\u001b[0m\u001b[1;33m\u001b[0m\u001b[0m\n\u001b[0;32m    518\u001b[0m             \u001b[0mcompat\u001b[0m\u001b[1;33m.\u001b[0m\u001b[0mas_text\u001b[0m\u001b[1;33m(\u001b[0m\u001b[0mc_api\u001b[0m\u001b[1;33m.\u001b[0m\u001b[0mTF_Message\u001b[0m\u001b[1;33m(\u001b[0m\u001b[0mself\u001b[0m\u001b[1;33m.\u001b[0m\u001b[0mstatus\u001b[0m\u001b[1;33m.\u001b[0m\u001b[0mstatus\u001b[0m\u001b[1;33m)\u001b[0m\u001b[1;33m)\u001b[0m\u001b[1;33m,\u001b[0m\u001b[1;33m\u001b[0m\u001b[0m\n\u001b[1;32m--> 519\u001b[1;33m             c_api.TF_GetCode(self.status.status))\n\u001b[0m\u001b[0;32m    520\u001b[0m     \u001b[1;31m# Delete the underlying status object from memory otherwise it stays alive\u001b[0m\u001b[1;33m\u001b[0m\u001b[1;33m\u001b[0m\u001b[0m\n\u001b[0;32m    521\u001b[0m     \u001b[1;31m# as there is a reference to status from this from the traceback due to\u001b[0m\u001b[1;33m\u001b[0m\u001b[1;33m\u001b[0m\u001b[0m\n",
      "\u001b[1;31mResourceExhaustedError\u001b[0m: OOM when allocating tensor with shape[100,1024,14,14] and type float on /job:localhost/replica:0/task:0/device:GPU:0 by allocator GPU_0_bfc\n\t [[Node: training_6/Adam/gradients/average_pooling2d_6/AvgPool_grad/AvgPoolGrad = AvgPoolGrad[T=DT_FLOAT, data_format=\"NCHW\", ksize=[1, 1, 7, 7], padding=\"VALID\", strides=[1, 1, 7, 7], _device=\"/job:localhost/replica:0/task:0/device:GPU:0\"](training_6/Adam/gradients/average_pooling2d_6/AvgPool_grad/Shape, training_6/Adam/gradients/average_pooling2d_6/AvgPool_grad/AvgPoolGrad-1-TransposeNHWCToNCHW-LayoutOptimizer)]]\nHint: If you want to see a list of allocated tensors when OOM happens, add report_tensor_allocations_upon_oom to RunOptions for current allocation info.\n"
     ]
    }
   ],
   "source": [
    "model.compile(loss='poisson',optimizer='adam',metrics=['accuracy'])\n",
    "model.fit(train_x[:95000],train_y[:95000],batch_size=100,epochs=15,verbose=2,validation_split=0.05)"
   ]
  },
  {
   "cell_type": "code",
   "execution_count": null,
   "metadata": {},
   "outputs": [],
   "source": [
    "model.save('ResNet20.h5')  # creates a HDF5 file 'my_model.h5'\n",
    "del model  # deletes the existing model"
   ]
  },
  {
   "cell_type": "code",
   "execution_count": 31,
   "metadata": {},
   "outputs": [
    {
     "name": "stderr",
     "output_type": "stream",
     "text": [
      "c:\\users\\leo\\appdata\\local\\programs\\python\\python36\\lib\\site-packages\\ipykernel_launcher.py:5: UserWarning: Update your `Conv2D` call to the Keras 2 API: `Conv2D(64, (7, 7), strides=(2, 2))`\n",
      "  \"\"\"\n",
      "c:\\users\\leo\\appdata\\local\\programs\\python\\python36\\lib\\site-packages\\ipykernel_launcher.py:3: UserWarning: Update your `Conv2D` call to the Keras 2 API: `Conv2D(256, (1, 1))`\n",
      "  This is separate from the ipykernel package so we can avoid doing imports until\n",
      "c:\\users\\leo\\appdata\\local\\programs\\python\\python36\\lib\\site-packages\\ipykernel_launcher.py:8: UserWarning: Update your `Conv2D` call to the Keras 2 API: `Conv2D(256, (3, 3), padding=\"same\")`\n",
      "  \n",
      "c:\\users\\leo\\appdata\\local\\programs\\python\\python36\\lib\\site-packages\\ipykernel_launcher.py:13: UserWarning: Update your `Conv2D` call to the Keras 2 API: `Conv2D(1024, (1, 1))`\n",
      "  del sys.path[0]\n",
      "c:\\users\\leo\\appdata\\local\\programs\\python\\python36\\lib\\site-packages\\ipykernel_launcher.py:17: UserWarning: Update your `Conv2D` call to the Keras 2 API: `Conv2D(1024, (1, 1))`\n"
     ]
    },
    {
     "name": "stdout",
     "output_type": "stream",
     "text": [
      "Train on 90250 samples, validate on 4750 samples\n",
      "Epoch 1/20\n",
      " - 483s - loss: 0.0278 - acc: 0.1071 - val_loss: 0.0273 - val_acc: 0.1080\n",
      "Epoch 2/20\n",
      " - 475s - loss: 0.0224 - acc: 0.2276 - val_loss: 0.0275 - val_acc: 0.1278\n",
      "Epoch 3/20\n",
      " - 479s - loss: 0.0202 - acc: 0.3045 - val_loss: 0.0211 - val_acc: 0.2701\n",
      "Epoch 4/20\n",
      " - 477s - loss: 0.0186 - acc: 0.3661 - val_loss: 0.0201 - val_acc: 0.3103\n",
      "Epoch 5/20\n",
      " - 478s - loss: 0.0171 - acc: 0.4233 - val_loss: 0.0219 - val_acc: 0.2575\n",
      "Epoch 6/20\n",
      " - 477s - loss: 0.0159 - acc: 0.4725 - val_loss: 0.0199 - val_acc: 0.3255\n",
      "Epoch 7/20\n",
      " - 478s - loss: 0.0146 - acc: 0.5240 - val_loss: 0.0204 - val_acc: 0.3202\n",
      "Epoch 8/20\n",
      " - 478s - loss: 0.0135 - acc: 0.5725 - val_loss: 0.0191 - val_acc: 0.3745\n",
      "Epoch 9/20\n",
      " - 477s - loss: 0.0123 - acc: 0.6243 - val_loss: 0.0197 - val_acc: 0.3657\n",
      "Epoch 10/20\n",
      " - 475s - loss: 0.0111 - acc: 0.6747 - val_loss: 0.0207 - val_acc: 0.3596\n",
      "Epoch 11/20\n",
      " - 476s - loss: 0.0100 - acc: 0.7272 - val_loss: 0.0203 - val_acc: 0.3819\n",
      "Epoch 12/20\n",
      " - 477s - loss: 0.0090 - acc: 0.7772 - val_loss: 0.0206 - val_acc: 0.3981\n",
      "Epoch 13/20\n",
      " - 476s - loss: 0.0081 - acc: 0.8229 - val_loss: 0.0220 - val_acc: 0.3722\n",
      "Epoch 14/20\n",
      " - 499s - loss: 0.0073 - acc: 0.8664 - val_loss: 0.0220 - val_acc: 0.3787\n",
      "Epoch 15/20\n",
      " - 509s - loss: 0.0068 - acc: 0.8976 - val_loss: 0.0241 - val_acc: 0.3571\n",
      "Epoch 16/20\n",
      " - 509s - loss: 0.0064 - acc: 0.9151 - val_loss: 0.0229 - val_acc: 0.3905\n",
      "Epoch 17/20\n",
      " - 508s - loss: 0.0061 - acc: 0.9352 - val_loss: 0.0250 - val_acc: 0.3747\n",
      "Epoch 18/20\n",
      " - 509s - loss: 0.0060 - acc: 0.9428 - val_loss: 0.0249 - val_acc: 0.3863\n",
      "Epoch 19/20\n",
      " - 509s - loss: 0.0059 - acc: 0.9493 - val_loss: 0.0249 - val_acc: 0.3920\n",
      "Epoch 20/20\n",
      " - 509s - loss: 0.0058 - acc: 0.9550 - val_loss: 0.0267 - val_acc: 0.3539\n"
     ]
    },
    {
     "data": {
      "text/plain": [
       "<keras.callbacks.History at 0x2dabb672828>"
      ]
     },
     "execution_count": 31,
     "metadata": {},
     "output_type": "execute_result"
    }
   ],
   "source": [
    "def ResNet7():\n",
    "    \n",
    "    inp = Input(shape=(img_rows,img_cols,3))\n",
    "    out = ZeroPadding2D((3,3))(inp)\n",
    "    out = Convolution2D(64,7,7,subsample=(2,2))(inp)\n",
    "    out = BatchNormalization()(out) # same function as dropout\n",
    "    out = LeakyReLU(alpha=0.01)(out)\n",
    "    out = MaxPooling2D((3,3),strides=(2,2))(out)\n",
    "    \n",
    "   \n",
    "    out = block2(out,[256,256,1024])\n",
    "    out = block1(out,[256,256,1024])\n",
    "    out = block1(out,[256,256,1024])\n",
    "    out = block1(out,[256,256,1024])\n",
    "\n",
    "    \n",
    "    \n",
    "    out = AveragePooling2D((7,7))(out)\n",
    "    out = Flatten()(out)\n",
    "    out = Dense(200, activation='softmax')(out)\n",
    "    \n",
    "    \n",
    "    model = Model(inp,out)\n",
    "    \n",
    "    return model\n",
    "\n",
    "model = ResNet7()\n",
    "model.compile(loss='poisson',optimizer='adam',metrics=['accuracy'])\n",
    "model.fit(train_x[:95000],train_y[:95000],batch_size=100,epochs=20,verbose=2,validation_split=0.05)"
   ]
  },
  {
   "cell_type": "code",
   "execution_count": null,
   "metadata": {},
   "outputs": [
    {
     "name": "stderr",
     "output_type": "stream",
     "text": [
      "c:\\users\\leo\\appdata\\local\\programs\\python\\python36\\lib\\site-packages\\ipykernel_launcher.py:5: UserWarning: Update your `Conv2D` call to the Keras 2 API: `Conv2D(64, (7, 7), strides=(2, 2))`\n",
      "  \"\"\"\n",
      "c:\\users\\leo\\appdata\\local\\programs\\python\\python36\\lib\\site-packages\\ipykernel_launcher.py:3: UserWarning: Update your `Conv2D` call to the Keras 2 API: `Conv2D(256, (1, 1))`\n",
      "  This is separate from the ipykernel package so we can avoid doing imports until\n",
      "c:\\users\\leo\\appdata\\local\\programs\\python\\python36\\lib\\site-packages\\ipykernel_launcher.py:8: UserWarning: Update your `Conv2D` call to the Keras 2 API: `Conv2D(256, (3, 3), padding=\"same\")`\n",
      "  \n",
      "c:\\users\\leo\\appdata\\local\\programs\\python\\python36\\lib\\site-packages\\ipykernel_launcher.py:13: UserWarning: Update your `Conv2D` call to the Keras 2 API: `Conv2D(1024, (1, 1))`\n",
      "  del sys.path[0]\n",
      "c:\\users\\leo\\appdata\\local\\programs\\python\\python36\\lib\\site-packages\\ipykernel_launcher.py:17: UserWarning: Update your `Conv2D` call to the Keras 2 API: `Conv2D(1024, (1, 1))`\n"
     ]
    },
    {
     "name": "stdout",
     "output_type": "stream",
     "text": [
      "Train on 90250 samples, validate on 4750 samples\n",
      "Epoch 1/20\n",
      " - 567s - loss: 0.0283 - acc: 0.1001 - val_loss: 0.0277 - val_acc: 0.1099\n",
      "Epoch 2/20\n",
      " - 561s - loss: 0.0227 - acc: 0.2174 - val_loss: 0.0245 - val_acc: 0.1617\n",
      "Epoch 3/20\n",
      " - 562s - loss: 0.0205 - acc: 0.2933 - val_loss: 0.0225 - val_acc: 0.2347\n",
      "Epoch 4/20\n",
      " - 562s - loss: 0.0189 - acc: 0.3554 - val_loss: 0.0210 - val_acc: 0.2785\n",
      "Epoch 5/20\n",
      " - 565s - loss: 0.0175 - acc: 0.4088 - val_loss: 0.0211 - val_acc: 0.2981\n",
      "Epoch 6/20\n",
      " - 565s - loss: 0.0162 - acc: 0.4614 - val_loss: 0.0203 - val_acc: 0.3213\n",
      "Epoch 7/20\n",
      " - 563s - loss: 0.0149 - acc: 0.5127 - val_loss: 0.0194 - val_acc: 0.3625\n",
      "Epoch 8/20\n",
      " - 564s - loss: 0.0138 - acc: 0.5605 - val_loss: 0.0222 - val_acc: 0.2912\n",
      "Epoch 9/20\n",
      " - 561s - loss: 0.0126 - acc: 0.6107 - val_loss: 0.0197 - val_acc: 0.3627\n",
      "Epoch 10/20\n",
      " - 563s - loss: 0.0115 - acc: 0.6595 - val_loss: 0.0189 - val_acc: 0.3897\n",
      "Epoch 11/20\n",
      " - 563s - loss: 0.0104 - acc: 0.7120 - val_loss: 0.0196 - val_acc: 0.3817\n",
      "Epoch 12/20\n",
      " - 564s - loss: 0.0094 - acc: 0.7590 - val_loss: 0.0198 - val_acc: 0.4059\n",
      "Epoch 13/20\n",
      " - 585s - loss: 0.0085 - acc: 0.8037 - val_loss: 0.0212 - val_acc: 0.3764\n",
      "Epoch 14/20\n",
      " - 607s - loss: 0.0077 - acc: 0.8489 - val_loss: 0.0217 - val_acc: 0.3762\n",
      "Epoch 15/20\n",
      " - 612s - loss: 0.0070 - acc: 0.8851 - val_loss: 0.0232 - val_acc: 0.3600\n",
      "Epoch 16/20\n",
      " - 617s - loss: 0.0066 - acc: 0.9094 - val_loss: 0.0236 - val_acc: 0.3756\n",
      "Epoch 17/20\n",
      " - 614s - loss: 0.0063 - acc: 0.9283 - val_loss: 0.0239 - val_acc: 0.3895\n",
      "Epoch 18/20\n",
      " - 620s - loss: 0.0061 - acc: 0.9391 - val_loss: 0.0268 - val_acc: 0.3419\n",
      "Epoch 19/20\n",
      " - 613s - loss: 0.0060 - acc: 0.9431 - val_loss: 0.0262 - val_acc: 0.3516\n",
      "Epoch 20/20\n"
     ]
    }
   ],
   "source": [
    "def ResNet8():\n",
    "    \n",
    "    inp = Input(shape=(img_rows,img_cols,3))\n",
    "    out = ZeroPadding2D((3,3))(inp)\n",
    "    out = Convolution2D(64,7,7,subsample=(2,2))(inp)\n",
    "    out = BatchNormalization()(out) # same function as dropout\n",
    "    out = LeakyReLU(alpha=0.01)(out)\n",
    "    out = MaxPooling2D((3,3),strides=(2,2))(out)\n",
    "    \n",
    "   \n",
    "    out = block2(out,[256,256,1024])\n",
    "    out = block1(out,[256,256,1024])\n",
    "    out = block1(out,[256,256,1024])\n",
    "    out = block1(out,[256,256,1024])\n",
    "\n",
    "    \n",
    "    \n",
    "    out = AveragePooling2D((7,7))(out)\n",
    "    out = Flatten()(out)\n",
    "    out = Dense(200, activation='softmax')(out)\n",
    "    \n",
    "    \n",
    "    model = Model(inp,out)\n",
    "    \n",
    "    return model\n",
    "\n",
    "model = ResNet8()\n",
    "model.compile(loss='poisson',optimizer='adam',metrics=['accuracy'])\n",
    "model.fit(train_x[:95000],train_y[:95000],batch_size=100,epochs=20,verbose=2,validation_split=0.05)"
   ]
  },
  {
   "cell_type": "code",
   "execution_count": null,
   "metadata": {},
   "outputs": [
    {
     "name": "stderr",
     "output_type": "stream",
     "text": [
      "c:\\users\\leo\\appdata\\local\\programs\\python\\python36\\lib\\site-packages\\ipykernel_launcher.py:5: UserWarning: Update your `Conv2D` call to the Keras 2 API: `Conv2D(64, (7, 7), strides=(2, 2))`\n",
      "  \"\"\"\n",
      "c:\\users\\leo\\appdata\\local\\programs\\python\\python36\\lib\\site-packages\\ipykernel_launcher.py:3: UserWarning: Update your `Conv2D` call to the Keras 2 API: `Conv2D(128, (1, 1))`\n",
      "  This is separate from the ipykernel package so we can avoid doing imports until\n",
      "c:\\users\\leo\\appdata\\local\\programs\\python\\python36\\lib\\site-packages\\ipykernel_launcher.py:8: UserWarning: Update your `Conv2D` call to the Keras 2 API: `Conv2D(128, (3, 3), padding=\"same\")`\n",
      "  \n",
      "c:\\users\\leo\\appdata\\local\\programs\\python\\python36\\lib\\site-packages\\ipykernel_launcher.py:13: UserWarning: Update your `Conv2D` call to the Keras 2 API: `Conv2D(512, (1, 1))`\n",
      "  del sys.path[0]\n",
      "c:\\users\\leo\\appdata\\local\\programs\\python\\python36\\lib\\site-packages\\ipykernel_launcher.py:17: UserWarning: Update your `Conv2D` call to the Keras 2 API: `Conv2D(512, (1, 1))`\n",
      "c:\\users\\leo\\appdata\\local\\programs\\python\\python36\\lib\\site-packages\\ipykernel_launcher.py:3: UserWarning: Update your `Conv2D` call to the Keras 2 API: `Conv2D(256, (1, 1))`\n",
      "  This is separate from the ipykernel package so we can avoid doing imports until\n",
      "c:\\users\\leo\\appdata\\local\\programs\\python\\python36\\lib\\site-packages\\ipykernel_launcher.py:8: UserWarning: Update your `Conv2D` call to the Keras 2 API: `Conv2D(256, (3, 3), padding=\"same\")`\n",
      "  \n",
      "c:\\users\\leo\\appdata\\local\\programs\\python\\python36\\lib\\site-packages\\ipykernel_launcher.py:13: UserWarning: Update your `Conv2D` call to the Keras 2 API: `Conv2D(1024, (1, 1))`\n",
      "  del sys.path[0]\n",
      "c:\\users\\leo\\appdata\\local\\programs\\python\\python36\\lib\\site-packages\\ipykernel_launcher.py:17: UserWarning: Update your `Conv2D` call to the Keras 2 API: `Conv2D(1024, (1, 1))`\n"
     ]
    },
    {
     "name": "stdout",
     "output_type": "stream",
     "text": [
      "Train on 90250 samples, validate on 4750 samples\n",
      "Epoch 1/20\n",
      " - 436s - loss: 0.0279 - acc: 0.0977 - val_loss: 0.0318 - val_acc: 0.0636\n",
      "Epoch 2/20\n",
      " - 428s - loss: 0.0237 - acc: 0.1958 - val_loss: 0.0255 - val_acc: 0.1638\n",
      "Epoch 3/20\n",
      " - 428s - loss: 0.0211 - acc: 0.2707 - val_loss: 0.0242 - val_acc: 0.1865\n",
      "Epoch 4/20\n",
      " - 428s - loss: 0.0195 - acc: 0.3322 - val_loss: 0.0205 - val_acc: 0.2918\n",
      "Epoch 5/20\n",
      " - 427s - loss: 0.0181 - acc: 0.3818 - val_loss: 0.0208 - val_acc: 0.2886\n",
      "Epoch 6/20\n",
      " - 427s - loss: 0.0169 - acc: 0.4295 - val_loss: 0.0191 - val_acc: 0.3537\n",
      "Epoch 7/20\n",
      " - 428s - loss: 0.0157 - acc: 0.4801 - val_loss: 0.0226 - val_acc: 0.2731\n",
      "Epoch 8/20\n",
      " - 428s - loss: 0.0145 - acc: 0.5258 - val_loss: 0.0195 - val_acc: 0.3499\n",
      "Epoch 9/20\n",
      " - 437s - loss: 0.0135 - acc: 0.5722 - val_loss: 0.0198 - val_acc: 0.3674\n",
      "Epoch 10/20\n",
      " - 458s - loss: 0.0124 - acc: 0.6189 - val_loss: 0.0187 - val_acc: 0.4023\n",
      "Epoch 11/20\n",
      " - 456s - loss: 0.0113 - acc: 0.6667 - val_loss: 0.0200 - val_acc: 0.3785\n",
      "Epoch 12/20\n",
      " - 456s - loss: 0.0103 - acc: 0.7154 - val_loss: 0.0204 - val_acc: 0.3697\n",
      "Epoch 13/20\n",
      " - 457s - loss: 0.0093 - acc: 0.7643 - val_loss: 0.0210 - val_acc: 0.3697\n",
      "Epoch 14/20\n",
      " - 452s - loss: 0.0084 - acc: 0.8098 - val_loss: 0.0205 - val_acc: 0.3937\n",
      "Epoch 15/20\n",
      " - 427s - loss: 0.0076 - acc: 0.8485 - val_loss: 0.0223 - val_acc: 0.3895\n",
      "Epoch 16/20\n",
      " - 428s - loss: 0.0070 - acc: 0.8832 - val_loss: 0.0239 - val_acc: 0.3623\n",
      "Epoch 17/20\n"
     ]
    }
   ],
   "source": [
    "def ResNet9():\n",
    "    \n",
    "    inp = Input(shape=(img_rows,img_cols,3))\n",
    "    out = ZeroPadding2D((3,3))(inp)\n",
    "    out = Convolution2D(64,7,7,subsample=(2,2))(inp)\n",
    "    out = BatchNormalization()(out) # same function as dropout\n",
    "    out = LeakyReLU(alpha=0.01)(out)\n",
    "    out = MaxPooling2D((3,3),strides=(2,2))(out)\n",
    "    \n",
    "    out = block2(out,[128,128,512])\n",
    "    out = block1(out,[128,128,512])\n",
    "    out = block2(out,[256,256,1024])\n",
    "    out = block1(out,[256,256,1024])\n",
    "\n",
    "\n",
    "\n",
    "    \n",
    "    \n",
    "    out = AveragePooling2D((7,7))(out)\n",
    "    out = Flatten()(out)\n",
    "    out = Dense(200, activation='softmax')(out)\n",
    "    \n",
    "    \n",
    "    model = Model(inp,out)\n",
    "    \n",
    "    return model\n",
    "\n",
    "model = ResNet9()\n",
    "model.compile(loss='poisson',optimizer='adam',metrics=['accuracy'])\n",
    "model.fit(train_x[:95000],train_y[:95000],batch_size=100,epochs=20,verbose=2,validation_split=0.05)"
   ]
  },
  {
   "cell_type": "code",
   "execution_count": 12,
   "metadata": {},
   "outputs": [
    {
     "name": "stderr",
     "output_type": "stream",
     "text": [
      "c:\\users\\leo\\appdata\\local\\programs\\python\\python36\\lib\\site-packages\\ipykernel_launcher.py:5: UserWarning: Update your `Conv2D` call to the Keras 2 API: `Conv2D(64, (7, 7), strides=(2, 2))`\n",
      "  \"\"\"\n",
      "c:\\users\\leo\\appdata\\local\\programs\\python\\python36\\lib\\site-packages\\ipykernel_launcher.py:3: UserWarning: Update your `Conv2D` call to the Keras 2 API: `Conv2D(128, (1, 1))`\n",
      "  This is separate from the ipykernel package so we can avoid doing imports until\n",
      "c:\\users\\leo\\appdata\\local\\programs\\python\\python36\\lib\\site-packages\\ipykernel_launcher.py:8: UserWarning: Update your `Conv2D` call to the Keras 2 API: `Conv2D(128, (3, 3), padding=\"same\")`\n",
      "  \n",
      "c:\\users\\leo\\appdata\\local\\programs\\python\\python36\\lib\\site-packages\\ipykernel_launcher.py:13: UserWarning: Update your `Conv2D` call to the Keras 2 API: `Conv2D(512, (1, 1))`\n",
      "  del sys.path[0]\n",
      "c:\\users\\leo\\appdata\\local\\programs\\python\\python36\\lib\\site-packages\\ipykernel_launcher.py:17: UserWarning: Update your `Conv2D` call to the Keras 2 API: `Conv2D(512, (1, 1))`\n",
      "c:\\users\\leo\\appdata\\local\\programs\\python\\python36\\lib\\site-packages\\ipykernel_launcher.py:3: UserWarning: Update your `Conv2D` call to the Keras 2 API: `Conv2D(256, (1, 1))`\n",
      "  This is separate from the ipykernel package so we can avoid doing imports until\n",
      "c:\\users\\leo\\appdata\\local\\programs\\python\\python36\\lib\\site-packages\\ipykernel_launcher.py:8: UserWarning: Update your `Conv2D` call to the Keras 2 API: `Conv2D(256, (3, 3), padding=\"same\")`\n",
      "  \n",
      "c:\\users\\leo\\appdata\\local\\programs\\python\\python36\\lib\\site-packages\\ipykernel_launcher.py:13: UserWarning: Update your `Conv2D` call to the Keras 2 API: `Conv2D(1024, (1, 1))`\n",
      "  del sys.path[0]\n",
      "c:\\users\\leo\\appdata\\local\\programs\\python\\python36\\lib\\site-packages\\ipykernel_launcher.py:17: UserWarning: Update your `Conv2D` call to the Keras 2 API: `Conv2D(1024, (1, 1))`\n"
     ]
    },
    {
     "name": "stdout",
     "output_type": "stream",
     "text": [
      "Train on 90250 samples, validate on 4750 samples\n",
      "Epoch 1/20\n",
      " - 613s - loss: 0.0288 - acc: 0.0774 - val_loss: 0.0596 - val_acc: 0.0107\n",
      "Epoch 2/20\n",
      " - 642s - loss: 0.0241 - acc: 0.1748 - val_loss: 0.0238 - val_acc: 0.1848\n",
      "Epoch 3/20\n",
      " - 644s - loss: 0.0218 - acc: 0.2463 - val_loss: 0.0244 - val_acc: 0.1836\n",
      "Epoch 4/20\n",
      " - 642s - loss: 0.0201 - acc: 0.3071 - val_loss: 0.0238 - val_acc: 0.2036\n",
      "Epoch 5/20\n",
      " - 639s - loss: 0.0186 - acc: 0.3632 - val_loss: 0.0204 - val_acc: 0.2989\n",
      "Epoch 6/20\n",
      " - 636s - loss: 0.0173 - acc: 0.4144 - val_loss: 0.0213 - val_acc: 0.2867\n",
      "Epoch 7/20\n",
      " - 635s - loss: 0.0161 - acc: 0.4640 - val_loss: 0.0206 - val_acc: 0.3078\n",
      "Epoch 8/20\n",
      " - 640s - loss: 0.0148 - acc: 0.5135 - val_loss: 0.0203 - val_acc: 0.3396\n",
      "Epoch 9/20\n",
      " - 634s - loss: 0.0137 - acc: 0.5607 - val_loss: 0.0196 - val_acc: 0.3642\n",
      "Epoch 10/20\n",
      " - 635s - loss: 0.0125 - acc: 0.6127 - val_loss: 0.0193 - val_acc: 0.3764\n",
      "Epoch 11/20\n",
      " - 639s - loss: 0.0114 - acc: 0.6616 - val_loss: 0.0195 - val_acc: 0.3857\n",
      "Epoch 12/20\n",
      " - 636s - loss: 0.0103 - acc: 0.7154 - val_loss: 0.0206 - val_acc: 0.3640\n",
      "Epoch 13/20\n",
      " - 630s - loss: 0.0094 - acc: 0.7563 - val_loss: 0.0210 - val_acc: 0.3787\n",
      "Epoch 14/20\n",
      " - 630s - loss: 0.0083 - acc: 0.8114 - val_loss: 0.0218 - val_acc: 0.3684\n",
      "Epoch 15/20\n",
      " - 628s - loss: 0.0075 - acc: 0.8568 - val_loss: 0.0216 - val_acc: 0.3872\n",
      "Epoch 16/20\n",
      " - 628s - loss: 0.0069 - acc: 0.8907 - val_loss: 0.0232 - val_acc: 0.3743\n",
      "Epoch 17/20\n",
      " - 629s - loss: 0.0065 - acc: 0.9131 - val_loss: 0.0232 - val_acc: 0.3792\n",
      "Epoch 18/20\n",
      " - 630s - loss: 0.0062 - acc: 0.9321 - val_loss: 0.0244 - val_acc: 0.3686\n",
      "Epoch 19/20\n",
      " - 632s - loss: 0.0060 - acc: 0.9425 - val_loss: 0.0247 - val_acc: 0.3777\n",
      "Epoch 20/20\n",
      " - 630s - loss: 0.0059 - acc: 0.9501 - val_loss: 0.0260 - val_acc: 0.3646\n"
     ]
    },
    {
     "data": {
      "text/plain": [
       "<keras.callbacks.History at 0x245d215da58>"
      ]
     },
     "execution_count": 12,
     "metadata": {},
     "output_type": "execute_result"
    }
   ],
   "source": [
    "def ResNet10():\n",
    "    \n",
    "    inp = Input(shape=(img_rows,img_cols,3))\n",
    "    out = ZeroPadding2D((3,3))(inp)\n",
    "    out = Convolution2D(64,7,7,subsample=(2,2))(inp)\n",
    "    out = BatchNormalization()(out) # same function as dropout\n",
    "    out = LeakyReLU(alpha=0.01)(out)\n",
    "    out = MaxPooling2D((3,3),strides=(2,2))(out)\n",
    "    \n",
    "    out = block2(out,[128,128,512])\n",
    "    out = block1(out,[128,128,512])\n",
    "    out = block1(out,[128,128,512])\n",
    "    out = block2(out,[256,256,1024])\n",
    "    out = block1(out,[256,256,1024])\n",
    "    out = block1(out,[256,256,1024])\n",
    "        \n",
    "    \n",
    "    out = AveragePooling2D((7,7))(out)\n",
    "    out = Flatten()(out)\n",
    "    out = Dense(200, activation='softmax')(out)\n",
    "    \n",
    "    \n",
    "    model = Model(inp,out)\n",
    "    \n",
    "    return model\n",
    "\n",
    "model = ResNet10()\n",
    "model.compile(loss='poisson',optimizer='adam',metrics=['accuracy'])\n",
    "model.fit(train_x[:95000],train_y[:95000],batch_size=100,epochs=20,verbose=2,validation_split=0.05)"
   ]
  },
  {
   "cell_type": "code",
   "execution_count": 25,
   "metadata": {
    "scrolled": true
   },
   "outputs": [
    {
     "name": "stderr",
     "output_type": "stream",
     "text": [
      "c:\\users\\leo\\appdata\\local\\programs\\python\\python36\\lib\\site-packages\\ipykernel_launcher.py:5: UserWarning: Update your `Conv2D` call to the Keras 2 API: `Conv2D(64, (7, 7), strides=(2, 2))`\n",
      "  \"\"\"\n",
      "c:\\users\\leo\\appdata\\local\\programs\\python\\python36\\lib\\site-packages\\ipykernel_launcher.py:3: UserWarning: Update your `Conv2D` call to the Keras 2 API: `Conv2D(256, (1, 1))`\n",
      "  This is separate from the ipykernel package so we can avoid doing imports until\n",
      "c:\\users\\leo\\appdata\\local\\programs\\python\\python36\\lib\\site-packages\\ipykernel_launcher.py:8: UserWarning: Update your `Conv2D` call to the Keras 2 API: `Conv2D(256, (3, 3), padding=\"same\")`\n",
      "  \n",
      "c:\\users\\leo\\appdata\\local\\programs\\python\\python36\\lib\\site-packages\\ipykernel_launcher.py:13: UserWarning: Update your `Conv2D` call to the Keras 2 API: `Conv2D(1024, (1, 1))`\n",
      "  del sys.path[0]\n",
      "c:\\users\\leo\\appdata\\local\\programs\\python\\python36\\lib\\site-packages\\ipykernel_launcher.py:17: UserWarning: Update your `Conv2D` call to the Keras 2 API: `Conv2D(1024, (1, 1))`\n"
     ]
    },
    {
     "name": "stdout",
     "output_type": "stream",
     "text": [
      "Train on 90250 samples, validate on 4750 samples\n",
      "Epoch 1/20\n",
      " - 656s - loss: 0.0286 - acc: 0.0945 - val_loss: 0.0256 - val_acc: 0.1251\n",
      "Epoch 2/20\n",
      " - 647s - loss: 0.0230 - acc: 0.2114 - val_loss: 0.0231 - val_acc: 0.2038\n",
      "Epoch 3/20\n",
      " - 647s - loss: 0.0209 - acc: 0.2822 - val_loss: 0.0222 - val_acc: 0.2354\n",
      "Epoch 4/20\n",
      " - 647s - loss: 0.0191 - acc: 0.3453 - val_loss: 0.0206 - val_acc: 0.2935\n",
      "Epoch 5/20\n",
      " - 652s - loss: 0.0177 - acc: 0.4001 - val_loss: 0.0209 - val_acc: 0.2901\n",
      "Epoch 6/20\n",
      " - 651s - loss: 0.0163 - acc: 0.4553 - val_loss: 0.0212 - val_acc: 0.3078\n",
      "Epoch 7/20\n",
      " - 651s - loss: 0.0150 - acc: 0.5081 - val_loss: 0.0194 - val_acc: 0.3592\n",
      "Epoch 8/20\n",
      " - 651s - loss: 0.0138 - acc: 0.5595 - val_loss: 0.0201 - val_acc: 0.3421\n",
      "Epoch 9/20\n",
      " - 650s - loss: 0.0125 - acc: 0.6126 - val_loss: 0.0189 - val_acc: 0.3806\n",
      "Epoch 10/20\n",
      " - 651s - loss: 0.0114 - acc: 0.6633 - val_loss: 0.0197 - val_acc: 0.3709\n",
      "Epoch 11/20\n",
      " - 651s - loss: 0.0102 - acc: 0.7177 - val_loss: 0.0205 - val_acc: 0.3817\n",
      "Epoch 12/20\n",
      " - 652s - loss: 0.0092 - acc: 0.7707 - val_loss: 0.0211 - val_acc: 0.3627\n",
      "Epoch 13/20\n",
      " - 652s - loss: 0.0082 - acc: 0.8209 - val_loss: 0.0228 - val_acc: 0.3632\n",
      "Epoch 14/20\n",
      " - 650s - loss: 0.0074 - acc: 0.8599 - val_loss: 0.0226 - val_acc: 0.3743\n",
      "Epoch 15/20\n"
     ]
    },
    {
     "ename": "KeyboardInterrupt",
     "evalue": "",
     "output_type": "error",
     "traceback": [
      "\u001b[1;31m---------------------------------------------------------------------------\u001b[0m",
      "\u001b[1;31mKeyboardInterrupt\u001b[0m                         Traceback (most recent call last)",
      "\u001b[1;32m<ipython-input-25-a310192c8b31>\u001b[0m in \u001b[0;36m<module>\u001b[1;34m()\u001b[0m\n\u001b[0;32m     27\u001b[0m \u001b[0mmodel\u001b[0m \u001b[1;33m=\u001b[0m \u001b[0mResNet8\u001b[0m\u001b[1;33m(\u001b[0m\u001b[1;33m)\u001b[0m\u001b[1;33m\u001b[0m\u001b[0m\n\u001b[0;32m     28\u001b[0m \u001b[0mmodel\u001b[0m\u001b[1;33m.\u001b[0m\u001b[0mcompile\u001b[0m\u001b[1;33m(\u001b[0m\u001b[0mloss\u001b[0m\u001b[1;33m=\u001b[0m\u001b[1;34m'poisson'\u001b[0m\u001b[1;33m,\u001b[0m\u001b[0moptimizer\u001b[0m\u001b[1;33m=\u001b[0m\u001b[1;34m'adam'\u001b[0m\u001b[1;33m,\u001b[0m\u001b[0mmetrics\u001b[0m\u001b[1;33m=\u001b[0m\u001b[1;33m[\u001b[0m\u001b[1;34m'accuracy'\u001b[0m\u001b[1;33m]\u001b[0m\u001b[1;33m)\u001b[0m\u001b[1;33m\u001b[0m\u001b[0m\n\u001b[1;32m---> 29\u001b[1;33m \u001b[0mhist\u001b[0m \u001b[1;33m=\u001b[0m \u001b[0mmodel\u001b[0m\u001b[1;33m.\u001b[0m\u001b[0mfit\u001b[0m\u001b[1;33m(\u001b[0m\u001b[0mtrain_x\u001b[0m\u001b[1;33m[\u001b[0m\u001b[1;33m:\u001b[0m\u001b[1;36m95000\u001b[0m\u001b[1;33m]\u001b[0m\u001b[1;33m,\u001b[0m\u001b[0mtrain_y\u001b[0m\u001b[1;33m[\u001b[0m\u001b[1;33m:\u001b[0m\u001b[1;36m95000\u001b[0m\u001b[1;33m]\u001b[0m\u001b[1;33m,\u001b[0m\u001b[0mbatch_size\u001b[0m\u001b[1;33m=\u001b[0m\u001b[1;36m100\u001b[0m\u001b[1;33m,\u001b[0m\u001b[0mepochs\u001b[0m\u001b[1;33m=\u001b[0m\u001b[1;36m20\u001b[0m\u001b[1;33m,\u001b[0m\u001b[0mverbose\u001b[0m\u001b[1;33m=\u001b[0m\u001b[1;36m2\u001b[0m\u001b[1;33m,\u001b[0m\u001b[0mvalidation_split\u001b[0m\u001b[1;33m=\u001b[0m\u001b[1;36m0.05\u001b[0m\u001b[1;33m)\u001b[0m\u001b[1;33m\u001b[0m\u001b[0m\n\u001b[0m",
      "\u001b[1;32mc:\\users\\leo\\appdata\\local\\programs\\python\\python36\\lib\\site-packages\\keras\\engine\\training.py\u001b[0m in \u001b[0;36mfit\u001b[1;34m(self, x, y, batch_size, epochs, verbose, callbacks, validation_split, validation_data, shuffle, class_weight, sample_weight, initial_epoch, steps_per_epoch, validation_steps, **kwargs)\u001b[0m\n\u001b[0;32m   1035\u001b[0m                                         \u001b[0minitial_epoch\u001b[0m\u001b[1;33m=\u001b[0m\u001b[0minitial_epoch\u001b[0m\u001b[1;33m,\u001b[0m\u001b[1;33m\u001b[0m\u001b[0m\n\u001b[0;32m   1036\u001b[0m                                         \u001b[0msteps_per_epoch\u001b[0m\u001b[1;33m=\u001b[0m\u001b[0msteps_per_epoch\u001b[0m\u001b[1;33m,\u001b[0m\u001b[1;33m\u001b[0m\u001b[0m\n\u001b[1;32m-> 1037\u001b[1;33m                                         validation_steps=validation_steps)\n\u001b[0m\u001b[0;32m   1038\u001b[0m \u001b[1;33m\u001b[0m\u001b[0m\n\u001b[0;32m   1039\u001b[0m     def evaluate(self, x=None, y=None,\n",
      "\u001b[1;32mc:\\users\\leo\\appdata\\local\\programs\\python\\python36\\lib\\site-packages\\keras\\engine\\training_arrays.py\u001b[0m in \u001b[0;36mfit_loop\u001b[1;34m(model, f, ins, out_labels, batch_size, epochs, verbose, callbacks, val_f, val_ins, shuffle, callback_metrics, initial_epoch, steps_per_epoch, validation_steps)\u001b[0m\n\u001b[0;32m    197\u001b[0m                     \u001b[0mins_batch\u001b[0m\u001b[1;33m[\u001b[0m\u001b[0mi\u001b[0m\u001b[1;33m]\u001b[0m \u001b[1;33m=\u001b[0m \u001b[0mins_batch\u001b[0m\u001b[1;33m[\u001b[0m\u001b[0mi\u001b[0m\u001b[1;33m]\u001b[0m\u001b[1;33m.\u001b[0m\u001b[0mtoarray\u001b[0m\u001b[1;33m(\u001b[0m\u001b[1;33m)\u001b[0m\u001b[1;33m\u001b[0m\u001b[0m\n\u001b[0;32m    198\u001b[0m \u001b[1;33m\u001b[0m\u001b[0m\n\u001b[1;32m--> 199\u001b[1;33m                 \u001b[0mouts\u001b[0m \u001b[1;33m=\u001b[0m \u001b[0mf\u001b[0m\u001b[1;33m(\u001b[0m\u001b[0mins_batch\u001b[0m\u001b[1;33m)\u001b[0m\u001b[1;33m\u001b[0m\u001b[0m\n\u001b[0m\u001b[0;32m    200\u001b[0m                 \u001b[0mouts\u001b[0m \u001b[1;33m=\u001b[0m \u001b[0mto_list\u001b[0m\u001b[1;33m(\u001b[0m\u001b[0mouts\u001b[0m\u001b[1;33m)\u001b[0m\u001b[1;33m\u001b[0m\u001b[0m\n\u001b[0;32m    201\u001b[0m                 \u001b[1;32mfor\u001b[0m \u001b[0ml\u001b[0m\u001b[1;33m,\u001b[0m \u001b[0mo\u001b[0m \u001b[1;32min\u001b[0m \u001b[0mzip\u001b[0m\u001b[1;33m(\u001b[0m\u001b[0mout_labels\u001b[0m\u001b[1;33m,\u001b[0m \u001b[0mouts\u001b[0m\u001b[1;33m)\u001b[0m\u001b[1;33m:\u001b[0m\u001b[1;33m\u001b[0m\u001b[0m\n",
      "\u001b[1;32mc:\\users\\leo\\appdata\\local\\programs\\python\\python36\\lib\\site-packages\\keras\\backend\\tensorflow_backend.py\u001b[0m in \u001b[0;36m__call__\u001b[1;34m(self, inputs)\u001b[0m\n\u001b[0;32m   2664\u001b[0m                 \u001b[1;32mreturn\u001b[0m \u001b[0mself\u001b[0m\u001b[1;33m.\u001b[0m\u001b[0m_legacy_call\u001b[0m\u001b[1;33m(\u001b[0m\u001b[0minputs\u001b[0m\u001b[1;33m)\u001b[0m\u001b[1;33m\u001b[0m\u001b[0m\n\u001b[0;32m   2665\u001b[0m \u001b[1;33m\u001b[0m\u001b[0m\n\u001b[1;32m-> 2666\u001b[1;33m             \u001b[1;32mreturn\u001b[0m \u001b[0mself\u001b[0m\u001b[1;33m.\u001b[0m\u001b[0m_call\u001b[0m\u001b[1;33m(\u001b[0m\u001b[0minputs\u001b[0m\u001b[1;33m)\u001b[0m\u001b[1;33m\u001b[0m\u001b[0m\n\u001b[0m\u001b[0;32m   2667\u001b[0m         \u001b[1;32melse\u001b[0m\u001b[1;33m:\u001b[0m\u001b[1;33m\u001b[0m\u001b[0m\n\u001b[0;32m   2668\u001b[0m             \u001b[1;32mif\u001b[0m \u001b[0mpy_any\u001b[0m\u001b[1;33m(\u001b[0m\u001b[0mis_tensor\u001b[0m\u001b[1;33m(\u001b[0m\u001b[0mx\u001b[0m\u001b[1;33m)\u001b[0m \u001b[1;32mfor\u001b[0m \u001b[0mx\u001b[0m \u001b[1;32min\u001b[0m \u001b[0minputs\u001b[0m\u001b[1;33m)\u001b[0m\u001b[1;33m:\u001b[0m\u001b[1;33m\u001b[0m\u001b[0m\n",
      "\u001b[1;32mc:\\users\\leo\\appdata\\local\\programs\\python\\python36\\lib\\site-packages\\keras\\backend\\tensorflow_backend.py\u001b[0m in \u001b[0;36m_call\u001b[1;34m(self, inputs)\u001b[0m\n\u001b[0;32m   2634\u001b[0m                                 \u001b[0msymbol_vals\u001b[0m\u001b[1;33m,\u001b[0m\u001b[1;33m\u001b[0m\u001b[0m\n\u001b[0;32m   2635\u001b[0m                                 session)\n\u001b[1;32m-> 2636\u001b[1;33m         \u001b[0mfetched\u001b[0m \u001b[1;33m=\u001b[0m \u001b[0mself\u001b[0m\u001b[1;33m.\u001b[0m\u001b[0m_callable_fn\u001b[0m\u001b[1;33m(\u001b[0m\u001b[1;33m*\u001b[0m\u001b[0marray_vals\u001b[0m\u001b[1;33m)\u001b[0m\u001b[1;33m\u001b[0m\u001b[0m\n\u001b[0m\u001b[0;32m   2637\u001b[0m         \u001b[1;32mreturn\u001b[0m \u001b[0mfetched\u001b[0m\u001b[1;33m[\u001b[0m\u001b[1;33m:\u001b[0m\u001b[0mlen\u001b[0m\u001b[1;33m(\u001b[0m\u001b[0mself\u001b[0m\u001b[1;33m.\u001b[0m\u001b[0moutputs\u001b[0m\u001b[1;33m)\u001b[0m\u001b[1;33m]\u001b[0m\u001b[1;33m\u001b[0m\u001b[0m\n\u001b[0;32m   2638\u001b[0m \u001b[1;33m\u001b[0m\u001b[0m\n",
      "\u001b[1;32mc:\\users\\leo\\appdata\\local\\programs\\python\\python36\\lib\\site-packages\\tensorflow\\python\\client\\session.py\u001b[0m in \u001b[0;36m__call__\u001b[1;34m(self, *args, **kwargs)\u001b[0m\n\u001b[0;32m   1380\u001b[0m           ret = tf_session.TF_SessionRunCallable(\n\u001b[0;32m   1381\u001b[0m               \u001b[0mself\u001b[0m\u001b[1;33m.\u001b[0m\u001b[0m_session\u001b[0m\u001b[1;33m.\u001b[0m\u001b[0m_session\u001b[0m\u001b[1;33m,\u001b[0m \u001b[0mself\u001b[0m\u001b[1;33m.\u001b[0m\u001b[0m_handle\u001b[0m\u001b[1;33m,\u001b[0m \u001b[0margs\u001b[0m\u001b[1;33m,\u001b[0m \u001b[0mstatus\u001b[0m\u001b[1;33m,\u001b[0m\u001b[1;33m\u001b[0m\u001b[0m\n\u001b[1;32m-> 1382\u001b[1;33m               run_metadata_ptr)\n\u001b[0m\u001b[0;32m   1383\u001b[0m         \u001b[1;32mif\u001b[0m \u001b[0mrun_metadata\u001b[0m\u001b[1;33m:\u001b[0m\u001b[1;33m\u001b[0m\u001b[0m\n\u001b[0;32m   1384\u001b[0m           \u001b[0mproto_data\u001b[0m \u001b[1;33m=\u001b[0m \u001b[0mtf_session\u001b[0m\u001b[1;33m.\u001b[0m\u001b[0mTF_GetBuffer\u001b[0m\u001b[1;33m(\u001b[0m\u001b[0mrun_metadata_ptr\u001b[0m\u001b[1;33m)\u001b[0m\u001b[1;33m\u001b[0m\u001b[0m\n",
      "\u001b[1;31mKeyboardInterrupt\u001b[0m: "
     ]
    }
   ],
   "source": [
    "def ResNet8():\n",
    "    \n",
    "    inp = Input(shape=(img_rows,img_cols,3))\n",
    "    out = ZeroPadding2D((3,3))(inp)\n",
    "    out = Convolution2D(64,7,7,subsample=(2,2))(inp)\n",
    "    out = BatchNormalization()(out) # same function as dropout\n",
    "    out = LeakyReLU(alpha=0.01)(out)\n",
    "    out = MaxPooling2D((3,3),strides=(2,2))(out)\n",
    "    \n",
    "   \n",
    "    out = block2(out,[256,256,1024])\n",
    "    out = block1(out,[256,256,1024])\n",
    "    out = block1(out,[256,256,1024])\n",
    "    out = block1(out,[256,256,1024])\n",
    "    out = block1(out,[256,256,1024])\n",
    "    \n",
    "    \n",
    "    out = AveragePooling2D((7,7))(out)\n",
    "    out = Flatten()(out)\n",
    "    out = Dense(200, activation='softmax')(out)\n",
    "    \n",
    "    \n",
    "    model = Model(inp,out)\n",
    "    \n",
    "    return model\n",
    "\n",
    "model = ResNet8()\n",
    "model.compile(loss='poisson',optimizer='adam',metrics=['accuracy'])\n",
    "hist = model.fit(train_x[:95000],train_y[:95000],batch_size=100,epochs=20,verbose=2,validation_split=0.05)\n"
   ]
  },
  {
   "cell_type": "code",
   "execution_count": 21,
   "metadata": {
    "scrolled": true
   },
   "outputs": [],
   "source": [
    "a = hist.history['val_acc']"
   ]
  },
  {
   "cell_type": "code",
   "execution_count": 24,
   "metadata": {
    "scrolled": true
   },
   "outputs": [
    {
     "name": "stdout",
     "output_type": "stream",
     "text": [
      "<class 'numpy.float64'>\n"
     ]
    }
   ],
   "source": [
    "print(type(a[0]))"
   ]
  },
  {
   "cell_type": "code",
   "execution_count": null,
   "metadata": {},
   "outputs": [],
   "source": [
    "from keras import optimizers"
   ]
  },
  {
   "cell_type": "code",
   "execution_count": null,
   "metadata": {},
   "outputs": [],
   "source": [
    "def ResNet8ex():\n",
    "    \n",
    "    inp = Input(shape=(img_rows,img_cols,3))\n",
    "    out = ZeroPadding2D((3,3))(inp)\n",
    "    out = Convolution2D(64,7,7,subsample=(2,2))(inp)\n",
    "    out = BatchNormalization()(out) # same function as dropout\n",
    "    out = LeakyReLU(alpha=0.01)(out)\n",
    "    out = MaxPooling2D((3,3),strides=(2,2))(out)\n",
    "    \n",
    "   \n",
    "    out = block2(out,[256,256,1024])\n",
    "    out = block1(out,[256,256,1024])\n",
    "    out = block1(out,[256,256,1024])\n",
    "    out = block1(out,[256,256,1024])\n",
    "    \n",
    "    \n",
    "    out = AveragePooling2D((7,7))(out)\n",
    "    out = Flatten()(out)\n",
    "    out = Dense(200, activation='softmax')(out)\n",
    "    \n",
    "    \n",
    "    model = Model(inp,out)\n",
    "    \n",
    "    return model\n",
    "\n",
    "\n",
    "adamlr = optimizers.Adam(lr=0.001/, beta_1=0.9, beta_2=0.999, epsilon=None, decay=0.0, amsgrad=False)\n",
    "model = ResNet8ex()\n",
    "model.compile(loss='poisson',optimizer=adamlr,metrics=['accuracy'])\n",
    "hist = model.fit(train_x[:95000],train_y[:95000],batch_size=100,epochs=20,verbose=2,validation_split=0.05)\n"
   ]
  }
 ],
 "metadata": {
  "kernelspec": {
   "display_name": "Python 3",
   "language": "python",
   "name": "python3"
  },
  "language_info": {
   "codemirror_mode": {
    "name": "ipython",
    "version": 3
   },
   "file_extension": ".py",
   "mimetype": "text/x-python",
   "name": "python",
   "nbconvert_exporter": "python",
   "pygments_lexer": "ipython3",
   "version": "3.6.5"
  }
 },
 "nbformat": 4,
 "nbformat_minor": 2
}
