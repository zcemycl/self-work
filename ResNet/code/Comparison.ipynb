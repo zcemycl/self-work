{
 "cells": [
  {
   "cell_type": "code",
   "execution_count": 1,
   "metadata": {},
   "outputs": [],
   "source": [
    "import numpy as np \n",
    "import pandas as pd\n",
    "import matplotlib.pyplot as plt\n",
    "import cv2\n",
    "import os\n",
    "import random\n",
    "from random import shuffle\n",
    "from IPython.display import Image, display\n",
    "from tqdm import tqdm\n",
    "from tensorflow.python import keras"
   ]
  },
  {
   "cell_type": "code",
   "execution_count": 2,
   "metadata": {},
   "outputs": [
    {
     "name": "stdout",
     "output_type": "stream",
     "text": [
      "['test', 'train', 'val', 'wnids.txt', 'words.txt']\n"
     ]
    }
   ],
   "source": [
    "DIR = 'C:/Users/Leo/Desktop/Cambridge/Probably_right_notes/Computer_Vision/mini-project/tiny-imagenet-200/tiny-imagenet-200'\n",
    "file = os.listdir(DIR)\n",
    "print(file)\n",
    "\n",
    "img_rows, img_cols = 64,64\n",
    "num_classes = 200\n"
   ]
  },
  {
   "cell_type": "code",
   "execution_count": 3,
   "metadata": {},
   "outputs": [],
   "source": [
    "train_x = np.load('train_x.npy')\n",
    "train_y = np.load('train_y.npy')"
   ]
  },
  {
   "cell_type": "code",
   "execution_count": 4,
   "metadata": {},
   "outputs": [],
   "source": [
    "from sklearn.model_selection import train_test_split\n",
    "from tensorflow.python import keras\n",
    "from tensorflow.python.keras.models import Sequential\n",
    "from tensorflow.python.keras.layers import Dense, Flatten, Conv2D, Dropout"
   ]
  },
  {
   "cell_type": "code",
   "execution_count": 5,
   "metadata": {},
   "outputs": [
    {
     "name": "stderr",
     "output_type": "stream",
     "text": [
      "Using TensorFlow backend.\n"
     ]
    }
   ],
   "source": [
    "from keras.models import Sequential, load_model\n",
    "from keras.layers import Dense, Dropout, Activation, Flatten, Input, Convolution2D, MaxPooling2D\n",
    "from keras.callbacks import Callback"
   ]
  },
  {
   "cell_type": "code",
   "execution_count": 6,
   "metadata": {},
   "outputs": [],
   "source": [
    "def test_acc(model,datax,datay):\n",
    "    preds = model.predict(datax)\n",
    "    pred_index = np.argmax(preds, axis=1)\n",
    "    trainlabel = np.argmax(datay,axis=1)\n",
    "    bolcom = np.equal(trainlabel,pred_index)\n",
    "    test_accuracy = sum(bolcom)/pred_index.shape*100\n",
    "    print('Test Accuracy',test_accuracy)\n",
    "    return test_accuracy"
   ]
  },
  {
   "cell_type": "markdown",
   "metadata": {},
   "source": [
    "# Part 1"
   ]
  },
  {
   "cell_type": "markdown",
   "metadata": {},
   "source": [
    "## Compare CNN and FC NN"
   ]
  },
  {
   "cell_type": "code",
   "execution_count": 28,
   "metadata": {
    "scrolled": true
   },
   "outputs": [
    {
     "name": "stderr",
     "output_type": "stream",
     "text": [
      "c:\\users\\leo\\appdata\\local\\programs\\python\\python36\\lib\\site-packages\\ipykernel_launcher.py:3: UserWarning: Update your `Conv2D` call to the Keras 2 API: `Conv2D(32, (3, 3), activation=\"relu\", input_shape=(64, 64, 3...)`\n",
      "  This is separate from the ipykernel package so we can avoid doing imports until\n"
     ]
    },
    {
     "name": "stdout",
     "output_type": "stream",
     "text": [
      "Train on 90250 samples, validate on 9750 samples\n",
      "Epoch 1/5\n",
      " - 48s - loss: 5.2885 - acc: 0.0063 - val_loss: 5.1440 - val_acc: 0.0149\n",
      "Epoch 2/5\n",
      " - 45s - loss: 5.0472 - acc: 0.0228 - val_loss: 4.7576 - val_acc: 0.0587\n",
      "Epoch 3/5\n",
      " - 45s - loss: 4.8163 - acc: 0.0406 - val_loss: 4.5489 - val_acc: 0.0910\n",
      "Epoch 4/5\n",
      " - 45s - loss: 4.6703 - acc: 0.0511 - val_loss: 4.4280 - val_acc: 0.0969\n",
      "Epoch 5/5\n",
      " - 45s - loss: 4.5737 - acc: 0.0608 - val_loss: 4.3744 - val_acc: 0.1057\n"
     ]
    },
    {
     "data": {
      "text/plain": [
       "<keras.callbacks.History at 0x23b51236f60>"
      ]
     },
     "execution_count": 28,
     "metadata": {},
     "output_type": "execute_result"
    }
   ],
   "source": [
    "model = Sequential()\n",
    "\n",
    "model.add(Convolution2D(32,3,3,activation='relu',input_shape=(img_rows,img_cols,3)))\n",
    "model.add(MaxPooling2D(pool_size=(2,2)))\n",
    "model.add(Dropout(0.25))\n",
    "model.add(Flatten())\n",
    "\n",
    "model.add(Dense(256,activation='relu'))\n",
    "model.add(Dropout(0.5))\n",
    "model.add(Dense(num_classes,activation='softmax'))\n",
    "\n",
    "model.compile(loss='categorical_crossentropy',optimizer='adam',metrics=['accuracy'])\n",
    "model.fit(train_x[:90250],train_y[:90250],batch_size=100,epochs=5,verbose=2,validation_data=(train_x[90250:],train_y[90250:]))"
   ]
  },
  {
   "cell_type": "code",
   "execution_count": 29,
   "metadata": {},
   "outputs": [
    {
     "name": "stdout",
     "output_type": "stream",
     "text": [
      "Test Accuracy [10.5]\n"
     ]
    },
    {
     "data": {
      "text/plain": [
       "array([10.5])"
      ]
     },
     "execution_count": 29,
     "metadata": {},
     "output_type": "execute_result"
    }
   ],
   "source": [
    "test_acc(model,train_x[95000:],train_y[95000:])"
   ]
  },
  {
   "cell_type": "code",
   "execution_count": 30,
   "metadata": {},
   "outputs": [
    {
     "name": "stdout",
     "output_type": "stream",
     "text": [
      "Train on 90250 samples, validate on 9750 samples\n",
      "Epoch 1/5\n",
      " - 23s - loss: 5.3047 - acc: 0.0050 - val_loss: 5.2974 - val_acc: 0.0042\n",
      "Epoch 2/5\n",
      " - 21s - loss: 5.2941 - acc: 0.0060 - val_loss: 5.2940 - val_acc: 0.0052\n",
      "Epoch 3/5\n",
      " - 21s - loss: 5.2955 - acc: 0.0053 - val_loss: 5.2929 - val_acc: 0.0055\n",
      "Epoch 4/5\n",
      " - 21s - loss: 5.2937 - acc: 0.0056 - val_loss: 5.2786 - val_acc: 0.0063\n",
      "Epoch 5/5\n",
      " - 21s - loss: 5.2915 - acc: 0.0061 - val_loss: 5.2772 - val_acc: 0.0057\n"
     ]
    },
    {
     "data": {
      "text/plain": [
       "<keras.callbacks.History at 0x23b7b931da0>"
      ]
     },
     "execution_count": 30,
     "metadata": {},
     "output_type": "execute_result"
    }
   ],
   "source": [
    "model = Sequential()\n",
    "\n",
    "model.add(Flatten(input_shape=(img_rows,img_cols,3)))\n",
    "\n",
    "model.add(Dense(256,activation='relu'))\n",
    "model.add(Dropout(0.5))\n",
    "model.add(Dense(num_classes,activation='softmax'))\n",
    "\n",
    "model.compile(loss='categorical_crossentropy',optimizer='adam',metrics=['accuracy'])\n",
    "model.fit(train_x[:90250],train_y[:90250],batch_size=100,epochs=5,verbose=2,validation_data=(train_x[90250:],train_y[90250:]))"
   ]
  },
  {
   "cell_type": "code",
   "execution_count": 32,
   "metadata": {},
   "outputs": [
    {
     "name": "stdout",
     "output_type": "stream",
     "text": [
      "Test Accuracy [0.48]\n"
     ]
    },
    {
     "data": {
      "text/plain": [
       "array([0.48])"
      ]
     },
     "execution_count": 32,
     "metadata": {},
     "output_type": "execute_result"
    }
   ],
   "source": [
    "test_acc(model,train_x[95000:],train_y[95000:])"
   ]
  },
  {
   "cell_type": "code",
   "execution_count": 33,
   "metadata": {},
   "outputs": [
    {
     "name": "stdout",
     "output_type": "stream",
     "text": [
      "Train on 90250 samples, validate on 9750 samples\n",
      "Epoch 1/5\n",
      " - 40s - loss: 5.3300 - acc: 0.0045 - val_loss: 5.2993 - val_acc: 0.0037\n",
      "Epoch 2/5\n",
      " - 38s - loss: 5.2999 - acc: 0.0047 - val_loss: 5.2997 - val_acc: 0.0035\n",
      "Epoch 3/5\n",
      " - 39s - loss: 5.2995 - acc: 0.0044 - val_loss: 5.3000 - val_acc: 0.0035\n",
      "Epoch 4/5\n",
      " - 38s - loss: 5.2996 - acc: 0.0047 - val_loss: 5.3001 - val_acc: 0.0035\n",
      "Epoch 5/5\n",
      " - 38s - loss: 5.2993 - acc: 0.0047 - val_loss: 5.3001 - val_acc: 0.0036\n"
     ]
    },
    {
     "data": {
      "text/plain": [
       "<keras.callbacks.History at 0x23b815603c8>"
      ]
     },
     "execution_count": 33,
     "metadata": {},
     "output_type": "execute_result"
    }
   ],
   "source": [
    "model = Sequential()\n",
    "\n",
    "model.add(Flatten(input_shape=(img_rows,img_cols,3)))\n",
    "\n",
    "model.add(Dense(1024,activation='relu'))\n",
    "model.add(Dropout(0.5))\n",
    "model.add(Dense(256,activation='relu'))\n",
    "model.add(Dropout(0.5))\n",
    "model.add(Dense(num_classes,activation='softmax'))\n",
    "\n",
    "model.compile(loss='categorical_crossentropy',optimizer='adam',metrics=['accuracy'])\n",
    "model.fit(train_x[:90250],train_y[:90250],batch_size=100,epochs=5,verbose=2,validation_data=(train_x[90250:],train_y[90250:]))"
   ]
  },
  {
   "cell_type": "code",
   "execution_count": 34,
   "metadata": {},
   "outputs": [
    {
     "name": "stdout",
     "output_type": "stream",
     "text": [
      "Test Accuracy [0.34]\n"
     ]
    },
    {
     "data": {
      "text/plain": [
       "array([0.34])"
      ]
     },
     "execution_count": 34,
     "metadata": {},
     "output_type": "execute_result"
    }
   ],
   "source": [
    "test_acc(model,train_x[95000:],train_y[95000:])"
   ]
  },
  {
   "cell_type": "markdown",
   "metadata": {},
   "source": [
    "## Kernel size"
   ]
  },
  {
   "cell_type": "code",
   "execution_count": 35,
   "metadata": {},
   "outputs": [
    {
     "name": "stderr",
     "output_type": "stream",
     "text": [
      "c:\\users\\leo\\appdata\\local\\programs\\python\\python36\\lib\\site-packages\\ipykernel_launcher.py:3: UserWarning: Update your `Conv2D` call to the Keras 2 API: `Conv2D(32, (3, 3), activation=\"relu\", input_shape=(64, 64, 3...)`\n",
      "  This is separate from the ipykernel package so we can avoid doing imports until\n",
      "c:\\users\\leo\\appdata\\local\\programs\\python\\python36\\lib\\site-packages\\ipykernel_launcher.py:4: UserWarning: Update your `Conv2D` call to the Keras 2 API: `Conv2D(32, (3, 3), activation=\"relu\", input_shape=(64, 64, 3...)`\n",
      "  after removing the cwd from sys.path.\n"
     ]
    },
    {
     "name": "stdout",
     "output_type": "stream",
     "text": [
      "Train on 90250 samples, validate on 9750 samples\n",
      "Epoch 1/5\n",
      " - 64s - loss: 4.9297 - acc: 0.0345 - val_loss: 4.3738 - val_acc: 0.1102\n",
      "Epoch 2/5\n",
      " - 61s - loss: 4.3607 - acc: 0.0904 - val_loss: 4.0652 - val_acc: 0.1435\n",
      "Epoch 3/5\n",
      " - 61s - loss: 4.0900 - acc: 0.1226 - val_loss: 3.8563 - val_acc: 0.1758\n",
      "Epoch 4/5\n",
      " - 61s - loss: 3.8882 - acc: 0.1484 - val_loss: 3.8287 - val_acc: 0.1752\n",
      "Epoch 5/5\n",
      " - 62s - loss: 3.7044 - acc: 0.1735 - val_loss: 3.8186 - val_acc: 0.1764\n"
     ]
    },
    {
     "data": {
      "text/plain": [
       "<keras.callbacks.History at 0x23b5106a4e0>"
      ]
     },
     "execution_count": 35,
     "metadata": {},
     "output_type": "execute_result"
    }
   ],
   "source": [
    "model = Sequential()\n",
    "\n",
    "model.add(Convolution2D(32,3,3,activation='relu',input_shape=(img_rows,img_cols,3)))\n",
    "model.add(Convolution2D(32,3,3,activation='relu'))\n",
    "model.add(MaxPooling2D(pool_size=(2,2)))\n",
    "model.add(Dropout(0.25))\n",
    "model.add(Flatten())\n",
    "\n",
    "model.add(Dense(256,activation='relu'))\n",
    "model.add(Dropout(0.5))\n",
    "model.add(Dense(num_classes,activation='softmax'))\n",
    "\n",
    "model.compile(loss='categorical_crossentropy',optimizer='adam',metrics=['accuracy'])\n",
    "model.fit(train_x[:90250],train_y[:90250],batch_size=100,epochs=5,verbose=2,validation_data=(train_x[90250:],train_y[90250:]))"
   ]
  },
  {
   "cell_type": "code",
   "execution_count": 36,
   "metadata": {},
   "outputs": [
    {
     "name": "stdout",
     "output_type": "stream",
     "text": [
      "Test Accuracy [17.66]\n"
     ]
    },
    {
     "data": {
      "text/plain": [
       "array([17.66])"
      ]
     },
     "execution_count": 36,
     "metadata": {},
     "output_type": "execute_result"
    }
   ],
   "source": [
    "test_acc(model,train_x[95000:],train_y[95000:])"
   ]
  },
  {
   "cell_type": "code",
   "execution_count": 37,
   "metadata": {},
   "outputs": [
    {
     "name": "stderr",
     "output_type": "stream",
     "text": [
      "c:\\users\\leo\\appdata\\local\\programs\\python\\python36\\lib\\site-packages\\ipykernel_launcher.py:3: UserWarning: Update your `Conv2D` call to the Keras 2 API: `Conv2D(32, (3, 3), activation=\"relu\", input_shape=(64, 64, 3...)`\n",
      "  This is separate from the ipykernel package so we can avoid doing imports until\n",
      "c:\\users\\leo\\appdata\\local\\programs\\python\\python36\\lib\\site-packages\\ipykernel_launcher.py:4: UserWarning: Update your `Conv2D` call to the Keras 2 API: `Conv2D(32, (5, 3), activation=\"relu\", input_shape=(64, 64, 3...)`\n",
      "  after removing the cwd from sys.path.\n"
     ]
    },
    {
     "name": "stdout",
     "output_type": "stream",
     "text": [
      "Train on 90250 samples, validate on 9750 samples\n",
      "Epoch 1/5\n",
      " - 73s - loss: 4.9810 - acc: 0.0291 - val_loss: 4.4483 - val_acc: 0.0858\n",
      "Epoch 2/5\n",
      " - 71s - loss: 4.3743 - acc: 0.0887 - val_loss: 4.0433 - val_acc: 0.1479\n",
      "Epoch 3/5\n",
      " - 71s - loss: 4.0613 - acc: 0.1279 - val_loss: 3.8774 - val_acc: 0.1729\n",
      "Epoch 4/5\n",
      " - 72s - loss: 3.8311 - acc: 0.1578 - val_loss: 3.7837 - val_acc: 0.1805\n",
      "Epoch 5/5\n",
      " - 72s - loss: 3.6381 - acc: 0.1841 - val_loss: 3.7794 - val_acc: 0.1773\n",
      "Test Accuracy [17.72]\n"
     ]
    },
    {
     "data": {
      "text/plain": [
       "array([17.72])"
      ]
     },
     "execution_count": 37,
     "metadata": {},
     "output_type": "execute_result"
    }
   ],
   "source": [
    "model = Sequential()\n",
    "\n",
    "model.add(Convolution2D(32,3,3,activation='relu',input_shape=(img_rows,img_cols,3)))\n",
    "model.add(Convolution2D(32,5,3,activation='relu'))\n",
    "model.add(MaxPooling2D(pool_size=(2,2)))\n",
    "model.add(Dropout(0.25))\n",
    "model.add(Flatten())\n",
    "\n",
    "model.add(Dense(256,activation='relu'))\n",
    "model.add(Dropout(0.5))\n",
    "model.add(Dense(num_classes,activation='softmax'))\n",
    "\n",
    "model.compile(loss='categorical_crossentropy',optimizer='adam',metrics=['accuracy'])\n",
    "model.fit(train_x[:90250],train_y[:90250],batch_size=100,epochs=5,verbose=2,validation_data=(train_x[90250:],train_y[90250:]))\n",
    "test_acc(model,train_x[95000:],train_y[95000:])"
   ]
  },
  {
   "cell_type": "code",
   "execution_count": 39,
   "metadata": {},
   "outputs": [
    {
     "name": "stderr",
     "output_type": "stream",
     "text": [
      "c:\\users\\leo\\appdata\\local\\programs\\python\\python36\\lib\\site-packages\\ipykernel_launcher.py:3: UserWarning: Update your `Conv2D` call to the Keras 2 API: `Conv2D(32, (3, 3), activation=\"relu\", input_shape=(64, 64, 3...)`\n",
      "  This is separate from the ipykernel package so we can avoid doing imports until\n",
      "c:\\users\\leo\\appdata\\local\\programs\\python\\python36\\lib\\site-packages\\ipykernel_launcher.py:4: UserWarning: Update your `Conv2D` call to the Keras 2 API: `Conv2D(32, (1, 3), activation=\"relu\")`\n",
      "  after removing the cwd from sys.path.\n"
     ]
    },
    {
     "name": "stdout",
     "output_type": "stream",
     "text": [
      "Train on 90250 samples, validate on 9750 samples\n",
      "Epoch 1/5\n",
      " - 59s - loss: 5.0178 - acc: 0.0253 - val_loss: 4.5867 - val_acc: 0.0817\n",
      "Epoch 2/5\n",
      " - 57s - loss: 4.6103 - acc: 0.0594 - val_loss: 4.2739 - val_acc: 0.1245\n",
      "Epoch 3/5\n",
      " - 56s - loss: 4.3864 - acc: 0.0825 - val_loss: 4.0967 - val_acc: 0.1428\n",
      "Epoch 4/5\n",
      " - 56s - loss: 4.2582 - acc: 0.0955 - val_loss: 4.0293 - val_acc: 0.1451\n",
      "Epoch 5/5\n",
      " - 56s - loss: 4.1469 - acc: 0.1067 - val_loss: 3.9833 - val_acc: 0.1584\n",
      "Test Accuracy [15.66]\n"
     ]
    },
    {
     "data": {
      "text/plain": [
       "array([15.66])"
      ]
     },
     "execution_count": 39,
     "metadata": {},
     "output_type": "execute_result"
    }
   ],
   "source": [
    "model = Sequential()\n",
    "\n",
    "model.add(Convolution2D(32,3,3,activation='relu',input_shape=(img_rows,img_cols,3)))\n",
    "model.add(Convolution2D(32,1,3,activation='relu'))\n",
    "model.add(MaxPooling2D(pool_size=(2,2)))\n",
    "model.add(Dropout(0.25))\n",
    "model.add(Flatten())\n",
    "\n",
    "model.add(Dense(256,activation='relu'))\n",
    "model.add(Dropout(0.5))\n",
    "model.add(Dense(num_classes,activation='softmax'))\n",
    "\n",
    "model.compile(loss='categorical_crossentropy',optimizer='adam',metrics=['accuracy'])\n",
    "model.fit(train_x[:90250],train_y[:90250],batch_size=100,epochs=5,verbose=2,validation_data=(train_x[90250:],train_y[90250:]))\n",
    "test_acc(model,train_x[95000:],train_y[95000:])"
   ]
  },
  {
   "cell_type": "code",
   "execution_count": 40,
   "metadata": {},
   "outputs": [
    {
     "name": "stderr",
     "output_type": "stream",
     "text": [
      "c:\\users\\leo\\appdata\\local\\programs\\python\\python36\\lib\\site-packages\\ipykernel_launcher.py:3: UserWarning: Update your `Conv2D` call to the Keras 2 API: `Conv2D(32, (3, 3), activation=\"relu\", input_shape=(64, 64, 3...)`\n",
      "  This is separate from the ipykernel package so we can avoid doing imports until\n",
      "c:\\users\\leo\\appdata\\local\\programs\\python\\python36\\lib\\site-packages\\ipykernel_launcher.py:4: UserWarning: Update your `Conv2D` call to the Keras 2 API: `Conv2D(32, (7, 3), activation=\"relu\")`\n",
      "  after removing the cwd from sys.path.\n"
     ]
    },
    {
     "name": "stdout",
     "output_type": "stream",
     "text": [
      "Train on 90250 samples, validate on 9750 samples\n",
      "Epoch 1/5\n",
      " - 77s - loss: 5.0026 - acc: 0.0295 - val_loss: 4.5042 - val_acc: 0.0889\n",
      "Epoch 2/5\n",
      " - 75s - loss: 4.3732 - acc: 0.0910 - val_loss: 4.0148 - val_acc: 0.1517\n",
      "Epoch 3/5\n",
      " - 75s - loss: 4.0062 - acc: 0.1376 - val_loss: 3.8358 - val_acc: 0.1781\n",
      "Epoch 4/5\n",
      " - 76s - loss: 3.7333 - acc: 0.1768 - val_loss: 3.7870 - val_acc: 0.1825\n",
      "Epoch 5/5\n",
      " - 75s - loss: 3.4755 - acc: 0.2145 - val_loss: 3.7380 - val_acc: 0.1889\n",
      "Test Accuracy [18.94]\n"
     ]
    },
    {
     "data": {
      "text/plain": [
       "array([18.94])"
      ]
     },
     "execution_count": 40,
     "metadata": {},
     "output_type": "execute_result"
    }
   ],
   "source": [
    "model = Sequential()\n",
    "\n",
    "model.add(Convolution2D(32,3,3,activation='relu',input_shape=(img_rows,img_cols,3)))\n",
    "model.add(Convolution2D(32,7,3,activation='relu'))\n",
    "model.add(MaxPooling2D(pool_size=(2,2)))\n",
    "model.add(Dropout(0.25))\n",
    "model.add(Flatten())\n",
    "\n",
    "model.add(Dense(256,activation='relu'))\n",
    "model.add(Dropout(0.5))\n",
    "model.add(Dense(num_classes,activation='softmax'))\n",
    "\n",
    "model.compile(loss='categorical_crossentropy',optimizer='adam',metrics=['accuracy'])\n",
    "model.fit(train_x[:90250],train_y[:90250],batch_size=100,epochs=5,verbose=2,validation_data=(train_x[90250:],train_y[90250:]))\n",
    "test_acc(model,train_x[95000:],train_y[95000:])"
   ]
  },
  {
   "cell_type": "markdown",
   "metadata": {},
   "source": [
    "## stride"
   ]
  },
  {
   "cell_type": "code",
   "execution_count": 41,
   "metadata": {},
   "outputs": [
    {
     "name": "stderr",
     "output_type": "stream",
     "text": [
      "c:\\users\\leo\\appdata\\local\\programs\\python\\python36\\lib\\site-packages\\ipykernel_launcher.py:3: UserWarning: Update your `Conv2D` call to the Keras 2 API: `Conv2D(32, (3, 3), activation=\"relu\", input_shape=(64, 64, 3...)`\n",
      "  This is separate from the ipykernel package so we can avoid doing imports until\n",
      "c:\\users\\leo\\appdata\\local\\programs\\python\\python36\\lib\\site-packages\\ipykernel_launcher.py:4: UserWarning: Update your `Conv2D` call to the Keras 2 API: `Conv2D(32, (3, 2), activation=\"relu\")`\n",
      "  after removing the cwd from sys.path.\n"
     ]
    },
    {
     "name": "stdout",
     "output_type": "stream",
     "text": [
      "Train on 90250 samples, validate on 9750 samples\n",
      "Epoch 1/5\n",
      " - 64s - loss: 4.9584 - acc: 0.0333 - val_loss: 4.4541 - val_acc: 0.0969\n",
      "Epoch 2/5\n",
      " - 61s - loss: 4.3294 - acc: 0.0971 - val_loss: 4.0025 - val_acc: 0.1566\n",
      "Epoch 3/5\n",
      " - 62s - loss: 3.9535 - acc: 0.1453 - val_loss: 3.8917 - val_acc: 0.1681\n",
      "Epoch 4/5\n",
      " - 62s - loss: 3.6693 - acc: 0.1849 - val_loss: 3.8085 - val_acc: 0.1830\n",
      "Epoch 5/5\n",
      " - 61s - loss: 3.4254 - acc: 0.2209 - val_loss: 3.7712 - val_acc: 0.1830\n",
      "Test Accuracy [18.12]\n"
     ]
    },
    {
     "data": {
      "text/plain": [
       "array([18.12])"
      ]
     },
     "execution_count": 41,
     "metadata": {},
     "output_type": "execute_result"
    }
   ],
   "source": [
    "model = Sequential()\n",
    "\n",
    "model.add(Convolution2D(32,3,3,activation='relu',input_shape=(img_rows,img_cols,3)))\n",
    "model.add(Convolution2D(32,3,2,activation='relu'))\n",
    "model.add(MaxPooling2D(pool_size=(2,2)))\n",
    "model.add(Dropout(0.25))\n",
    "model.add(Flatten())\n",
    "\n",
    "model.add(Dense(256,activation='relu'))\n",
    "model.add(Dropout(0.5))\n",
    "model.add(Dense(num_classes,activation='softmax'))\n",
    "\n",
    "model.compile(loss='categorical_crossentropy',optimizer='adam',metrics=['accuracy'])\n",
    "model.fit(train_x[:90250],train_y[:90250],batch_size=100,epochs=5,verbose=2,validation_data=(train_x[90250:],train_y[90250:]))\n",
    "test_acc(model,train_x[95000:],train_y[95000:])"
   ]
  },
  {
   "cell_type": "code",
   "execution_count": 42,
   "metadata": {},
   "outputs": [
    {
     "name": "stderr",
     "output_type": "stream",
     "text": [
      "c:\\users\\leo\\appdata\\local\\programs\\python\\python36\\lib\\site-packages\\ipykernel_launcher.py:3: UserWarning: Update your `Conv2D` call to the Keras 2 API: `Conv2D(32, (3, 3), activation=\"relu\", input_shape=(64, 64, 3...)`\n",
      "  This is separate from the ipykernel package so we can avoid doing imports until\n",
      "c:\\users\\leo\\appdata\\local\\programs\\python\\python36\\lib\\site-packages\\ipykernel_launcher.py:4: UserWarning: Update your `Conv2D` call to the Keras 2 API: `Conv2D(32, (3, 1), activation=\"relu\")`\n",
      "  after removing the cwd from sys.path.\n"
     ]
    },
    {
     "name": "stdout",
     "output_type": "stream",
     "text": [
      "Train on 90250 samples, validate on 9750 samples\n",
      "Epoch 1/5\n",
      " - 60s - loss: 5.0718 - acc: 0.0225 - val_loss: 4.6629 - val_acc: 0.0640\n",
      "Epoch 2/5\n",
      " - 58s - loss: 4.6104 - acc: 0.0609 - val_loss: 4.2617 - val_acc: 0.1213\n",
      "Epoch 3/5\n",
      " - 58s - loss: 4.3757 - acc: 0.0844 - val_loss: 4.0890 - val_acc: 0.1347\n",
      "Epoch 4/5\n",
      " - 58s - loss: 4.2126 - acc: 0.1020 - val_loss: 4.0140 - val_acc: 0.1523\n",
      "Epoch 5/5\n",
      " - 58s - loss: 4.0791 - acc: 0.1190 - val_loss: 3.9226 - val_acc: 0.1650\n",
      "Test Accuracy [16.44]\n"
     ]
    },
    {
     "data": {
      "text/plain": [
       "array([16.44])"
      ]
     },
     "execution_count": 42,
     "metadata": {},
     "output_type": "execute_result"
    }
   ],
   "source": [
    "model = Sequential()\n",
    "\n",
    "model.add(Convolution2D(32,3,3,activation='relu',input_shape=(img_rows,img_cols,3)))\n",
    "model.add(Convolution2D(32,3,1,activation='relu'))\n",
    "model.add(MaxPooling2D(pool_size=(2,2)))\n",
    "model.add(Dropout(0.25))\n",
    "model.add(Flatten())\n",
    "\n",
    "model.add(Dense(256,activation='relu'))\n",
    "model.add(Dropout(0.5))\n",
    "model.add(Dense(num_classes,activation='softmax'))\n",
    "\n",
    "model.compile(loss='categorical_crossentropy',optimizer='adam',metrics=['accuracy'])\n",
    "model.fit(train_x[:90250],train_y[:90250],batch_size=100,epochs=5,verbose=2,validation_data=(train_x[90250:],train_y[90250:]))\n",
    "test_acc(model,train_x[95000:],train_y[95000:])"
   ]
  },
  {
   "cell_type": "code",
   "execution_count": 43,
   "metadata": {},
   "outputs": [
    {
     "name": "stderr",
     "output_type": "stream",
     "text": [
      "c:\\users\\leo\\appdata\\local\\programs\\python\\python36\\lib\\site-packages\\ipykernel_launcher.py:3: UserWarning: Update your `Conv2D` call to the Keras 2 API: `Conv2D(32, (3, 3), activation=\"relu\", input_shape=(64, 64, 3...)`\n",
      "  This is separate from the ipykernel package so we can avoid doing imports until\n",
      "c:\\users\\leo\\appdata\\local\\programs\\python\\python36\\lib\\site-packages\\ipykernel_launcher.py:4: UserWarning: Update your `Conv2D` call to the Keras 2 API: `Conv2D(32, (3, 4), activation=\"relu\")`\n",
      "  after removing the cwd from sys.path.\n"
     ]
    },
    {
     "name": "stdout",
     "output_type": "stream",
     "text": [
      "Train on 90250 samples, validate on 9750 samples\n",
      "Epoch 1/5\n",
      " - 69s - loss: 4.8443 - acc: 0.0444 - val_loss: 4.3078 - val_acc: 0.1251\n",
      "Epoch 2/5\n",
      " - 67s - loss: 4.2544 - acc: 0.1054 - val_loss: 3.9678 - val_acc: 0.1574\n",
      "Epoch 3/5\n",
      " - 67s - loss: 3.9581 - acc: 0.1452 - val_loss: 3.8418 - val_acc: 0.1815\n",
      "Epoch 4/5\n",
      " - 66s - loss: 3.7438 - acc: 0.1750 - val_loss: 3.7754 - val_acc: 0.1853\n",
      "Epoch 5/5\n",
      " - 66s - loss: 3.5506 - acc: 0.2006 - val_loss: 3.7570 - val_acc: 0.1796\n",
      "Test Accuracy [17.66]\n"
     ]
    },
    {
     "data": {
      "text/plain": [
       "array([17.66])"
      ]
     },
     "execution_count": 43,
     "metadata": {},
     "output_type": "execute_result"
    }
   ],
   "source": [
    "model = Sequential()\n",
    "\n",
    "model.add(Convolution2D(32,3,3,activation='relu',input_shape=(img_rows,img_cols,3)))\n",
    "model.add(Convolution2D(32,3,4,activation='relu'))\n",
    "model.add(MaxPooling2D(pool_size=(2,2)))\n",
    "model.add(Dropout(0.25))\n",
    "model.add(Flatten())\n",
    "\n",
    "model.add(Dense(256,activation='relu'))\n",
    "model.add(Dropout(0.5))\n",
    "model.add(Dense(num_classes,activation='softmax'))\n",
    "\n",
    "model.compile(loss='categorical_crossentropy',optimizer='adam',metrics=['accuracy'])\n",
    "model.fit(train_x[:90250],train_y[:90250],batch_size=100,epochs=5,verbose=2,validation_data=(train_x[90250:],train_y[90250:]))\n",
    "test_acc(model,train_x[95000:],train_y[95000:])"
   ]
  },
  {
   "cell_type": "markdown",
   "metadata": {},
   "source": [
    "## neuron in conv"
   ]
  },
  {
   "cell_type": "code",
   "execution_count": 44,
   "metadata": {},
   "outputs": [
    {
     "name": "stderr",
     "output_type": "stream",
     "text": [
      "c:\\users\\leo\\appdata\\local\\programs\\python\\python36\\lib\\site-packages\\ipykernel_launcher.py:3: UserWarning: Update your `Conv2D` call to the Keras 2 API: `Conv2D(32, (3, 3), activation=\"relu\", input_shape=(64, 64, 3...)`\n",
      "  This is separate from the ipykernel package so we can avoid doing imports until\n",
      "c:\\users\\leo\\appdata\\local\\programs\\python\\python36\\lib\\site-packages\\ipykernel_launcher.py:4: UserWarning: Update your `Conv2D` call to the Keras 2 API: `Conv2D(64, (3, 3), activation=\"relu\")`\n",
      "  after removing the cwd from sys.path.\n"
     ]
    },
    {
     "name": "stdout",
     "output_type": "stream",
     "text": [
      "Train on 90250 samples, validate on 9750 samples\n",
      "Epoch 1/5\n",
      " - 97s - loss: 4.9582 - acc: 0.0322 - val_loss: 4.3845 - val_acc: 0.1065\n",
      "Epoch 2/5\n",
      " - 94s - loss: 4.3746 - acc: 0.0860 - val_loss: 4.0317 - val_acc: 0.1503\n",
      "Epoch 3/5\n",
      " - 94s - loss: 4.0828 - acc: 0.1214 - val_loss: 3.8991 - val_acc: 0.1715\n",
      "Epoch 4/5\n",
      " - 96s - loss: 3.8655 - acc: 0.1486 - val_loss: 3.8164 - val_acc: 0.1802\n",
      "Epoch 5/5\n",
      " - 95s - loss: 3.6761 - acc: 0.1756 - val_loss: 3.8021 - val_acc: 0.1784\n",
      "Test Accuracy [17.6]\n"
     ]
    },
    {
     "data": {
      "text/plain": [
       "array([17.6])"
      ]
     },
     "execution_count": 44,
     "metadata": {},
     "output_type": "execute_result"
    }
   ],
   "source": [
    "model = Sequential()\n",
    "\n",
    "model.add(Convolution2D(32,3,3,activation='relu',input_shape=(img_rows,img_cols,3)))\n",
    "model.add(Convolution2D(64,3,3,activation='relu'))\n",
    "model.add(MaxPooling2D(pool_size=(2,2)))\n",
    "model.add(Dropout(0.25))\n",
    "model.add(Flatten())\n",
    "\n",
    "model.add(Dense(256,activation='relu'))\n",
    "model.add(Dropout(0.5))\n",
    "model.add(Dense(num_classes,activation='softmax'))\n",
    "\n",
    "model.compile(loss='categorical_crossentropy',optimizer='adam',metrics=['accuracy'])\n",
    "model.fit(train_x[:90250],train_y[:90250],batch_size=100,epochs=5,verbose=2,validation_data=(train_x[90250:],train_y[90250:]))\n",
    "test_acc(model,train_x[95000:],train_y[95000:])"
   ]
  },
  {
   "cell_type": "code",
   "execution_count": 45,
   "metadata": {},
   "outputs": [
    {
     "name": "stderr",
     "output_type": "stream",
     "text": [
      "c:\\users\\leo\\appdata\\local\\programs\\python\\python36\\lib\\site-packages\\ipykernel_launcher.py:3: UserWarning: Update your `Conv2D` call to the Keras 2 API: `Conv2D(32, (3, 3), activation=\"relu\", input_shape=(64, 64, 3...)`\n",
      "  This is separate from the ipykernel package so we can avoid doing imports until\n",
      "c:\\users\\leo\\appdata\\local\\programs\\python\\python36\\lib\\site-packages\\ipykernel_launcher.py:4: UserWarning: Update your `Conv2D` call to the Keras 2 API: `Conv2D(32, (3, 3), activation=\"relu\")`\n",
      "  after removing the cwd from sys.path.\n",
      "c:\\users\\leo\\appdata\\local\\programs\\python\\python36\\lib\\site-packages\\ipykernel_launcher.py:5: UserWarning: Update your `Conv2D` call to the Keras 2 API: `Conv2D(32, (3, 3), activation=\"relu\")`\n",
      "  \"\"\"\n"
     ]
    },
    {
     "name": "stdout",
     "output_type": "stream",
     "text": [
      "Train on 90250 samples, validate on 9750 samples\n",
      "Epoch 1/5\n",
      " - 81s - loss: 4.9950 - acc: 0.0309 - val_loss: 4.4778 - val_acc: 0.0961\n",
      "Epoch 2/5\n",
      " - 78s - loss: 4.3233 - acc: 0.0980 - val_loss: 3.9654 - val_acc: 0.1586\n",
      "Epoch 3/5\n",
      " - 78s - loss: 3.9458 - acc: 0.1454 - val_loss: 3.7787 - val_acc: 0.1794\n",
      "Epoch 4/5\n",
      " - 78s - loss: 3.6579 - acc: 0.1861 - val_loss: 3.6655 - val_acc: 0.1996\n",
      "Epoch 5/5\n",
      " - 78s - loss: 3.3864 - acc: 0.2261 - val_loss: 3.6899 - val_acc: 0.1918\n",
      "Test Accuracy [19.26]\n"
     ]
    },
    {
     "data": {
      "text/plain": [
       "array([19.26])"
      ]
     },
     "execution_count": 45,
     "metadata": {},
     "output_type": "execute_result"
    }
   ],
   "source": [
    "model = Sequential()\n",
    "\n",
    "model.add(Convolution2D(32,3,3,activation='relu',input_shape=(img_rows,img_cols,3)))\n",
    "model.add(Convolution2D(32,3,3,activation='relu'))\n",
    "model.add(Convolution2D(32,3,3,activation='relu'))\n",
    "model.add(MaxPooling2D(pool_size=(2,2)))\n",
    "model.add(Dropout(0.25))\n",
    "model.add(Flatten())\n",
    "\n",
    "model.add(Dense(256,activation='relu'))\n",
    "model.add(Dropout(0.5))\n",
    "model.add(Dense(num_classes,activation='softmax'))\n",
    "\n",
    "model.compile(loss='categorical_crossentropy',optimizer='adam',metrics=['accuracy'])\n",
    "model.fit(train_x[:90250],train_y[:90250],batch_size=100,epochs=5,verbose=2,validation_data=(train_x[90250:],train_y[90250:]))\n",
    "test_acc(model,train_x[95000:],train_y[95000:])"
   ]
  },
  {
   "cell_type": "markdown",
   "metadata": {},
   "source": [
    "## activation"
   ]
  },
  {
   "cell_type": "code",
   "execution_count": 46,
   "metadata": {},
   "outputs": [
    {
     "name": "stderr",
     "output_type": "stream",
     "text": [
      "c:\\users\\leo\\appdata\\local\\programs\\python\\python36\\lib\\site-packages\\ipykernel_launcher.py:3: UserWarning: Update your `Conv2D` call to the Keras 2 API: `Conv2D(32, (3, 3), activation=\"relu\", input_shape=(64, 64, 3...)`\n",
      "  This is separate from the ipykernel package so we can avoid doing imports until\n",
      "c:\\users\\leo\\appdata\\local\\programs\\python\\python36\\lib\\site-packages\\ipykernel_launcher.py:4: UserWarning: Update your `Conv2D` call to the Keras 2 API: `Conv2D(32, (3, 3), activation=\"tanh\")`\n",
      "  after removing the cwd from sys.path.\n"
     ]
    },
    {
     "name": "stdout",
     "output_type": "stream",
     "text": [
      "Train on 90250 samples, validate on 9750 samples\n",
      "Epoch 1/5\n",
      " - 65s - loss: 4.8387 - acc: 0.0475 - val_loss: 4.1166 - val_acc: 0.1363\n",
      "Epoch 2/5\n",
      " - 63s - loss: 4.1069 - acc: 0.1313 - val_loss: 3.8139 - val_acc: 0.1864\n",
      "Epoch 3/5\n",
      " - 63s - loss: 3.6464 - acc: 0.1995 - val_loss: 3.7805 - val_acc: 0.1838\n",
      "Epoch 4/5\n",
      " - 63s - loss: 3.2064 - acc: 0.2682 - val_loss: 3.7914 - val_acc: 0.1886\n",
      "Epoch 5/5\n",
      " - 63s - loss: 2.7597 - acc: 0.3452 - val_loss: 3.8643 - val_acc: 0.1822\n",
      "Test Accuracy [18.08]\n"
     ]
    },
    {
     "data": {
      "text/plain": [
       "array([18.08])"
      ]
     },
     "execution_count": 46,
     "metadata": {},
     "output_type": "execute_result"
    }
   ],
   "source": [
    "model = Sequential()\n",
    "\n",
    "model.add(Convolution2D(32,3,3,activation='relu',input_shape=(img_rows,img_cols,3)))\n",
    "model.add(Convolution2D(32,3,3,activation='tanh'))\n",
    "model.add(MaxPooling2D(pool_size=(2,2)))\n",
    "model.add(Dropout(0.25))\n",
    "model.add(Flatten())\n",
    "\n",
    "model.add(Dense(256,activation='relu'))\n",
    "model.add(Dropout(0.5))\n",
    "model.add(Dense(num_classes,activation='softmax'))\n",
    "\n",
    "model.compile(loss='categorical_crossentropy',optimizer='adam',metrics=['accuracy'])\n",
    "model.fit(train_x[:90250],train_y[:90250],batch_size=100,epochs=5,verbose=2,validation_data=(train_x[90250:],train_y[90250:]))\n",
    "test_acc(model,train_x[95000:],train_y[95000:])"
   ]
  },
  {
   "cell_type": "code",
   "execution_count": 47,
   "metadata": {},
   "outputs": [
    {
     "name": "stderr",
     "output_type": "stream",
     "text": [
      "c:\\users\\leo\\appdata\\local\\programs\\python\\python36\\lib\\site-packages\\ipykernel_launcher.py:3: UserWarning: Update your `Conv2D` call to the Keras 2 API: `Conv2D(32, (3, 3), activation=\"relu\", input_shape=(64, 64, 3...)`\n",
      "  This is separate from the ipykernel package so we can avoid doing imports until\n",
      "c:\\users\\leo\\appdata\\local\\programs\\python\\python36\\lib\\site-packages\\ipykernel_launcher.py:4: UserWarning: Update your `Conv2D` call to the Keras 2 API: `Conv2D(32, (3, 3), activation=\"sigmoid\")`\n",
      "  after removing the cwd from sys.path.\n"
     ]
    },
    {
     "name": "stdout",
     "output_type": "stream",
     "text": [
      "Train on 90250 samples, validate on 9750 samples\n",
      "Epoch 1/5\n",
      " - 65s - loss: 5.5155 - acc: 0.0043 - val_loss: 5.2993 - val_acc: 0.0040\n",
      "Epoch 2/5\n",
      " - 64s - loss: 5.2989 - acc: 0.0046 - val_loss: 5.2997 - val_acc: 0.0041\n",
      "Epoch 3/5\n",
      " - 63s - loss: 5.2989 - acc: 0.0045 - val_loss: 5.2999 - val_acc: 0.0036\n",
      "Epoch 4/5\n",
      " - 62s - loss: 5.2989 - acc: 0.0045 - val_loss: 5.3000 - val_acc: 0.0036\n",
      "Epoch 5/5\n",
      " - 62s - loss: 5.2988 - acc: 0.0045 - val_loss: 5.3002 - val_acc: 0.0035\n",
      "Test Accuracy [0.36]\n"
     ]
    },
    {
     "data": {
      "text/plain": [
       "array([0.36])"
      ]
     },
     "execution_count": 47,
     "metadata": {},
     "output_type": "execute_result"
    }
   ],
   "source": [
    "model = Sequential()\n",
    "\n",
    "model.add(Convolution2D(32,3,3,activation='relu',input_shape=(img_rows,img_cols,3)))\n",
    "model.add(Convolution2D(32,3,3,activation='sigmoid'))\n",
    "model.add(MaxPooling2D(pool_size=(2,2)))\n",
    "model.add(Dropout(0.25))\n",
    "model.add(Flatten())\n",
    "\n",
    "model.add(Dense(256,activation='relu'))\n",
    "model.add(Dropout(0.5))\n",
    "model.add(Dense(num_classes,activation='softmax'))\n",
    "\n",
    "model.compile(loss='categorical_crossentropy',optimizer='adam',metrics=['accuracy'])\n",
    "model.fit(train_x[:90250],train_y[:90250],batch_size=100,epochs=5,verbose=2,validation_data=(train_x[90250:],train_y[90250:]))\n",
    "test_acc(model,train_x[95000:],train_y[95000:])"
   ]
  },
  {
   "cell_type": "code",
   "execution_count": 48,
   "metadata": {},
   "outputs": [
    {
     "name": "stderr",
     "output_type": "stream",
     "text": [
      "c:\\users\\leo\\appdata\\local\\programs\\python\\python36\\lib\\site-packages\\ipykernel_launcher.py:3: UserWarning: Update your `Conv2D` call to the Keras 2 API: `Conv2D(32, (3, 3), activation=\"relu\", input_shape=(64, 64, 3...)`\n",
      "  This is separate from the ipykernel package so we can avoid doing imports until\n",
      "c:\\users\\leo\\appdata\\local\\programs\\python\\python36\\lib\\site-packages\\ipykernel_launcher.py:4: UserWarning: Update your `Conv2D` call to the Keras 2 API: `Conv2D(32, (3, 3), activation=\"softmax\")`\n",
      "  after removing the cwd from sys.path.\n"
     ]
    },
    {
     "name": "stdout",
     "output_type": "stream",
     "text": [
      "Train on 90250 samples, validate on 9750 samples\n",
      "Epoch 1/5\n",
      " - 88s - loss: 5.3009 - acc: 0.0041 - val_loss: 5.2993 - val_acc: 0.0036\n",
      "Epoch 2/5\n",
      " - 86s - loss: 5.2989 - acc: 0.0046 - val_loss: 5.2997 - val_acc: 0.0036\n",
      "Epoch 3/5\n",
      " - 86s - loss: 5.2988 - acc: 0.0049 - val_loss: 5.3000 - val_acc: 0.0036\n",
      "Epoch 4/5\n",
      " - 86s - loss: 5.2989 - acc: 0.0042 - val_loss: 5.3001 - val_acc: 0.0036\n",
      "Epoch 5/5\n",
      " - 86s - loss: 5.2989 - acc: 0.0044 - val_loss: 5.3002 - val_acc: 0.0036\n",
      "Test Accuracy [0.34]\n"
     ]
    },
    {
     "data": {
      "text/plain": [
       "array([0.34])"
      ]
     },
     "execution_count": 48,
     "metadata": {},
     "output_type": "execute_result"
    }
   ],
   "source": [
    "model = Sequential()\n",
    "\n",
    "model.add(Convolution2D(32,3,3,activation='relu',input_shape=(img_rows,img_cols,3)))\n",
    "model.add(Convolution2D(32,3,3,activation='softmax'))\n",
    "model.add(MaxPooling2D(pool_size=(2,2)))\n",
    "model.add(Dropout(0.25))\n",
    "model.add(Flatten())\n",
    "\n",
    "model.add(Dense(256,activation='relu'))\n",
    "model.add(Dropout(0.5))\n",
    "model.add(Dense(num_classes,activation='softmax'))\n",
    "\n",
    "model.compile(loss='categorical_crossentropy',optimizer='adam',metrics=['accuracy'])\n",
    "model.fit(train_x[:90250],train_y[:90250],batch_size=100,epochs=5,verbose=2,validation_data=(train_x[90250:],train_y[90250:]))\n",
    "test_acc(model,train_x[95000:],train_y[95000:])"
   ]
  },
  {
   "cell_type": "markdown",
   "metadata": {},
   "source": [
    "# Maxpooling"
   ]
  },
  {
   "cell_type": "code",
   "execution_count": 8,
   "metadata": {},
   "outputs": [
    {
     "name": "stderr",
     "output_type": "stream",
     "text": [
      "c:\\users\\leo\\appdata\\local\\programs\\python\\python36\\lib\\site-packages\\ipykernel_launcher.py:3: UserWarning: Update your `Conv2D` call to the Keras 2 API: `Conv2D(32, (3, 3), activation=\"relu\", input_shape=(64, 64, 3...)`\n",
      "  This is separate from the ipykernel package so we can avoid doing imports until\n",
      "c:\\users\\leo\\appdata\\local\\programs\\python\\python36\\lib\\site-packages\\ipykernel_launcher.py:4: UserWarning: Update your `Conv2D` call to the Keras 2 API: `Conv2D(32, (3, 3), activation=\"relu\")`\n",
      "  after removing the cwd from sys.path.\n"
     ]
    },
    {
     "name": "stdout",
     "output_type": "stream",
     "text": [
      "Train on 90250 samples, validate on 9750 samples\n",
      "Epoch 1/5\n",
      " - 117s - loss: 5.0924 - acc: 0.0210 - val_loss: 4.7189 - val_acc: 0.0549\n",
      "Epoch 2/5\n",
      " - 112s - loss: 4.6601 - acc: 0.0577 - val_loss: 4.3337 - val_acc: 0.1135\n",
      "Epoch 3/5\n",
      " - 112s - loss: 4.2812 - acc: 0.0971 - val_loss: 4.0783 - val_acc: 0.1364\n",
      "Epoch 4/5\n",
      " - 114s - loss: 3.9464 - acc: 0.1387 - val_loss: 4.0067 - val_acc: 0.1405\n",
      "Epoch 5/5\n",
      " - 114s - loss: 3.6119 - acc: 0.1802 - val_loss: 4.0274 - val_acc: 0.1413\n",
      "Test Accuracy [14.28]\n"
     ]
    },
    {
     "data": {
      "text/plain": [
       "array([14.28])"
      ]
     },
     "execution_count": 8,
     "metadata": {},
     "output_type": "execute_result"
    }
   ],
   "source": [
    "model = Sequential()\n",
    "\n",
    "model.add(Convolution2D(32,3,3,activation='relu',input_shape=(img_rows,img_cols,3)))\n",
    "model.add(Convolution2D(32,3,3,activation='relu'))\n",
    "model.add(Dropout(0.25))\n",
    "model.add(Flatten())\n",
    "\n",
    "model.add(Dense(256,activation='relu'))\n",
    "model.add(Dropout(0.5))\n",
    "model.add(Dense(num_classes,activation='softmax'))\n",
    "\n",
    "model.compile(loss='categorical_crossentropy',optimizer='adam',metrics=['accuracy'])\n",
    "model.fit(train_x[:90250],train_y[:90250],batch_size=100,epochs=5,verbose=2,validation_data=(train_x[90250:],train_y[90250:]))\n",
    "test_acc(model,train_x[95000:],train_y[95000:])"
   ]
  },
  {
   "cell_type": "code",
   "execution_count": 7,
   "metadata": {},
   "outputs": [
    {
     "name": "stderr",
     "output_type": "stream",
     "text": [
      "c:\\users\\leo\\appdata\\local\\programs\\python\\python36\\lib\\site-packages\\ipykernel_launcher.py:3: UserWarning: Update your `Conv2D` call to the Keras 2 API: `Conv2D(32, (3, 3), activation=\"relu\", input_shape=(64, 64, 3...)`\n",
      "  This is separate from the ipykernel package so we can avoid doing imports until\n",
      "c:\\users\\leo\\appdata\\local\\programs\\python\\python36\\lib\\site-packages\\ipykernel_launcher.py:4: UserWarning: Update your `Conv2D` call to the Keras 2 API: `Conv2D(32, (3, 3), activation=\"relu\")`\n",
      "  after removing the cwd from sys.path.\n"
     ]
    },
    {
     "name": "stdout",
     "output_type": "stream",
     "text": [
      "Train on 90250 samples, validate on 9750 samples\n",
      "Epoch 1/5\n",
      " - 62s - loss: 4.8657 - acc: 0.0426 - val_loss: 4.2940 - val_acc: 0.1129\n",
      "Epoch 2/5\n",
      " - 54s - loss: 4.2416 - acc: 0.1085 - val_loss: 3.8818 - val_acc: 0.1697\n",
      "Epoch 3/5\n",
      " - 58s - loss: 3.9452 - acc: 0.1475 - val_loss: 3.7387 - val_acc: 0.1911\n",
      "Epoch 4/5\n",
      " - 52s - loss: 3.7440 - acc: 0.1765 - val_loss: 3.6569 - val_acc: 0.2050\n",
      "Epoch 5/5\n",
      " - 52s - loss: 3.5889 - acc: 0.1976 - val_loss: 3.6363 - val_acc: 0.2056\n",
      "Test Accuracy [20.8]\n"
     ]
    },
    {
     "data": {
      "text/plain": [
       "array([20.8])"
      ]
     },
     "execution_count": 7,
     "metadata": {},
     "output_type": "execute_result"
    }
   ],
   "source": [
    "model = Sequential()\n",
    "\n",
    "model.add(Convolution2D(32,3,3,activation='relu',input_shape=(img_rows,img_cols,3)))\n",
    "model.add(Convolution2D(32,3,3,activation='relu'))\n",
    "model.add(MaxPooling2D(pool_size=(3,3)))\n",
    "model.add(Dropout(0.25))\n",
    "model.add(Flatten())\n",
    "\n",
    "model.add(Dense(256,activation='relu'))\n",
    "model.add(Dropout(0.5))\n",
    "model.add(Dense(num_classes,activation='softmax'))\n",
    "\n",
    "model.compile(loss='categorical_crossentropy',optimizer='adam',metrics=['accuracy'])\n",
    "model.fit(train_x[:90250],train_y[:90250],batch_size=100,epochs=5,verbose=2,validation_data=(train_x[90250:],train_y[90250:]))\n",
    "test_acc(model,train_x[95000:],train_y[95000:])"
   ]
  },
  {
   "cell_type": "code",
   "execution_count": 9,
   "metadata": {},
   "outputs": [
    {
     "name": "stderr",
     "output_type": "stream",
     "text": [
      "c:\\users\\leo\\appdata\\local\\programs\\python\\python36\\lib\\site-packages\\ipykernel_launcher.py:3: UserWarning: Update your `Conv2D` call to the Keras 2 API: `Conv2D(32, (3, 3), activation=\"relu\", input_shape=(64, 64, 3...)`\n",
      "  This is separate from the ipykernel package so we can avoid doing imports until\n",
      "c:\\users\\leo\\appdata\\local\\programs\\python\\python36\\lib\\site-packages\\ipykernel_launcher.py:4: UserWarning: Update your `Conv2D` call to the Keras 2 API: `Conv2D(32, (3, 3), activation=\"relu\")`\n",
      "  after removing the cwd from sys.path.\n"
     ]
    },
    {
     "name": "stdout",
     "output_type": "stream",
     "text": [
      "Train on 90250 samples, validate on 9750 samples\n",
      "Epoch 1/5\n",
      " - 52s - loss: 4.7996 - acc: 0.0487 - val_loss: 4.2341 - val_acc: 0.1328\n",
      "Epoch 2/5\n",
      " - 50s - loss: 4.2018 - acc: 0.1130 - val_loss: 3.8637 - val_acc: 0.1818\n",
      "Epoch 3/5\n",
      " - 50s - loss: 3.9619 - acc: 0.1446 - val_loss: 3.7395 - val_acc: 0.2033\n",
      "Epoch 4/5\n",
      " - 50s - loss: 3.8223 - acc: 0.1665 - val_loss: 3.6170 - val_acc: 0.2135\n",
      "Epoch 5/5\n",
      " - 50s - loss: 3.7165 - acc: 0.1806 - val_loss: 3.5896 - val_acc: 0.2188\n",
      "Test Accuracy [21.6]\n"
     ]
    },
    {
     "data": {
      "text/plain": [
       "array([21.6])"
      ]
     },
     "execution_count": 9,
     "metadata": {},
     "output_type": "execute_result"
    }
   ],
   "source": [
    "model = Sequential()\n",
    "\n",
    "model.add(Convolution2D(32,3,3,activation='relu',input_shape=(img_rows,img_cols,3)))\n",
    "model.add(Convolution2D(32,3,3,activation='relu'))\n",
    "model.add(MaxPooling2D(pool_size=(4,4)))\n",
    "model.add(Dropout(0.25))\n",
    "model.add(Flatten())\n",
    "\n",
    "model.add(Dense(256,activation='relu'))\n",
    "model.add(Dropout(0.5))\n",
    "model.add(Dense(num_classes,activation='softmax'))\n",
    "\n",
    "model.compile(loss='categorical_crossentropy',optimizer='adam',metrics=['accuracy'])\n",
    "model.fit(train_x[:90250],train_y[:90250],batch_size=100,epochs=5,verbose=2,validation_data=(train_x[90250:],train_y[90250:]))\n",
    "test_acc(model,train_x[95000:],train_y[95000:])"
   ]
  },
  {
   "cell_type": "markdown",
   "metadata": {},
   "source": [
    "## Dropout"
   ]
  },
  {
   "cell_type": "code",
   "execution_count": 10,
   "metadata": {},
   "outputs": [
    {
     "name": "stderr",
     "output_type": "stream",
     "text": [
      "c:\\users\\leo\\appdata\\local\\programs\\python\\python36\\lib\\site-packages\\ipykernel_launcher.py:3: UserWarning: Update your `Conv2D` call to the Keras 2 API: `Conv2D(32, (3, 3), activation=\"relu\", input_shape=(64, 64, 3...)`\n",
      "  This is separate from the ipykernel package so we can avoid doing imports until\n",
      "c:\\users\\leo\\appdata\\local\\programs\\python\\python36\\lib\\site-packages\\ipykernel_launcher.py:4: UserWarning: Update your `Conv2D` call to the Keras 2 API: `Conv2D(32, (3, 3), activation=\"relu\")`\n",
      "  after removing the cwd from sys.path.\n"
     ]
    },
    {
     "name": "stdout",
     "output_type": "stream",
     "text": [
      "Train on 90250 samples, validate on 9750 samples\n",
      "Epoch 1/5\n",
      " - 62s - loss: 4.8876 - acc: 0.0412 - val_loss: 4.2555 - val_acc: 0.1226\n",
      "Epoch 2/5\n",
      " - 60s - loss: 4.1994 - acc: 0.1156 - val_loss: 3.9556 - val_acc: 0.1645\n",
      "Epoch 3/5\n",
      " - 60s - loss: 3.8078 - acc: 0.1690 - val_loss: 3.7953 - val_acc: 0.1899\n",
      "Epoch 4/5\n",
      " - 60s - loss: 3.4446 - acc: 0.2199 - val_loss: 3.7590 - val_acc: 0.1817\n",
      "Epoch 5/5\n",
      " - 60s - loss: 3.0858 - acc: 0.2773 - val_loss: 3.8201 - val_acc: 0.1786\n",
      "Test Accuracy [17.66]\n"
     ]
    },
    {
     "data": {
      "text/plain": [
       "array([17.66])"
      ]
     },
     "execution_count": 10,
     "metadata": {},
     "output_type": "execute_result"
    }
   ],
   "source": [
    "model = Sequential()\n",
    "\n",
    "model.add(Convolution2D(32,3,3,activation='relu',input_shape=(img_rows,img_cols,3)))\n",
    "model.add(Convolution2D(32,3,3,activation='relu'))\n",
    "model.add(MaxPooling2D(pool_size=(2,2)))\n",
    "model.add(Flatten())\n",
    "\n",
    "model.add(Dense(256,activation='relu'))\n",
    "model.add(Dropout(0.5))\n",
    "model.add(Dense(num_classes,activation='softmax'))\n",
    "\n",
    "model.compile(loss='categorical_crossentropy',optimizer='adam',metrics=['accuracy'])\n",
    "model.fit(train_x[:90250],train_y[:90250],batch_size=100,epochs=5,verbose=2,validation_data=(train_x[90250:],train_y[90250:]))\n",
    "test_acc(model,train_x[95000:],train_y[95000:])"
   ]
  },
  {
   "cell_type": "code",
   "execution_count": 11,
   "metadata": {},
   "outputs": [
    {
     "name": "stderr",
     "output_type": "stream",
     "text": [
      "c:\\users\\leo\\appdata\\local\\programs\\python\\python36\\lib\\site-packages\\ipykernel_launcher.py:3: UserWarning: Update your `Conv2D` call to the Keras 2 API: `Conv2D(32, (3, 3), activation=\"relu\", input_shape=(64, 64, 3...)`\n",
      "  This is separate from the ipykernel package so we can avoid doing imports until\n",
      "c:\\users\\leo\\appdata\\local\\programs\\python\\python36\\lib\\site-packages\\ipykernel_launcher.py:4: UserWarning: Update your `Conv2D` call to the Keras 2 API: `Conv2D(32, (3, 3), activation=\"relu\")`\n",
      "  after removing the cwd from sys.path.\n"
     ]
    },
    {
     "name": "stdout",
     "output_type": "stream",
     "text": [
      "Train on 90250 samples, validate on 9750 samples\n",
      "Epoch 1/5\n",
      " - 66s - loss: 4.8086 - acc: 0.0462 - val_loss: 4.2101 - val_acc: 0.1244\n",
      "Epoch 2/5\n",
      " - 63s - loss: 4.2192 - acc: 0.1104 - val_loss: 3.9661 - val_acc: 0.1651\n",
      "Epoch 3/5\n",
      " - 63s - loss: 3.9559 - acc: 0.1422 - val_loss: 3.7991 - val_acc: 0.1859\n",
      "Epoch 4/5\n",
      " - 64s - loss: 3.7801 - acc: 0.1673 - val_loss: 3.7390 - val_acc: 0.1853\n",
      "Epoch 5/5\n",
      " - 65s - loss: 3.6339 - acc: 0.1883 - val_loss: 3.6986 - val_acc: 0.2006\n",
      "Test Accuracy [19.66]\n"
     ]
    },
    {
     "data": {
      "text/plain": [
       "array([19.66])"
      ]
     },
     "execution_count": 11,
     "metadata": {},
     "output_type": "execute_result"
    }
   ],
   "source": [
    "model = Sequential()\n",
    "\n",
    "model.add(Convolution2D(32,3,3,activation='relu',input_shape=(img_rows,img_cols,3)))\n",
    "model.add(Convolution2D(32,3,3,activation='relu'))\n",
    "model.add(MaxPooling2D(pool_size=(2,2)))\n",
    "model.add(Dropout(0.5))\n",
    "model.add(Flatten())\n",
    "\n",
    "model.add(Dense(256,activation='relu'))\n",
    "model.add(Dropout(0.5))\n",
    "model.add(Dense(num_classes,activation='softmax'))\n",
    "\n",
    "model.compile(loss='categorical_crossentropy',optimizer='adam',metrics=['accuracy'])\n",
    "model.fit(train_x[:90250],train_y[:90250],batch_size=100,epochs=5,verbose=2,validation_data=(train_x[90250:],train_y[90250:]))\n",
    "test_acc(model,train_x[95000:],train_y[95000:])"
   ]
  },
  {
   "cell_type": "code",
   "execution_count": 12,
   "metadata": {},
   "outputs": [
    {
     "name": "stderr",
     "output_type": "stream",
     "text": [
      "c:\\users\\leo\\appdata\\local\\programs\\python\\python36\\lib\\site-packages\\ipykernel_launcher.py:3: UserWarning: Update your `Conv2D` call to the Keras 2 API: `Conv2D(32, (3, 3), activation=\"relu\", input_shape=(64, 64, 3...)`\n",
      "  This is separate from the ipykernel package so we can avoid doing imports until\n",
      "c:\\users\\leo\\appdata\\local\\programs\\python\\python36\\lib\\site-packages\\ipykernel_launcher.py:4: UserWarning: Update your `Conv2D` call to the Keras 2 API: `Conv2D(32, (3, 3), activation=\"relu\")`\n",
      "  after removing the cwd from sys.path.\n"
     ]
    },
    {
     "name": "stdout",
     "output_type": "stream",
     "text": [
      "Train on 90250 samples, validate on 9750 samples\n",
      "Epoch 1/5\n",
      " - 67s - loss: 4.8435 - acc: 0.0452 - val_loss: 4.2495 - val_acc: 0.1253\n",
      "Epoch 2/5\n",
      " - 65s - loss: 4.2936 - acc: 0.1043 - val_loss: 3.9415 - val_acc: 0.1662\n",
      "Epoch 3/5\n",
      " - 65s - loss: 4.0725 - acc: 0.1324 - val_loss: 3.8238 - val_acc: 0.1894\n",
      "Epoch 4/5\n",
      " - 65s - loss: 3.9338 - acc: 0.1497 - val_loss: 3.7112 - val_acc: 0.2033\n",
      "Epoch 5/5\n",
      " - 65s - loss: 3.8446 - acc: 0.1608 - val_loss: 3.6717 - val_acc: 0.2118\n",
      "Test Accuracy [20.82]\n"
     ]
    },
    {
     "data": {
      "text/plain": [
       "array([20.82])"
      ]
     },
     "execution_count": 12,
     "metadata": {},
     "output_type": "execute_result"
    }
   ],
   "source": [
    "model = Sequential()\n",
    "\n",
    "model.add(Convolution2D(32,3,3,activation='relu',input_shape=(img_rows,img_cols,3)))\n",
    "model.add(Convolution2D(32,3,3,activation='relu'))\n",
    "model.add(MaxPooling2D(pool_size=(2,2)))\n",
    "model.add(Dropout(0.75))\n",
    "model.add(Flatten())\n",
    "\n",
    "model.add(Dense(256,activation='relu'))\n",
    "model.add(Dropout(0.5))\n",
    "model.add(Dense(num_classes,activation='softmax'))\n",
    "\n",
    "model.compile(loss='categorical_crossentropy',optimizer='adam',metrics=['accuracy'])\n",
    "model.fit(train_x[:90250],train_y[:90250],batch_size=100,epochs=5,verbose=2,validation_data=(train_x[90250:],train_y[90250:]))\n",
    "test_acc(model,train_x[95000:],train_y[95000:])"
   ]
  },
  {
   "cell_type": "markdown",
   "metadata": {},
   "source": [
    "## Fully connected \n",
    "## neurons"
   ]
  },
  {
   "cell_type": "code",
   "execution_count": 13,
   "metadata": {},
   "outputs": [
    {
     "name": "stderr",
     "output_type": "stream",
     "text": [
      "c:\\users\\leo\\appdata\\local\\programs\\python\\python36\\lib\\site-packages\\ipykernel_launcher.py:3: UserWarning: Update your `Conv2D` call to the Keras 2 API: `Conv2D(32, (3, 3), activation=\"relu\", input_shape=(64, 64, 3...)`\n",
      "  This is separate from the ipykernel package so we can avoid doing imports until\n",
      "c:\\users\\leo\\appdata\\local\\programs\\python\\python36\\lib\\site-packages\\ipykernel_launcher.py:4: UserWarning: Update your `Conv2D` call to the Keras 2 API: `Conv2D(32, (3, 3), activation=\"relu\")`\n",
      "  after removing the cwd from sys.path.\n"
     ]
    },
    {
     "name": "stdout",
     "output_type": "stream",
     "text": [
      "Train on 90250 samples, validate on 9750 samples\n",
      "Epoch 1/5\n",
      " - 58s - loss: 5.1959 - acc: 0.0114 - val_loss: 4.9015 - val_acc: 0.0294\n",
      "Epoch 2/5\n",
      " - 58s - loss: 4.8482 - acc: 0.0311 - val_loss: 4.5496 - val_acc: 0.0695\n",
      "Epoch 3/5\n",
      " - 58s - loss: 4.6120 - acc: 0.0492 - val_loss: 4.3504 - val_acc: 0.0917\n",
      "Epoch 4/5\n",
      " - 59s - loss: 4.4715 - acc: 0.0607 - val_loss: 4.2651 - val_acc: 0.1094\n",
      "Epoch 5/5\n",
      " - 59s - loss: 4.3667 - acc: 0.0713 - val_loss: 4.1674 - val_acc: 0.1198\n",
      "Test Accuracy [12.26]\n"
     ]
    },
    {
     "data": {
      "text/plain": [
       "array([12.26])"
      ]
     },
     "execution_count": 13,
     "metadata": {},
     "output_type": "execute_result"
    }
   ],
   "source": [
    "model = Sequential()\n",
    "\n",
    "model.add(Convolution2D(32,3,3,activation='relu',input_shape=(img_rows,img_cols,3)))\n",
    "model.add(Convolution2D(32,3,3,activation='relu'))\n",
    "model.add(MaxPooling2D(pool_size=(2,2)))\n",
    "model.add(Dropout(0.25))\n",
    "model.add(Flatten())\n",
    "\n",
    "model.add(Dense(128,activation='relu'))\n",
    "model.add(Dropout(0.5))\n",
    "model.add(Dense(128,activation='relu'))\n",
    "model.add(Dropout(0.5))\n",
    "model.add(Dense(num_classes,activation='softmax'))\n",
    "\n",
    "model.compile(loss='categorical_crossentropy',optimizer='adam',metrics=['accuracy'])\n",
    "model.fit(train_x[:90250],train_y[:90250],batch_size=100,epochs=5,verbose=2,validation_data=(train_x[90250:],train_y[90250:]))\n",
    "test_acc(model,train_x[95000:],train_y[95000:])"
   ]
  },
  {
   "cell_type": "code",
   "execution_count": 14,
   "metadata": {},
   "outputs": [
    {
     "name": "stderr",
     "output_type": "stream",
     "text": [
      "c:\\users\\leo\\appdata\\local\\programs\\python\\python36\\lib\\site-packages\\ipykernel_launcher.py:3: UserWarning: Update your `Conv2D` call to the Keras 2 API: `Conv2D(32, (3, 3), activation=\"relu\", input_shape=(64, 64, 3...)`\n",
      "  This is separate from the ipykernel package so we can avoid doing imports until\n",
      "c:\\users\\leo\\appdata\\local\\programs\\python\\python36\\lib\\site-packages\\ipykernel_launcher.py:4: UserWarning: Update your `Conv2D` call to the Keras 2 API: `Conv2D(32, (3, 3), activation=\"relu\")`\n",
      "  after removing the cwd from sys.path.\n"
     ]
    },
    {
     "name": "stdout",
     "output_type": "stream",
     "text": [
      "Train on 90250 samples, validate on 9750 samples\n",
      "Epoch 1/5\n",
      " - 80s - loss: 4.7728 - acc: 0.0531 - val_loss: 4.1559 - val_acc: 0.1373\n",
      "Epoch 2/5\n",
      " - 78s - loss: 4.0616 - acc: 0.1350 - val_loss: 3.8042 - val_acc: 0.1814\n",
      "Epoch 3/5\n",
      " - 78s - loss: 3.6660 - acc: 0.1905 - val_loss: 3.6970 - val_acc: 0.2042\n",
      "Epoch 4/5\n",
      " - 78s - loss: 3.3119 - acc: 0.2454 - val_loss: 3.6798 - val_acc: 0.1987\n",
      "Epoch 5/5\n",
      " - 78s - loss: 2.9695 - acc: 0.3033 - val_loss: 3.7193 - val_acc: 0.1992\n",
      "Test Accuracy [19.86]\n"
     ]
    },
    {
     "data": {
      "text/plain": [
       "array([19.86])"
      ]
     },
     "execution_count": 14,
     "metadata": {},
     "output_type": "execute_result"
    }
   ],
   "source": [
    "model = Sequential()\n",
    "\n",
    "model.add(Convolution2D(32,3,3,activation='relu',input_shape=(img_rows,img_cols,3)))\n",
    "model.add(Convolution2D(32,3,3,activation='relu'))\n",
    "model.add(MaxPooling2D(pool_size=(2,2)))\n",
    "model.add(Dropout(0.25))\n",
    "model.add(Flatten())\n",
    "\n",
    "model.add(Dense(512,activation='relu'))\n",
    "model.add(Dropout(0.5))\n",
    "model.add(Dense(num_classes,activation='softmax'))\n",
    "\n",
    "model.compile(loss='categorical_crossentropy',optimizer='adam',metrics=['accuracy'])\n",
    "model.fit(train_x[:90250],train_y[:90250],batch_size=100,epochs=5,verbose=2,validation_data=(train_x[90250:],train_y[90250:]))\n",
    "test_acc(model,train_x[95000:],train_y[95000:])"
   ]
  },
  {
   "cell_type": "code",
   "execution_count": 15,
   "metadata": {},
   "outputs": [
    {
     "name": "stderr",
     "output_type": "stream",
     "text": [
      "c:\\users\\leo\\appdata\\local\\programs\\python\\python36\\lib\\site-packages\\ipykernel_launcher.py:3: UserWarning: Update your `Conv2D` call to the Keras 2 API: `Conv2D(32, (3, 3), activation=\"relu\", input_shape=(64, 64, 3...)`\n",
      "  This is separate from the ipykernel package so we can avoid doing imports until\n",
      "c:\\users\\leo\\appdata\\local\\programs\\python\\python36\\lib\\site-packages\\ipykernel_launcher.py:4: UserWarning: Update your `Conv2D` call to the Keras 2 API: `Conv2D(32, (3, 3), activation=\"relu\")`\n",
      "  after removing the cwd from sys.path.\n"
     ]
    },
    {
     "name": "stdout",
     "output_type": "stream",
     "text": [
      "Train on 90250 samples, validate on 9750 samples\n",
      "Epoch 1/5\n",
      " - 107s - loss: 4.7464 - acc: 0.0569 - val_loss: 4.1099 - val_acc: 0.1422\n",
      "Epoch 2/5\n",
      " - 105s - loss: 3.9425 - acc: 0.1550 - val_loss: 3.7738 - val_acc: 0.1833\n",
      "Epoch 3/5\n",
      " - 105s - loss: 3.4064 - acc: 0.2384 - val_loss: 3.6588 - val_acc: 0.2058\n",
      "Epoch 4/5\n",
      " - 105s - loss: 2.8165 - acc: 0.3395 - val_loss: 3.7135 - val_acc: 0.2039\n",
      "Epoch 5/5\n",
      " - 105s - loss: 2.2216 - acc: 0.4555 - val_loss: 3.8857 - val_acc: 0.1960\n",
      "Test Accuracy [19.16]\n"
     ]
    },
    {
     "data": {
      "text/plain": [
       "array([19.16])"
      ]
     },
     "execution_count": 15,
     "metadata": {},
     "output_type": "execute_result"
    }
   ],
   "source": [
    "model = Sequential()\n",
    "\n",
    "model.add(Convolution2D(32,3,3,activation='relu',input_shape=(img_rows,img_cols,3)))\n",
    "model.add(Convolution2D(32,3,3,activation='relu'))\n",
    "model.add(MaxPooling2D(pool_size=(2,2)))\n",
    "model.add(Dropout(0.25))\n",
    "model.add(Flatten())\n",
    "\n",
    "model.add(Dense(1024,activation='relu'))\n",
    "model.add(Dropout(0.5))\n",
    "model.add(Dense(num_classes,activation='softmax'))\n",
    "\n",
    "model.compile(loss='categorical_crossentropy',optimizer='adam',metrics=['accuracy'])\n",
    "model.fit(train_x[:90250],train_y[:90250],batch_size=100,epochs=5,verbose=2,validation_data=(train_x[90250:],train_y[90250:]))\n",
    "test_acc(model,train_x[95000:],train_y[95000:])"
   ]
  },
  {
   "cell_type": "code",
   "execution_count": 16,
   "metadata": {},
   "outputs": [
    {
     "name": "stderr",
     "output_type": "stream",
     "text": [
      "c:\\users\\leo\\appdata\\local\\programs\\python\\python36\\lib\\site-packages\\ipykernel_launcher.py:3: UserWarning: Update your `Conv2D` call to the Keras 2 API: `Conv2D(32, (3, 3), activation=\"relu\", input_shape=(64, 64, 3...)`\n",
      "  This is separate from the ipykernel package so we can avoid doing imports until\n",
      "c:\\users\\leo\\appdata\\local\\programs\\python\\python36\\lib\\site-packages\\ipykernel_launcher.py:4: UserWarning: Update your `Conv2D` call to the Keras 2 API: `Conv2D(32, (3, 3), activation=\"relu\")`\n",
      "  after removing the cwd from sys.path.\n"
     ]
    },
    {
     "name": "stdout",
     "output_type": "stream",
     "text": [
      "Train on 90250 samples, validate on 9750 samples\n",
      "Epoch 1/5\n",
      " - 81s - loss: 4.9779 - acc: 0.0271 - val_loss: 4.4344 - val_acc: 0.0897\n",
      "Epoch 2/5\n",
      " - 78s - loss: 4.3416 - acc: 0.0884 - val_loss: 4.0420 - val_acc: 0.1481\n",
      "Epoch 3/5\n",
      " - 79s - loss: 3.9618 - acc: 0.1341 - val_loss: 3.8212 - val_acc: 0.1719\n",
      "Epoch 4/5\n",
      " - 78s - loss: 3.6616 - acc: 0.1766 - val_loss: 3.7452 - val_acc: 0.1842\n",
      "Epoch 5/5\n",
      " - 77s - loss: 3.3840 - acc: 0.2174 - val_loss: 3.7422 - val_acc: 0.1829\n",
      "Test Accuracy [18.02]\n"
     ]
    },
    {
     "data": {
      "text/plain": [
       "array([18.02])"
      ]
     },
     "execution_count": 16,
     "metadata": {},
     "output_type": "execute_result"
    }
   ],
   "source": [
    "model = Sequential()\n",
    "\n",
    "model.add(Convolution2D(32,3,3,activation='relu',input_shape=(img_rows,img_cols,3)))\n",
    "model.add(Convolution2D(32,3,3,activation='relu'))\n",
    "model.add(MaxPooling2D(pool_size=(2,2)))\n",
    "model.add(Dropout(0.25))\n",
    "model.add(Flatten())\n",
    "\n",
    "model.add(Dense(512,activation='relu'))\n",
    "model.add(Dropout(0.5))\n",
    "model.add(Dense(512,activation='relu'))\n",
    "model.add(Dropout(0.5))\n",
    "model.add(Dense(num_classes,activation='softmax'))\n",
    "\n",
    "model.compile(loss='categorical_crossentropy',optimizer='adam',metrics=['accuracy'])\n",
    "model.fit(train_x[:90250],train_y[:90250],batch_size=100,epochs=5,verbose=2,validation_data=(train_x[90250:],train_y[90250:]))\n",
    "test_acc(model,train_x[95000:],train_y[95000:])"
   ]
  },
  {
   "cell_type": "markdown",
   "metadata": {},
   "source": [
    "## dropout"
   ]
  },
  {
   "cell_type": "code",
   "execution_count": 17,
   "metadata": {},
   "outputs": [
    {
     "name": "stderr",
     "output_type": "stream",
     "text": [
      "c:\\users\\leo\\appdata\\local\\programs\\python\\python36\\lib\\site-packages\\ipykernel_launcher.py:3: UserWarning: Update your `Conv2D` call to the Keras 2 API: `Conv2D(32, (3, 3), activation=\"relu\", input_shape=(64, 64, 3...)`\n",
      "  This is separate from the ipykernel package so we can avoid doing imports until\n",
      "c:\\users\\leo\\appdata\\local\\programs\\python\\python36\\lib\\site-packages\\ipykernel_launcher.py:4: UserWarning: Update your `Conv2D` call to the Keras 2 API: `Conv2D(32, (3, 3), activation=\"relu\")`\n",
      "  after removing the cwd from sys.path.\n"
     ]
    },
    {
     "name": "stdout",
     "output_type": "stream",
     "text": [
      "Train on 90250 samples, validate on 9750 samples\n",
      "Epoch 1/5\n",
      " - 65s - loss: 4.5990 - acc: 0.0772 - val_loss: 4.0252 - val_acc: 0.1452\n",
      "Epoch 2/5\n",
      " - 63s - loss: 3.6966 - acc: 0.1963 - val_loss: 3.7867 - val_acc: 0.1824\n",
      "Epoch 3/5\n",
      " - 61s - loss: 3.1874 - acc: 0.2814 - val_loss: 3.7849 - val_acc: 0.1968\n",
      "Epoch 4/5\n",
      " - 61s - loss: 2.6621 - acc: 0.3761 - val_loss: 3.9993 - val_acc: 0.1850\n",
      "Epoch 5/5\n",
      " - 61s - loss: 2.1273 - acc: 0.4794 - val_loss: 4.3288 - val_acc: 0.1777\n",
      "Test Accuracy [17.72]\n"
     ]
    },
    {
     "data": {
      "text/plain": [
       "array([17.72])"
      ]
     },
     "execution_count": 17,
     "metadata": {},
     "output_type": "execute_result"
    }
   ],
   "source": [
    "model = Sequential()\n",
    "\n",
    "model.add(Convolution2D(32,3,3,activation='relu',input_shape=(img_rows,img_cols,3)))\n",
    "model.add(Convolution2D(32,3,3,activation='relu'))\n",
    "model.add(MaxPooling2D(pool_size=(2,2)))\n",
    "model.add(Dropout(0.25))\n",
    "model.add(Flatten())\n",
    "\n",
    "model.add(Dense(256,activation='relu'))\n",
    "model.add(Dense(num_classes,activation='softmax'))\n",
    "\n",
    "model.compile(loss='categorical_crossentropy',optimizer='adam',metrics=['accuracy'])\n",
    "model.fit(train_x[:90250],train_y[:90250],batch_size=100,epochs=5,verbose=2,validation_data=(train_x[90250:],train_y[90250:]))\n",
    "test_acc(model,train_x[95000:],train_y[95000:])"
   ]
  },
  {
   "cell_type": "code",
   "execution_count": 18,
   "metadata": {},
   "outputs": [
    {
     "name": "stderr",
     "output_type": "stream",
     "text": [
      "c:\\users\\leo\\appdata\\local\\programs\\python\\python36\\lib\\site-packages\\ipykernel_launcher.py:3: UserWarning: Update your `Conv2D` call to the Keras 2 API: `Conv2D(32, (3, 3), activation=\"relu\", input_shape=(64, 64, 3...)`\n",
      "  This is separate from the ipykernel package so we can avoid doing imports until\n",
      "c:\\users\\leo\\appdata\\local\\programs\\python\\python36\\lib\\site-packages\\ipykernel_launcher.py:4: UserWarning: Update your `Conv2D` call to the Keras 2 API: `Conv2D(32, (3, 3), activation=\"relu\")`\n",
      "  after removing the cwd from sys.path.\n"
     ]
    },
    {
     "name": "stdout",
     "output_type": "stream",
     "text": [
      "Train on 90250 samples, validate on 9750 samples\n",
      "Epoch 1/5\n",
      " - 64s - loss: 4.5832 - acc: 0.0756 - val_loss: 3.9696 - val_acc: 0.1582\n",
      "Epoch 2/5\n",
      " - 63s - loss: 3.7904 - acc: 0.1757 - val_loss: 3.7077 - val_acc: 0.1933\n",
      "Epoch 3/5\n",
      " - 62s - loss: 3.3090 - acc: 0.2509 - val_loss: 3.7023 - val_acc: 0.1972\n",
      "Epoch 4/5\n",
      " - 62s - loss: 2.8335 - acc: 0.3348 - val_loss: 3.7791 - val_acc: 0.1959\n",
      "Epoch 5/5\n",
      " - 63s - loss: 2.3761 - acc: 0.4195 - val_loss: 3.9802 - val_acc: 0.1801\n",
      "Test Accuracy [17.46]\n"
     ]
    },
    {
     "data": {
      "text/plain": [
       "array([17.46])"
      ]
     },
     "execution_count": 18,
     "metadata": {},
     "output_type": "execute_result"
    }
   ],
   "source": [
    "model = Sequential()\n",
    "\n",
    "model.add(Convolution2D(32,3,3,activation='relu',input_shape=(img_rows,img_cols,3)))\n",
    "model.add(Convolution2D(32,3,3,activation='relu'))\n",
    "model.add(MaxPooling2D(pool_size=(2,2)))\n",
    "model.add(Dropout(0.25))\n",
    "model.add(Flatten())\n",
    "\n",
    "model.add(Dense(256,activation='relu'))\n",
    "model.add(Dropout(0.25))\n",
    "model.add(Dense(num_classes,activation='softmax'))\n",
    "\n",
    "model.compile(loss='categorical_crossentropy',optimizer='adam',metrics=['accuracy'])\n",
    "model.fit(train_x[:90250],train_y[:90250],batch_size=100,epochs=5,verbose=2,validation_data=(train_x[90250:],train_y[90250:]))\n",
    "test_acc(model,train_x[95000:],train_y[95000:])"
   ]
  },
  {
   "cell_type": "code",
   "execution_count": 19,
   "metadata": {},
   "outputs": [
    {
     "name": "stderr",
     "output_type": "stream",
     "text": [
      "c:\\users\\leo\\appdata\\local\\programs\\python\\python36\\lib\\site-packages\\ipykernel_launcher.py:3: UserWarning: Update your `Conv2D` call to the Keras 2 API: `Conv2D(32, (3, 3), activation=\"relu\", input_shape=(64, 64, 3...)`\n",
      "  This is separate from the ipykernel package so we can avoid doing imports until\n",
      "c:\\users\\leo\\appdata\\local\\programs\\python\\python36\\lib\\site-packages\\ipykernel_launcher.py:4: UserWarning: Update your `Conv2D` call to the Keras 2 API: `Conv2D(32, (3, 3), activation=\"relu\")`\n",
      "  after removing the cwd from sys.path.\n"
     ]
    },
    {
     "name": "stdout",
     "output_type": "stream",
     "text": [
      "Train on 90250 samples, validate on 9750 samples\n",
      "Epoch 1/5\n",
      " - 67s - loss: 5.1718 - acc: 0.0141 - val_loss: 4.8818 - val_acc: 0.0452\n",
      "Epoch 2/5\n",
      " - 64s - loss: 4.8250 - acc: 0.0405 - val_loss: 4.4947 - val_acc: 0.0926\n",
      "Epoch 3/5\n",
      " - 62s - loss: 4.5654 - acc: 0.0643 - val_loss: 4.2510 - val_acc: 0.1290\n",
      "Epoch 4/5\n",
      " - 62s - loss: 4.3747 - acc: 0.0822 - val_loss: 4.0994 - val_acc: 0.1447\n",
      "Epoch 5/5\n",
      " - 62s - loss: 4.2397 - acc: 0.0997 - val_loss: 4.0403 - val_acc: 0.1600\n",
      "Test Accuracy [15.86]\n"
     ]
    },
    {
     "data": {
      "text/plain": [
       "array([15.86])"
      ]
     },
     "execution_count": 19,
     "metadata": {},
     "output_type": "execute_result"
    }
   ],
   "source": [
    "model = Sequential()\n",
    "\n",
    "model.add(Convolution2D(32,3,3,activation='relu',input_shape=(img_rows,img_cols,3)))\n",
    "model.add(Convolution2D(32,3,3,activation='relu'))\n",
    "model.add(MaxPooling2D(pool_size=(2,2)))\n",
    "model.add(Dropout(0.25))\n",
    "model.add(Flatten())\n",
    "\n",
    "model.add(Dense(256,activation='relu'))\n",
    "model.add(Dropout(0.75))\n",
    "model.add(Dense(num_classes,activation='softmax'))\n",
    "\n",
    "model.compile(loss='categorical_crossentropy',optimizer='adam',metrics=['accuracy'])\n",
    "model.fit(train_x[:90250],train_y[:90250],batch_size=100,epochs=5,verbose=2,validation_data=(train_x[90250:],train_y[90250:]))\n",
    "test_acc(model,train_x[95000:],train_y[95000:])"
   ]
  },
  {
   "cell_type": "markdown",
   "metadata": {},
   "source": [
    "## activation"
   ]
  },
  {
   "cell_type": "code",
   "execution_count": 20,
   "metadata": {},
   "outputs": [
    {
     "name": "stderr",
     "output_type": "stream",
     "text": [
      "c:\\users\\leo\\appdata\\local\\programs\\python\\python36\\lib\\site-packages\\ipykernel_launcher.py:3: UserWarning: Update your `Conv2D` call to the Keras 2 API: `Conv2D(32, (3, 3), activation=\"relu\", input_shape=(64, 64, 3...)`\n",
      "  This is separate from the ipykernel package so we can avoid doing imports until\n",
      "c:\\users\\leo\\appdata\\local\\programs\\python\\python36\\lib\\site-packages\\ipykernel_launcher.py:4: UserWarning: Update your `Conv2D` call to the Keras 2 API: `Conv2D(32, (3, 3), activation=\"relu\")`\n",
      "  after removing the cwd from sys.path.\n"
     ]
    },
    {
     "name": "stdout",
     "output_type": "stream",
     "text": [
      "Train on 90250 samples, validate on 9750 samples\n",
      "Epoch 1/5\n",
      " - 64s - loss: 4.6965 - acc: 0.0650 - val_loss: 4.0881 - val_acc: 0.1424\n",
      "Epoch 2/5\n",
      " - 62s - loss: 3.9369 - acc: 0.1561 - val_loss: 3.8181 - val_acc: 0.1853\n",
      "Epoch 3/5\n",
      " - 62s - loss: 3.5101 - acc: 0.2270 - val_loss: 3.7328 - val_acc: 0.1955\n",
      "Epoch 4/5\n",
      " - 62s - loss: 3.0464 - acc: 0.3054 - val_loss: 3.7855 - val_acc: 0.1913\n",
      "Epoch 5/5\n",
      " - 63s - loss: 2.5640 - acc: 0.3971 - val_loss: 3.8967 - val_acc: 0.1823\n",
      "Test Accuracy [18.46]\n"
     ]
    },
    {
     "data": {
      "text/plain": [
       "array([18.46])"
      ]
     },
     "execution_count": 20,
     "metadata": {},
     "output_type": "execute_result"
    }
   ],
   "source": [
    "model = Sequential()\n",
    "\n",
    "model.add(Convolution2D(32,3,3,activation='relu',input_shape=(img_rows,img_cols,3)))\n",
    "model.add(Convolution2D(32,3,3,activation='relu'))\n",
    "model.add(MaxPooling2D(pool_size=(2,2)))\n",
    "model.add(Dropout(0.25))\n",
    "model.add(Flatten())\n",
    "\n",
    "model.add(Dense(256,activation='tanh'))\n",
    "model.add(Dropout(0.5))\n",
    "model.add(Dense(num_classes,activation='softmax'))\n",
    "\n",
    "model.compile(loss='categorical_crossentropy',optimizer='adam',metrics=['accuracy'])\n",
    "model.fit(train_x[:90250],train_y[:90250],batch_size=100,epochs=5,verbose=2,validation_data=(train_x[90250:],train_y[90250:]))\n",
    "test_acc(model,train_x[95000:],train_y[95000:])"
   ]
  },
  {
   "cell_type": "code",
   "execution_count": 21,
   "metadata": {},
   "outputs": [
    {
     "name": "stderr",
     "output_type": "stream",
     "text": [
      "c:\\users\\leo\\appdata\\local\\programs\\python\\python36\\lib\\site-packages\\ipykernel_launcher.py:3: UserWarning: Update your `Conv2D` call to the Keras 2 API: `Conv2D(32, (3, 3), activation=\"relu\", input_shape=(64, 64, 3...)`\n",
      "  This is separate from the ipykernel package so we can avoid doing imports until\n",
      "c:\\users\\leo\\appdata\\local\\programs\\python\\python36\\lib\\site-packages\\ipykernel_launcher.py:4: UserWarning: Update your `Conv2D` call to the Keras 2 API: `Conv2D(32, (3, 3), activation=\"relu\")`\n",
      "  after removing the cwd from sys.path.\n"
     ]
    },
    {
     "name": "stdout",
     "output_type": "stream",
     "text": [
      "Train on 90250 samples, validate on 9750 samples\n",
      "Epoch 1/5\n",
      " - 66s - loss: 4.8145 - acc: 0.0477 - val_loss: 4.2433 - val_acc: 0.1219\n",
      "Epoch 2/5\n",
      " - 64s - loss: 4.1091 - acc: 0.1293 - val_loss: 3.8345 - val_acc: 0.1797\n",
      "Epoch 3/5\n",
      " - 63s - loss: 3.7684 - acc: 0.1782 - val_loss: 3.7051 - val_acc: 0.1971\n",
      "Epoch 4/5\n",
      " - 63s - loss: 3.5051 - acc: 0.2205 - val_loss: 3.6070 - val_acc: 0.2083\n",
      "Epoch 5/5\n",
      " - 63s - loss: 3.2635 - acc: 0.2588 - val_loss: 3.6093 - val_acc: 0.2079\n",
      "Test Accuracy [20.26]\n"
     ]
    },
    {
     "data": {
      "text/plain": [
       "array([20.26])"
      ]
     },
     "execution_count": 21,
     "metadata": {},
     "output_type": "execute_result"
    }
   ],
   "source": [
    "model = Sequential()\n",
    "\n",
    "model.add(Convolution2D(32,3,3,activation='relu',input_shape=(img_rows,img_cols,3)))\n",
    "model.add(Convolution2D(32,3,3,activation='relu'))\n",
    "model.add(MaxPooling2D(pool_size=(2,2)))\n",
    "model.add(Dropout(0.25))\n",
    "model.add(Flatten())\n",
    "\n",
    "model.add(Dense(256,activation='sigmoid'))\n",
    "model.add(Dropout(0.5))\n",
    "model.add(Dense(num_classes,activation='softmax'))\n",
    "\n",
    "model.compile(loss='categorical_crossentropy',optimizer='adam',metrics=['accuracy'])\n",
    "model.fit(train_x[:90250],train_y[:90250],batch_size=100,epochs=5,verbose=2,validation_data=(train_x[90250:],train_y[90250:]))\n",
    "test_acc(model,train_x[95000:],train_y[95000:])"
   ]
  },
  {
   "cell_type": "code",
   "execution_count": 22,
   "metadata": {},
   "outputs": [
    {
     "name": "stderr",
     "output_type": "stream",
     "text": [
      "c:\\users\\leo\\appdata\\local\\programs\\python\\python36\\lib\\site-packages\\ipykernel_launcher.py:3: UserWarning: Update your `Conv2D` call to the Keras 2 API: `Conv2D(32, (3, 3), activation=\"relu\", input_shape=(64, 64, 3...)`\n",
      "  This is separate from the ipykernel package so we can avoid doing imports until\n",
      "c:\\users\\leo\\appdata\\local\\programs\\python\\python36\\lib\\site-packages\\ipykernel_launcher.py:4: UserWarning: Update your `Conv2D` call to the Keras 2 API: `Conv2D(32, (3, 3), activation=\"relu\")`\n",
      "  after removing the cwd from sys.path.\n"
     ]
    },
    {
     "name": "stdout",
     "output_type": "stream",
     "text": [
      "Train on 90250 samples, validate on 9750 samples\n",
      "Epoch 1/5\n",
      " - 67s - loss: 5.2567 - acc: 0.0085 - val_loss: 5.2129 - val_acc: 0.0145\n",
      "Epoch 2/5\n",
      " - 64s - loss: 5.1906 - acc: 0.0126 - val_loss: 5.1357 - val_acc: 0.0232\n",
      "Epoch 3/5\n",
      " - 65s - loss: 5.1384 - acc: 0.0141 - val_loss: 5.0735 - val_acc: 0.0252\n",
      "Epoch 4/5\n",
      " - 64s - loss: 5.0926 - acc: 0.0163 - val_loss: 5.0168 - val_acc: 0.0329\n",
      "Epoch 5/5\n",
      " - 64s - loss: 5.0450 - acc: 0.0187 - val_loss: 4.9587 - val_acc: 0.0327\n",
      "Test Accuracy [2.88]\n"
     ]
    },
    {
     "data": {
      "text/plain": [
       "array([2.88])"
      ]
     },
     "execution_count": 22,
     "metadata": {},
     "output_type": "execute_result"
    }
   ],
   "source": [
    "model = Sequential()\n",
    "\n",
    "model.add(Convolution2D(32,3,3,activation='relu',input_shape=(img_rows,img_cols,3)))\n",
    "model.add(Convolution2D(32,3,3,activation='relu'))\n",
    "model.add(MaxPooling2D(pool_size=(2,2)))\n",
    "model.add(Dropout(0.25))\n",
    "model.add(Flatten())\n",
    "\n",
    "model.add(Dense(256,activation='softmax'))\n",
    "model.add(Dropout(0.5))\n",
    "model.add(Dense(num_classes,activation='softmax'))\n",
    "\n",
    "model.compile(loss='categorical_crossentropy',optimizer='adam',metrics=['accuracy'])\n",
    "model.fit(train_x[:90250],train_y[:90250],batch_size=100,epochs=5,verbose=2,validation_data=(train_x[90250:],train_y[90250:]))\n",
    "test_acc(model,train_x[95000:],train_y[95000:])"
   ]
  },
  {
   "cell_type": "markdown",
   "metadata": {},
   "source": [
    "## Cost function"
   ]
  },
  {
   "cell_type": "code",
   "execution_count": 23,
   "metadata": {},
   "outputs": [
    {
     "name": "stderr",
     "output_type": "stream",
     "text": [
      "c:\\users\\leo\\appdata\\local\\programs\\python\\python36\\lib\\site-packages\\ipykernel_launcher.py:3: UserWarning: Update your `Conv2D` call to the Keras 2 API: `Conv2D(32, (3, 3), activation=\"relu\", input_shape=(64, 64, 3...)`\n",
      "  This is separate from the ipykernel package so we can avoid doing imports until\n",
      "c:\\users\\leo\\appdata\\local\\programs\\python\\python36\\lib\\site-packages\\ipykernel_launcher.py:4: UserWarning: Update your `Conv2D` call to the Keras 2 API: `Conv2D(32, (3, 3), activation=\"relu\")`\n",
      "  after removing the cwd from sys.path.\n"
     ]
    },
    {
     "name": "stdout",
     "output_type": "stream",
     "text": [
      "Train on 90250 samples, validate on 9750 samples\n",
      "Epoch 1/5\n",
      " - 66s - loss: 0.0050 - acc: 0.0104 - val_loss: 0.0050 - val_acc: 0.0112\n",
      "Epoch 2/5\n",
      " - 63s - loss: 0.0050 - acc: 0.0170 - val_loss: 0.0050 - val_acc: 0.0218\n",
      "Epoch 3/5\n",
      " - 62s - loss: 0.0049 - acc: 0.0378 - val_loss: 0.0049 - val_acc: 0.0630\n",
      "Epoch 4/5\n",
      " - 63s - loss: 0.0049 - acc: 0.0585 - val_loss: 0.0049 - val_acc: 0.0873\n",
      "Epoch 5/5\n",
      " - 62s - loss: 0.0049 - acc: 0.0814 - val_loss: 0.0048 - val_acc: 0.1032\n",
      "Test Accuracy [10.04]\n"
     ]
    },
    {
     "data": {
      "text/plain": [
       "array([10.04])"
      ]
     },
     "execution_count": 23,
     "metadata": {},
     "output_type": "execute_result"
    }
   ],
   "source": [
    "model = Sequential()\n",
    "\n",
    "model.add(Convolution2D(32,3,3,activation='relu',input_shape=(img_rows,img_cols,3)))\n",
    "model.add(Convolution2D(32,3,3,activation='relu'))\n",
    "model.add(MaxPooling2D(pool_size=(2,2)))\n",
    "model.add(Dropout(0.25))\n",
    "model.add(Flatten())\n",
    "\n",
    "model.add(Dense(256,activation='relu'))\n",
    "model.add(Dropout(0.5))\n",
    "model.add(Dense(num_classes,activation='softmax'))\n",
    "\n",
    "model.compile(loss='mean_squared_error',optimizer='adam',metrics=['accuracy'])\n",
    "model.fit(train_x[:90250],train_y[:90250],batch_size=100,epochs=5,verbose=2,validation_data=(train_x[90250:],train_y[90250:]))\n",
    "test_acc(model,train_x[95000:],train_y[95000:])"
   ]
  },
  {
   "cell_type": "code",
   "execution_count": 7,
   "metadata": {},
   "outputs": [
    {
     "name": "stderr",
     "output_type": "stream",
     "text": [
      "c:\\users\\leo\\appdata\\local\\programs\\python\\python36\\lib\\site-packages\\ipykernel_launcher.py:3: UserWarning: Update your `Conv2D` call to the Keras 2 API: `Conv2D(32, (3, 3), activation=\"relu\", input_shape=(64, 64, 3...)`\n",
      "  This is separate from the ipykernel package so we can avoid doing imports until\n",
      "c:\\users\\leo\\appdata\\local\\programs\\python\\python36\\lib\\site-packages\\ipykernel_launcher.py:4: UserWarning: Update your `Conv2D` call to the Keras 2 API: `Conv2D(32, (3, 3), activation=\"relu\")`\n",
      "  after removing the cwd from sys.path.\n"
     ]
    },
    {
     "name": "stdout",
     "output_type": "stream",
     "text": [
      "Train on 90250 samples, validate on 9750 samples\n",
      "Epoch 1/5\n",
      " - 70s - loss: 0.0290 - acc: 0.0492 - val_loss: 0.0258 - val_acc: 0.1377\n",
      "Epoch 2/5\n",
      " - 62s - loss: 0.0259 - acc: 0.1185 - val_loss: 0.0246 - val_acc: 0.1713\n",
      "Epoch 3/5\n",
      " - 61s - loss: 0.0242 - acc: 0.1639 - val_loss: 0.0238 - val_acc: 0.1891\n",
      "Epoch 4/5\n",
      " - 62s - loss: 0.0228 - acc: 0.2047 - val_loss: 0.0234 - val_acc: 0.1996\n",
      "Epoch 5/5\n",
      " - 62s - loss: 0.0216 - acc: 0.2390 - val_loss: 0.0236 - val_acc: 0.1932\n",
      "Test Accuracy [19.46]\n"
     ]
    },
    {
     "data": {
      "text/plain": [
       "array([19.46])"
      ]
     },
     "execution_count": 7,
     "metadata": {},
     "output_type": "execute_result"
    }
   ],
   "source": [
    "model = Sequential()\n",
    "\n",
    "model.add(Convolution2D(32,3,3,activation='relu',input_shape=(img_rows,img_cols,3)))\n",
    "model.add(Convolution2D(32,3,3,activation='relu'))\n",
    "model.add(MaxPooling2D(pool_size=(2,2)))\n",
    "model.add(Dropout(0.25))\n",
    "model.add(Flatten())\n",
    "\n",
    "model.add(Dense(256,activation='relu'))\n",
    "model.add(Dropout(0.5))\n",
    "model.add(Dense(num_classes,activation='softmax'))\n",
    "\n",
    "model.compile(loss='poisson',optimizer='adam',metrics=['accuracy'])\n",
    "model.fit(train_x[:90250],train_y[:90250],batch_size=100,epochs=5,verbose=2,validation_data=(train_x[90250:],train_y[90250:]))\n",
    "test_acc(model,train_x[95000:],train_y[95000:])"
   ]
  },
  {
   "cell_type": "code",
   "execution_count": 8,
   "metadata": {},
   "outputs": [
    {
     "name": "stderr",
     "output_type": "stream",
     "text": [
      "c:\\users\\leo\\appdata\\local\\programs\\python\\python36\\lib\\site-packages\\ipykernel_launcher.py:3: UserWarning: Update your `Conv2D` call to the Keras 2 API: `Conv2D(32, (3, 3), activation=\"relu\", input_shape=(64, 64, 3...)`\n",
      "  This is separate from the ipykernel package so we can avoid doing imports until\n",
      "c:\\users\\leo\\appdata\\local\\programs\\python\\python36\\lib\\site-packages\\ipykernel_launcher.py:4: UserWarning: Update your `Conv2D` call to the Keras 2 API: `Conv2D(32, (3, 3), activation=\"relu\")`\n",
      "  after removing the cwd from sys.path.\n"
     ]
    },
    {
     "name": "stdout",
     "output_type": "stream",
     "text": [
      "Train on 90250 samples, validate on 9750 samples\n",
      "Epoch 1/5\n",
      " - 63s - loss: 4.8517 - acc: 0.0440 - val_loss: 4.2964 - val_acc: 0.1098\n",
      "Epoch 2/5\n",
      " - 61s - loss: 4.1963 - acc: 0.1152 - val_loss: 3.9524 - val_acc: 0.1666\n",
      "Epoch 3/5\n",
      " - 62s - loss: 3.8228 - acc: 0.1671 - val_loss: 3.7644 - val_acc: 0.1854\n",
      "Epoch 4/5\n",
      " - 62s - loss: 3.5196 - acc: 0.2132 - val_loss: 3.7539 - val_acc: 0.1840\n",
      "Epoch 5/5\n",
      " - 61s - loss: 3.2399 - acc: 0.2544 - val_loss: 3.7400 - val_acc: 0.1909\n",
      "Test Accuracy [19.36]\n"
     ]
    },
    {
     "data": {
      "text/plain": [
       "array([19.36])"
      ]
     },
     "execution_count": 8,
     "metadata": {},
     "output_type": "execute_result"
    }
   ],
   "source": [
    "model = Sequential()\n",
    "\n",
    "model.add(Convolution2D(32,3,3,activation='relu',input_shape=(img_rows,img_cols,3)))\n",
    "model.add(Convolution2D(32,3,3,activation='relu'))\n",
    "model.add(MaxPooling2D(pool_size=(2,2)))\n",
    "model.add(Dropout(0.25))\n",
    "model.add(Flatten())\n",
    "\n",
    "model.add(Dense(256,activation='relu'))\n",
    "model.add(Dropout(0.5))\n",
    "model.add(Dense(num_classes,activation='softmax'))\n",
    "\n",
    "model.compile(loss='kullback_leibler_divergence',optimizer='adam',metrics=['accuracy'])\n",
    "model.fit(train_x[:90250],train_y[:90250],batch_size=100,epochs=5,verbose=2,validation_data=(train_x[90250:],train_y[90250:]))\n",
    "test_acc(model,train_x[95000:],train_y[95000:])"
   ]
  },
  {
   "cell_type": "markdown",
   "metadata": {},
   "source": [
    "## Network construction"
   ]
  },
  {
   "cell_type": "code",
   "execution_count": 7,
   "metadata": {},
   "outputs": [
    {
     "name": "stderr",
     "output_type": "stream",
     "text": [
      "c:\\users\\leo\\appdata\\local\\programs\\python\\python36\\lib\\site-packages\\ipykernel_launcher.py:3: UserWarning: Update your `Conv2D` call to the Keras 2 API: `Conv2D(32, (3, 3), activation=\"relu\", input_shape=(64, 64, 3...)`\n",
      "  This is separate from the ipykernel package so we can avoid doing imports until\n",
      "c:\\users\\leo\\appdata\\local\\programs\\python\\python36\\lib\\site-packages\\ipykernel_launcher.py:4: UserWarning: Update your `Conv2D` call to the Keras 2 API: `Conv2D(32, (3, 3), activation=\"relu\")`\n",
      "  after removing the cwd from sys.path.\n",
      "c:\\users\\leo\\appdata\\local\\programs\\python\\python36\\lib\\site-packages\\ipykernel_launcher.py:5: UserWarning: Update your `Conv2D` call to the Keras 2 API: `Conv2D(32, (7, 7), activation=\"relu\")`\n",
      "  \"\"\"\n"
     ]
    },
    {
     "name": "stdout",
     "output_type": "stream",
     "text": [
      "Train on 90250 samples, validate on 9750 samples\n",
      "Epoch 1/5\n",
      " - 99s - loss: 0.0297 - acc: 0.0326 - val_loss: 0.0268 - val_acc: 0.0951\n",
      "Epoch 2/5\n",
      " - 89s - loss: 0.0260 - acc: 0.1131 - val_loss: 0.0242 - val_acc: 0.1669\n",
      "Epoch 3/5\n",
      " - 88s - loss: 0.0242 - acc: 0.1640 - val_loss: 0.0232 - val_acc: 0.2055\n",
      "Epoch 4/5\n",
      " - 87s - loss: 0.0231 - acc: 0.1956 - val_loss: 0.0226 - val_acc: 0.2243\n",
      "Epoch 5/5\n",
      " - 87s - loss: 0.0224 - acc: 0.2187 - val_loss: 0.0226 - val_acc: 0.2253\n",
      "Test Accuracy [22.24]\n"
     ]
    },
    {
     "data": {
      "text/plain": [
       "array([22.24])"
      ]
     },
     "execution_count": 7,
     "metadata": {},
     "output_type": "execute_result"
    }
   ],
   "source": [
    "model = Sequential()\n",
    "\n",
    "model.add(Convolution2D(32,3,3,activation='relu',input_shape=(img_rows,img_cols,3)))\n",
    "model.add(Convolution2D(32,3,3,activation='relu'))\n",
    "model.add(Convolution2D(32,7,7,activation='relu'))\n",
    "model.add(MaxPooling2D(pool_size=(4,4)))\n",
    "model.add(Dropout(0.25))\n",
    "model.add(Flatten())\n",
    "\n",
    "model.add(Dense(512,activation='relu'))\n",
    "model.add(Dropout(0.5))\n",
    "model.add(Dense(num_classes,activation='softmax'))\n",
    "\n",
    "model.compile(loss='poisson',optimizer='adam',metrics=['accuracy'])\n",
    "model.fit(train_x[:90250],train_y[:90250],batch_size=100,epochs=5,verbose=2,validation_data=(train_x[90250:],train_y[90250:]))\n",
    "test_acc(model,train_x[95000:],train_y[95000:])"
   ]
  },
  {
   "cell_type": "code",
   "execution_count": 8,
   "metadata": {},
   "outputs": [
    {
     "name": "stderr",
     "output_type": "stream",
     "text": [
      "c:\\users\\leo\\appdata\\local\\programs\\python\\python36\\lib\\site-packages\\ipykernel_launcher.py:3: UserWarning: Update your `Conv2D` call to the Keras 2 API: `Conv2D(32, (3, 3), activation=\"relu\", input_shape=(64, 64, 3...)`\n",
      "  This is separate from the ipykernel package so we can avoid doing imports until\n",
      "c:\\users\\leo\\appdata\\local\\programs\\python\\python36\\lib\\site-packages\\ipykernel_launcher.py:4: UserWarning: Update your `Conv2D` call to the Keras 2 API: `Conv2D(32, (3, 3), activation=\"relu\")`\n",
      "  after removing the cwd from sys.path.\n",
      "c:\\users\\leo\\appdata\\local\\programs\\python\\python36\\lib\\site-packages\\ipykernel_launcher.py:5: UserWarning: Update your `Conv2D` call to the Keras 2 API: `Conv2D(32, (7, 2), activation=\"relu\")`\n",
      "  \"\"\"\n"
     ]
    },
    {
     "name": "stdout",
     "output_type": "stream",
     "text": [
      "Train on 90250 samples, validate on 9750 samples\n",
      "Epoch 1/5\n",
      " - 82s - loss: 0.0292 - acc: 0.0455 - val_loss: 0.0263 - val_acc: 0.1099\n",
      "Epoch 2/5\n",
      " - 79s - loss: 0.0260 - acc: 0.1155 - val_loss: 0.0242 - val_acc: 0.1773\n",
      "Epoch 3/5\n",
      " - 79s - loss: 0.0246 - acc: 0.1531 - val_loss: 0.0234 - val_acc: 0.2041\n",
      "Epoch 4/5\n",
      " - 79s - loss: 0.0238 - acc: 0.1765 - val_loss: 0.0229 - val_acc: 0.2188\n",
      "Epoch 5/5\n",
      " - 78s - loss: 0.0232 - acc: 0.1951 - val_loss: 0.0226 - val_acc: 0.2256\n",
      "Test Accuracy [22.04]\n"
     ]
    },
    {
     "data": {
      "text/plain": [
       "array([22.04])"
      ]
     },
     "execution_count": 8,
     "metadata": {},
     "output_type": "execute_result"
    }
   ],
   "source": [
    "model = Sequential()\n",
    "\n",
    "model.add(Convolution2D(32,3,3,activation='relu',input_shape=(img_rows,img_cols,3)))\n",
    "model.add(Convolution2D(32,3,3,activation='relu'))\n",
    "model.add(Convolution2D(32,7,2,activation='relu'))\n",
    "model.add(MaxPooling2D(pool_size=(4,4)))\n",
    "model.add(Dropout(0.75))\n",
    "model.add(Flatten())\n",
    "\n",
    "model.add(Dense(512,activation='relu'))\n",
    "model.add(Dropout(0.25))\n",
    "model.add(Dense(num_classes,activation='softmax'))\n",
    "\n",
    "model.compile(loss='poisson',optimizer='adam',metrics=['accuracy'])\n",
    "model.fit(train_x[:90250],train_y[:90250],batch_size=100,epochs=5,verbose=2,validation_data=(train_x[90250:],train_y[90250:]))\n",
    "test_acc(model,train_x[95000:],train_y[95000:])"
   ]
  },
  {
   "cell_type": "code",
   "execution_count": 10,
   "metadata": {},
   "outputs": [
    {
     "name": "stderr",
     "output_type": "stream",
     "text": [
      "c:\\users\\leo\\appdata\\local\\programs\\python\\python36\\lib\\site-packages\\ipykernel_launcher.py:3: UserWarning: Update your `Conv2D` call to the Keras 2 API: `Conv2D(32, (3, 3), activation=\"relu\", input_shape=(64, 64, 3...)`\n",
      "  This is separate from the ipykernel package so we can avoid doing imports until\n",
      "c:\\users\\leo\\appdata\\local\\programs\\python\\python36\\lib\\site-packages\\ipykernel_launcher.py:4: UserWarning: Update your `Conv2D` call to the Keras 2 API: `Conv2D(32, (3, 3), activation=\"relu\")`\n",
      "  after removing the cwd from sys.path.\n",
      "c:\\users\\leo\\appdata\\local\\programs\\python\\python36\\lib\\site-packages\\ipykernel_launcher.py:5: UserWarning: Update your `Conv2D` call to the Keras 2 API: `Conv2D(32, (7, 2), activation=\"relu\")`\n",
      "  \"\"\"\n"
     ]
    },
    {
     "name": "stdout",
     "output_type": "stream",
     "text": [
      "Train on 90250 samples, validate on 4750 samples\n",
      "Epoch 1/5\n",
      " - 78s - loss: 0.0287 - acc: 0.0566 - val_loss: 0.0254 - val_acc: 0.1368\n",
      "Epoch 2/5\n",
      " - 76s - loss: 0.0253 - acc: 0.1345 - val_loss: 0.0237 - val_acc: 0.1865\n",
      "Epoch 3/5\n",
      " - 77s - loss: 0.0240 - acc: 0.1726 - val_loss: 0.0229 - val_acc: 0.2139\n",
      "Epoch 4/5\n",
      " - 77s - loss: 0.0232 - acc: 0.1977 - val_loss: 0.0222 - val_acc: 0.2368\n",
      "Epoch 5/5\n",
      " - 77s - loss: 0.0227 - acc: 0.2137 - val_loss: 0.0221 - val_acc: 0.2438\n",
      "Test Accuracy [24.56]\n"
     ]
    },
    {
     "data": {
      "text/plain": [
       "array([24.56])"
      ]
     },
     "execution_count": 10,
     "metadata": {},
     "output_type": "execute_result"
    }
   ],
   "source": [
    "model = Sequential()\n",
    "\n",
    "model.add(Convolution2D(32,3,3,activation='relu',input_shape=(img_rows,img_cols,3)))\n",
    "model.add(Convolution2D(32,3,3,activation='relu'))\n",
    "model.add(Convolution2D(32,7,2,activation='relu'))\n",
    "model.add(MaxPooling2D(pool_size=(4,4)))\n",
    "model.add(Dropout(0.75))\n",
    "model.add(Flatten())\n",
    "\n",
    "model.add(Dense(512,activation='relu'))\n",
    "model.add(Dropout(0.25))\n",
    "model.add(Dense(num_classes,activation='softmax'))\n",
    "\n",
    "model.compile(loss='poisson',optimizer='adam',metrics=['accuracy'])\n",
    "model.fit(train_x[:95000],train_y[:95000],batch_size=100,epochs=5,verbose=2,validation_split=0.05)\n",
    "test_acc(model,train_x[95000:],train_y[95000:])"
   ]
  },
  {
   "cell_type": "code",
   "execution_count": 11,
   "metadata": {},
   "outputs": [
    {
     "name": "stderr",
     "output_type": "stream",
     "text": [
      "c:\\users\\leo\\appdata\\local\\programs\\python\\python36\\lib\\site-packages\\ipykernel_launcher.py:3: UserWarning: Update your `Conv2D` call to the Keras 2 API: `Conv2D(32, (3, 1), activation=\"relu\", input_shape=(64, 64, 3...)`\n",
      "  This is separate from the ipykernel package so we can avoid doing imports until\n",
      "c:\\users\\leo\\appdata\\local\\programs\\python\\python36\\lib\\site-packages\\ipykernel_launcher.py:4: UserWarning: Update your `Conv2D` call to the Keras 2 API: `Conv2D(32, (3, 3), activation=\"relu\")`\n",
      "  after removing the cwd from sys.path.\n",
      "c:\\users\\leo\\appdata\\local\\programs\\python\\python36\\lib\\site-packages\\ipykernel_launcher.py:5: UserWarning: Update your `Conv2D` call to the Keras 2 API: `Conv2D(32, (7, 2), activation=\"relu\")`\n",
      "  \"\"\"\n"
     ]
    },
    {
     "name": "stdout",
     "output_type": "stream",
     "text": [
      "Train on 90250 samples, validate on 4750 samples\n",
      "Epoch 1/5\n",
      " - 81s - loss: 0.0295 - acc: 0.0429 - val_loss: 0.0267 - val_acc: 0.1082\n",
      "Epoch 2/5\n",
      " - 78s - loss: 0.0263 - acc: 0.1084 - val_loss: 0.0252 - val_acc: 0.1421\n",
      "Epoch 3/5\n",
      " - 78s - loss: 0.0251 - acc: 0.1438 - val_loss: 0.0241 - val_acc: 0.1789\n",
      "Epoch 4/5\n",
      " - 79s - loss: 0.0242 - acc: 0.1686 - val_loss: 0.0234 - val_acc: 0.1981\n",
      "Epoch 5/5\n",
      " - 79s - loss: 0.0235 - acc: 0.1881 - val_loss: 0.0229 - val_acc: 0.2091\n",
      "Test Accuracy [20.92]\n"
     ]
    },
    {
     "data": {
      "text/plain": [
       "array([20.92])"
      ]
     },
     "execution_count": 11,
     "metadata": {},
     "output_type": "execute_result"
    }
   ],
   "source": [
    "model = Sequential()\n",
    "\n",
    "model.add(Convolution2D(32,3,1,activation='relu',input_shape=(img_rows,img_cols,3)))\n",
    "model.add(Convolution2D(32,3,3,activation='relu'))\n",
    "model.add(Convolution2D(32,7,2,activation='relu'))\n",
    "model.add(MaxPooling2D(pool_size=(4,4)))\n",
    "model.add(Dropout(0.75))\n",
    "model.add(Flatten())\n",
    "\n",
    "model.add(Dense(512,activation='sigmoid'))\n",
    "model.add(Dropout(0.25))\n",
    "model.add(Dense(num_classes,activation='softmax'))\n",
    "\n",
    "model.compile(loss='poisson',optimizer='adam',metrics=['accuracy'])\n",
    "model.fit(train_x[:95000],train_y[:95000],batch_size=100,epochs=5,verbose=2,validation_split=0.05)\n",
    "test_acc(model,train_x[95000:],train_y[95000:])"
   ]
  },
  {
   "cell_type": "code",
   "execution_count": 12,
   "metadata": {},
   "outputs": [
    {
     "name": "stderr",
     "output_type": "stream",
     "text": [
      "c:\\users\\leo\\appdata\\local\\programs\\python\\python36\\lib\\site-packages\\ipykernel_launcher.py:3: UserWarning: Update your `Conv2D` call to the Keras 2 API: `Conv2D(32, (3, 3), activation=\"relu\", input_shape=(64, 64, 3...)`\n",
      "  This is separate from the ipykernel package so we can avoid doing imports until\n",
      "c:\\users\\leo\\appdata\\local\\programs\\python\\python36\\lib\\site-packages\\ipykernel_launcher.py:4: UserWarning: Update your `Conv2D` call to the Keras 2 API: `Conv2D(32, (3, 3), activation=\"relu\")`\n",
      "  after removing the cwd from sys.path.\n",
      "c:\\users\\leo\\appdata\\local\\programs\\python\\python36\\lib\\site-packages\\ipykernel_launcher.py:5: UserWarning: Update your `Conv2D` call to the Keras 2 API: `Conv2D(32, (7, 2), activation=\"relu\")`\n",
      "  \"\"\"\n"
     ]
    },
    {
     "name": "stdout",
     "output_type": "stream",
     "text": [
      "Train on 90250 samples, validate on 4750 samples\n",
      "Epoch 1/5\n",
      " - 78s - loss: 0.0302 - acc: 0.0291 - val_loss: 0.0274 - val_acc: 0.0933\n",
      "Epoch 2/5\n",
      " - 76s - loss: 0.0264 - acc: 0.1070 - val_loss: 0.0245 - val_acc: 0.1621\n",
      "Epoch 3/5\n",
      " - 77s - loss: 0.0245 - acc: 0.1586 - val_loss: 0.0231 - val_acc: 0.2084\n",
      "Epoch 4/5\n",
      " - 76s - loss: 0.0235 - acc: 0.1862 - val_loss: 0.0226 - val_acc: 0.2320\n",
      "Epoch 5/5\n",
      " - 77s - loss: 0.0229 - acc: 0.2067 - val_loss: 0.0221 - val_acc: 0.2400\n",
      "Test Accuracy [23.5]\n"
     ]
    },
    {
     "data": {
      "text/plain": [
       "array([23.5])"
      ]
     },
     "execution_count": 12,
     "metadata": {},
     "output_type": "execute_result"
    }
   ],
   "source": [
    "model = Sequential()\n",
    "\n",
    "model.add(Convolution2D(32,3,3,activation='relu',input_shape=(img_rows,img_cols,3)))\n",
    "model.add(Convolution2D(32,3,3,activation='relu'))\n",
    "model.add(Convolution2D(32,7,2,activation='relu'))\n",
    "model.add(MaxPooling2D(pool_size=(4,4)))\n",
    "model.add(Dropout(0.75))\n",
    "model.add(Flatten())\n",
    "\n",
    "model.add(Dense(512,activation='sigmoid'))\n",
    "model.add(Dropout(0.25))\n",
    "model.add(Dense(num_classes,activation='softmax'))\n",
    "\n",
    "model.compile(loss='poisson',optimizer='adam',metrics=['accuracy'])\n",
    "model.fit(train_x[:95000],train_y[:95000],batch_size=100,epochs=5,verbose=2,validation_split=0.05)\n",
    "test_acc(model,train_x[95000:],train_y[95000:])"
   ]
  },
  {
   "cell_type": "code",
   "execution_count": 13,
   "metadata": {
    "scrolled": true
   },
   "outputs": [
    {
     "name": "stderr",
     "output_type": "stream",
     "text": [
      "c:\\users\\leo\\appdata\\local\\programs\\python\\python36\\lib\\site-packages\\ipykernel_launcher.py:3: UserWarning: Update your `Conv2D` call to the Keras 2 API: `Conv2D(32, (3, 3), activation=\"relu\", input_shape=(64, 64, 3...)`\n",
      "  This is separate from the ipykernel package so we can avoid doing imports until\n",
      "c:\\users\\leo\\appdata\\local\\programs\\python\\python36\\lib\\site-packages\\ipykernel_launcher.py:4: UserWarning: Update your `Conv2D` call to the Keras 2 API: `Conv2D(32, (3, 3), activation=\"relu\")`\n",
      "  after removing the cwd from sys.path.\n",
      "c:\\users\\leo\\appdata\\local\\programs\\python\\python36\\lib\\site-packages\\ipykernel_launcher.py:5: UserWarning: Update your `Conv2D` call to the Keras 2 API: `Conv2D(32, (7, 2), activation=\"relu\")`\n",
      "  \"\"\"\n"
     ]
    },
    {
     "name": "stdout",
     "output_type": "stream",
     "text": [
      "Train on 90250 samples, validate on 4750 samples\n",
      "Epoch 1/20\n",
      " - 77s - loss: 0.0287 - acc: 0.0539 - val_loss: 0.0254 - val_acc: 0.1400\n",
      "Epoch 2/20\n",
      " - 75s - loss: 0.0253 - acc: 0.1335 - val_loss: 0.0237 - val_acc: 0.1964\n",
      "Epoch 3/20\n",
      " - 75s - loss: 0.0240 - acc: 0.1726 - val_loss: 0.0229 - val_acc: 0.2213\n",
      "Epoch 4/20\n",
      " - 76s - loss: 0.0232 - acc: 0.1960 - val_loss: 0.0226 - val_acc: 0.2267\n",
      "Epoch 5/20\n",
      " - 75s - loss: 0.0226 - acc: 0.2131 - val_loss: 0.0220 - val_acc: 0.2463\n",
      "Epoch 6/20\n",
      " - 77s - loss: 0.0222 - acc: 0.2289 - val_loss: 0.0218 - val_acc: 0.2448\n",
      "Epoch 7/20\n",
      " - 77s - loss: 0.0218 - acc: 0.2411 - val_loss: 0.0216 - val_acc: 0.2564\n",
      "Epoch 8/20\n",
      " - 76s - loss: 0.0215 - acc: 0.2509 - val_loss: 0.0215 - val_acc: 0.2585\n",
      "Epoch 9/20\n",
      " - 76s - loss: 0.0212 - acc: 0.2590 - val_loss: 0.0213 - val_acc: 0.2716\n",
      "Epoch 10/20\n",
      " - 76s - loss: 0.0210 - acc: 0.2650 - val_loss: 0.0213 - val_acc: 0.2682\n",
      "Epoch 11/20\n",
      " - 76s - loss: 0.0208 - acc: 0.2724 - val_loss: 0.0212 - val_acc: 0.2674\n",
      "Epoch 12/20\n",
      " - 77s - loss: 0.0206 - acc: 0.2803 - val_loss: 0.0212 - val_acc: 0.2728\n",
      "Epoch 13/20\n",
      " - 76s - loss: 0.0204 - acc: 0.2868 - val_loss: 0.0212 - val_acc: 0.2827\n",
      "Epoch 14/20\n",
      " - 76s - loss: 0.0202 - acc: 0.2895 - val_loss: 0.0211 - val_acc: 0.2745\n",
      "Epoch 15/20\n",
      " - 77s - loss: 0.0201 - acc: 0.2967 - val_loss: 0.0212 - val_acc: 0.2743\n",
      "Epoch 16/20\n",
      " - 76s - loss: 0.0199 - acc: 0.3029 - val_loss: 0.0212 - val_acc: 0.2741\n",
      "Epoch 17/20\n",
      " - 77s - loss: 0.0197 - acc: 0.3078 - val_loss: 0.0213 - val_acc: 0.2697\n",
      "Epoch 18/20\n",
      " - 77s - loss: 0.0196 - acc: 0.3121 - val_loss: 0.0211 - val_acc: 0.2733\n",
      "Epoch 19/20\n",
      " - 77s - loss: 0.0195 - acc: 0.3163 - val_loss: 0.0212 - val_acc: 0.2794\n",
      "Epoch 20/20\n",
      " - 76s - loss: 0.0194 - acc: 0.3200 - val_loss: 0.0212 - val_acc: 0.2762\n",
      "Test Accuracy [26.94]\n"
     ]
    },
    {
     "data": {
      "text/plain": [
       "array([26.94])"
      ]
     },
     "execution_count": 13,
     "metadata": {},
     "output_type": "execute_result"
    }
   ],
   "source": [
    "model = Sequential()\n",
    "\n",
    "model.add(Convolution2D(32,3,3,activation='relu',input_shape=(img_rows,img_cols,3)))\n",
    "model.add(Convolution2D(32,3,3,activation='relu'))\n",
    "model.add(Convolution2D(32,7,2,activation='relu'))\n",
    "model.add(MaxPooling2D(pool_size=(4,4)))\n",
    "model.add(Dropout(0.75))\n",
    "model.add(Flatten())\n",
    "\n",
    "model.add(Dense(512,activation='relu'))\n",
    "model.add(Dropout(0.25))\n",
    "model.add(Dense(num_classes,activation='softmax'))\n",
    "\n",
    "model.compile(loss='poisson',optimizer='adam',metrics=['accuracy'])\n",
    "model.fit(train_x[:95000],train_y[:95000],batch_size=100,epochs=20,verbose=2,validation_split=0.05)\n",
    "test_acc(model,train_x[95000:],train_y[95000:])"
   ]
  },
  {
   "cell_type": "code",
   "execution_count": 14,
   "metadata": {},
   "outputs": [
    {
     "name": "stderr",
     "output_type": "stream",
     "text": [
      "c:\\users\\leo\\appdata\\local\\programs\\python\\python36\\lib\\site-packages\\ipykernel_launcher.py:3: UserWarning: Update your `Conv2D` call to the Keras 2 API: `Conv2D(32, (3, 3), activation=\"relu\", input_shape=(64, 64, 3...)`\n",
      "  This is separate from the ipykernel package so we can avoid doing imports until\n",
      "c:\\users\\leo\\appdata\\local\\programs\\python\\python36\\lib\\site-packages\\ipykernel_launcher.py:4: UserWarning: Update your `Conv2D` call to the Keras 2 API: `Conv2D(32, (3, 3), activation=\"relu\")`\n",
      "  after removing the cwd from sys.path.\n",
      "c:\\users\\leo\\appdata\\local\\programs\\python\\python36\\lib\\site-packages\\ipykernel_launcher.py:5: UserWarning: Update your `Conv2D` call to the Keras 2 API: `Conv2D(128, (7, 2), activation=\"relu\")`\n",
      "  \"\"\"\n"
     ]
    },
    {
     "name": "stdout",
     "output_type": "stream",
     "text": [
      "Train on 90250 samples, validate on 4750 samples\n",
      "Epoch 1/10\n",
      " - 152s - loss: 0.0285 - acc: 0.0594 - val_loss: 0.0253 - val_acc: 0.1398\n",
      "Epoch 2/10\n",
      " - 149s - loss: 0.0247 - acc: 0.1508 - val_loss: 0.0233 - val_acc: 0.2074\n",
      "Epoch 3/10\n",
      " - 152s - loss: 0.0232 - acc: 0.1986 - val_loss: 0.0222 - val_acc: 0.2366\n",
      "Epoch 4/10\n",
      " - 151s - loss: 0.0221 - acc: 0.2320 - val_loss: 0.0218 - val_acc: 0.2493\n",
      "Epoch 5/10\n",
      " - 150s - loss: 0.0213 - acc: 0.2588 - val_loss: 0.0215 - val_acc: 0.2638\n",
      "Epoch 6/10\n",
      " - 150s - loss: 0.0206 - acc: 0.2807 - val_loss: 0.0211 - val_acc: 0.2743\n",
      "Epoch 7/10\n",
      " - 151s - loss: 0.0200 - acc: 0.3014 - val_loss: 0.0213 - val_acc: 0.2676\n",
      "Epoch 8/10\n",
      " - 150s - loss: 0.0195 - acc: 0.3181 - val_loss: 0.0210 - val_acc: 0.2771\n",
      "Epoch 9/10\n",
      " - 150s - loss: 0.0190 - acc: 0.3363 - val_loss: 0.0210 - val_acc: 0.2785\n",
      "Epoch 10/10\n",
      " - 150s - loss: 0.0185 - acc: 0.3535 - val_loss: 0.0210 - val_acc: 0.2777\n",
      "Test Accuracy [27.06]\n"
     ]
    },
    {
     "data": {
      "text/plain": [
       "array([27.06])"
      ]
     },
     "execution_count": 14,
     "metadata": {},
     "output_type": "execute_result"
    }
   ],
   "source": [
    "model = Sequential()\n",
    "\n",
    "model.add(Convolution2D(32,3,3,activation='relu',input_shape=(img_rows,img_cols,3)))\n",
    "model.add(Convolution2D(32,3,3,activation='relu'))\n",
    "model.add(Convolution2D(128,7,2,activation='relu'))\n",
    "model.add(MaxPooling2D(pool_size=(4,4)))\n",
    "model.add(Dropout(0.75))\n",
    "model.add(Flatten())\n",
    "\n",
    "model.add(Dense(512,activation='relu'))\n",
    "model.add(Dropout(0.25))\n",
    "model.add(Dense(num_classes,activation='softmax'))\n",
    "\n",
    "model.compile(loss='poisson',optimizer='adam',metrics=['accuracy'])\n",
    "model.fit(train_x[:95000],train_y[:95000],batch_size=100,epochs=10,verbose=2,validation_split=0.05)\n",
    "test_acc(model,train_x[95000:],train_y[95000:])"
   ]
  },
  {
   "cell_type": "code",
   "execution_count": 15,
   "metadata": {},
   "outputs": [
    {
     "name": "stderr",
     "output_type": "stream",
     "text": [
      "c:\\users\\leo\\appdata\\local\\programs\\python\\python36\\lib\\site-packages\\ipykernel_launcher.py:3: UserWarning: Update your `Conv2D` call to the Keras 2 API: `Conv2D(32, (3, 3), activation=\"relu\", input_shape=(64, 64, 3...)`\n",
      "  This is separate from the ipykernel package so we can avoid doing imports until\n",
      "c:\\users\\leo\\appdata\\local\\programs\\python\\python36\\lib\\site-packages\\ipykernel_launcher.py:4: UserWarning: Update your `Conv2D` call to the Keras 2 API: `Conv2D(32, (3, 3), activation=\"relu\")`\n",
      "  after removing the cwd from sys.path.\n",
      "c:\\users\\leo\\appdata\\local\\programs\\python\\python36\\lib\\site-packages\\ipykernel_launcher.py:5: UserWarning: Update your `Conv2D` call to the Keras 2 API: `Conv2D(128, (7, 2), activation=\"relu\")`\n",
      "  \"\"\"\n"
     ]
    },
    {
     "name": "stdout",
     "output_type": "stream",
     "text": [
      "Train on 90250 samples, validate on 4750 samples\n",
      "Epoch 1/10\n",
      " - 152s - loss: 0.0294 - acc: 0.0383 - val_loss: 0.0266 - val_acc: 0.1013\n",
      "Epoch 2/10\n",
      " - 149s - loss: 0.0261 - acc: 0.1084 - val_loss: 0.0243 - val_acc: 0.1606\n",
      "Epoch 3/10\n",
      " - 151s - loss: 0.0246 - acc: 0.1503 - val_loss: 0.0233 - val_acc: 0.1966\n",
      "Epoch 4/10\n",
      " - 150s - loss: 0.0237 - acc: 0.1728 - val_loss: 0.0225 - val_acc: 0.2263\n",
      "Epoch 5/10\n",
      " - 150s - loss: 0.0231 - acc: 0.1929 - val_loss: 0.0224 - val_acc: 0.2244\n",
      "Epoch 6/10\n",
      " - 150s - loss: 0.0226 - acc: 0.2094 - val_loss: 0.0218 - val_acc: 0.2451\n",
      "Epoch 7/10\n",
      " - 151s - loss: 0.0221 - acc: 0.2233 - val_loss: 0.0217 - val_acc: 0.2531\n",
      "Epoch 8/10\n",
      " - 150s - loss: 0.0217 - acc: 0.2343 - val_loss: 0.0216 - val_acc: 0.2488\n",
      "Epoch 9/10\n",
      " - 151s - loss: 0.0214 - acc: 0.2463 - val_loss: 0.0212 - val_acc: 0.2728\n",
      "Epoch 10/10\n",
      " - 148s - loss: 0.0211 - acc: 0.2572 - val_loss: 0.0214 - val_acc: 0.2583\n",
      "Test Accuracy [25.02]\n"
     ]
    },
    {
     "data": {
      "text/plain": [
       "array([25.02])"
      ]
     },
     "execution_count": 15,
     "metadata": {},
     "output_type": "execute_result"
    }
   ],
   "source": [
    "model = Sequential()\n",
    "\n",
    "model.add(Convolution2D(32,3,3,activation='relu',input_shape=(img_rows,img_cols,3)))\n",
    "model.add(Convolution2D(32,3,3,activation='relu'))\n",
    "model.add(Convolution2D(128,7,2,activation='relu'))\n",
    "model.add(MaxPooling2D(pool_size=(4,4)))\n",
    "model.add(Dropout(0.75))\n",
    "model.add(Flatten())\n",
    "\n",
    "model.add(Dense(512,activation='relu'))\n",
    "model.add(Dropout(0.25))\n",
    "model.add(Dense(256,activation='relu'))\n",
    "model.add(Dropout(0.25))\n",
    "model.add(Dense(num_classes,activation='softmax'))\n",
    "\n",
    "model.compile(loss='poisson',optimizer='adam',metrics=['accuracy'])\n",
    "model.fit(train_x[:95000],train_y[:95000],batch_size=100,epochs=10,verbose=2,validation_split=0.05)\n",
    "test_acc(model,train_x[95000:],train_y[95000:])"
   ]
  },
  {
   "cell_type": "code",
   "execution_count": 7,
   "metadata": {},
   "outputs": [
    {
     "name": "stderr",
     "output_type": "stream",
     "text": [
      "c:\\users\\leo\\appdata\\local\\programs\\python\\python36\\lib\\site-packages\\ipykernel_launcher.py:3: UserWarning: Update your `Conv2D` call to the Keras 2 API: `Conv2D(32, (3, 3), activation=\"relu\", input_shape=(64, 64, 3...)`\n",
      "  This is separate from the ipykernel package so we can avoid doing imports until\n",
      "c:\\users\\leo\\appdata\\local\\programs\\python\\python36\\lib\\site-packages\\ipykernel_launcher.py:4: UserWarning: Update your `Conv2D` call to the Keras 2 API: `Conv2D(64, (3, 3), activation=\"relu\")`\n",
      "  after removing the cwd from sys.path.\n",
      "c:\\users\\leo\\appdata\\local\\programs\\python\\python36\\lib\\site-packages\\ipykernel_launcher.py:5: UserWarning: Update your `Conv2D` call to the Keras 2 API: `Conv2D(128, (7, 2), activation=\"relu\")`\n",
      "  \"\"\"\n"
     ]
    },
    {
     "name": "stdout",
     "output_type": "stream",
     "text": [
      "Train on 90250 samples, validate on 4750 samples\n",
      "Epoch 1/10\n",
      " - 278s - loss: 0.0314 - acc: 0.0072 - val_loss: 0.0311 - val_acc: 0.0118\n",
      "Epoch 2/10\n",
      " - 267s - loss: 0.0309 - acc: 0.0109 - val_loss: 0.0303 - val_acc: 0.0168\n",
      "Epoch 3/10\n",
      " - 269s - loss: 0.0302 - acc: 0.0183 - val_loss: 0.0293 - val_acc: 0.0299\n",
      "Epoch 4/10\n",
      " - 269s - loss: 0.0296 - acc: 0.0252 - val_loss: 0.0289 - val_acc: 0.0432\n",
      "Epoch 5/10\n",
      " - 269s - loss: 0.0291 - acc: 0.0310 - val_loss: 0.0284 - val_acc: 0.0499\n",
      "Epoch 6/10\n",
      " - 268s - loss: 0.0288 - acc: 0.0372 - val_loss: 0.0276 - val_acc: 0.0623\n",
      "Epoch 7/10\n",
      " - 268s - loss: 0.0285 - acc: 0.0414 - val_loss: 0.0274 - val_acc: 0.0657\n",
      "Epoch 8/10\n",
      " - 267s - loss: 0.0282 - acc: 0.0468 - val_loss: 0.0270 - val_acc: 0.0735\n",
      "Epoch 9/10\n",
      " - 266s - loss: 0.0280 - acc: 0.0504 - val_loss: 0.0269 - val_acc: 0.0783\n",
      "Epoch 10/10\n",
      " - 266s - loss: 0.0278 - acc: 0.0534 - val_loss: 0.0267 - val_acc: 0.0834\n",
      "Test Accuracy [7.76]\n"
     ]
    },
    {
     "data": {
      "text/plain": [
       "array([7.76])"
      ]
     },
     "execution_count": 7,
     "metadata": {},
     "output_type": "execute_result"
    }
   ],
   "source": [
    "model = Sequential()\n",
    "\n",
    "model.add(Convolution2D(32,3,3,activation='relu',input_shape=(img_rows,img_cols,3)))\n",
    "model.add(Convolution2D(64,3,3,activation='relu'))\n",
    "model.add(Convolution2D(128,7,2,activation='relu'))\n",
    "model.add(MaxPooling2D(pool_size=(2,2)))\n",
    "model.add(Dropout(0.75))\n",
    "model.add(Flatten())\n",
    "\n",
    "model.add(Dense(512,activation='relu'))\n",
    "model.add(Dropout(0.75))\n",
    "model.add(Dense(256,activation='relu'))\n",
    "model.add(Dropout(0.75))\n",
    "model.add(Dense(num_classes,activation='softmax'))\n",
    "\n",
    "model.compile(loss='poisson',optimizer='adam',metrics=['accuracy'])\n",
    "model.fit(train_x[:95000],train_y[:95000],batch_size=100,epochs=10,verbose=2,validation_split=0.05)\n",
    "test_acc(model,train_x[95000:],train_y[95000:])"
   ]
  },
  {
   "cell_type": "code",
   "execution_count": 8,
   "metadata": {},
   "outputs": [
    {
     "name": "stderr",
     "output_type": "stream",
     "text": [
      "c:\\users\\leo\\appdata\\local\\programs\\python\\python36\\lib\\site-packages\\ipykernel_launcher.py:3: UserWarning: Update your `Conv2D` call to the Keras 2 API: `Conv2D(32, (3, 3), activation=\"relu\", input_shape=(64, 64, 3...)`\n",
      "  This is separate from the ipykernel package so we can avoid doing imports until\n",
      "c:\\users\\leo\\appdata\\local\\programs\\python\\python36\\lib\\site-packages\\ipykernel_launcher.py:6: UserWarning: Update your `Conv2D` call to the Keras 2 API: `Conv2D(64, (3, 3), activation=\"relu\")`\n",
      "  \n",
      "c:\\users\\leo\\appdata\\local\\programs\\python\\python36\\lib\\site-packages\\ipykernel_launcher.py:9: UserWarning: Update your `Conv2D` call to the Keras 2 API: `Conv2D(128, (7, 2), activation=\"relu\")`\n",
      "  if __name__ == '__main__':\n"
     ]
    },
    {
     "name": "stdout",
     "output_type": "stream",
     "text": [
      "Train on 90250 samples, validate on 4750 samples\n",
      "Epoch 1/10\n",
      " - 51s - loss: 0.0315 - acc: 0.0060 - val_loss: 0.0315 - val_acc: 0.0053\n",
      "Epoch 2/10\n",
      " - 49s - loss: 0.0311 - acc: 0.0101 - val_loss: 0.0315 - val_acc: 0.0067\n",
      "Epoch 3/10\n",
      " - 49s - loss: 0.0310 - acc: 0.0103 - val_loss: 0.0316 - val_acc: 0.0067\n",
      "Epoch 4/10\n",
      " - 49s - loss: 0.0309 - acc: 0.0113 - val_loss: 0.0317 - val_acc: 0.0057\n",
      "Epoch 5/10\n",
      " - 50s - loss: 0.0309 - acc: 0.0114 - val_loss: 0.0319 - val_acc: 0.0067\n",
      "Epoch 6/10\n",
      " - 50s - loss: 0.0308 - acc: 0.0122 - val_loss: 0.0320 - val_acc: 0.0067\n",
      "Epoch 7/10\n",
      " - 49s - loss: 0.0308 - acc: 0.0129 - val_loss: 0.0321 - val_acc: 0.0067\n",
      "Epoch 8/10\n",
      " - 49s - loss: 0.0308 - acc: 0.0127 - val_loss: 0.0323 - val_acc: 0.0067\n",
      "Epoch 9/10\n",
      " - 49s - loss: 0.0307 - acc: 0.0132 - val_loss: 0.0324 - val_acc: 0.0067\n",
      "Epoch 10/10\n",
      " - 49s - loss: 0.0307 - acc: 0.0145 - val_loss: 0.0326 - val_acc: 0.0067\n",
      "Test Accuracy [0.32]\n"
     ]
    },
    {
     "data": {
      "text/plain": [
       "array([0.32])"
      ]
     },
     "execution_count": 8,
     "metadata": {},
     "output_type": "execute_result"
    }
   ],
   "source": [
    "model = Sequential()\n",
    "\n",
    "model.add(Convolution2D(32,3,3,activation='relu',input_shape=(img_rows,img_cols,3)))\n",
    "model.add(MaxPooling2D(pool_size=(2,2)))\n",
    "model.add(Dropout(0.75))\n",
    "model.add(Convolution2D(64,3,3,activation='relu'))\n",
    "model.add(MaxPooling2D(pool_size=(2,2)))\n",
    "model.add(Dropout(0.75))\n",
    "model.add(Convolution2D(128,7,2,activation='relu'))\n",
    "model.add(MaxPooling2D(pool_size=(2,2)))\n",
    "model.add(Dropout(0.75))\n",
    "model.add(Flatten())\n",
    "\n",
    "model.add(Dense(512,activation='relu'))\n",
    "model.add(Dropout(0.75))\n",
    "model.add(Dense(256,activation='relu'))\n",
    "model.add(Dropout(0.75))\n",
    "model.add(Dense(num_classes,activation='softmax'))\n",
    "\n",
    "model.compile(loss='poisson',optimizer='adam',metrics=['accuracy'])\n",
    "model.fit(train_x[:95000],train_y[:95000],batch_size=100,epochs=10,verbose=2,validation_split=0.05)\n",
    "test_acc(model,train_x[95000:],train_y[95000:])"
   ]
  },
  {
   "cell_type": "code",
   "execution_count": null,
   "metadata": {},
   "outputs": [
    {
     "name": "stderr",
     "output_type": "stream",
     "text": [
      "c:\\users\\leo\\appdata\\local\\programs\\python\\python36\\lib\\site-packages\\ipykernel_launcher.py:3: UserWarning: Update your `Conv2D` call to the Keras 2 API: `Conv2D(32, (3, 3), activation=\"relu\", input_shape=(64, 64, 3...)`\n",
      "  This is separate from the ipykernel package so we can avoid doing imports until\n",
      "c:\\users\\leo\\appdata\\local\\programs\\python\\python36\\lib\\site-packages\\ipykernel_launcher.py:6: UserWarning: Update your `Conv2D` call to the Keras 2 API: `Conv2D(64, (3, 3), activation=\"relu\")`\n",
      "  \n",
      "c:\\users\\leo\\appdata\\local\\programs\\python\\python36\\lib\\site-packages\\ipykernel_launcher.py:9: UserWarning: Update your `Conv2D` call to the Keras 2 API: `Conv2D(128, (7, 2), activation=\"relu\")`\n",
      "  if __name__ == '__main__':\n"
     ]
    },
    {
     "name": "stdout",
     "output_type": "stream",
     "text": [
      "Train on 90250 samples, validate on 4750 samples\n",
      "Epoch 1/10\n",
      " - 50s - loss: 0.0314 - acc: 0.0069 - val_loss: 0.0314 - val_acc: 0.0040\n",
      "Epoch 2/10\n",
      " - 48s - loss: 0.0304 - acc: 0.0168 - val_loss: 0.0318 - val_acc: 0.0063\n",
      "Epoch 3/10\n",
      " - 49s - loss: 0.0298 - acc: 0.0266 - val_loss: 0.0331 - val_acc: 0.0074\n",
      "Epoch 4/10\n",
      " - 49s - loss: 0.0293 - acc: 0.0361 - val_loss: 0.0339 - val_acc: 0.0046\n",
      "Epoch 5/10\n",
      " - 50s - loss: 0.0290 - acc: 0.0429 - val_loss: 0.0351 - val_acc: 0.0086\n",
      "Epoch 6/10\n"
     ]
    }
   ],
   "source": [
    "model = Sequential()\n",
    "\n",
    "model.add(Convolution2D(32,3,3,activation='relu',input_shape=(img_rows,img_cols,3)))\n",
    "model.add(MaxPooling2D(pool_size=(2,2)))\n",
    "model.add(Dropout(0.75))\n",
    "model.add(Convolution2D(64,3,3,activation='relu'))\n",
    "model.add(MaxPooling2D(pool_size=(2,2)))\n",
    "model.add(Dropout(0.75))\n",
    "model.add(Convolution2D(128,7,2,activation='relu'))\n",
    "model.add(MaxPooling2D(pool_size=(2,2)))\n",
    "model.add(Dropout(0.75))\n",
    "model.add(Flatten())\n",
    "\n",
    "model.add(Dense(512,activation='relu'))\n",
    "model.add(Dropout(0.75))\n",
    "model.add(Dense(num_classes,activation='softmax'))\n",
    "\n",
    "model.compile(loss='poisson',optimizer='adam',metrics=['accuracy'])\n",
    "model.fit(train_x[:95000],train_y[:95000],batch_size=100,epochs=10,verbose=2,validation_split=0.05)\n",
    "test_acc(model,train_x[95000:],train_y[95000:])"
   ]
  },
  {
   "cell_type": "code",
   "execution_count": 7,
   "metadata": {},
   "outputs": [
    {
     "name": "stderr",
     "output_type": "stream",
     "text": [
      "c:\\users\\leo\\appdata\\local\\programs\\python\\python36\\lib\\site-packages\\ipykernel_launcher.py:3: UserWarning: Update your `Conv2D` call to the Keras 2 API: `Conv2D(32, (3, 3), activation=\"relu\", input_shape=(64, 64, 3...)`\n",
      "  This is separate from the ipykernel package so we can avoid doing imports until\n",
      "c:\\users\\leo\\appdata\\local\\programs\\python\\python36\\lib\\site-packages\\ipykernel_launcher.py:4: UserWarning: Update your `Conv2D` call to the Keras 2 API: `Conv2D(32, (3, 3), activation=\"relu\")`\n",
      "  after removing the cwd from sys.path.\n",
      "c:\\users\\leo\\appdata\\local\\programs\\python\\python36\\lib\\site-packages\\ipykernel_launcher.py:5: UserWarning: Update your `Conv2D` call to the Keras 2 API: `Conv2D(128, (7, 2), activation=\"relu\")`\n",
      "  \"\"\"\n"
     ]
    },
    {
     "name": "stdout",
     "output_type": "stream",
     "text": [
      "Train on 90250 samples, validate on 4750 samples\n",
      "Epoch 1/7\n",
      " - 154s - loss: 0.0283 - acc: 0.0630 - val_loss: 0.0248 - val_acc: 0.1531\n",
      "Epoch 2/7\n",
      " - 146s - loss: 0.0245 - acc: 0.1576 - val_loss: 0.0229 - val_acc: 0.2221\n",
      "Epoch 3/7\n",
      " - 146s - loss: 0.0231 - acc: 0.2027 - val_loss: 0.0221 - val_acc: 0.2394\n",
      "Epoch 4/7\n",
      " - 146s - loss: 0.0221 - acc: 0.2327 - val_loss: 0.0219 - val_acc: 0.2509\n",
      "Epoch 5/7\n",
      " - 146s - loss: 0.0213 - acc: 0.2594 - val_loss: 0.0212 - val_acc: 0.2646\n",
      "Epoch 6/7\n",
      " - 146s - loss: 0.0207 - acc: 0.2781 - val_loss: 0.0212 - val_acc: 0.2733\n",
      "Epoch 7/7\n",
      " - 146s - loss: 0.0201 - acc: 0.2976 - val_loss: 0.0210 - val_acc: 0.2771\n",
      "Test Accuracy [26.8]\n"
     ]
    },
    {
     "data": {
      "text/plain": [
       "array([26.8])"
      ]
     },
     "execution_count": 7,
     "metadata": {},
     "output_type": "execute_result"
    }
   ],
   "source": [
    "model = Sequential()\n",
    "\n",
    "model.add(Convolution2D(32,3,3,activation='relu',input_shape=(img_rows,img_cols,3)))\n",
    "model.add(Convolution2D(32,3,3,activation='relu'))\n",
    "model.add(Convolution2D(128,7,2,activation='relu'))\n",
    "model.add(MaxPooling2D(pool_size=(4,4)))\n",
    "model.add(Dropout(0.75))\n",
    "model.add(Flatten())\n",
    "\n",
    "model.add(Dense(512,activation='relu'))\n",
    "model.add(Dropout(0.25))\n",
    "model.add(Dense(num_classes,activation='softmax'))\n",
    "\n",
    "model.compile(loss='poisson',optimizer='adam',metrics=['accuracy'])\n",
    "model.fit(train_x[:95000],train_y[:95000],batch_size=100,epochs=7,verbose=2,validation_split=0.05)\n",
    "test_acc(model,train_x[95000:],train_y[95000:])"
   ]
  },
  {
   "cell_type": "code",
   "execution_count": 8,
   "metadata": {},
   "outputs": [
    {
     "name": "stderr",
     "output_type": "stream",
     "text": [
      "c:\\users\\leo\\appdata\\local\\programs\\python\\python36\\lib\\site-packages\\ipykernel_launcher.py:3: UserWarning: Update your `Conv2D` call to the Keras 2 API: `Conv2D(32, (3, 3), activation=\"relu\", input_shape=(64, 64, 3...)`\n",
      "  This is separate from the ipykernel package so we can avoid doing imports until\n",
      "c:\\users\\leo\\appdata\\local\\programs\\python\\python36\\lib\\site-packages\\ipykernel_launcher.py:4: UserWarning: Update your `Conv2D` call to the Keras 2 API: `Conv2D(32, (3, 3), activation=\"relu\")`\n",
      "  after removing the cwd from sys.path.\n",
      "c:\\users\\leo\\appdata\\local\\programs\\python\\python36\\lib\\site-packages\\ipykernel_launcher.py:5: UserWarning: Update your `Conv2D` call to the Keras 2 API: `Conv2D(128, (7, 2), activation=\"relu\")`\n",
      "  \"\"\"\n"
     ]
    },
    {
     "name": "stdout",
     "output_type": "stream",
     "text": [
      "Train on 90250 samples, validate on 4750 samples\n",
      "Epoch 1/10\n",
      " - 152s - loss: 0.0302 - acc: 0.0232 - val_loss: 0.0281 - val_acc: 0.0724\n",
      "Epoch 2/10\n",
      " - 146s - loss: 0.0278 - acc: 0.0655 - val_loss: 0.0260 - val_acc: 0.1248\n",
      "Epoch 3/10\n",
      " - 146s - loss: 0.0265 - acc: 0.0926 - val_loss: 0.0246 - val_acc: 0.1602\n",
      "Epoch 4/10\n",
      " - 147s - loss: 0.0259 - acc: 0.1108 - val_loss: 0.0242 - val_acc: 0.1781\n",
      "Epoch 5/10\n",
      " - 148s - loss: 0.0255 - acc: 0.1210 - val_loss: 0.0238 - val_acc: 0.1947\n",
      "Epoch 6/10\n",
      " - 147s - loss: 0.0251 - acc: 0.1314 - val_loss: 0.0235 - val_acc: 0.2034\n",
      "Epoch 7/10\n",
      " - 147s - loss: 0.0249 - acc: 0.1389 - val_loss: 0.0231 - val_acc: 0.2179\n",
      "Epoch 8/10\n",
      " - 147s - loss: 0.0247 - acc: 0.1442 - val_loss: 0.0230 - val_acc: 0.2183\n",
      "Epoch 9/10\n",
      " - 147s - loss: 0.0245 - acc: 0.1492 - val_loss: 0.0230 - val_acc: 0.2171\n",
      "Epoch 10/10\n",
      " - 147s - loss: 0.0243 - acc: 0.1546 - val_loss: 0.0227 - val_acc: 0.2215\n",
      "Test Accuracy [22.04]\n"
     ]
    },
    {
     "data": {
      "text/plain": [
       "array([22.04])"
      ]
     },
     "execution_count": 8,
     "metadata": {},
     "output_type": "execute_result"
    }
   ],
   "source": [
    "model = Sequential()\n",
    "\n",
    "model.add(Convolution2D(32,3,3,activation='relu',input_shape=(img_rows,img_cols,3)))\n",
    "model.add(Convolution2D(32,3,3,activation='relu'))\n",
    "model.add(Convolution2D(128,7,2,activation='relu'))\n",
    "model.add(MaxPooling2D(pool_size=(4,4)))\n",
    "model.add(Dropout(0.75))\n",
    "model.add(Flatten())\n",
    "\n",
    "model.add(Dense(512,activation='relu'))\n",
    "model.add(Dropout(0.75))\n",
    "model.add(Dense(num_classes,activation='softmax'))\n",
    "\n",
    "model.compile(loss='poisson',optimizer='adam',metrics=['accuracy'])\n",
    "model.fit(train_x[:95000],train_y[:95000],batch_size=100,epochs=10,verbose=2,validation_split=0.05)\n",
    "test_acc(model,train_x[95000:],train_y[95000:])"
   ]
  },
  {
   "cell_type": "code",
   "execution_count": 9,
   "metadata": {},
   "outputs": [
    {
     "name": "stderr",
     "output_type": "stream",
     "text": [
      "c:\\users\\leo\\appdata\\local\\programs\\python\\python36\\lib\\site-packages\\ipykernel_launcher.py:3: UserWarning: Update your `Conv2D` call to the Keras 2 API: `Conv2D(32, (3, 3), activation=\"relu\", input_shape=(64, 64, 3...)`\n",
      "  This is separate from the ipykernel package so we can avoid doing imports until\n",
      "c:\\users\\leo\\appdata\\local\\programs\\python\\python36\\lib\\site-packages\\ipykernel_launcher.py:4: UserWarning: Update your `Conv2D` call to the Keras 2 API: `Conv2D(32, (3, 3), activation=\"relu\")`\n",
      "  after removing the cwd from sys.path.\n",
      "c:\\users\\leo\\appdata\\local\\programs\\python\\python36\\lib\\site-packages\\ipykernel_launcher.py:5: UserWarning: Update your `Conv2D` call to the Keras 2 API: `Conv2D(128, (7, 2), activation=\"relu\")`\n",
      "  \"\"\"\n"
     ]
    },
    {
     "name": "stdout",
     "output_type": "stream",
     "text": [
      "Train on 90250 samples, validate on 4750 samples\n",
      "Epoch 1/10\n",
      " - 148s - loss: 0.0291 - acc: 0.0441 - val_loss: 0.0260 - val_acc: 0.1215\n",
      "Epoch 2/10\n",
      " - 147s - loss: 0.0258 - acc: 0.1191 - val_loss: 0.0238 - val_acc: 0.1903\n",
      "Epoch 3/10\n",
      " - 147s - loss: 0.0244 - acc: 0.1597 - val_loss: 0.0231 - val_acc: 0.2143\n",
      "Epoch 4/10\n",
      " - 147s - loss: 0.0236 - acc: 0.1830 - val_loss: 0.0223 - val_acc: 0.2371\n",
      "Epoch 5/10\n",
      " - 147s - loss: 0.0230 - acc: 0.2026 - val_loss: 0.0221 - val_acc: 0.2545\n",
      "Epoch 6/10\n",
      " - 147s - loss: 0.0225 - acc: 0.2177 - val_loss: 0.0219 - val_acc: 0.2526\n",
      "Epoch 7/10\n",
      " - 147s - loss: 0.0221 - acc: 0.2301 - val_loss: 0.0216 - val_acc: 0.2638\n",
      "Epoch 8/10\n",
      " - 147s - loss: 0.0217 - acc: 0.2412 - val_loss: 0.0216 - val_acc: 0.2549\n",
      "Epoch 9/10\n",
      " - 147s - loss: 0.0214 - acc: 0.2509 - val_loss: 0.0215 - val_acc: 0.2726\n",
      "Epoch 10/10\n",
      " - 148s - loss: 0.0211 - acc: 0.2606 - val_loss: 0.0214 - val_acc: 0.2699\n",
      "Test Accuracy [26.48]\n"
     ]
    },
    {
     "data": {
      "text/plain": [
       "array([26.48])"
      ]
     },
     "execution_count": 9,
     "metadata": {},
     "output_type": "execute_result"
    }
   ],
   "source": [
    "model = Sequential()\n",
    "\n",
    "model.add(Convolution2D(32,3,3,activation='relu',input_shape=(img_rows,img_cols,3)))\n",
    "model.add(Convolution2D(32,3,3,activation='relu'))\n",
    "model.add(Convolution2D(128,7,2,activation='relu'))\n",
    "model.add(MaxPooling2D(pool_size=(4,4)))\n",
    "model.add(Dropout(0.75))\n",
    "model.add(Flatten())\n",
    "\n",
    "model.add(Dense(512,activation='relu'))\n",
    "model.add(Dropout(0.5))\n",
    "model.add(Dense(num_classes,activation='softmax'))\n",
    "\n",
    "model.compile(loss='poisson',optimizer='adam',metrics=['accuracy'])\n",
    "model.fit(train_x[:95000],train_y[:95000],batch_size=100,epochs=10,verbose=2,validation_split=0.05)\n",
    "test_acc(model,train_x[95000:],train_y[95000:])"
   ]
  },
  {
   "cell_type": "code",
   "execution_count": 10,
   "metadata": {},
   "outputs": [
    {
     "name": "stderr",
     "output_type": "stream",
     "text": [
      "c:\\users\\leo\\appdata\\local\\programs\\python\\python36\\lib\\site-packages\\ipykernel_launcher.py:3: UserWarning: Update your `Conv2D` call to the Keras 2 API: `Conv2D(32, (3, 3), activation=\"relu\", input_shape=(64, 64, 3...)`\n",
      "  This is separate from the ipykernel package so we can avoid doing imports until\n",
      "c:\\users\\leo\\appdata\\local\\programs\\python\\python36\\lib\\site-packages\\ipykernel_launcher.py:4: UserWarning: Update your `Conv2D` call to the Keras 2 API: `Conv2D(64, (3, 3), activation=\"relu\")`\n",
      "  after removing the cwd from sys.path.\n",
      "c:\\users\\leo\\appdata\\local\\programs\\python\\python36\\lib\\site-packages\\ipykernel_launcher.py:5: UserWarning: Update your `Conv2D` call to the Keras 2 API: `Conv2D(128, (7, 2), activation=\"relu\")`\n",
      "  \"\"\"\n"
     ]
    },
    {
     "name": "stdout",
     "output_type": "stream",
     "text": [
      "Train on 90250 samples, validate on 4750 samples\n",
      "Epoch 1/15\n",
      " - 204s - loss: 0.0292 - acc: 0.0439 - val_loss: 0.0262 - val_acc: 0.1246\n",
      "Epoch 2/15\n",
      " - 191s - loss: 0.0259 - acc: 0.1153 - val_loss: 0.0242 - val_acc: 0.1832\n",
      "Epoch 3/15\n",
      " - 191s - loss: 0.0245 - acc: 0.1552 - val_loss: 0.0228 - val_acc: 0.2280\n",
      "Epoch 4/15\n",
      " - 191s - loss: 0.0237 - acc: 0.1789 - val_loss: 0.0224 - val_acc: 0.2381\n",
      "Epoch 5/15\n",
      " - 191s - loss: 0.0231 - acc: 0.1967 - val_loss: 0.0222 - val_acc: 0.2469\n",
      "Epoch 6/15\n",
      " - 192s - loss: 0.0226 - acc: 0.2128 - val_loss: 0.0216 - val_acc: 0.2594\n",
      "Epoch 7/15\n",
      " - 190s - loss: 0.0222 - acc: 0.2237 - val_loss: 0.0216 - val_acc: 0.2602\n",
      "Epoch 8/15\n",
      " - 191s - loss: 0.0219 - acc: 0.2352 - val_loss: 0.0215 - val_acc: 0.2680\n",
      "Epoch 9/15\n",
      " - 190s - loss: 0.0216 - acc: 0.2465 - val_loss: 0.0214 - val_acc: 0.2682\n",
      "Epoch 10/15\n",
      " - 190s - loss: 0.0213 - acc: 0.2555 - val_loss: 0.0211 - val_acc: 0.2768\n",
      "Epoch 11/15\n",
      " - 190s - loss: 0.0210 - acc: 0.2621 - val_loss: 0.0212 - val_acc: 0.2796\n",
      "Epoch 12/15\n",
      " - 190s - loss: 0.0208 - acc: 0.2694 - val_loss: 0.0210 - val_acc: 0.2739\n",
      "Epoch 13/15\n",
      " - 189s - loss: 0.0205 - acc: 0.2794 - val_loss: 0.0210 - val_acc: 0.2779\n",
      "Epoch 14/15\n",
      " - 189s - loss: 0.0203 - acc: 0.2843 - val_loss: 0.0211 - val_acc: 0.2808\n",
      "Epoch 15/15\n",
      " - 191s - loss: 0.0201 - acc: 0.2936 - val_loss: 0.0208 - val_acc: 0.2905\n",
      "Test Accuracy [28.38]\n"
     ]
    },
    {
     "data": {
      "text/plain": [
       "array([28.38])"
      ]
     },
     "execution_count": 10,
     "metadata": {},
     "output_type": "execute_result"
    }
   ],
   "source": [
    "model = Sequential()\n",
    "\n",
    "model.add(Convolution2D(32,3,3,activation='relu',input_shape=(img_rows,img_cols,3)))\n",
    "model.add(Convolution2D(64,3,3,activation='relu'))\n",
    "model.add(Convolution2D(128,7,2,activation='relu'))\n",
    "model.add(MaxPooling2D(pool_size=(4,4)))\n",
    "model.add(Dropout(0.75))\n",
    "model.add(Flatten())\n",
    "\n",
    "model.add(Dense(512,activation='relu'))\n",
    "model.add(Dropout(0.5))\n",
    "model.add(Dense(num_classes,activation='softmax'))\n",
    "\n",
    "model.compile(loss='poisson',optimizer='adam',metrics=['accuracy'])\n",
    "model.fit(train_x[:95000],train_y[:95000],batch_size=100,epochs=15,verbose=2,validation_split=0.05)\n",
    "test_acc(model,train_x[95000:],train_y[95000:])"
   ]
  },
  {
   "cell_type": "code",
   "execution_count": 7,
   "metadata": {
    "scrolled": true
   },
   "outputs": [
    {
     "name": "stderr",
     "output_type": "stream",
     "text": [
      "c:\\users\\leo\\appdata\\local\\programs\\python\\python36\\lib\\site-packages\\ipykernel_launcher.py:3: UserWarning: Update your `Conv2D` call to the Keras 2 API: `Conv2D(32, (3, 3), activation=\"relu\", input_shape=(64, 64, 3...)`\n",
      "  This is separate from the ipykernel package so we can avoid doing imports until\n",
      "c:\\users\\leo\\appdata\\local\\programs\\python\\python36\\lib\\site-packages\\ipykernel_launcher.py:4: UserWarning: Update your `Conv2D` call to the Keras 2 API: `Conv2D(64, (3, 3), activation=\"relu\")`\n",
      "  after removing the cwd from sys.path.\n",
      "c:\\users\\leo\\appdata\\local\\programs\\python\\python36\\lib\\site-packages\\ipykernel_launcher.py:5: UserWarning: Update your `Conv2D` call to the Keras 2 API: `Conv2D(256, (7, 2), activation=\"relu\")`\n",
      "  \"\"\"\n"
     ]
    },
    {
     "name": "stdout",
     "output_type": "stream",
     "text": [
      "Train on 90250 samples, validate on 4750 samples\n",
      "Epoch 1/15\n",
      " - 315s - loss: 0.0288 - acc: 0.0516 - val_loss: 0.0253 - val_acc: 0.1434\n",
      "Epoch 2/15\n",
      " - 305s - loss: 0.0254 - acc: 0.1325 - val_loss: 0.0237 - val_acc: 0.1907\n",
      "Epoch 3/15\n",
      " - 305s - loss: 0.0240 - acc: 0.1719 - val_loss: 0.0226 - val_acc: 0.2244\n",
      "Epoch 4/15\n",
      " - 306s - loss: 0.0231 - acc: 0.1970 - val_loss: 0.0222 - val_acc: 0.2375\n",
      "Epoch 5/15\n",
      " - 308s - loss: 0.0224 - acc: 0.2183 - val_loss: 0.0218 - val_acc: 0.2524\n",
      "Epoch 6/15\n",
      " - 306s - loss: 0.0219 - acc: 0.2363 - val_loss: 0.0215 - val_acc: 0.2579\n",
      "Epoch 7/15\n",
      " - 306s - loss: 0.0214 - acc: 0.2498 - val_loss: 0.0213 - val_acc: 0.2688\n",
      "Epoch 8/15\n",
      " - 306s - loss: 0.0210 - acc: 0.2640 - val_loss: 0.0213 - val_acc: 0.2701\n",
      "Epoch 9/15\n",
      " - 306s - loss: 0.0205 - acc: 0.2796 - val_loss: 0.0211 - val_acc: 0.2743\n",
      "Epoch 10/15\n",
      " - 306s - loss: 0.0202 - acc: 0.2907 - val_loss: 0.0211 - val_acc: 0.2813\n",
      "Epoch 11/15\n",
      " - 307s - loss: 0.0198 - acc: 0.3041 - val_loss: 0.0210 - val_acc: 0.2840\n",
      "Epoch 12/15\n",
      " - 305s - loss: 0.0195 - acc: 0.3142 - val_loss: 0.0210 - val_acc: 0.2815\n",
      "Epoch 13/15\n",
      " - 305s - loss: 0.0192 - acc: 0.3259 - val_loss: 0.0209 - val_acc: 0.2811\n",
      "Epoch 14/15\n",
      " - 305s - loss: 0.0189 - acc: 0.3343 - val_loss: 0.0211 - val_acc: 0.2789\n",
      "Epoch 15/15\n",
      " - 305s - loss: 0.0186 - acc: 0.3466 - val_loss: 0.0209 - val_acc: 0.2912\n",
      "Test Accuracy [28.26]\n"
     ]
    },
    {
     "data": {
      "text/plain": [
       "array([28.26])"
      ]
     },
     "execution_count": 7,
     "metadata": {},
     "output_type": "execute_result"
    }
   ],
   "source": [
    "model = Sequential()\n",
    "\n",
    "model.add(Convolution2D(32,3,3,activation='relu',input_shape=(img_rows,img_cols,3)))\n",
    "model.add(Convolution2D(64,3,3,activation='relu'))\n",
    "model.add(Convolution2D(256,7,2,activation='relu'))\n",
    "model.add(MaxPooling2D(pool_size=(4,4)))\n",
    "model.add(Dropout(0.75))\n",
    "model.add(Flatten())\n",
    "\n",
    "model.add(Dense(512,activation='relu'))\n",
    "model.add(Dropout(0.5))\n",
    "model.add(Dense(num_classes,activation='softmax'))\n",
    "\n",
    "model.compile(loss='poisson',optimizer='adam',metrics=['accuracy'])\n",
    "model.fit(train_x[:95000],train_y[:95000],batch_size=100,epochs=15,verbose=2,validation_split=0.05)\n",
    "test_acc(model,train_x[95000:],train_y[95000:])"
   ]
  },
  {
   "cell_type": "code",
   "execution_count": 8,
   "metadata": {
    "scrolled": true
   },
   "outputs": [
    {
     "name": "stderr",
     "output_type": "stream",
     "text": [
      "c:\\users\\leo\\appdata\\local\\programs\\python\\python36\\lib\\site-packages\\ipykernel_launcher.py:3: UserWarning: Update your `Conv2D` call to the Keras 2 API: `Conv2D(64, (5, 3), activation=\"relu\", input_shape=(64, 64, 3...)`\n",
      "  This is separate from the ipykernel package so we can avoid doing imports until\n",
      "c:\\users\\leo\\appdata\\local\\programs\\python\\python36\\lib\\site-packages\\ipykernel_launcher.py:4: UserWarning: Update your `Conv2D` call to the Keras 2 API: `Conv2D(64, (5, 3), activation=\"relu\")`\n",
      "  after removing the cwd from sys.path.\n",
      "c:\\users\\leo\\appdata\\local\\programs\\python\\python36\\lib\\site-packages\\ipykernel_launcher.py:5: UserWarning: Update your `Conv2D` call to the Keras 2 API: `Conv2D(128, (5, 2), activation=\"relu\")`\n",
      "  \"\"\"\n"
     ]
    },
    {
     "name": "stdout",
     "output_type": "stream",
     "text": [
      "Train on 90250 samples, validate on 4750 samples\n",
      "Epoch 1/15\n",
      " - 182s - loss: 0.0304 - acc: 0.0200 - val_loss: 0.0290 - val_acc: 0.0474\n",
      "Epoch 2/15\n",
      " - 178s - loss: 0.0283 - acc: 0.0553 - val_loss: 0.0265 - val_acc: 0.1101\n",
      "Epoch 3/15\n",
      " - 178s - loss: 0.0267 - acc: 0.0938 - val_loss: 0.0248 - val_acc: 0.1547\n",
      "Epoch 4/15\n",
      " - 178s - loss: 0.0257 - acc: 0.1188 - val_loss: 0.0246 - val_acc: 0.1625\n",
      "Epoch 5/15\n",
      " - 177s - loss: 0.0251 - acc: 0.1338 - val_loss: 0.0238 - val_acc: 0.1796\n",
      "Epoch 6/15\n",
      " - 178s - loss: 0.0247 - acc: 0.1461 - val_loss: 0.0236 - val_acc: 0.1931\n",
      "Epoch 7/15\n",
      " - 178s - loss: 0.0243 - acc: 0.1549 - val_loss: 0.0232 - val_acc: 0.2057\n",
      "Epoch 8/15\n",
      " - 178s - loss: 0.0240 - acc: 0.1654 - val_loss: 0.0227 - val_acc: 0.2225\n",
      "Epoch 9/15\n",
      " - 178s - loss: 0.0237 - acc: 0.1732 - val_loss: 0.0227 - val_acc: 0.2208\n",
      "Epoch 10/15\n",
      " - 179s - loss: 0.0235 - acc: 0.1824 - val_loss: 0.0225 - val_acc: 0.2288\n",
      "Epoch 11/15\n",
      " - 178s - loss: 0.0233 - acc: 0.1860 - val_loss: 0.0228 - val_acc: 0.2183\n",
      "Epoch 12/15\n",
      " - 179s - loss: 0.0231 - acc: 0.1912 - val_loss: 0.0223 - val_acc: 0.2312\n",
      "Epoch 13/15\n",
      " - 178s - loss: 0.0229 - acc: 0.1983 - val_loss: 0.0223 - val_acc: 0.2299\n",
      "Epoch 14/15\n",
      " - 179s - loss: 0.0227 - acc: 0.2047 - val_loss: 0.0221 - val_acc: 0.2423\n",
      "Epoch 15/15\n",
      " - 178s - loss: 0.0225 - acc: 0.2073 - val_loss: 0.0220 - val_acc: 0.2373\n",
      "Test Accuracy [23.58]\n"
     ]
    },
    {
     "data": {
      "text/plain": [
       "array([23.58])"
      ]
     },
     "execution_count": 8,
     "metadata": {},
     "output_type": "execute_result"
    }
   ],
   "source": [
    "model = Sequential()\n",
    "\n",
    "model.add(Convolution2D(64,5,3,activation='relu',input_shape=(img_rows,img_cols,3)))\n",
    "model.add(Convolution2D(64,5,3,activation='relu'))\n",
    "model.add(Convolution2D(128,5,2,activation='relu'))\n",
    "model.add(MaxPooling2D(pool_size=(4,4)))\n",
    "model.add(Dropout(0.75))\n",
    "model.add(Flatten())\n",
    "\n",
    "model.add(Dense(256,activation='relu'))\n",
    "model.add(Dropout(0.5))\n",
    "model.add(Dense(num_classes,activation='softmax'))\n",
    "\n",
    "model.compile(loss='poisson',optimizer='adam',metrics=['accuracy'])\n",
    "model.fit(train_x[:95000],train_y[:95000],batch_size=100,epochs=15,verbose=2,validation_split=0.05)\n",
    "test_acc(model,train_x[95000:],train_y[95000:])"
   ]
  },
  {
   "cell_type": "code",
   "execution_count": 9,
   "metadata": {
    "scrolled": true
   },
   "outputs": [
    {
     "name": "stderr",
     "output_type": "stream",
     "text": [
      "c:\\users\\leo\\appdata\\local\\programs\\python\\python36\\lib\\site-packages\\ipykernel_launcher.py:3: UserWarning: Update your `Conv2D` call to the Keras 2 API: `Conv2D(64, (5, 3), activation=\"relu\", input_shape=(64, 64, 3...)`\n",
      "  This is separate from the ipykernel package so we can avoid doing imports until\n",
      "c:\\users\\leo\\appdata\\local\\programs\\python\\python36\\lib\\site-packages\\ipykernel_launcher.py:4: UserWarning: Update your `Conv2D` call to the Keras 2 API: `Conv2D(64, (5, 3), activation=\"relu\")`\n",
      "  after removing the cwd from sys.path.\n",
      "c:\\users\\leo\\appdata\\local\\programs\\python\\python36\\lib\\site-packages\\ipykernel_launcher.py:5: UserWarning: Update your `Conv2D` call to the Keras 2 API: `Conv2D(128, (5, 2), activation=\"relu\")`\n",
      "  \"\"\"\n"
     ]
    },
    {
     "name": "stdout",
     "output_type": "stream",
     "text": [
      "Train on 90250 samples, validate on 4750 samples\n",
      "Epoch 1/30\n",
      " - 179s - loss: 0.0305 - acc: 0.0189 - val_loss: 0.0283 - val_acc: 0.0648\n",
      "Epoch 2/30\n",
      " - 178s - loss: 0.0277 - acc: 0.0698 - val_loss: 0.0256 - val_acc: 0.1263\n",
      "Epoch 3/30\n",
      " - 178s - loss: 0.0260 - acc: 0.1100 - val_loss: 0.0245 - val_acc: 0.1585\n",
      "Epoch 4/30\n",
      " - 179s - loss: 0.0251 - acc: 0.1344 - val_loss: 0.0237 - val_acc: 0.1922\n",
      "Epoch 5/30\n",
      " - 179s - loss: 0.0245 - acc: 0.1502 - val_loss: 0.0233 - val_acc: 0.1996\n",
      "Epoch 6/30\n",
      " - 178s - loss: 0.0241 - acc: 0.1624 - val_loss: 0.0231 - val_acc: 0.2015\n",
      "Epoch 7/30\n",
      " - 178s - loss: 0.0237 - acc: 0.1731 - val_loss: 0.0226 - val_acc: 0.2177\n",
      "Epoch 8/30\n",
      " - 178s - loss: 0.0234 - acc: 0.1834 - val_loss: 0.0226 - val_acc: 0.2204\n",
      "Epoch 9/30\n",
      " - 178s - loss: 0.0232 - acc: 0.1918 - val_loss: 0.0229 - val_acc: 0.2112\n",
      "Epoch 10/30\n",
      " - 179s - loss: 0.0229 - acc: 0.1977 - val_loss: 0.0221 - val_acc: 0.2320\n",
      "Epoch 11/30\n",
      " - 178s - loss: 0.0227 - acc: 0.2030 - val_loss: 0.0222 - val_acc: 0.2375\n",
      "Epoch 12/30\n",
      " - 178s - loss: 0.0225 - acc: 0.2102 - val_loss: 0.0221 - val_acc: 0.2398\n",
      "Epoch 13/30\n",
      " - 178s - loss: 0.0223 - acc: 0.2184 - val_loss: 0.0220 - val_acc: 0.2381\n",
      "Epoch 14/30\n",
      " - 177s - loss: 0.0221 - acc: 0.2207 - val_loss: 0.0220 - val_acc: 0.2444\n",
      "Epoch 15/30\n",
      " - 177s - loss: 0.0219 - acc: 0.2290 - val_loss: 0.0218 - val_acc: 0.2505\n",
      "Epoch 16/30\n",
      " - 178s - loss: 0.0218 - acc: 0.2312 - val_loss: 0.0219 - val_acc: 0.2505\n",
      "Epoch 17/30\n",
      " - 179s - loss: 0.0217 - acc: 0.2348 - val_loss: 0.0218 - val_acc: 0.2503\n",
      "Epoch 18/30\n",
      " - 179s - loss: 0.0215 - acc: 0.2423 - val_loss: 0.0217 - val_acc: 0.2575\n",
      "Epoch 19/30\n",
      " - 179s - loss: 0.0214 - acc: 0.2454 - val_loss: 0.0217 - val_acc: 0.2549\n",
      "Epoch 20/30\n",
      " - 178s - loss: 0.0212 - acc: 0.2513 - val_loss: 0.0216 - val_acc: 0.2583\n",
      "Epoch 21/30\n",
      " - 178s - loss: 0.0211 - acc: 0.2547 - val_loss: 0.0216 - val_acc: 0.2604\n",
      "Epoch 22/30\n",
      " - 178s - loss: 0.0210 - acc: 0.2585 - val_loss: 0.0216 - val_acc: 0.2537\n",
      "Epoch 23/30\n",
      " - 178s - loss: 0.0209 - acc: 0.2661 - val_loss: 0.0217 - val_acc: 0.2451\n",
      "Epoch 24/30\n",
      " - 178s - loss: 0.0207 - acc: 0.2689 - val_loss: 0.0219 - val_acc: 0.2486\n",
      "Epoch 25/30\n",
      " - 177s - loss: 0.0206 - acc: 0.2691 - val_loss: 0.0216 - val_acc: 0.2577\n",
      "Epoch 26/30\n",
      " - 179s - loss: 0.0205 - acc: 0.2736 - val_loss: 0.0216 - val_acc: 0.2547\n",
      "Epoch 27/30\n"
     ]
    },
    {
     "ename": "KeyboardInterrupt",
     "evalue": "",
     "output_type": "error",
     "traceback": [
      "\u001b[1;31m---------------------------------------------------------------------------\u001b[0m",
      "\u001b[1;31mKeyboardInterrupt\u001b[0m                         Traceback (most recent call last)",
      "\u001b[1;32m<ipython-input-9-e8fa0e0db729>\u001b[0m in \u001b[0;36m<module>\u001b[1;34m()\u001b[0m\n\u001b[0;32m     13\u001b[0m \u001b[1;33m\u001b[0m\u001b[0m\n\u001b[0;32m     14\u001b[0m \u001b[0mmodel\u001b[0m\u001b[1;33m.\u001b[0m\u001b[0mcompile\u001b[0m\u001b[1;33m(\u001b[0m\u001b[0mloss\u001b[0m\u001b[1;33m=\u001b[0m\u001b[1;34m'poisson'\u001b[0m\u001b[1;33m,\u001b[0m\u001b[0moptimizer\u001b[0m\u001b[1;33m=\u001b[0m\u001b[1;34m'adam'\u001b[0m\u001b[1;33m,\u001b[0m\u001b[0mmetrics\u001b[0m\u001b[1;33m=\u001b[0m\u001b[1;33m[\u001b[0m\u001b[1;34m'accuracy'\u001b[0m\u001b[1;33m]\u001b[0m\u001b[1;33m)\u001b[0m\u001b[1;33m\u001b[0m\u001b[0m\n\u001b[1;32m---> 15\u001b[1;33m \u001b[0mmodel\u001b[0m\u001b[1;33m.\u001b[0m\u001b[0mfit\u001b[0m\u001b[1;33m(\u001b[0m\u001b[0mtrain_x\u001b[0m\u001b[1;33m[\u001b[0m\u001b[1;33m:\u001b[0m\u001b[1;36m95000\u001b[0m\u001b[1;33m]\u001b[0m\u001b[1;33m,\u001b[0m\u001b[0mtrain_y\u001b[0m\u001b[1;33m[\u001b[0m\u001b[1;33m:\u001b[0m\u001b[1;36m95000\u001b[0m\u001b[1;33m]\u001b[0m\u001b[1;33m,\u001b[0m\u001b[0mbatch_size\u001b[0m\u001b[1;33m=\u001b[0m\u001b[1;36m100\u001b[0m\u001b[1;33m,\u001b[0m\u001b[0mepochs\u001b[0m\u001b[1;33m=\u001b[0m\u001b[1;36m30\u001b[0m\u001b[1;33m,\u001b[0m\u001b[0mverbose\u001b[0m\u001b[1;33m=\u001b[0m\u001b[1;36m2\u001b[0m\u001b[1;33m,\u001b[0m\u001b[0mvalidation_split\u001b[0m\u001b[1;33m=\u001b[0m\u001b[1;36m0.05\u001b[0m\u001b[1;33m)\u001b[0m\u001b[1;33m\u001b[0m\u001b[0m\n\u001b[0m\u001b[0;32m     16\u001b[0m \u001b[0mtest_acc\u001b[0m\u001b[1;33m(\u001b[0m\u001b[0mmodel\u001b[0m\u001b[1;33m,\u001b[0m\u001b[0mtrain_x\u001b[0m\u001b[1;33m[\u001b[0m\u001b[1;36m95000\u001b[0m\u001b[1;33m:\u001b[0m\u001b[1;33m]\u001b[0m\u001b[1;33m,\u001b[0m\u001b[0mtrain_y\u001b[0m\u001b[1;33m[\u001b[0m\u001b[1;36m95000\u001b[0m\u001b[1;33m:\u001b[0m\u001b[1;33m]\u001b[0m\u001b[1;33m)\u001b[0m\u001b[1;33m\u001b[0m\u001b[0m\n",
      "\u001b[1;32mc:\\users\\leo\\appdata\\local\\programs\\python\\python36\\lib\\site-packages\\keras\\engine\\training.py\u001b[0m in \u001b[0;36mfit\u001b[1;34m(self, x, y, batch_size, epochs, verbose, callbacks, validation_split, validation_data, shuffle, class_weight, sample_weight, initial_epoch, steps_per_epoch, validation_steps, **kwargs)\u001b[0m\n\u001b[0;32m   1035\u001b[0m                                         \u001b[0minitial_epoch\u001b[0m\u001b[1;33m=\u001b[0m\u001b[0minitial_epoch\u001b[0m\u001b[1;33m,\u001b[0m\u001b[1;33m\u001b[0m\u001b[0m\n\u001b[0;32m   1036\u001b[0m                                         \u001b[0msteps_per_epoch\u001b[0m\u001b[1;33m=\u001b[0m\u001b[0msteps_per_epoch\u001b[0m\u001b[1;33m,\u001b[0m\u001b[1;33m\u001b[0m\u001b[0m\n\u001b[1;32m-> 1037\u001b[1;33m                                         validation_steps=validation_steps)\n\u001b[0m\u001b[0;32m   1038\u001b[0m \u001b[1;33m\u001b[0m\u001b[0m\n\u001b[0;32m   1039\u001b[0m     def evaluate(self, x=None, y=None,\n",
      "\u001b[1;32mc:\\users\\leo\\appdata\\local\\programs\\python\\python36\\lib\\site-packages\\keras\\engine\\training_arrays.py\u001b[0m in \u001b[0;36mfit_loop\u001b[1;34m(model, f, ins, out_labels, batch_size, epochs, verbose, callbacks, val_f, val_ins, shuffle, callback_metrics, initial_epoch, steps_per_epoch, validation_steps)\u001b[0m\n\u001b[0;32m    197\u001b[0m                     \u001b[0mins_batch\u001b[0m\u001b[1;33m[\u001b[0m\u001b[0mi\u001b[0m\u001b[1;33m]\u001b[0m \u001b[1;33m=\u001b[0m \u001b[0mins_batch\u001b[0m\u001b[1;33m[\u001b[0m\u001b[0mi\u001b[0m\u001b[1;33m]\u001b[0m\u001b[1;33m.\u001b[0m\u001b[0mtoarray\u001b[0m\u001b[1;33m(\u001b[0m\u001b[1;33m)\u001b[0m\u001b[1;33m\u001b[0m\u001b[0m\n\u001b[0;32m    198\u001b[0m \u001b[1;33m\u001b[0m\u001b[0m\n\u001b[1;32m--> 199\u001b[1;33m                 \u001b[0mouts\u001b[0m \u001b[1;33m=\u001b[0m \u001b[0mf\u001b[0m\u001b[1;33m(\u001b[0m\u001b[0mins_batch\u001b[0m\u001b[1;33m)\u001b[0m\u001b[1;33m\u001b[0m\u001b[0m\n\u001b[0m\u001b[0;32m    200\u001b[0m                 \u001b[0mouts\u001b[0m \u001b[1;33m=\u001b[0m \u001b[0mto_list\u001b[0m\u001b[1;33m(\u001b[0m\u001b[0mouts\u001b[0m\u001b[1;33m)\u001b[0m\u001b[1;33m\u001b[0m\u001b[0m\n\u001b[0;32m    201\u001b[0m                 \u001b[1;32mfor\u001b[0m \u001b[0ml\u001b[0m\u001b[1;33m,\u001b[0m \u001b[0mo\u001b[0m \u001b[1;32min\u001b[0m \u001b[0mzip\u001b[0m\u001b[1;33m(\u001b[0m\u001b[0mout_labels\u001b[0m\u001b[1;33m,\u001b[0m \u001b[0mouts\u001b[0m\u001b[1;33m)\u001b[0m\u001b[1;33m:\u001b[0m\u001b[1;33m\u001b[0m\u001b[0m\n",
      "\u001b[1;32mc:\\users\\leo\\appdata\\local\\programs\\python\\python36\\lib\\site-packages\\keras\\backend\\tensorflow_backend.py\u001b[0m in \u001b[0;36m__call__\u001b[1;34m(self, inputs)\u001b[0m\n\u001b[0;32m   2664\u001b[0m                 \u001b[1;32mreturn\u001b[0m \u001b[0mself\u001b[0m\u001b[1;33m.\u001b[0m\u001b[0m_legacy_call\u001b[0m\u001b[1;33m(\u001b[0m\u001b[0minputs\u001b[0m\u001b[1;33m)\u001b[0m\u001b[1;33m\u001b[0m\u001b[0m\n\u001b[0;32m   2665\u001b[0m \u001b[1;33m\u001b[0m\u001b[0m\n\u001b[1;32m-> 2666\u001b[1;33m             \u001b[1;32mreturn\u001b[0m \u001b[0mself\u001b[0m\u001b[1;33m.\u001b[0m\u001b[0m_call\u001b[0m\u001b[1;33m(\u001b[0m\u001b[0minputs\u001b[0m\u001b[1;33m)\u001b[0m\u001b[1;33m\u001b[0m\u001b[0m\n\u001b[0m\u001b[0;32m   2667\u001b[0m         \u001b[1;32melse\u001b[0m\u001b[1;33m:\u001b[0m\u001b[1;33m\u001b[0m\u001b[0m\n\u001b[0;32m   2668\u001b[0m             \u001b[1;32mif\u001b[0m \u001b[0mpy_any\u001b[0m\u001b[1;33m(\u001b[0m\u001b[0mis_tensor\u001b[0m\u001b[1;33m(\u001b[0m\u001b[0mx\u001b[0m\u001b[1;33m)\u001b[0m \u001b[1;32mfor\u001b[0m \u001b[0mx\u001b[0m \u001b[1;32min\u001b[0m \u001b[0minputs\u001b[0m\u001b[1;33m)\u001b[0m\u001b[1;33m:\u001b[0m\u001b[1;33m\u001b[0m\u001b[0m\n",
      "\u001b[1;32mc:\\users\\leo\\appdata\\local\\programs\\python\\python36\\lib\\site-packages\\keras\\backend\\tensorflow_backend.py\u001b[0m in \u001b[0;36m_call\u001b[1;34m(self, inputs)\u001b[0m\n\u001b[0;32m   2634\u001b[0m                                 \u001b[0msymbol_vals\u001b[0m\u001b[1;33m,\u001b[0m\u001b[1;33m\u001b[0m\u001b[0m\n\u001b[0;32m   2635\u001b[0m                                 session)\n\u001b[1;32m-> 2636\u001b[1;33m         \u001b[0mfetched\u001b[0m \u001b[1;33m=\u001b[0m \u001b[0mself\u001b[0m\u001b[1;33m.\u001b[0m\u001b[0m_callable_fn\u001b[0m\u001b[1;33m(\u001b[0m\u001b[1;33m*\u001b[0m\u001b[0marray_vals\u001b[0m\u001b[1;33m)\u001b[0m\u001b[1;33m\u001b[0m\u001b[0m\n\u001b[0m\u001b[0;32m   2637\u001b[0m         \u001b[1;32mreturn\u001b[0m \u001b[0mfetched\u001b[0m\u001b[1;33m[\u001b[0m\u001b[1;33m:\u001b[0m\u001b[0mlen\u001b[0m\u001b[1;33m(\u001b[0m\u001b[0mself\u001b[0m\u001b[1;33m.\u001b[0m\u001b[0moutputs\u001b[0m\u001b[1;33m)\u001b[0m\u001b[1;33m]\u001b[0m\u001b[1;33m\u001b[0m\u001b[0m\n\u001b[0;32m   2638\u001b[0m \u001b[1;33m\u001b[0m\u001b[0m\n",
      "\u001b[1;32mc:\\users\\leo\\appdata\\local\\programs\\python\\python36\\lib\\site-packages\\tensorflow\\python\\client\\session.py\u001b[0m in \u001b[0;36m__call__\u001b[1;34m(self, *args, **kwargs)\u001b[0m\n\u001b[0;32m   1380\u001b[0m           ret = tf_session.TF_SessionRunCallable(\n\u001b[0;32m   1381\u001b[0m               \u001b[0mself\u001b[0m\u001b[1;33m.\u001b[0m\u001b[0m_session\u001b[0m\u001b[1;33m.\u001b[0m\u001b[0m_session\u001b[0m\u001b[1;33m,\u001b[0m \u001b[0mself\u001b[0m\u001b[1;33m.\u001b[0m\u001b[0m_handle\u001b[0m\u001b[1;33m,\u001b[0m \u001b[0margs\u001b[0m\u001b[1;33m,\u001b[0m \u001b[0mstatus\u001b[0m\u001b[1;33m,\u001b[0m\u001b[1;33m\u001b[0m\u001b[0m\n\u001b[1;32m-> 1382\u001b[1;33m               run_metadata_ptr)\n\u001b[0m\u001b[0;32m   1383\u001b[0m         \u001b[1;32mif\u001b[0m \u001b[0mrun_metadata\u001b[0m\u001b[1;33m:\u001b[0m\u001b[1;33m\u001b[0m\u001b[0m\n\u001b[0;32m   1384\u001b[0m           \u001b[0mproto_data\u001b[0m \u001b[1;33m=\u001b[0m \u001b[0mtf_session\u001b[0m\u001b[1;33m.\u001b[0m\u001b[0mTF_GetBuffer\u001b[0m\u001b[1;33m(\u001b[0m\u001b[0mrun_metadata_ptr\u001b[0m\u001b[1;33m)\u001b[0m\u001b[1;33m\u001b[0m\u001b[0m\n",
      "\u001b[1;31mKeyboardInterrupt\u001b[0m: "
     ]
    }
   ],
   "source": [
    "model = Sequential()\n",
    "\n",
    "model.add(Convolution2D(64,5,3,activation='relu',input_shape=(img_rows,img_cols,3)))\n",
    "model.add(Convolution2D(64,5,3,activation='relu'))\n",
    "model.add(Convolution2D(128,5,2,activation='relu'))\n",
    "model.add(MaxPooling2D(pool_size=(4,4)))\n",
    "model.add(Dropout(0.75))\n",
    "model.add(Flatten())\n",
    "\n",
    "model.add(Dense(256,activation='relu'))\n",
    "model.add(Dropout(0.5))\n",
    "model.add(Dense(num_classes,activation='softmax'))\n",
    "\n",
    "model.compile(loss='poisson',optimizer='adam',metrics=['accuracy'])\n",
    "model.fit(train_x[:95000],train_y[:95000],batch_size=100,epochs=30,verbose=2,validation_split=0.05)\n",
    "test_acc(model,train_x[95000:],train_y[95000:])"
   ]
  },
  {
   "cell_type": "code",
   "execution_count": 7,
   "metadata": {
    "scrolled": true
   },
   "outputs": [
    {
     "name": "stderr",
     "output_type": "stream",
     "text": [
      "c:\\users\\leo\\appdata\\local\\programs\\python\\python36\\lib\\site-packages\\ipykernel_launcher.py:3: UserWarning: Update your `Conv2D` call to the Keras 2 API: `Conv2D(64, (3, 3), activation=\"relu\", input_shape=(64, 64, 3...)`\n",
      "  This is separate from the ipykernel package so we can avoid doing imports until\n",
      "c:\\users\\leo\\appdata\\local\\programs\\python\\python36\\lib\\site-packages\\ipykernel_launcher.py:4: UserWarning: Update your `Conv2D` call to the Keras 2 API: `Conv2D(64, (3, 3), activation=\"relu\")`\n",
      "  after removing the cwd from sys.path.\n",
      "c:\\users\\leo\\appdata\\local\\programs\\python\\python36\\lib\\site-packages\\ipykernel_launcher.py:5: UserWarning: Update your `Conv2D` call to the Keras 2 API: `Conv2D(128, (7, 2), activation=\"relu\")`\n",
      "  \"\"\"\n"
     ]
    },
    {
     "name": "stdout",
     "output_type": "stream",
     "text": [
      "Train on 90250 samples, validate on 4750 samples\n",
      "Epoch 1/30\n",
      " - 444s - loss: 0.0297 - acc: 0.0315 - val_loss: 0.0271 - val_acc: 0.0960\n",
      "Epoch 2/30\n",
      " - 199s - loss: 0.0268 - acc: 0.0912 - val_loss: 0.0249 - val_acc: 0.1552\n",
      "Epoch 3/30\n",
      " - 201s - loss: 0.0254 - acc: 0.1284 - val_loss: 0.0238 - val_acc: 0.1855\n",
      "Epoch 4/30\n",
      " - 202s - loss: 0.0246 - acc: 0.1482 - val_loss: 0.0230 - val_acc: 0.2103\n",
      "Epoch 5/30\n",
      " - 203s - loss: 0.0241 - acc: 0.1643 - val_loss: 0.0228 - val_acc: 0.2168\n",
      "Epoch 6/30\n",
      " - 202s - loss: 0.0237 - acc: 0.1747 - val_loss: 0.0224 - val_acc: 0.2276\n",
      "Epoch 7/30\n",
      " - 201s - loss: 0.0234 - acc: 0.1836 - val_loss: 0.0223 - val_acc: 0.2364\n",
      "Epoch 8/30\n",
      " - 201s - loss: 0.0232 - acc: 0.1917 - val_loss: 0.0221 - val_acc: 0.2411\n",
      "Epoch 9/30\n",
      " - 200s - loss: 0.0229 - acc: 0.1984 - val_loss: 0.0218 - val_acc: 0.2545\n",
      "Epoch 10/30\n",
      " - 200s - loss: 0.0227 - acc: 0.2043 - val_loss: 0.0217 - val_acc: 0.2520\n",
      "Epoch 11/30\n",
      " - 200s - loss: 0.0226 - acc: 0.2101 - val_loss: 0.0217 - val_acc: 0.2531\n",
      "Epoch 12/30\n",
      " - 201s - loss: 0.0224 - acc: 0.2156 - val_loss: 0.0216 - val_acc: 0.2575\n",
      "Epoch 13/30\n",
      " - 201s - loss: 0.0222 - acc: 0.2205 - val_loss: 0.0214 - val_acc: 0.2568\n",
      "Epoch 14/30\n",
      " - 200s - loss: 0.0220 - acc: 0.2274 - val_loss: 0.0215 - val_acc: 0.2611\n",
      "Epoch 15/30\n",
      " - 200s - loss: 0.0219 - acc: 0.2299 - val_loss: 0.0216 - val_acc: 0.2596\n",
      "Epoch 16/30\n",
      " - 200s - loss: 0.0217 - acc: 0.2356 - val_loss: 0.0214 - val_acc: 0.2636\n",
      "Epoch 17/30\n",
      " - 200s - loss: 0.0216 - acc: 0.2373 - val_loss: 0.0214 - val_acc: 0.2625\n",
      "Epoch 18/30\n",
      " - 200s - loss: 0.0215 - acc: 0.2427 - val_loss: 0.0217 - val_acc: 0.2526\n",
      "Epoch 19/30\n",
      " - 200s - loss: 0.0214 - acc: 0.2461 - val_loss: 0.0212 - val_acc: 0.2691\n",
      "Epoch 20/30\n",
      " - 201s - loss: 0.0213 - acc: 0.2488 - val_loss: 0.0213 - val_acc: 0.2718\n",
      "Epoch 21/30\n",
      " - 200s - loss: 0.0211 - acc: 0.2540 - val_loss: 0.0210 - val_acc: 0.2808\n",
      "Epoch 22/30\n",
      " - 200s - loss: 0.0210 - acc: 0.2606 - val_loss: 0.0211 - val_acc: 0.2800\n",
      "Epoch 23/30\n",
      " - 199s - loss: 0.0209 - acc: 0.2608 - val_loss: 0.0211 - val_acc: 0.2741\n",
      "Epoch 24/30\n",
      " - 199s - loss: 0.0208 - acc: 0.2631 - val_loss: 0.0211 - val_acc: 0.2758\n",
      "Epoch 25/30\n",
      " - 199s - loss: 0.0207 - acc: 0.2676 - val_loss: 0.0212 - val_acc: 0.2777\n",
      "Epoch 26/30\n",
      " - 200s - loss: 0.0207 - acc: 0.2680 - val_loss: 0.0212 - val_acc: 0.2739\n",
      "Epoch 27/30\n",
      " - 200s - loss: 0.0205 - acc: 0.2726 - val_loss: 0.0211 - val_acc: 0.2745\n",
      "Epoch 28/30\n",
      " - 200s - loss: 0.0204 - acc: 0.2782 - val_loss: 0.0211 - val_acc: 0.2813\n",
      "Epoch 29/30\n",
      " - 200s - loss: 0.0204 - acc: 0.2770 - val_loss: 0.0209 - val_acc: 0.2848\n",
      "Epoch 30/30\n",
      " - 200s - loss: 0.0203 - acc: 0.2806 - val_loss: 0.0209 - val_acc: 0.2901\n",
      "Test Accuracy [27.16]\n"
     ]
    },
    {
     "data": {
      "text/plain": [
       "array([27.16])"
      ]
     },
     "execution_count": 7,
     "metadata": {},
     "output_type": "execute_result"
    }
   ],
   "source": [
    "model = Sequential()\n",
    "\n",
    "model.add(Convolution2D(64,3,3,activation='relu',input_shape=(img_rows,img_cols,3)))\n",
    "model.add(Convolution2D(64,3,3,activation='relu'))\n",
    "model.add(Convolution2D(128,7,2,activation='relu'))\n",
    "model.add(MaxPooling2D(pool_size=(4,4)))\n",
    "model.add(Dropout(0.75))\n",
    "model.add(Flatten())\n",
    "\n",
    "model.add(Dense(256,activation='relu'))\n",
    "model.add(Dropout(0.5))\n",
    "model.add(Dense(num_classes,activation='softmax'))\n",
    "\n",
    "model.compile(loss='poisson',optimizer='adam',metrics=['accuracy'])\n",
    "model.fit(train_x[:95000],train_y[:95000],batch_size=100,epochs=30,verbose=2,validation_split=0.05)\n",
    "test_acc(model,train_x[95000:],train_y[95000:])"
   ]
  },
  {
   "cell_type": "code",
   "execution_count": 8,
   "metadata": {},
   "outputs": [],
   "source": [
    "model.save('model1.h5')  # creates a HDF5 file 'my_model.h5'\n",
    "del model  # deletes the existing model\n",
    "\n",
    "# returns a compiled model\n",
    "# identical to the previous one00000\n",
    "model = load_model('model1.h5')"
   ]
  },
  {
   "cell_type": "code",
   "execution_count": 11,
   "metadata": {},
   "outputs": [
    {
     "name": "stdout",
     "output_type": "stream",
     "text": [
      "Train on 90250 samples, validate on 4750 samples\n",
      "Epoch 1/1\n",
      " - 200s - loss: 0.0203 - acc: 0.2823 - val_loss: 0.0213 - val_acc: 0.2783\n",
      "Test Accuracy [27.]\n"
     ]
    },
    {
     "data": {
      "text/plain": [
       "array([27.])"
      ]
     },
     "execution_count": 11,
     "metadata": {},
     "output_type": "execute_result"
    }
   ],
   "source": [
    "model = load_model('model1.h5')\n",
    "\n",
    "model.fit(train_x[:95000],train_y[:95000],batch_size=100,epochs=1,verbose=2,validation_split=0.05)\n",
    "test_acc(model,train_x[95000:],train_y[95000:])"
   ]
  },
  {
   "cell_type": "code",
   "execution_count": 12,
   "metadata": {
    "scrolled": true
   },
   "outputs": [
    {
     "name": "stdout",
     "output_type": "stream",
     "text": [
      "Train on 90250 samples, validate on 4750 samples\n",
      "Epoch 1/15\n",
      " - 200s - loss: 0.0202 - acc: 0.2854 - val_loss: 0.0209 - val_acc: 0.2842\n",
      "Epoch 2/15\n",
      " - 200s - loss: 0.0201 - acc: 0.2895 - val_loss: 0.0209 - val_acc: 0.2825\n",
      "Epoch 3/15\n",
      " - 200s - loss: 0.0200 - acc: 0.2917 - val_loss: 0.0211 - val_acc: 0.2752\n",
      "Epoch 4/15\n",
      " - 200s - loss: 0.0199 - acc: 0.2942 - val_loss: 0.0209 - val_acc: 0.2840\n",
      "Epoch 5/15\n",
      " - 199s - loss: 0.0198 - acc: 0.2969 - val_loss: 0.0210 - val_acc: 0.2838\n",
      "Epoch 6/15\n",
      " - 199s - loss: 0.0198 - acc: 0.2990 - val_loss: 0.0209 - val_acc: 0.2783\n",
      "Epoch 7/15\n",
      " - 199s - loss: 0.0197 - acc: 0.2986 - val_loss: 0.0209 - val_acc: 0.2817\n",
      "Epoch 8/15\n",
      " - 199s - loss: 0.0197 - acc: 0.3006 - val_loss: 0.0211 - val_acc: 0.2802\n",
      "Epoch 9/15\n",
      " - 200s - loss: 0.0196 - acc: 0.3046 - val_loss: 0.0210 - val_acc: 0.2829\n",
      "Epoch 10/15\n",
      " - 200s - loss: 0.0195 - acc: 0.3059 - val_loss: 0.0210 - val_acc: 0.2840\n",
      "Epoch 11/15\n",
      " - 200s - loss: 0.0194 - acc: 0.3080 - val_loss: 0.0209 - val_acc: 0.2792\n",
      "Epoch 12/15\n"
     ]
    },
    {
     "ename": "KeyboardInterrupt",
     "evalue": "",
     "output_type": "error",
     "traceback": [
      "\u001b[1;31m---------------------------------------------------------------------------\u001b[0m",
      "\u001b[1;31mKeyboardInterrupt\u001b[0m                         Traceback (most recent call last)",
      "\u001b[1;32m<ipython-input-12-0b373d1184dc>\u001b[0m in \u001b[0;36m<module>\u001b[1;34m()\u001b[0m\n\u001b[1;32m----> 1\u001b[1;33m \u001b[0mmodel\u001b[0m\u001b[1;33m.\u001b[0m\u001b[0mfit\u001b[0m\u001b[1;33m(\u001b[0m\u001b[0mtrain_x\u001b[0m\u001b[1;33m[\u001b[0m\u001b[1;33m:\u001b[0m\u001b[1;36m95000\u001b[0m\u001b[1;33m]\u001b[0m\u001b[1;33m,\u001b[0m\u001b[0mtrain_y\u001b[0m\u001b[1;33m[\u001b[0m\u001b[1;33m:\u001b[0m\u001b[1;36m95000\u001b[0m\u001b[1;33m]\u001b[0m\u001b[1;33m,\u001b[0m\u001b[0mbatch_size\u001b[0m\u001b[1;33m=\u001b[0m\u001b[1;36m100\u001b[0m\u001b[1;33m,\u001b[0m\u001b[0mepochs\u001b[0m\u001b[1;33m=\u001b[0m\u001b[1;36m15\u001b[0m\u001b[1;33m,\u001b[0m\u001b[0mverbose\u001b[0m\u001b[1;33m=\u001b[0m\u001b[1;36m2\u001b[0m\u001b[1;33m,\u001b[0m\u001b[0mvalidation_split\u001b[0m\u001b[1;33m=\u001b[0m\u001b[1;36m0.05\u001b[0m\u001b[1;33m)\u001b[0m\u001b[1;33m\u001b[0m\u001b[0m\n\u001b[0m\u001b[0;32m      2\u001b[0m \u001b[0mtest_acc\u001b[0m\u001b[1;33m(\u001b[0m\u001b[0mmodel\u001b[0m\u001b[1;33m,\u001b[0m\u001b[0mtrain_x\u001b[0m\u001b[1;33m[\u001b[0m\u001b[1;36m95000\u001b[0m\u001b[1;33m:\u001b[0m\u001b[1;33m]\u001b[0m\u001b[1;33m,\u001b[0m\u001b[0mtrain_y\u001b[0m\u001b[1;33m[\u001b[0m\u001b[1;36m95000\u001b[0m\u001b[1;33m:\u001b[0m\u001b[1;33m]\u001b[0m\u001b[1;33m)\u001b[0m\u001b[1;33m\u001b[0m\u001b[0m\n",
      "\u001b[1;32mc:\\users\\leo\\appdata\\local\\programs\\python\\python36\\lib\\site-packages\\keras\\engine\\training.py\u001b[0m in \u001b[0;36mfit\u001b[1;34m(self, x, y, batch_size, epochs, verbose, callbacks, validation_split, validation_data, shuffle, class_weight, sample_weight, initial_epoch, steps_per_epoch, validation_steps, **kwargs)\u001b[0m\n\u001b[0;32m   1035\u001b[0m                                         \u001b[0minitial_epoch\u001b[0m\u001b[1;33m=\u001b[0m\u001b[0minitial_epoch\u001b[0m\u001b[1;33m,\u001b[0m\u001b[1;33m\u001b[0m\u001b[0m\n\u001b[0;32m   1036\u001b[0m                                         \u001b[0msteps_per_epoch\u001b[0m\u001b[1;33m=\u001b[0m\u001b[0msteps_per_epoch\u001b[0m\u001b[1;33m,\u001b[0m\u001b[1;33m\u001b[0m\u001b[0m\n\u001b[1;32m-> 1037\u001b[1;33m                                         validation_steps=validation_steps)\n\u001b[0m\u001b[0;32m   1038\u001b[0m \u001b[1;33m\u001b[0m\u001b[0m\n\u001b[0;32m   1039\u001b[0m     def evaluate(self, x=None, y=None,\n",
      "\u001b[1;32mc:\\users\\leo\\appdata\\local\\programs\\python\\python36\\lib\\site-packages\\keras\\engine\\training_arrays.py\u001b[0m in \u001b[0;36mfit_loop\u001b[1;34m(model, f, ins, out_labels, batch_size, epochs, verbose, callbacks, val_f, val_ins, shuffle, callback_metrics, initial_epoch, steps_per_epoch, validation_steps)\u001b[0m\n\u001b[0;32m    197\u001b[0m                     \u001b[0mins_batch\u001b[0m\u001b[1;33m[\u001b[0m\u001b[0mi\u001b[0m\u001b[1;33m]\u001b[0m \u001b[1;33m=\u001b[0m \u001b[0mins_batch\u001b[0m\u001b[1;33m[\u001b[0m\u001b[0mi\u001b[0m\u001b[1;33m]\u001b[0m\u001b[1;33m.\u001b[0m\u001b[0mtoarray\u001b[0m\u001b[1;33m(\u001b[0m\u001b[1;33m)\u001b[0m\u001b[1;33m\u001b[0m\u001b[0m\n\u001b[0;32m    198\u001b[0m \u001b[1;33m\u001b[0m\u001b[0m\n\u001b[1;32m--> 199\u001b[1;33m                 \u001b[0mouts\u001b[0m \u001b[1;33m=\u001b[0m \u001b[0mf\u001b[0m\u001b[1;33m(\u001b[0m\u001b[0mins_batch\u001b[0m\u001b[1;33m)\u001b[0m\u001b[1;33m\u001b[0m\u001b[0m\n\u001b[0m\u001b[0;32m    200\u001b[0m                 \u001b[0mouts\u001b[0m \u001b[1;33m=\u001b[0m \u001b[0mto_list\u001b[0m\u001b[1;33m(\u001b[0m\u001b[0mouts\u001b[0m\u001b[1;33m)\u001b[0m\u001b[1;33m\u001b[0m\u001b[0m\n\u001b[0;32m    201\u001b[0m                 \u001b[1;32mfor\u001b[0m \u001b[0ml\u001b[0m\u001b[1;33m,\u001b[0m \u001b[0mo\u001b[0m \u001b[1;32min\u001b[0m \u001b[0mzip\u001b[0m\u001b[1;33m(\u001b[0m\u001b[0mout_labels\u001b[0m\u001b[1;33m,\u001b[0m \u001b[0mouts\u001b[0m\u001b[1;33m)\u001b[0m\u001b[1;33m:\u001b[0m\u001b[1;33m\u001b[0m\u001b[0m\n",
      "\u001b[1;32mc:\\users\\leo\\appdata\\local\\programs\\python\\python36\\lib\\site-packages\\keras\\backend\\tensorflow_backend.py\u001b[0m in \u001b[0;36m__call__\u001b[1;34m(self, inputs)\u001b[0m\n\u001b[0;32m   2664\u001b[0m                 \u001b[1;32mreturn\u001b[0m \u001b[0mself\u001b[0m\u001b[1;33m.\u001b[0m\u001b[0m_legacy_call\u001b[0m\u001b[1;33m(\u001b[0m\u001b[0minputs\u001b[0m\u001b[1;33m)\u001b[0m\u001b[1;33m\u001b[0m\u001b[0m\n\u001b[0;32m   2665\u001b[0m \u001b[1;33m\u001b[0m\u001b[0m\n\u001b[1;32m-> 2666\u001b[1;33m             \u001b[1;32mreturn\u001b[0m \u001b[0mself\u001b[0m\u001b[1;33m.\u001b[0m\u001b[0m_call\u001b[0m\u001b[1;33m(\u001b[0m\u001b[0minputs\u001b[0m\u001b[1;33m)\u001b[0m\u001b[1;33m\u001b[0m\u001b[0m\n\u001b[0m\u001b[0;32m   2667\u001b[0m         \u001b[1;32melse\u001b[0m\u001b[1;33m:\u001b[0m\u001b[1;33m\u001b[0m\u001b[0m\n\u001b[0;32m   2668\u001b[0m             \u001b[1;32mif\u001b[0m \u001b[0mpy_any\u001b[0m\u001b[1;33m(\u001b[0m\u001b[0mis_tensor\u001b[0m\u001b[1;33m(\u001b[0m\u001b[0mx\u001b[0m\u001b[1;33m)\u001b[0m \u001b[1;32mfor\u001b[0m \u001b[0mx\u001b[0m \u001b[1;32min\u001b[0m \u001b[0minputs\u001b[0m\u001b[1;33m)\u001b[0m\u001b[1;33m:\u001b[0m\u001b[1;33m\u001b[0m\u001b[0m\n",
      "\u001b[1;32mc:\\users\\leo\\appdata\\local\\programs\\python\\python36\\lib\\site-packages\\keras\\backend\\tensorflow_backend.py\u001b[0m in \u001b[0;36m_call\u001b[1;34m(self, inputs)\u001b[0m\n\u001b[0;32m   2634\u001b[0m                                 \u001b[0msymbol_vals\u001b[0m\u001b[1;33m,\u001b[0m\u001b[1;33m\u001b[0m\u001b[0m\n\u001b[0;32m   2635\u001b[0m                                 session)\n\u001b[1;32m-> 2636\u001b[1;33m         \u001b[0mfetched\u001b[0m \u001b[1;33m=\u001b[0m \u001b[0mself\u001b[0m\u001b[1;33m.\u001b[0m\u001b[0m_callable_fn\u001b[0m\u001b[1;33m(\u001b[0m\u001b[1;33m*\u001b[0m\u001b[0marray_vals\u001b[0m\u001b[1;33m)\u001b[0m\u001b[1;33m\u001b[0m\u001b[0m\n\u001b[0m\u001b[0;32m   2637\u001b[0m         \u001b[1;32mreturn\u001b[0m \u001b[0mfetched\u001b[0m\u001b[1;33m[\u001b[0m\u001b[1;33m:\u001b[0m\u001b[0mlen\u001b[0m\u001b[1;33m(\u001b[0m\u001b[0mself\u001b[0m\u001b[1;33m.\u001b[0m\u001b[0moutputs\u001b[0m\u001b[1;33m)\u001b[0m\u001b[1;33m]\u001b[0m\u001b[1;33m\u001b[0m\u001b[0m\n\u001b[0;32m   2638\u001b[0m \u001b[1;33m\u001b[0m\u001b[0m\n",
      "\u001b[1;32mc:\\users\\leo\\appdata\\local\\programs\\python\\python36\\lib\\site-packages\\tensorflow\\python\\client\\session.py\u001b[0m in \u001b[0;36m__call__\u001b[1;34m(self, *args, **kwargs)\u001b[0m\n\u001b[0;32m   1380\u001b[0m           ret = tf_session.TF_SessionRunCallable(\n\u001b[0;32m   1381\u001b[0m               \u001b[0mself\u001b[0m\u001b[1;33m.\u001b[0m\u001b[0m_session\u001b[0m\u001b[1;33m.\u001b[0m\u001b[0m_session\u001b[0m\u001b[1;33m,\u001b[0m \u001b[0mself\u001b[0m\u001b[1;33m.\u001b[0m\u001b[0m_handle\u001b[0m\u001b[1;33m,\u001b[0m \u001b[0margs\u001b[0m\u001b[1;33m,\u001b[0m \u001b[0mstatus\u001b[0m\u001b[1;33m,\u001b[0m\u001b[1;33m\u001b[0m\u001b[0m\n\u001b[1;32m-> 1382\u001b[1;33m               run_metadata_ptr)\n\u001b[0m\u001b[0;32m   1383\u001b[0m         \u001b[1;32mif\u001b[0m \u001b[0mrun_metadata\u001b[0m\u001b[1;33m:\u001b[0m\u001b[1;33m\u001b[0m\u001b[0m\n\u001b[0;32m   1384\u001b[0m           \u001b[0mproto_data\u001b[0m \u001b[1;33m=\u001b[0m \u001b[0mtf_session\u001b[0m\u001b[1;33m.\u001b[0m\u001b[0mTF_GetBuffer\u001b[0m\u001b[1;33m(\u001b[0m\u001b[0mrun_metadata_ptr\u001b[0m\u001b[1;33m)\u001b[0m\u001b[1;33m\u001b[0m\u001b[0m\n",
      "\u001b[1;31mKeyboardInterrupt\u001b[0m: "
     ]
    }
   ],
   "source": [
    "model.fit(train_x[:95000],train_y[:95000],batch_size=100,epochs=15,verbose=2,validation_split=0.05)\n",
    "test_acc(model,train_x[95000:],train_y[95000:])"
   ]
  },
  {
   "cell_type": "code",
   "execution_count": 13,
   "metadata": {
    "scrolled": true
   },
   "outputs": [
    {
     "name": "stderr",
     "output_type": "stream",
     "text": [
      "c:\\users\\leo\\appdata\\local\\programs\\python\\python36\\lib\\site-packages\\ipykernel_launcher.py:3: UserWarning: Update your `Conv2D` call to the Keras 2 API: `Conv2D(64, (3, 3), activation=\"relu\", input_shape=(64, 64, 3...)`\n",
      "  This is separate from the ipykernel package so we can avoid doing imports until\n",
      "c:\\users\\leo\\appdata\\local\\programs\\python\\python36\\lib\\site-packages\\ipykernel_launcher.py:5: UserWarning: Update your `Conv2D` call to the Keras 2 API: `Conv2D(64, (3, 3), activation=\"relu\")`\n",
      "  \"\"\"\n",
      "c:\\users\\leo\\appdata\\local\\programs\\python\\python36\\lib\\site-packages\\ipykernel_launcher.py:7: UserWarning: Update your `Conv2D` call to the Keras 2 API: `Conv2D(128, (7, 2), activation=\"relu\")`\n",
      "  import sys\n"
     ]
    },
    {
     "name": "stdout",
     "output_type": "stream",
     "text": [
      "Train on 90250 samples, validate on 4750 samples\n",
      "Epoch 1/15\n",
      " - 57s - loss: 0.0303 - acc: 0.0208 - val_loss: 0.0284 - val_acc: 0.0619\n",
      "Epoch 2/15\n",
      " - 55s - loss: 0.0276 - acc: 0.0717 - val_loss: 0.0257 - val_acc: 0.1280\n",
      "Epoch 3/15\n",
      " - 55s - loss: 0.0261 - acc: 0.1088 - val_loss: 0.0243 - val_acc: 0.1726\n",
      "Epoch 4/15\n",
      " - 55s - loss: 0.0252 - acc: 0.1313 - val_loss: 0.0237 - val_acc: 0.1838\n",
      "Epoch 5/15\n",
      " - 55s - loss: 0.0247 - acc: 0.1459 - val_loss: 0.0231 - val_acc: 0.2044\n",
      "Epoch 6/15\n",
      " - 55s - loss: 0.0243 - acc: 0.1561 - val_loss: 0.0231 - val_acc: 0.2042\n",
      "Epoch 7/15\n",
      " - 56s - loss: 0.0240 - acc: 0.1649 - val_loss: 0.0226 - val_acc: 0.2187\n",
      "Epoch 8/15\n",
      " - 55s - loss: 0.0238 - acc: 0.1717 - val_loss: 0.0224 - val_acc: 0.2246\n",
      "Epoch 9/15\n",
      " - 55s - loss: 0.0236 - acc: 0.1766 - val_loss: 0.0222 - val_acc: 0.2331\n",
      "Epoch 10/15\n",
      " - 55s - loss: 0.0235 - acc: 0.1812 - val_loss: 0.0223 - val_acc: 0.2246\n",
      "Epoch 11/15\n",
      " - 55s - loss: 0.0233 - acc: 0.1854 - val_loss: 0.0221 - val_acc: 0.2379\n",
      "Epoch 12/15\n",
      " - 55s - loss: 0.0232 - acc: 0.1900 - val_loss: 0.0219 - val_acc: 0.2415\n",
      "Epoch 13/15\n",
      " - 55s - loss: 0.0231 - acc: 0.1934 - val_loss: 0.0219 - val_acc: 0.2509\n",
      "Epoch 14/15\n",
      " - 55s - loss: 0.0230 - acc: 0.1954 - val_loss: 0.0216 - val_acc: 0.2526\n",
      "Epoch 15/15\n",
      " - 55s - loss: 0.0229 - acc: 0.2002 - val_loss: 0.0219 - val_acc: 0.2423\n",
      "Test Accuracy [24.32]\n"
     ]
    },
    {
     "data": {
      "text/plain": [
       "array([24.32])"
      ]
     },
     "execution_count": 13,
     "metadata": {},
     "output_type": "execute_result"
    }
   ],
   "source": [
    "model = Sequential()\n",
    "\n",
    "model.add(Convolution2D(64,3,3,activation='relu',input_shape=(img_rows,img_cols,3)))\n",
    "model.add(MaxPooling2D(pool_size=(2,2)))\n",
    "model.add(Convolution2D(64,3,3,activation='relu'))\n",
    "model.add(MaxPooling2D(pool_size=(2,2)))\n",
    "model.add(Convolution2D(128,7,2,activation='relu'))\n",
    "model.add(MaxPooling2D(pool_size=(4,4)))\n",
    "model.add(Dropout(0.5))\n",
    "model.add(Flatten())\n",
    "\n",
    "model.add(Dense(256,activation='relu'))\n",
    "model.add(Dropout(0.5))\n",
    "model.add(Dense(num_classes,activation='softmax'))\n",
    "\n",
    "model.compile(loss='poisson',optimizer='adam',metrics=['accuracy'])\n",
    "model.fit(train_x[:95000],train_y[:95000],batch_size=100,epochs=15,verbose=2,validation_split=0.05)\n",
    "test_acc(model,train_x[95000:],train_y[95000:])"
   ]
  },
  {
   "cell_type": "code",
   "execution_count": 20,
   "metadata": {},
   "outputs": [],
   "source": [
    "model.save('model1max.h5')  # creates a HDF5 file 'my_model.h5'\n",
    "del model  # deletes the existing model\n",
    "\n",
    "# returns a compiled model\n",
    "# identical to the previous one00000\n",
    "model = load_model('model1max.h5')"
   ]
  },
  {
   "cell_type": "code",
   "execution_count": 19,
   "metadata": {
    "scrolled": true
   },
   "outputs": [
    {
     "name": "stdout",
     "output_type": "stream",
     "text": [
      "Train on 90250 samples, validate on 4750 samples\n",
      "Epoch 1/30\n",
      " - 56s - loss: 0.0219 - acc: 0.2268 - val_loss: 0.0212 - val_acc: 0.2703\n",
      "Epoch 2/30\n",
      " - 55s - loss: 0.0219 - acc: 0.2263 - val_loss: 0.0211 - val_acc: 0.2745\n",
      "Epoch 3/30\n",
      " - 55s - loss: 0.0219 - acc: 0.2282 - val_loss: 0.0211 - val_acc: 0.2722\n",
      "Epoch 4/30\n",
      " - 55s - loss: 0.0219 - acc: 0.2298 - val_loss: 0.0211 - val_acc: 0.2741\n",
      "Epoch 5/30\n",
      " - 55s - loss: 0.0219 - acc: 0.2309 - val_loss: 0.0211 - val_acc: 0.2731\n",
      "Epoch 6/30\n",
      " - 55s - loss: 0.0219 - acc: 0.2296 - val_loss: 0.0213 - val_acc: 0.2733\n",
      "Epoch 7/30\n",
      " - 56s - loss: 0.0218 - acc: 0.2307 - val_loss: 0.0212 - val_acc: 0.2716\n",
      "Epoch 8/30\n",
      " - 56s - loss: 0.0218 - acc: 0.2316 - val_loss: 0.0211 - val_acc: 0.2783\n",
      "Epoch 9/30\n",
      " - 55s - loss: 0.0218 - acc: 0.2316 - val_loss: 0.0212 - val_acc: 0.2747\n",
      "Epoch 10/30\n",
      " - 55s - loss: 0.0218 - acc: 0.2317 - val_loss: 0.0210 - val_acc: 0.2768\n",
      "Epoch 11/30\n",
      " - 55s - loss: 0.0218 - acc: 0.2328 - val_loss: 0.0212 - val_acc: 0.2674\n",
      "Epoch 12/30\n",
      " - 55s - loss: 0.0217 - acc: 0.2347 - val_loss: 0.0211 - val_acc: 0.2674\n",
      "Epoch 13/30\n",
      " - 55s - loss: 0.0217 - acc: 0.2336 - val_loss: 0.0212 - val_acc: 0.2680\n",
      "Epoch 14/30\n",
      " - 55s - loss: 0.0217 - acc: 0.2345 - val_loss: 0.0210 - val_acc: 0.2718\n",
      "Epoch 15/30\n",
      " - 55s - loss: 0.0217 - acc: 0.2376 - val_loss: 0.0210 - val_acc: 0.2733\n",
      "Epoch 16/30\n",
      " - 55s - loss: 0.0217 - acc: 0.2369 - val_loss: 0.0211 - val_acc: 0.2768\n",
      "Epoch 17/30\n",
      " - 56s - loss: 0.0217 - acc: 0.2358 - val_loss: 0.0210 - val_acc: 0.2777\n",
      "Epoch 18/30\n",
      " - 55s - loss: 0.0217 - acc: 0.2340 - val_loss: 0.0210 - val_acc: 0.2737\n",
      "Epoch 19/30\n",
      " - 55s - loss: 0.0216 - acc: 0.2364 - val_loss: 0.0211 - val_acc: 0.2760\n",
      "Epoch 20/30\n",
      " - 55s - loss: 0.0216 - acc: 0.2356 - val_loss: 0.0210 - val_acc: 0.2756\n",
      "Epoch 21/30\n",
      " - 55s - loss: 0.0216 - acc: 0.2381 - val_loss: 0.0211 - val_acc: 0.2712\n",
      "Epoch 22/30\n",
      " - 55s - loss: 0.0216 - acc: 0.2394 - val_loss: 0.0212 - val_acc: 0.2714\n",
      "Epoch 23/30\n",
      " - 55s - loss: 0.0216 - acc: 0.2381 - val_loss: 0.0212 - val_acc: 0.2749\n",
      "Epoch 24/30\n",
      " - 56s - loss: 0.0216 - acc: 0.2381 - val_loss: 0.0210 - val_acc: 0.2785\n",
      "Epoch 25/30\n",
      " - 56s - loss: 0.0216 - acc: 0.2357 - val_loss: 0.0212 - val_acc: 0.2749\n",
      "Epoch 26/30\n",
      " - 56s - loss: 0.0216 - acc: 0.2387 - val_loss: 0.0210 - val_acc: 0.2827\n",
      "Epoch 27/30\n",
      " - 56s - loss: 0.0216 - acc: 0.2376 - val_loss: 0.0211 - val_acc: 0.2771\n",
      "Epoch 28/30\n",
      " - 55s - loss: 0.0215 - acc: 0.2391 - val_loss: 0.0211 - val_acc: 0.2758\n",
      "Epoch 29/30\n",
      " - 55s - loss: 0.0215 - acc: 0.2398 - val_loss: 0.0211 - val_acc: 0.2762\n",
      "Epoch 30/30\n",
      " - 55s - loss: 0.0215 - acc: 0.2385 - val_loss: 0.0211 - val_acc: 0.2731\n",
      "Test Accuracy [26.6]\n"
     ]
    },
    {
     "data": {
      "text/plain": [
       "array([26.6])"
      ]
     },
     "execution_count": 19,
     "metadata": {},
     "output_type": "execute_result"
    }
   ],
   "source": [
    "model = load_model('model1max.h5') # 65\n",
    "\n",
    "model.fit(train_x[:95000],train_y[:95000],batch_size=100,epochs=30,verbose=2,validation_split=0.05)\n",
    "test_acc(model,train_x[95000:],train_y[95000:])"
   ]
  },
  {
   "cell_type": "code",
   "execution_count": 21,
   "metadata": {
    "scrolled": true
   },
   "outputs": [
    {
     "name": "stderr",
     "output_type": "stream",
     "text": [
      "c:\\users\\leo\\appdata\\local\\programs\\python\\python36\\lib\\site-packages\\ipykernel_launcher.py:3: UserWarning: Update your `Conv2D` call to the Keras 2 API: `Conv2D(64, (5, 3), activation=\"relu\", input_shape=(64, 64, 3...)`\n",
      "  This is separate from the ipykernel package so we can avoid doing imports until\n",
      "c:\\users\\leo\\appdata\\local\\programs\\python\\python36\\lib\\site-packages\\ipykernel_launcher.py:5: UserWarning: Update your `Conv2D` call to the Keras 2 API: `Conv2D(64, (5, 3), activation=\"relu\")`\n",
      "  \"\"\"\n",
      "c:\\users\\leo\\appdata\\local\\programs\\python\\python36\\lib\\site-packages\\ipykernel_launcher.py:7: UserWarning: Update your `Conv2D` call to the Keras 2 API: `Conv2D(128, (7, 2), activation=\"relu\")`\n",
      "  import sys\n"
     ]
    },
    {
     "name": "stdout",
     "output_type": "stream",
     "text": [
      "Train on 90250 samples, validate on 4750 samples\n",
      "Epoch 1/40\n",
      " - 62s - loss: 0.0307 - acc: 0.0136 - val_loss: 0.0298 - val_acc: 0.0324\n",
      "Epoch 2/40\n",
      " - 60s - loss: 0.0292 - acc: 0.0383 - val_loss: 0.0278 - val_acc: 0.0733\n",
      "Epoch 3/40\n",
      " - 59s - loss: 0.0279 - acc: 0.0630 - val_loss: 0.0265 - val_acc: 0.1004\n",
      "Epoch 4/40\n",
      " - 59s - loss: 0.0270 - acc: 0.0821 - val_loss: 0.0257 - val_acc: 0.1299\n",
      "Epoch 5/40\n",
      " - 59s - loss: 0.0265 - acc: 0.0967 - val_loss: 0.0253 - val_acc: 0.1349\n",
      "Epoch 6/40\n",
      " - 61s - loss: 0.0261 - acc: 0.1094 - val_loss: 0.0249 - val_acc: 0.1472\n",
      "Epoch 7/40\n",
      " - 60s - loss: 0.0258 - acc: 0.1153 - val_loss: 0.0246 - val_acc: 0.1514\n",
      "Epoch 8/40\n",
      " - 59s - loss: 0.0255 - acc: 0.1239 - val_loss: 0.0242 - val_acc: 0.1621\n",
      "Epoch 9/40\n",
      " - 60s - loss: 0.0253 - acc: 0.1282 - val_loss: 0.0241 - val_acc: 0.1697\n",
      "Epoch 10/40\n",
      " - 59s - loss: 0.0251 - acc: 0.1323 - val_loss: 0.0241 - val_acc: 0.1718\n",
      "Epoch 11/40\n",
      " - 59s - loss: 0.0250 - acc: 0.1365 - val_loss: 0.0240 - val_acc: 0.1747\n",
      "Epoch 12/40\n",
      " - 60s - loss: 0.0249 - acc: 0.1408 - val_loss: 0.0236 - val_acc: 0.1844\n",
      "Epoch 13/40\n",
      " - 59s - loss: 0.0247 - acc: 0.1428 - val_loss: 0.0236 - val_acc: 0.1855\n",
      "Epoch 14/40\n",
      " - 59s - loss: 0.0247 - acc: 0.1448 - val_loss: 0.0235 - val_acc: 0.1907\n",
      "Epoch 15/40\n",
      " - 59s - loss: 0.0245 - acc: 0.1488 - val_loss: 0.0235 - val_acc: 0.1859\n",
      "Epoch 16/40\n",
      " - 59s - loss: 0.0245 - acc: 0.1512 - val_loss: 0.0234 - val_acc: 0.1844\n",
      "Epoch 17/40\n",
      " - 59s - loss: 0.0244 - acc: 0.1515 - val_loss: 0.0233 - val_acc: 0.1949\n",
      "Epoch 18/40\n",
      " - 59s - loss: 0.0244 - acc: 0.1556 - val_loss: 0.0232 - val_acc: 0.1966\n",
      "Epoch 19/40\n",
      " - 59s - loss: 0.0243 - acc: 0.1565 - val_loss: 0.0231 - val_acc: 0.2036\n",
      "Epoch 20/40\n",
      " - 59s - loss: 0.0242 - acc: 0.1573 - val_loss: 0.0232 - val_acc: 0.2008\n",
      "Epoch 21/40\n",
      " - 59s - loss: 0.0242 - acc: 0.1580 - val_loss: 0.0231 - val_acc: 0.2055\n",
      "Epoch 22/40\n",
      " - 59s - loss: 0.0241 - acc: 0.1610 - val_loss: 0.0234 - val_acc: 0.1985\n",
      "Epoch 23/40\n",
      " - 59s - loss: 0.0241 - acc: 0.1603 - val_loss: 0.0231 - val_acc: 0.2021\n",
      "Epoch 24/40\n",
      " - 59s - loss: 0.0241 - acc: 0.1637 - val_loss: 0.0229 - val_acc: 0.2114\n",
      "Epoch 25/40\n",
      " - 59s - loss: 0.0240 - acc: 0.1637 - val_loss: 0.0231 - val_acc: 0.2059\n",
      "Epoch 26/40\n",
      " - 59s - loss: 0.0240 - acc: 0.1640 - val_loss: 0.0230 - val_acc: 0.2076\n",
      "Epoch 27/40\n",
      " - 59s - loss: 0.0240 - acc: 0.1669 - val_loss: 0.0230 - val_acc: 0.2107\n",
      "Epoch 28/40\n",
      " - 59s - loss: 0.0239 - acc: 0.1669 - val_loss: 0.0228 - val_acc: 0.2128\n",
      "Epoch 29/40\n",
      " - 59s - loss: 0.0239 - acc: 0.1671 - val_loss: 0.0229 - val_acc: 0.2112\n",
      "Epoch 30/40\n",
      " - 59s - loss: 0.0239 - acc: 0.1693 - val_loss: 0.0231 - val_acc: 0.2076\n",
      "Epoch 31/40\n",
      " - 59s - loss: 0.0238 - acc: 0.1695 - val_loss: 0.0229 - val_acc: 0.2120\n",
      "Epoch 32/40\n",
      " - 59s - loss: 0.0238 - acc: 0.1708 - val_loss: 0.0230 - val_acc: 0.2086\n",
      "Epoch 33/40\n",
      " - 59s - loss: 0.0238 - acc: 0.1700 - val_loss: 0.0229 - val_acc: 0.2177\n",
      "Epoch 34/40\n",
      " - 59s - loss: 0.0237 - acc: 0.1721 - val_loss: 0.0229 - val_acc: 0.2004\n",
      "Epoch 35/40\n",
      " - 59s - loss: 0.0237 - acc: 0.1733 - val_loss: 0.0230 - val_acc: 0.2080\n",
      "Epoch 36/40\n",
      " - 60s - loss: 0.0237 - acc: 0.1721 - val_loss: 0.0229 - val_acc: 0.2084\n",
      "Epoch 37/40\n",
      " - 59s - loss: 0.0237 - acc: 0.1737 - val_loss: 0.0228 - val_acc: 0.2162\n",
      "Epoch 38/40\n",
      " - 59s - loss: 0.0236 - acc: 0.1742 - val_loss: 0.0229 - val_acc: 0.2105\n",
      "Epoch 39/40\n",
      " - 59s - loss: 0.0237 - acc: 0.1742 - val_loss: 0.0229 - val_acc: 0.2093\n",
      "Epoch 40/40\n",
      " - 59s - loss: 0.0236 - acc: 0.1753 - val_loss: 0.0229 - val_acc: 0.2156\n",
      "Test Accuracy [20.82]\n"
     ]
    },
    {
     "data": {
      "text/plain": [
       "array([20.82])"
      ]
     },
     "execution_count": 21,
     "metadata": {},
     "output_type": "execute_result"
    }
   ],
   "source": [
    "model = Sequential()\n",
    "\n",
    "model.add(Convolution2D(64,5,3,activation='relu',input_shape=(img_rows,img_cols,3)))\n",
    "model.add(MaxPooling2D(pool_size=(2,2)))\n",
    "model.add(Convolution2D(64,5,3,activation='relu'))\n",
    "model.add(MaxPooling2D(pool_size=(2,2)))\n",
    "model.add(Convolution2D(128,7,2,activation='relu'))\n",
    "model.add(MaxPooling2D(pool_size=(4,4)))\n",
    "model.add(Dropout(0.5))\n",
    "model.add(Flatten())\n",
    "\n",
    "model.add(Dense(256,activation='relu'))\n",
    "model.add(Dropout(0.5))\n",
    "model.add(Dense(num_classes,activation='softmax'))\n",
    "\n",
    "model.compile(loss='poisson',optimizer='adam',metrics=['accuracy'])\n",
    "model.fit(train_x[:95000],train_y[:95000],batch_size=100,epochs=40,verbose=2,validation_split=0.05)\n",
    "test_acc(model,train_x[95000:],train_y[95000:])"
   ]
  },
  {
   "cell_type": "code",
   "execution_count": 8,
   "metadata": {
    "scrolled": true
   },
   "outputs": [
    {
     "name": "stderr",
     "output_type": "stream",
     "text": [
      "c:\\users\\leo\\appdata\\local\\programs\\python\\python36\\lib\\site-packages\\ipykernel_launcher.py:3: UserWarning: Update your `Conv2D` call to the Keras 2 API: `Conv2D(32, (3, 3), activation=\"relu\", input_shape=(64, 64, 3...)`\n",
      "  This is separate from the ipykernel package so we can avoid doing imports until\n",
      "c:\\users\\leo\\appdata\\local\\programs\\python\\python36\\lib\\site-packages\\ipykernel_launcher.py:4: UserWarning: Update your `Conv2D` call to the Keras 2 API: `Conv2D(32, (3, 3), activation=\"relu\")`\n",
      "  after removing the cwd from sys.path.\n",
      "c:\\users\\leo\\appdata\\local\\programs\\python\\python36\\lib\\site-packages\\ipykernel_launcher.py:5: UserWarning: Update your `Conv2D` call to the Keras 2 API: `Conv2D(64, (3, 3), activation=\"relu\")`\n",
      "  \"\"\"\n",
      "c:\\users\\leo\\appdata\\local\\programs\\python\\python36\\lib\\site-packages\\ipykernel_launcher.py:6: UserWarning: Update your `Conv2D` call to the Keras 2 API: `Conv2D(64, (3, 3), activation=\"relu\")`\n",
      "  \n",
      "c:\\users\\leo\\appdata\\local\\programs\\python\\python36\\lib\\site-packages\\ipykernel_launcher.py:7: UserWarning: Update your `Conv2D` call to the Keras 2 API: `Conv2D(128, (7, 2), activation=\"relu\")`\n",
      "  import sys\n"
     ]
    },
    {
     "name": "stdout",
     "output_type": "stream",
     "text": [
      "Train on 90250 samples, validate on 4750 samples\n",
      "Epoch 1/40\n",
      " - 229s - loss: 0.0315 - acc: 0.0043 - val_loss: 0.0315 - val_acc: 0.0051\n",
      "Epoch 2/40\n",
      " - 221s - loss: 0.0315 - acc: 0.0045 - val_loss: 0.0315 - val_acc: 0.0036\n",
      "Epoch 3/40\n",
      " - 221s - loss: 0.0315 - acc: 0.0046 - val_loss: 0.0315 - val_acc: 0.0029\n",
      "Epoch 4/40\n",
      " - 221s - loss: 0.0315 - acc: 0.0042 - val_loss: 0.0315 - val_acc: 0.0036\n",
      "Epoch 5/40\n",
      " - 221s - loss: 0.0315 - acc: 0.0046 - val_loss: 0.0315 - val_acc: 0.0029\n",
      "Epoch 6/40\n",
      " - 221s - loss: 0.0315 - acc: 0.0047 - val_loss: 0.0315 - val_acc: 0.0034\n",
      "Epoch 7/40\n",
      " - 221s - loss: 0.0315 - acc: 0.0046 - val_loss: 0.0315 - val_acc: 0.0034\n",
      "Epoch 8/40\n",
      " - 221s - loss: 0.0315 - acc: 0.0045 - val_loss: 0.0315 - val_acc: 0.0034\n",
      "Epoch 9/40\n",
      " - 221s - loss: 0.0315 - acc: 0.0048 - val_loss: 0.0315 - val_acc: 0.0042\n",
      "Epoch 10/40\n"
     ]
    },
    {
     "ename": "KeyboardInterrupt",
     "evalue": "",
     "output_type": "error",
     "traceback": [
      "\u001b[1;31m---------------------------------------------------------------------------\u001b[0m",
      "\u001b[1;31mKeyboardInterrupt\u001b[0m                         Traceback (most recent call last)",
      "\u001b[1;32m<ipython-input-8-8ec06d76ee01>\u001b[0m in \u001b[0;36m<module>\u001b[1;34m()\u001b[0m\n\u001b[0;32m     17\u001b[0m \u001b[1;33m\u001b[0m\u001b[0m\n\u001b[0;32m     18\u001b[0m \u001b[0mmodel\u001b[0m\u001b[1;33m.\u001b[0m\u001b[0mcompile\u001b[0m\u001b[1;33m(\u001b[0m\u001b[0mloss\u001b[0m\u001b[1;33m=\u001b[0m\u001b[1;34m'poisson'\u001b[0m\u001b[1;33m,\u001b[0m\u001b[0moptimizer\u001b[0m\u001b[1;33m=\u001b[0m\u001b[1;34m'adam'\u001b[0m\u001b[1;33m,\u001b[0m\u001b[0mmetrics\u001b[0m\u001b[1;33m=\u001b[0m\u001b[1;33m[\u001b[0m\u001b[1;34m'accuracy'\u001b[0m\u001b[1;33m]\u001b[0m\u001b[1;33m)\u001b[0m\u001b[1;33m\u001b[0m\u001b[0m\n\u001b[1;32m---> 19\u001b[1;33m \u001b[0mmodel\u001b[0m\u001b[1;33m.\u001b[0m\u001b[0mfit\u001b[0m\u001b[1;33m(\u001b[0m\u001b[0mtrain_x\u001b[0m\u001b[1;33m[\u001b[0m\u001b[1;33m:\u001b[0m\u001b[1;36m95000\u001b[0m\u001b[1;33m]\u001b[0m\u001b[1;33m,\u001b[0m\u001b[0mtrain_y\u001b[0m\u001b[1;33m[\u001b[0m\u001b[1;33m:\u001b[0m\u001b[1;36m95000\u001b[0m\u001b[1;33m]\u001b[0m\u001b[1;33m,\u001b[0m\u001b[0mbatch_size\u001b[0m\u001b[1;33m=\u001b[0m\u001b[1;36m100\u001b[0m\u001b[1;33m,\u001b[0m\u001b[0mepochs\u001b[0m\u001b[1;33m=\u001b[0m\u001b[1;36m40\u001b[0m\u001b[1;33m,\u001b[0m\u001b[0mverbose\u001b[0m\u001b[1;33m=\u001b[0m\u001b[1;36m2\u001b[0m\u001b[1;33m,\u001b[0m\u001b[0mvalidation_split\u001b[0m\u001b[1;33m=\u001b[0m\u001b[1;36m0.05\u001b[0m\u001b[1;33m)\u001b[0m\u001b[1;33m\u001b[0m\u001b[0m\n\u001b[0m\u001b[0;32m     20\u001b[0m \u001b[0mtest_acc\u001b[0m\u001b[1;33m(\u001b[0m\u001b[0mmodel\u001b[0m\u001b[1;33m,\u001b[0m\u001b[0mtrain_x\u001b[0m\u001b[1;33m[\u001b[0m\u001b[1;36m95000\u001b[0m\u001b[1;33m:\u001b[0m\u001b[1;33m]\u001b[0m\u001b[1;33m,\u001b[0m\u001b[0mtrain_y\u001b[0m\u001b[1;33m[\u001b[0m\u001b[1;36m95000\u001b[0m\u001b[1;33m:\u001b[0m\u001b[1;33m]\u001b[0m\u001b[1;33m)\u001b[0m\u001b[1;33m\u001b[0m\u001b[0m\n",
      "\u001b[1;32mc:\\users\\leo\\appdata\\local\\programs\\python\\python36\\lib\\site-packages\\keras\\engine\\training.py\u001b[0m in \u001b[0;36mfit\u001b[1;34m(self, x, y, batch_size, epochs, verbose, callbacks, validation_split, validation_data, shuffle, class_weight, sample_weight, initial_epoch, steps_per_epoch, validation_steps, **kwargs)\u001b[0m\n\u001b[0;32m   1035\u001b[0m                                         \u001b[0minitial_epoch\u001b[0m\u001b[1;33m=\u001b[0m\u001b[0minitial_epoch\u001b[0m\u001b[1;33m,\u001b[0m\u001b[1;33m\u001b[0m\u001b[0m\n\u001b[0;32m   1036\u001b[0m                                         \u001b[0msteps_per_epoch\u001b[0m\u001b[1;33m=\u001b[0m\u001b[0msteps_per_epoch\u001b[0m\u001b[1;33m,\u001b[0m\u001b[1;33m\u001b[0m\u001b[0m\n\u001b[1;32m-> 1037\u001b[1;33m                                         validation_steps=validation_steps)\n\u001b[0m\u001b[0;32m   1038\u001b[0m \u001b[1;33m\u001b[0m\u001b[0m\n\u001b[0;32m   1039\u001b[0m     def evaluate(self, x=None, y=None,\n",
      "\u001b[1;32mc:\\users\\leo\\appdata\\local\\programs\\python\\python36\\lib\\site-packages\\keras\\engine\\training_arrays.py\u001b[0m in \u001b[0;36mfit_loop\u001b[1;34m(model, f, ins, out_labels, batch_size, epochs, verbose, callbacks, val_f, val_ins, shuffle, callback_metrics, initial_epoch, steps_per_epoch, validation_steps)\u001b[0m\n\u001b[0;32m    197\u001b[0m                     \u001b[0mins_batch\u001b[0m\u001b[1;33m[\u001b[0m\u001b[0mi\u001b[0m\u001b[1;33m]\u001b[0m \u001b[1;33m=\u001b[0m \u001b[0mins_batch\u001b[0m\u001b[1;33m[\u001b[0m\u001b[0mi\u001b[0m\u001b[1;33m]\u001b[0m\u001b[1;33m.\u001b[0m\u001b[0mtoarray\u001b[0m\u001b[1;33m(\u001b[0m\u001b[1;33m)\u001b[0m\u001b[1;33m\u001b[0m\u001b[0m\n\u001b[0;32m    198\u001b[0m \u001b[1;33m\u001b[0m\u001b[0m\n\u001b[1;32m--> 199\u001b[1;33m                 \u001b[0mouts\u001b[0m \u001b[1;33m=\u001b[0m \u001b[0mf\u001b[0m\u001b[1;33m(\u001b[0m\u001b[0mins_batch\u001b[0m\u001b[1;33m)\u001b[0m\u001b[1;33m\u001b[0m\u001b[0m\n\u001b[0m\u001b[0;32m    200\u001b[0m                 \u001b[0mouts\u001b[0m \u001b[1;33m=\u001b[0m \u001b[0mto_list\u001b[0m\u001b[1;33m(\u001b[0m\u001b[0mouts\u001b[0m\u001b[1;33m)\u001b[0m\u001b[1;33m\u001b[0m\u001b[0m\n\u001b[0;32m    201\u001b[0m                 \u001b[1;32mfor\u001b[0m \u001b[0ml\u001b[0m\u001b[1;33m,\u001b[0m \u001b[0mo\u001b[0m \u001b[1;32min\u001b[0m \u001b[0mzip\u001b[0m\u001b[1;33m(\u001b[0m\u001b[0mout_labels\u001b[0m\u001b[1;33m,\u001b[0m \u001b[0mouts\u001b[0m\u001b[1;33m)\u001b[0m\u001b[1;33m:\u001b[0m\u001b[1;33m\u001b[0m\u001b[0m\n",
      "\u001b[1;32mc:\\users\\leo\\appdata\\local\\programs\\python\\python36\\lib\\site-packages\\keras\\backend\\tensorflow_backend.py\u001b[0m in \u001b[0;36m__call__\u001b[1;34m(self, inputs)\u001b[0m\n\u001b[0;32m   2664\u001b[0m                 \u001b[1;32mreturn\u001b[0m \u001b[0mself\u001b[0m\u001b[1;33m.\u001b[0m\u001b[0m_legacy_call\u001b[0m\u001b[1;33m(\u001b[0m\u001b[0minputs\u001b[0m\u001b[1;33m)\u001b[0m\u001b[1;33m\u001b[0m\u001b[0m\n\u001b[0;32m   2665\u001b[0m \u001b[1;33m\u001b[0m\u001b[0m\n\u001b[1;32m-> 2666\u001b[1;33m             \u001b[1;32mreturn\u001b[0m \u001b[0mself\u001b[0m\u001b[1;33m.\u001b[0m\u001b[0m_call\u001b[0m\u001b[1;33m(\u001b[0m\u001b[0minputs\u001b[0m\u001b[1;33m)\u001b[0m\u001b[1;33m\u001b[0m\u001b[0m\n\u001b[0m\u001b[0;32m   2667\u001b[0m         \u001b[1;32melse\u001b[0m\u001b[1;33m:\u001b[0m\u001b[1;33m\u001b[0m\u001b[0m\n\u001b[0;32m   2668\u001b[0m             \u001b[1;32mif\u001b[0m \u001b[0mpy_any\u001b[0m\u001b[1;33m(\u001b[0m\u001b[0mis_tensor\u001b[0m\u001b[1;33m(\u001b[0m\u001b[0mx\u001b[0m\u001b[1;33m)\u001b[0m \u001b[1;32mfor\u001b[0m \u001b[0mx\u001b[0m \u001b[1;32min\u001b[0m \u001b[0minputs\u001b[0m\u001b[1;33m)\u001b[0m\u001b[1;33m:\u001b[0m\u001b[1;33m\u001b[0m\u001b[0m\n",
      "\u001b[1;32mc:\\users\\leo\\appdata\\local\\programs\\python\\python36\\lib\\site-packages\\keras\\backend\\tensorflow_backend.py\u001b[0m in \u001b[0;36m_call\u001b[1;34m(self, inputs)\u001b[0m\n\u001b[0;32m   2634\u001b[0m                                 \u001b[0msymbol_vals\u001b[0m\u001b[1;33m,\u001b[0m\u001b[1;33m\u001b[0m\u001b[0m\n\u001b[0;32m   2635\u001b[0m                                 session)\n\u001b[1;32m-> 2636\u001b[1;33m         \u001b[0mfetched\u001b[0m \u001b[1;33m=\u001b[0m \u001b[0mself\u001b[0m\u001b[1;33m.\u001b[0m\u001b[0m_callable_fn\u001b[0m\u001b[1;33m(\u001b[0m\u001b[1;33m*\u001b[0m\u001b[0marray_vals\u001b[0m\u001b[1;33m)\u001b[0m\u001b[1;33m\u001b[0m\u001b[0m\n\u001b[0m\u001b[0;32m   2637\u001b[0m         \u001b[1;32mreturn\u001b[0m \u001b[0mfetched\u001b[0m\u001b[1;33m[\u001b[0m\u001b[1;33m:\u001b[0m\u001b[0mlen\u001b[0m\u001b[1;33m(\u001b[0m\u001b[0mself\u001b[0m\u001b[1;33m.\u001b[0m\u001b[0moutputs\u001b[0m\u001b[1;33m)\u001b[0m\u001b[1;33m]\u001b[0m\u001b[1;33m\u001b[0m\u001b[0m\n\u001b[0;32m   2638\u001b[0m \u001b[1;33m\u001b[0m\u001b[0m\n",
      "\u001b[1;32mc:\\users\\leo\\appdata\\local\\programs\\python\\python36\\lib\\site-packages\\tensorflow\\python\\client\\session.py\u001b[0m in \u001b[0;36m__call__\u001b[1;34m(self, *args, **kwargs)\u001b[0m\n\u001b[0;32m   1380\u001b[0m           ret = tf_session.TF_SessionRunCallable(\n\u001b[0;32m   1381\u001b[0m               \u001b[0mself\u001b[0m\u001b[1;33m.\u001b[0m\u001b[0m_session\u001b[0m\u001b[1;33m.\u001b[0m\u001b[0m_session\u001b[0m\u001b[1;33m,\u001b[0m \u001b[0mself\u001b[0m\u001b[1;33m.\u001b[0m\u001b[0m_handle\u001b[0m\u001b[1;33m,\u001b[0m \u001b[0margs\u001b[0m\u001b[1;33m,\u001b[0m \u001b[0mstatus\u001b[0m\u001b[1;33m,\u001b[0m\u001b[1;33m\u001b[0m\u001b[0m\n\u001b[1;32m-> 1382\u001b[1;33m               run_metadata_ptr)\n\u001b[0m\u001b[0;32m   1383\u001b[0m         \u001b[1;32mif\u001b[0m \u001b[0mrun_metadata\u001b[0m\u001b[1;33m:\u001b[0m\u001b[1;33m\u001b[0m\u001b[0m\n\u001b[0;32m   1384\u001b[0m           \u001b[0mproto_data\u001b[0m \u001b[1;33m=\u001b[0m \u001b[0mtf_session\u001b[0m\u001b[1;33m.\u001b[0m\u001b[0mTF_GetBuffer\u001b[0m\u001b[1;33m(\u001b[0m\u001b[0mrun_metadata_ptr\u001b[0m\u001b[1;33m)\u001b[0m\u001b[1;33m\u001b[0m\u001b[0m\n",
      "\u001b[1;31mKeyboardInterrupt\u001b[0m: "
     ]
    }
   ],
   "source": [
    "model = Sequential()\n",
    "\n",
    "model.add(Convolution2D(32,3,3,activation='relu',input_shape=(img_rows,img_cols,3)))\n",
    "model.add(Convolution2D(32,3,3,activation='relu'))\n",
    "model.add(Convolution2D(64,3,3,activation='relu'))\n",
    "model.add(Convolution2D(64,3,3,activation='relu'))\n",
    "model.add(Convolution2D(128,7,2,activation='relu'))\n",
    "model.add(MaxPooling2D(pool_size=(4,4)))\n",
    "model.add(Dropout(0.5))\n",
    "model.add(Flatten())\n",
    "\n",
    "model.add(Dense(256,activation='relu'))\n",
    "model.add(Dropout(0.5))\n",
    "model.add(Dense(256,activation='relu'))\n",
    "model.add(Dropout(0.5))\n",
    "model.add(Dense(num_classes,activation='softmax'))\n",
    "\n",
    "model.compile(loss='poisson',optimizer='adam',metrics=['accuracy'])\n",
    "model.fit(train_x[:95000],train_y[:95000],batch_size=100,epochs=40,verbose=2,validation_split=0.05)\n",
    "test_acc(model,train_x[95000:],train_y[95000:])"
   ]
  },
  {
   "cell_type": "code",
   "execution_count": 24,
   "metadata": {
    "scrolled": true
   },
   "outputs": [
    {
     "name": "stderr",
     "output_type": "stream",
     "text": [
      "c:\\users\\leo\\appdata\\local\\programs\\python\\python36\\lib\\site-packages\\ipykernel_launcher.py:3: UserWarning: Update your `Conv2D` call to the Keras 2 API: `Conv2D(128, (3, 1), activation=\"relu\", input_shape=(64, 64, 3...)`\n",
      "  This is separate from the ipykernel package so we can avoid doing imports until\n",
      "c:\\users\\leo\\appdata\\local\\programs\\python\\python36\\lib\\site-packages\\ipykernel_launcher.py:5: UserWarning: Update your `Conv2D` call to the Keras 2 API: `Conv2D(32, (3, 2), activation=\"relu\")`\n",
      "  \"\"\"\n",
      "c:\\users\\leo\\appdata\\local\\programs\\python\\python36\\lib\\site-packages\\ipykernel_launcher.py:7: UserWarning: Update your `Conv2D` call to the Keras 2 API: `Conv2D(32, (3, 2), activation=\"relu\")`\n",
      "  import sys\n",
      "c:\\users\\leo\\appdata\\local\\programs\\python\\python36\\lib\\site-packages\\ipykernel_launcher.py:9: UserWarning: Update your `Conv2D` call to the Keras 2 API: `Conv2D(128, (3, 2), activation=\"relu\")`\n",
      "  if __name__ == '__main__':\n"
     ]
    },
    {
     "name": "stdout",
     "output_type": "stream",
     "text": [
      "Train on 90250 samples, validate on 4750 samples\n",
      "Epoch 1/40\n",
      " - 71s - loss: 0.0312 - acc: 0.0071 - val_loss: 0.0305 - val_acc: 0.0143\n",
      "Epoch 2/40\n"
     ]
    },
    {
     "ename": "KeyboardInterrupt",
     "evalue": "",
     "output_type": "error",
     "traceback": [
      "\u001b[1;31m---------------------------------------------------------------------------\u001b[0m",
      "\u001b[1;31mKeyboardInterrupt\u001b[0m                         Traceback (most recent call last)",
      "\u001b[1;32m<ipython-input-24-aa26c3caee3d>\u001b[0m in \u001b[0;36m<module>\u001b[1;34m()\u001b[0m\n\u001b[0;32m     19\u001b[0m \u001b[1;33m\u001b[0m\u001b[0m\n\u001b[0;32m     20\u001b[0m \u001b[0mmodel\u001b[0m\u001b[1;33m.\u001b[0m\u001b[0mcompile\u001b[0m\u001b[1;33m(\u001b[0m\u001b[0mloss\u001b[0m\u001b[1;33m=\u001b[0m\u001b[1;34m'poisson'\u001b[0m\u001b[1;33m,\u001b[0m\u001b[0moptimizer\u001b[0m\u001b[1;33m=\u001b[0m\u001b[1;34m'adam'\u001b[0m\u001b[1;33m,\u001b[0m\u001b[0mmetrics\u001b[0m\u001b[1;33m=\u001b[0m\u001b[1;33m[\u001b[0m\u001b[1;34m'accuracy'\u001b[0m\u001b[1;33m]\u001b[0m\u001b[1;33m)\u001b[0m\u001b[1;33m\u001b[0m\u001b[0m\n\u001b[1;32m---> 21\u001b[1;33m \u001b[0mmodel\u001b[0m\u001b[1;33m.\u001b[0m\u001b[0mfit\u001b[0m\u001b[1;33m(\u001b[0m\u001b[0mtrain_x\u001b[0m\u001b[1;33m[\u001b[0m\u001b[1;33m:\u001b[0m\u001b[1;36m95000\u001b[0m\u001b[1;33m]\u001b[0m\u001b[1;33m,\u001b[0m\u001b[0mtrain_y\u001b[0m\u001b[1;33m[\u001b[0m\u001b[1;33m:\u001b[0m\u001b[1;36m95000\u001b[0m\u001b[1;33m]\u001b[0m\u001b[1;33m,\u001b[0m\u001b[0mbatch_size\u001b[0m\u001b[1;33m=\u001b[0m\u001b[1;36m100\u001b[0m\u001b[1;33m,\u001b[0m\u001b[0mepochs\u001b[0m\u001b[1;33m=\u001b[0m\u001b[1;36m40\u001b[0m\u001b[1;33m,\u001b[0m\u001b[0mverbose\u001b[0m\u001b[1;33m=\u001b[0m\u001b[1;36m2\u001b[0m\u001b[1;33m,\u001b[0m\u001b[0mvalidation_split\u001b[0m\u001b[1;33m=\u001b[0m\u001b[1;36m0.05\u001b[0m\u001b[1;33m)\u001b[0m\u001b[1;33m\u001b[0m\u001b[0m\n\u001b[0m\u001b[0;32m     22\u001b[0m \u001b[0mtest_acc\u001b[0m\u001b[1;33m(\u001b[0m\u001b[0mmodel\u001b[0m\u001b[1;33m,\u001b[0m\u001b[0mtrain_x\u001b[0m\u001b[1;33m[\u001b[0m\u001b[1;36m95000\u001b[0m\u001b[1;33m:\u001b[0m\u001b[1;33m]\u001b[0m\u001b[1;33m,\u001b[0m\u001b[0mtrain_y\u001b[0m\u001b[1;33m[\u001b[0m\u001b[1;36m95000\u001b[0m\u001b[1;33m:\u001b[0m\u001b[1;33m]\u001b[0m\u001b[1;33m)\u001b[0m\u001b[1;33m\u001b[0m\u001b[0m\n",
      "\u001b[1;32mc:\\users\\leo\\appdata\\local\\programs\\python\\python36\\lib\\site-packages\\keras\\engine\\training.py\u001b[0m in \u001b[0;36mfit\u001b[1;34m(self, x, y, batch_size, epochs, verbose, callbacks, validation_split, validation_data, shuffle, class_weight, sample_weight, initial_epoch, steps_per_epoch, validation_steps, **kwargs)\u001b[0m\n\u001b[0;32m   1035\u001b[0m                                         \u001b[0minitial_epoch\u001b[0m\u001b[1;33m=\u001b[0m\u001b[0minitial_epoch\u001b[0m\u001b[1;33m,\u001b[0m\u001b[1;33m\u001b[0m\u001b[0m\n\u001b[0;32m   1036\u001b[0m                                         \u001b[0msteps_per_epoch\u001b[0m\u001b[1;33m=\u001b[0m\u001b[0msteps_per_epoch\u001b[0m\u001b[1;33m,\u001b[0m\u001b[1;33m\u001b[0m\u001b[0m\n\u001b[1;32m-> 1037\u001b[1;33m                                         validation_steps=validation_steps)\n\u001b[0m\u001b[0;32m   1038\u001b[0m \u001b[1;33m\u001b[0m\u001b[0m\n\u001b[0;32m   1039\u001b[0m     def evaluate(self, x=None, y=None,\n",
      "\u001b[1;32mc:\\users\\leo\\appdata\\local\\programs\\python\\python36\\lib\\site-packages\\keras\\engine\\training_arrays.py\u001b[0m in \u001b[0;36mfit_loop\u001b[1;34m(model, f, ins, out_labels, batch_size, epochs, verbose, callbacks, val_f, val_ins, shuffle, callback_metrics, initial_epoch, steps_per_epoch, validation_steps)\u001b[0m\n\u001b[0;32m    197\u001b[0m                     \u001b[0mins_batch\u001b[0m\u001b[1;33m[\u001b[0m\u001b[0mi\u001b[0m\u001b[1;33m]\u001b[0m \u001b[1;33m=\u001b[0m \u001b[0mins_batch\u001b[0m\u001b[1;33m[\u001b[0m\u001b[0mi\u001b[0m\u001b[1;33m]\u001b[0m\u001b[1;33m.\u001b[0m\u001b[0mtoarray\u001b[0m\u001b[1;33m(\u001b[0m\u001b[1;33m)\u001b[0m\u001b[1;33m\u001b[0m\u001b[0m\n\u001b[0;32m    198\u001b[0m \u001b[1;33m\u001b[0m\u001b[0m\n\u001b[1;32m--> 199\u001b[1;33m                 \u001b[0mouts\u001b[0m \u001b[1;33m=\u001b[0m \u001b[0mf\u001b[0m\u001b[1;33m(\u001b[0m\u001b[0mins_batch\u001b[0m\u001b[1;33m)\u001b[0m\u001b[1;33m\u001b[0m\u001b[0m\n\u001b[0m\u001b[0;32m    200\u001b[0m                 \u001b[0mouts\u001b[0m \u001b[1;33m=\u001b[0m \u001b[0mto_list\u001b[0m\u001b[1;33m(\u001b[0m\u001b[0mouts\u001b[0m\u001b[1;33m)\u001b[0m\u001b[1;33m\u001b[0m\u001b[0m\n\u001b[0;32m    201\u001b[0m                 \u001b[1;32mfor\u001b[0m \u001b[0ml\u001b[0m\u001b[1;33m,\u001b[0m \u001b[0mo\u001b[0m \u001b[1;32min\u001b[0m \u001b[0mzip\u001b[0m\u001b[1;33m(\u001b[0m\u001b[0mout_labels\u001b[0m\u001b[1;33m,\u001b[0m \u001b[0mouts\u001b[0m\u001b[1;33m)\u001b[0m\u001b[1;33m:\u001b[0m\u001b[1;33m\u001b[0m\u001b[0m\n",
      "\u001b[1;32mc:\\users\\leo\\appdata\\local\\programs\\python\\python36\\lib\\site-packages\\keras\\backend\\tensorflow_backend.py\u001b[0m in \u001b[0;36m__call__\u001b[1;34m(self, inputs)\u001b[0m\n\u001b[0;32m   2664\u001b[0m                 \u001b[1;32mreturn\u001b[0m \u001b[0mself\u001b[0m\u001b[1;33m.\u001b[0m\u001b[0m_legacy_call\u001b[0m\u001b[1;33m(\u001b[0m\u001b[0minputs\u001b[0m\u001b[1;33m)\u001b[0m\u001b[1;33m\u001b[0m\u001b[0m\n\u001b[0;32m   2665\u001b[0m \u001b[1;33m\u001b[0m\u001b[0m\n\u001b[1;32m-> 2666\u001b[1;33m             \u001b[1;32mreturn\u001b[0m \u001b[0mself\u001b[0m\u001b[1;33m.\u001b[0m\u001b[0m_call\u001b[0m\u001b[1;33m(\u001b[0m\u001b[0minputs\u001b[0m\u001b[1;33m)\u001b[0m\u001b[1;33m\u001b[0m\u001b[0m\n\u001b[0m\u001b[0;32m   2667\u001b[0m         \u001b[1;32melse\u001b[0m\u001b[1;33m:\u001b[0m\u001b[1;33m\u001b[0m\u001b[0m\n\u001b[0;32m   2668\u001b[0m             \u001b[1;32mif\u001b[0m \u001b[0mpy_any\u001b[0m\u001b[1;33m(\u001b[0m\u001b[0mis_tensor\u001b[0m\u001b[1;33m(\u001b[0m\u001b[0mx\u001b[0m\u001b[1;33m)\u001b[0m \u001b[1;32mfor\u001b[0m \u001b[0mx\u001b[0m \u001b[1;32min\u001b[0m \u001b[0minputs\u001b[0m\u001b[1;33m)\u001b[0m\u001b[1;33m:\u001b[0m\u001b[1;33m\u001b[0m\u001b[0m\n",
      "\u001b[1;32mc:\\users\\leo\\appdata\\local\\programs\\python\\python36\\lib\\site-packages\\keras\\backend\\tensorflow_backend.py\u001b[0m in \u001b[0;36m_call\u001b[1;34m(self, inputs)\u001b[0m\n\u001b[0;32m   2634\u001b[0m                                 \u001b[0msymbol_vals\u001b[0m\u001b[1;33m,\u001b[0m\u001b[1;33m\u001b[0m\u001b[0m\n\u001b[0;32m   2635\u001b[0m                                 session)\n\u001b[1;32m-> 2636\u001b[1;33m         \u001b[0mfetched\u001b[0m \u001b[1;33m=\u001b[0m \u001b[0mself\u001b[0m\u001b[1;33m.\u001b[0m\u001b[0m_callable_fn\u001b[0m\u001b[1;33m(\u001b[0m\u001b[1;33m*\u001b[0m\u001b[0marray_vals\u001b[0m\u001b[1;33m)\u001b[0m\u001b[1;33m\u001b[0m\u001b[0m\n\u001b[0m\u001b[0;32m   2637\u001b[0m         \u001b[1;32mreturn\u001b[0m \u001b[0mfetched\u001b[0m\u001b[1;33m[\u001b[0m\u001b[1;33m:\u001b[0m\u001b[0mlen\u001b[0m\u001b[1;33m(\u001b[0m\u001b[0mself\u001b[0m\u001b[1;33m.\u001b[0m\u001b[0moutputs\u001b[0m\u001b[1;33m)\u001b[0m\u001b[1;33m]\u001b[0m\u001b[1;33m\u001b[0m\u001b[0m\n\u001b[0;32m   2638\u001b[0m \u001b[1;33m\u001b[0m\u001b[0m\n",
      "\u001b[1;32mc:\\users\\leo\\appdata\\local\\programs\\python\\python36\\lib\\site-packages\\tensorflow\\python\\client\\session.py\u001b[0m in \u001b[0;36m__call__\u001b[1;34m(self, *args, **kwargs)\u001b[0m\n\u001b[0;32m   1380\u001b[0m           ret = tf_session.TF_SessionRunCallable(\n\u001b[0;32m   1381\u001b[0m               \u001b[0mself\u001b[0m\u001b[1;33m.\u001b[0m\u001b[0m_session\u001b[0m\u001b[1;33m.\u001b[0m\u001b[0m_session\u001b[0m\u001b[1;33m,\u001b[0m \u001b[0mself\u001b[0m\u001b[1;33m.\u001b[0m\u001b[0m_handle\u001b[0m\u001b[1;33m,\u001b[0m \u001b[0margs\u001b[0m\u001b[1;33m,\u001b[0m \u001b[0mstatus\u001b[0m\u001b[1;33m,\u001b[0m\u001b[1;33m\u001b[0m\u001b[0m\n\u001b[1;32m-> 1382\u001b[1;33m               run_metadata_ptr)\n\u001b[0m\u001b[0;32m   1383\u001b[0m         \u001b[1;32mif\u001b[0m \u001b[0mrun_metadata\u001b[0m\u001b[1;33m:\u001b[0m\u001b[1;33m\u001b[0m\u001b[0m\n\u001b[0;32m   1384\u001b[0m           \u001b[0mproto_data\u001b[0m \u001b[1;33m=\u001b[0m \u001b[0mtf_session\u001b[0m\u001b[1;33m.\u001b[0m\u001b[0mTF_GetBuffer\u001b[0m\u001b[1;33m(\u001b[0m\u001b[0mrun_metadata_ptr\u001b[0m\u001b[1;33m)\u001b[0m\u001b[1;33m\u001b[0m\u001b[0m\n",
      "\u001b[1;31mKeyboardInterrupt\u001b[0m: "
     ]
    }
   ],
   "source": [
    "model = Sequential()\n",
    "\n",
    "model.add(Convolution2D(128,3,1,activation='relu',input_shape=(img_rows,img_cols,3)))\n",
    "model.add(MaxPooling2D(pool_size=(2,2)))\n",
    "model.add(Convolution2D(32,3,2,activation='relu'))\n",
    "model.add(MaxPooling2D(pool_size=(2,2)))\n",
    "model.add(Convolution2D(32,3,2,activation='relu'))\n",
    "model.add(MaxPooling2D(pool_size=(2,2)))\n",
    "model.add(Convolution2D(128,3,2,activation='relu'))\n",
    "model.add(MaxPooling2D(pool_size=(4,4)))\n",
    "model.add(Dropout(0.5))\n",
    "model.add(Flatten())\n",
    "\n",
    "model.add(Dense(512,activation='relu'))\n",
    "model.add(Dropout(0.5))\n",
    "model.add(Dense(256,activation='relu'))\n",
    "model.add(Dropout(0.5))\n",
    "model.add(Dense(num_classes,activation='softmax'))\n",
    "\n",
    "model.compile(loss='poisson',optimizer='adam',metrics=['accuracy'])\n",
    "model.fit(train_x[:95000],train_y[:95000],batch_size=100,epochs=40,verbose=2,validation_split=0.05)\n",
    "test_acc(model,train_x[95000:],train_y[95000:])"
   ]
  },
  {
   "cell_type": "code",
   "execution_count": 25,
   "metadata": {
    "scrolled": true
   },
   "outputs": [
    {
     "name": "stderr",
     "output_type": "stream",
     "text": [
      "c:\\users\\leo\\appdata\\local\\programs\\python\\python36\\lib\\site-packages\\ipykernel_launcher.py:3: UserWarning: Update your `Conv2D` call to the Keras 2 API: `Conv2D(64, (3, 2), activation=\"relu\", input_shape=(64, 64, 3...)`\n",
      "  This is separate from the ipykernel package so we can avoid doing imports until\n",
      "c:\\users\\leo\\appdata\\local\\programs\\python\\python36\\lib\\site-packages\\ipykernel_launcher.py:4: UserWarning: Update your `Conv2D` call to the Keras 2 API: `Conv2D(64, (3, 2), activation=\"relu\")`\n",
      "  after removing the cwd from sys.path.\n",
      "c:\\users\\leo\\appdata\\local\\programs\\python\\python36\\lib\\site-packages\\ipykernel_launcher.py:6: UserWarning: Update your `Conv2D` call to the Keras 2 API: `Conv2D(128, (3, 2), activation=\"relu\")`\n",
      "  \n",
      "c:\\users\\leo\\appdata\\local\\programs\\python\\python36\\lib\\site-packages\\ipykernel_launcher.py:7: UserWarning: Update your `Conv2D` call to the Keras 2 API: `Conv2D(128, (3, 2), activation=\"relu\")`\n",
      "  import sys\n",
      "c:\\users\\leo\\appdata\\local\\programs\\python\\python36\\lib\\site-packages\\ipykernel_launcher.py:9: UserWarning: Update your `Conv2D` call to the Keras 2 API: `Conv2D(256, (3, 2), activation=\"relu\")`\n",
      "  if __name__ == '__main__':\n",
      "c:\\users\\leo\\appdata\\local\\programs\\python\\python36\\lib\\site-packages\\ipykernel_launcher.py:10: UserWarning: Update your `Conv2D` call to the Keras 2 API: `Conv2D(256, (3, 2), activation=\"relu\")`\n",
      "  # Remove the CWD from sys.path while we load stuff.\n"
     ]
    },
    {
     "name": "stdout",
     "output_type": "stream",
     "text": [
      "Train on 90250 samples, validate on 4750 samples\n",
      "Epoch 1/40\n",
      " - 170s - loss: 0.0307 - acc: 0.0142 - val_loss: 0.0294 - val_acc: 0.0293\n",
      "Epoch 2/40\n",
      " - 168s - loss: 0.0285 - acc: 0.0506 - val_loss: 0.0268 - val_acc: 0.0933\n",
      "Epoch 3/40\n",
      " - 167s - loss: 0.0266 - acc: 0.0916 - val_loss: 0.0252 - val_acc: 0.1339\n",
      "Epoch 4/40\n",
      " - 165s - loss: 0.0254 - acc: 0.1223 - val_loss: 0.0242 - val_acc: 0.1703\n",
      "Epoch 5/40\n",
      " - 165s - loss: 0.0247 - acc: 0.1450 - val_loss: 0.0233 - val_acc: 0.1924\n",
      "Epoch 6/40\n",
      " - 165s - loss: 0.0241 - acc: 0.1613 - val_loss: 0.0229 - val_acc: 0.2091\n",
      "Epoch 7/40\n",
      " - 165s - loss: 0.0236 - acc: 0.1747 - val_loss: 0.0225 - val_acc: 0.2185\n",
      "Epoch 8/40\n",
      " - 165s - loss: 0.0233 - acc: 0.1865 - val_loss: 0.0223 - val_acc: 0.2248\n",
      "Epoch 9/40\n",
      " - 165s - loss: 0.0229 - acc: 0.1960 - val_loss: 0.0220 - val_acc: 0.2389\n",
      "Epoch 10/40\n",
      " - 165s - loss: 0.0226 - acc: 0.2065 - val_loss: 0.0218 - val_acc: 0.2337\n",
      "Epoch 11/40\n",
      " - 166s - loss: 0.0224 - acc: 0.2126 - val_loss: 0.0216 - val_acc: 0.2528\n",
      "Epoch 12/40\n",
      " - 166s - loss: 0.0222 - acc: 0.2195 - val_loss: 0.0214 - val_acc: 0.2583\n",
      "Epoch 13/40\n",
      " - 166s - loss: 0.0220 - acc: 0.2271 - val_loss: 0.0213 - val_acc: 0.2587\n",
      "Epoch 14/40\n",
      " - 165s - loss: 0.0218 - acc: 0.2340 - val_loss: 0.0212 - val_acc: 0.2648\n",
      "Epoch 15/40\n",
      " - 166s - loss: 0.0217 - acc: 0.2379 - val_loss: 0.0213 - val_acc: 0.2571\n",
      "Epoch 16/40\n",
      " - 166s - loss: 0.0215 - acc: 0.2431 - val_loss: 0.0210 - val_acc: 0.2813\n",
      "Epoch 17/40\n",
      " - 166s - loss: 0.0213 - acc: 0.2475 - val_loss: 0.0212 - val_acc: 0.2672\n",
      "Epoch 18/40\n",
      " - 166s - loss: 0.0212 - acc: 0.2519 - val_loss: 0.0210 - val_acc: 0.2869\n",
      "Epoch 19/40\n",
      " - 165s - loss: 0.0211 - acc: 0.2563 - val_loss: 0.0208 - val_acc: 0.2752\n",
      "Epoch 20/40\n",
      " - 165s - loss: 0.0210 - acc: 0.2589 - val_loss: 0.0207 - val_acc: 0.2838\n",
      "Epoch 21/40\n",
      " - 165s - loss: 0.0209 - acc: 0.2630 - val_loss: 0.0210 - val_acc: 0.2806\n",
      "Epoch 22/40\n",
      " - 166s - loss: 0.0208 - acc: 0.2661 - val_loss: 0.0209 - val_acc: 0.2846\n",
      "Epoch 23/40\n",
      " - 166s - loss: 0.0206 - acc: 0.2717 - val_loss: 0.0207 - val_acc: 0.2895\n",
      "Epoch 24/40\n",
      " - 166s - loss: 0.0206 - acc: 0.2724 - val_loss: 0.0206 - val_acc: 0.2939\n",
      "Epoch 25/40\n",
      " - 166s - loss: 0.0205 - acc: 0.2748 - val_loss: 0.0205 - val_acc: 0.2912\n",
      "Epoch 26/40\n",
      " - 166s - loss: 0.0204 - acc: 0.2781 - val_loss: 0.0207 - val_acc: 0.2836\n",
      "Epoch 27/40\n",
      " - 166s - loss: 0.0204 - acc: 0.2809 - val_loss: 0.0206 - val_acc: 0.2920\n",
      "Epoch 28/40\n",
      " - 166s - loss: 0.0203 - acc: 0.2833 - val_loss: 0.0204 - val_acc: 0.2931\n",
      "Epoch 29/40\n",
      " - 166s - loss: 0.0202 - acc: 0.2860 - val_loss: 0.0205 - val_acc: 0.2954\n",
      "Epoch 30/40\n",
      " - 166s - loss: 0.0202 - acc: 0.2859 - val_loss: 0.0205 - val_acc: 0.2985\n",
      "Epoch 31/40\n",
      " - 165s - loss: 0.0201 - acc: 0.2900 - val_loss: 0.0205 - val_acc: 0.2861\n",
      "Epoch 32/40\n",
      " - 166s - loss: 0.0200 - acc: 0.2929 - val_loss: 0.0204 - val_acc: 0.3008\n",
      "Epoch 33/40\n",
      " - 166s - loss: 0.0199 - acc: 0.2957 - val_loss: 0.0204 - val_acc: 0.2952\n",
      "Epoch 34/40\n",
      " - 166s - loss: 0.0199 - acc: 0.2968 - val_loss: 0.0205 - val_acc: 0.2897\n",
      "Epoch 35/40\n",
      " - 166s - loss: 0.0198 - acc: 0.2997 - val_loss: 0.0205 - val_acc: 0.2985\n",
      "Epoch 36/40\n",
      " - 165s - loss: 0.0198 - acc: 0.2985 - val_loss: 0.0204 - val_acc: 0.2901\n",
      "Epoch 37/40\n",
      " - 165s - loss: 0.0197 - acc: 0.3015 - val_loss: 0.0204 - val_acc: 0.3000\n",
      "Epoch 38/40\n",
      " - 165s - loss: 0.0197 - acc: 0.3040 - val_loss: 0.0204 - val_acc: 0.2907\n",
      "Epoch 39/40\n",
      " - 165s - loss: 0.0196 - acc: 0.3036 - val_loss: 0.0203 - val_acc: 0.2947\n",
      "Epoch 40/40\n",
      " - 166s - loss: 0.0196 - acc: 0.3070 - val_loss: 0.0203 - val_acc: 0.2996\n",
      "Test Accuracy [29.1]\n"
     ]
    },
    {
     "data": {
      "text/plain": [
       "array([29.1])"
      ]
     },
     "execution_count": 25,
     "metadata": {},
     "output_type": "execute_result"
    }
   ],
   "source": [
    "model = Sequential()\n",
    "\n",
    "model.add(Convolution2D(64,3,2,activation='relu',input_shape=(img_rows,img_cols,3)))\n",
    "model.add(Convolution2D(64,3,2,activation='relu'))\n",
    "model.add(MaxPooling2D(pool_size=(2,2)))\n",
    "model.add(Convolution2D(128,3,2,activation='relu'))\n",
    "model.add(Convolution2D(128,3,2,activation='relu'))\n",
    "model.add(MaxPooling2D(pool_size=(2,2)))\n",
    "model.add(Convolution2D(256,3,2,activation='relu'))\n",
    "model.add(Convolution2D(256,3,2,activation='relu'))\n",
    "model.add(MaxPooling2D(pool_size=(4,4)))\n",
    "model.add(Dropout(0.5))\n",
    "model.add(Flatten())\n",
    "\n",
    "model.add(Dense(512,activation='relu'))\n",
    "model.add(Dropout(0.5))\n",
    "model.add(Dense(num_classes,activation='softmax'))\n",
    "\n",
    "model.compile(loss='poisson',optimizer='adam',metrics=['accuracy'])\n",
    "model.fit(train_x[:95000],train_y[:95000],batch_size=100,epochs=40,verbose=2,validation_split=0.05)\n",
    "test_acc(model,train_x[95000:],train_y[95000:])"
   ]
  },
  {
   "cell_type": "code",
   "execution_count": 26,
   "metadata": {
    "scrolled": true
   },
   "outputs": [
    {
     "name": "stdout",
     "output_type": "stream",
     "text": [
      "Train on 90250 samples, validate on 4750 samples\n",
      "Epoch 1/40\n",
      " - 166s - loss: 0.0195 - acc: 0.3082 - val_loss: 0.0203 - val_acc: 0.2977\n",
      "Epoch 2/40\n",
      " - 166s - loss: 0.0195 - acc: 0.3104 - val_loss: 0.0205 - val_acc: 0.2912\n",
      "Epoch 3/40\n",
      " - 166s - loss: 0.0194 - acc: 0.3130 - val_loss: 0.0204 - val_acc: 0.2983\n",
      "Epoch 4/40\n",
      " - 166s - loss: 0.0194 - acc: 0.3125 - val_loss: 0.0203 - val_acc: 0.2928\n",
      "Epoch 5/40\n",
      " - 165s - loss: 0.0193 - acc: 0.3131 - val_loss: 0.0203 - val_acc: 0.3042\n",
      "Epoch 6/40\n",
      " - 166s - loss: 0.0193 - acc: 0.3174 - val_loss: 0.0204 - val_acc: 0.2994\n",
      "Epoch 7/40\n",
      " - 165s - loss: 0.0193 - acc: 0.3171 - val_loss: 0.0202 - val_acc: 0.3082\n",
      "Epoch 8/40\n",
      " - 165s - loss: 0.0192 - acc: 0.3186 - val_loss: 0.0204 - val_acc: 0.3017\n",
      "Epoch 9/40\n",
      " - 165s - loss: 0.0192 - acc: 0.3192 - val_loss: 0.0203 - val_acc: 0.2992\n",
      "Epoch 10/40\n",
      " - 166s - loss: 0.0192 - acc: 0.3217 - val_loss: 0.0204 - val_acc: 0.2983\n",
      "Epoch 11/40\n",
      " - 166s - loss: 0.0192 - acc: 0.3209 - val_loss: 0.0204 - val_acc: 0.2996\n",
      "Epoch 12/40\n",
      " - 166s - loss: 0.0191 - acc: 0.3199 - val_loss: 0.0203 - val_acc: 0.3065\n",
      "Epoch 13/40\n",
      " - 166s - loss: 0.0191 - acc: 0.3224 - val_loss: 0.0204 - val_acc: 0.2903\n",
      "Epoch 14/40\n",
      " - 166s - loss: 0.0191 - acc: 0.3240 - val_loss: 0.0203 - val_acc: 0.2985\n",
      "Epoch 15/40\n",
      " - 166s - loss: 0.0190 - acc: 0.3247 - val_loss: 0.0204 - val_acc: 0.2914\n",
      "Epoch 16/40\n",
      " - 166s - loss: 0.0190 - acc: 0.3260 - val_loss: 0.0203 - val_acc: 0.2987\n",
      "Epoch 17/40\n",
      " - 166s - loss: 0.0190 - acc: 0.3268 - val_loss: 0.0203 - val_acc: 0.3036\n",
      "Epoch 18/40\n",
      " - 166s - loss: 0.0190 - acc: 0.3265 - val_loss: 0.0203 - val_acc: 0.3002\n",
      "Epoch 19/40\n",
      " - 166s - loss: 0.0189 - acc: 0.3292 - val_loss: 0.0203 - val_acc: 0.3053\n",
      "Epoch 20/40\n",
      " - 166s - loss: 0.0189 - acc: 0.3294 - val_loss: 0.0203 - val_acc: 0.3084\n",
      "Epoch 21/40\n",
      " - 166s - loss: 0.0189 - acc: 0.3291 - val_loss: 0.0203 - val_acc: 0.3019\n",
      "Epoch 22/40\n",
      " - 166s - loss: 0.0188 - acc: 0.3316 - val_loss: 0.0204 - val_acc: 0.2928\n",
      "Epoch 23/40\n",
      " - 166s - loss: 0.0189 - acc: 0.3310 - val_loss: 0.0204 - val_acc: 0.3017\n",
      "Epoch 24/40\n",
      " - 166s - loss: 0.0188 - acc: 0.3343 - val_loss: 0.0203 - val_acc: 0.2983\n",
      "Epoch 25/40\n",
      " - 166s - loss: 0.0188 - acc: 0.3311 - val_loss: 0.0204 - val_acc: 0.2937\n",
      "Epoch 26/40\n",
      " - 166s - loss: 0.0188 - acc: 0.3322 - val_loss: 0.0203 - val_acc: 0.3074\n",
      "Epoch 27/40\n",
      " - 166s - loss: 0.0187 - acc: 0.3357 - val_loss: 0.0206 - val_acc: 0.2968\n",
      "Epoch 28/40\n",
      " - 166s - loss: 0.0188 - acc: 0.3332 - val_loss: 0.0203 - val_acc: 0.3021\n",
      "Epoch 29/40\n",
      " - 166s - loss: 0.0187 - acc: 0.3390 - val_loss: 0.0202 - val_acc: 0.3015\n",
      "Epoch 30/40\n",
      " - 166s - loss: 0.0187 - acc: 0.3364 - val_loss: 0.0203 - val_acc: 0.3095\n",
      "Epoch 31/40\n",
      " - 166s - loss: 0.0187 - acc: 0.3359 - val_loss: 0.0202 - val_acc: 0.3088\n",
      "Epoch 32/40\n",
      " - 166s - loss: 0.0186 - acc: 0.3397 - val_loss: 0.0205 - val_acc: 0.2971\n",
      "Epoch 33/40\n",
      " - 166s - loss: 0.0186 - acc: 0.3391 - val_loss: 0.0203 - val_acc: 0.3019\n",
      "Epoch 34/40\n",
      " - 166s - loss: 0.0186 - acc: 0.3414 - val_loss: 0.0203 - val_acc: 0.3034\n",
      "Epoch 35/40\n",
      " - 166s - loss: 0.0186 - acc: 0.3438 - val_loss: 0.0203 - val_acc: 0.3051\n",
      "Epoch 36/40\n",
      " - 166s - loss: 0.0186 - acc: 0.3417 - val_loss: 0.0202 - val_acc: 0.3139\n",
      "Epoch 37/40\n",
      " - 166s - loss: 0.0185 - acc: 0.3414 - val_loss: 0.0203 - val_acc: 0.3097\n",
      "Epoch 38/40\n",
      " - 166s - loss: 0.0186 - acc: 0.3404 - val_loss: 0.0204 - val_acc: 0.3006\n",
      "Epoch 39/40\n",
      " - 166s - loss: 0.0186 - acc: 0.3426 - val_loss: 0.0203 - val_acc: 0.3048\n",
      "Epoch 40/40\n",
      " - 166s - loss: 0.0186 - acc: 0.3403 - val_loss: 0.0204 - val_acc: 0.3002\n",
      "Test Accuracy [29.2]\n"
     ]
    },
    {
     "data": {
      "text/plain": [
       "array([29.2])"
      ]
     },
     "execution_count": 26,
     "metadata": {},
     "output_type": "execute_result"
    }
   ],
   "source": [
    "model.fit(train_x[:95000],train_y[:95000],batch_size=100,epochs=40,verbose=2,validation_split=0.05)\n",
    "test_acc(model,train_x[95000:],train_y[95000:])"
   ]
  },
  {
   "cell_type": "code",
   "execution_count": 27,
   "metadata": {},
   "outputs": [],
   "source": [
    "model.save('model8layers.h5')  # creates a HDF5 file 'my_model.h5'\n",
    "del model  # deletes the existing model"
   ]
  },
  {
   "cell_type": "code",
   "execution_count": 8,
   "metadata": {},
   "outputs": [],
   "source": [
    "from keras.layers.advanced_activations import LeakyReLU"
   ]
  },
  {
   "cell_type": "code",
   "execution_count": 34,
   "metadata": {
    "scrolled": true
   },
   "outputs": [
    {
     "name": "stderr",
     "output_type": "stream",
     "text": [
      "c:\\users\\leo\\appdata\\local\\programs\\python\\python36\\lib\\site-packages\\ipykernel_launcher.py:4: UserWarning: Update your `Conv2D` call to the Keras 2 API: `Conv2D(64, (3, 2), activation=\"linear\", input_shape=(64, 64, 3...)`\n",
      "  after removing the cwd from sys.path.\n",
      "c:\\users\\leo\\appdata\\local\\programs\\python\\python36\\lib\\site-packages\\ipykernel_launcher.py:6: UserWarning: Update your `Conv2D` call to the Keras 2 API: `Conv2D(64, (3, 2), activation=\"linear\")`\n",
      "  \n",
      "c:\\users\\leo\\appdata\\local\\programs\\python\\python36\\lib\\site-packages\\ipykernel_launcher.py:9: UserWarning: Update your `Conv2D` call to the Keras 2 API: `Conv2D(128, (3, 2), activation=\"linear\")`\n",
      "  if __name__ == '__main__':\n",
      "c:\\users\\leo\\appdata\\local\\programs\\python\\python36\\lib\\site-packages\\ipykernel_launcher.py:11: UserWarning: Update your `Conv2D` call to the Keras 2 API: `Conv2D(128, (3, 2), activation=\"linear\")`\n",
      "  # This is added back by InteractiveShellApp.init_path()\n",
      "c:\\users\\leo\\appdata\\local\\programs\\python\\python36\\lib\\site-packages\\ipykernel_launcher.py:14: UserWarning: Update your `Conv2D` call to the Keras 2 API: `Conv2D(256, (3, 2), activation=\"linear\")`\n",
      "  \n",
      "c:\\users\\leo\\appdata\\local\\programs\\python\\python36\\lib\\site-packages\\ipykernel_launcher.py:16: UserWarning: Update your `Conv2D` call to the Keras 2 API: `Conv2D(256, (3, 2), activation=\"linear\")`\n",
      "  app.launch_new_instance()\n"
     ]
    },
    {
     "name": "stdout",
     "output_type": "stream",
     "text": [
      "Train on 90250 samples, validate on 4750 samples\n",
      "Epoch 1/20\n",
      " - 242s - loss: 0.0307 - acc: 0.0153 - val_loss: 0.0297 - val_acc: 0.0453\n",
      "Epoch 2/20\n",
      " - 225s - loss: 0.0278 - acc: 0.0655 - val_loss: 0.0268 - val_acc: 0.1259\n",
      "Epoch 3/20\n",
      " - 225s - loss: 0.0254 - acc: 0.1215 - val_loss: 0.0254 - val_acc: 0.1648\n",
      "Epoch 4/20\n",
      " - 226s - loss: 0.0241 - acc: 0.1639 - val_loss: 0.0245 - val_acc: 0.2107\n",
      "Epoch 5/20\n",
      " - 228s - loss: 0.0231 - acc: 0.1938 - val_loss: 0.0236 - val_acc: 0.2371\n",
      "Epoch 6/20\n",
      " - 226s - loss: 0.0223 - acc: 0.2188 - val_loss: 0.0232 - val_acc: 0.2385\n",
      "Epoch 7/20\n",
      " - 226s - loss: 0.0217 - acc: 0.2370 - val_loss: 0.0227 - val_acc: 0.2621\n",
      "Epoch 8/20\n",
      " - 226s - loss: 0.0212 - acc: 0.2571 - val_loss: 0.0224 - val_acc: 0.2739\n",
      "Epoch 9/20\n",
      " - 225s - loss: 0.0207 - acc: 0.2709 - val_loss: 0.0222 - val_acc: 0.2819\n",
      "Epoch 10/20\n",
      " - 226s - loss: 0.0203 - acc: 0.2853 - val_loss: 0.0218 - val_acc: 0.2971\n",
      "Epoch 11/20\n",
      " - 227s - loss: 0.0199 - acc: 0.2997 - val_loss: 0.0214 - val_acc: 0.3038\n",
      "Epoch 12/20\n",
      " - 227s - loss: 0.0196 - acc: 0.3095 - val_loss: 0.0217 - val_acc: 0.2966\n",
      "Epoch 13/20\n",
      " - 227s - loss: 0.0193 - acc: 0.3204 - val_loss: 0.0212 - val_acc: 0.2989\n",
      "Epoch 14/20\n",
      " - 226s - loss: 0.0190 - acc: 0.3311 - val_loss: 0.0214 - val_acc: 0.3120\n",
      "Epoch 15/20\n",
      " - 226s - loss: 0.0187 - acc: 0.3427 - val_loss: 0.0210 - val_acc: 0.3082\n",
      "Epoch 16/20\n",
      " - 227s - loss: 0.0184 - acc: 0.3537 - val_loss: 0.0211 - val_acc: 0.3002\n",
      "Epoch 17/20\n",
      " - 227s - loss: 0.0182 - acc: 0.3601 - val_loss: 0.0211 - val_acc: 0.3086\n",
      "Epoch 18/20\n",
      " - 227s - loss: 0.0179 - acc: 0.3680 - val_loss: 0.0208 - val_acc: 0.3192\n",
      "Epoch 19/20\n",
      " - 227s - loss: 0.0177 - acc: 0.3766 - val_loss: 0.0212 - val_acc: 0.3057\n",
      "Epoch 20/20\n",
      " - 228s - loss: 0.0176 - acc: 0.3843 - val_loss: 0.0209 - val_acc: 0.3053\n",
      "Test Accuracy [31.14]\n"
     ]
    },
    {
     "data": {
      "text/plain": [
       "array([31.14])"
      ]
     },
     "execution_count": 34,
     "metadata": {},
     "output_type": "execute_result"
    }
   ],
   "source": [
    "\n",
    "model = Sequential()\n",
    "\n",
    "model.add(Convolution2D(64,3,2,activation='linear',input_shape=(img_rows,img_cols,3)))\n",
    "model.add(LeakyReLU(alpha=0.01))\n",
    "model.add(Convolution2D(64,3,2,activation='linear'))\n",
    "model.add(LeakyReLU(alpha=0.01))\n",
    "model.add(MaxPooling2D(pool_size=(2,2)))\n",
    "model.add(Convolution2D(128,3,2,activation='linear'))\n",
    "model.add(LeakyReLU(alpha=0.01))\n",
    "model.add(Convolution2D(128,3,2,activation='linear'))\n",
    "model.add(LeakyReLU(alpha=0.01))\n",
    "model.add(MaxPooling2D(pool_size=(2,2)))\n",
    "model.add(Convolution2D(256,3,2,activation='linear'))\n",
    "model.add(LeakyReLU(alpha=0.01))\n",
    "model.add(Convolution2D(256,3,2,activation='linear'))\n",
    "model.add(LeakyReLU(alpha=0.01))\n",
    "model.add(Dropout(0.5))\n",
    "model.add(MaxPooling2D(pool_size=(4,4)))\n",
    "model.add(Flatten())\n",
    "\n",
    "model.add(Dense(512,activation='linear'))\n",
    "model.add(LeakyReLU(alpha=0.01))\n",
    "model.add(Dropout(0.5))\n",
    "model.add(Dense(num_classes,activation='softmax'))\n",
    "\n",
    "model.compile(loss='poisson',optimizer='adam',metrics=['accuracy'])\n",
    "model.fit(train_x[:95000],train_y[:95000],batch_size=100,epochs=20,verbose=2,validation_split=0.05)\n",
    "test_acc(model,train_x[95000:],train_y[95000:])"
   ]
  },
  {
   "cell_type": "code",
   "execution_count": 35,
   "metadata": {},
   "outputs": [],
   "source": [
    "model.save('modelLeakyReLU.h5')  # creates a HDF5 file 'my_model.h5'\n",
    "del model  # deletes the existing model"
   ]
  },
  {
   "cell_type": "code",
   "execution_count": 36,
   "metadata": {
    "scrolled": true
   },
   "outputs": [
    {
     "name": "stderr",
     "output_type": "stream",
     "text": [
      "c:\\users\\leo\\appdata\\local\\programs\\python\\python36\\lib\\site-packages\\ipykernel_launcher.py:3: UserWarning: Update your `Conv2D` call to the Keras 2 API: `Conv2D(64, (3, 2), activation=\"linear\", input_shape=(64, 64, 3...)`\n",
      "  This is separate from the ipykernel package so we can avoid doing imports until\n",
      "c:\\users\\leo\\appdata\\local\\programs\\python\\python36\\lib\\site-packages\\ipykernel_launcher.py:5: UserWarning: Update your `Conv2D` call to the Keras 2 API: `Conv2D(64, (3, 2), activation=\"linear\")`\n",
      "  \"\"\"\n",
      "c:\\users\\leo\\appdata\\local\\programs\\python\\python36\\lib\\site-packages\\ipykernel_launcher.py:8: UserWarning: Update your `Conv2D` call to the Keras 2 API: `Conv2D(128, (3, 2), activation=\"linear\")`\n",
      "  \n",
      "c:\\users\\leo\\appdata\\local\\programs\\python\\python36\\lib\\site-packages\\ipykernel_launcher.py:10: UserWarning: Update your `Conv2D` call to the Keras 2 API: `Conv2D(128, (3, 2), activation=\"linear\")`\n",
      "  # Remove the CWD from sys.path while we load stuff.\n",
      "c:\\users\\leo\\appdata\\local\\programs\\python\\python36\\lib\\site-packages\\ipykernel_launcher.py:13: UserWarning: Update your `Conv2D` call to the Keras 2 API: `Conv2D(256, (3, 2), activation=\"linear\")`\n",
      "  del sys.path[0]\n",
      "c:\\users\\leo\\appdata\\local\\programs\\python\\python36\\lib\\site-packages\\ipykernel_launcher.py:15: UserWarning: Update your `Conv2D` call to the Keras 2 API: `Conv2D(256, (3, 2), activation=\"linear\")`\n",
      "  from ipykernel import kernelapp as app\n"
     ]
    },
    {
     "name": "stdout",
     "output_type": "stream",
     "text": [
      "Train on 90250 samples, validate on 4750 samples\n",
      "Epoch 1/20\n",
      " - 229s - loss: 0.0303 - acc: 0.0200 - val_loss: 0.0291 - val_acc: 0.0522\n",
      "Epoch 2/20\n",
      " - 228s - loss: 0.0270 - acc: 0.0815 - val_loss: 0.0263 - val_acc: 0.1333\n",
      "Epoch 3/20\n",
      " - 228s - loss: 0.0248 - acc: 0.1418 - val_loss: 0.0251 - val_acc: 0.1787\n",
      "Epoch 4/20\n",
      " - 230s - loss: 0.0235 - acc: 0.1786 - val_loss: 0.0243 - val_acc: 0.2086\n",
      "Epoch 5/20\n",
      " - 229s - loss: 0.0226 - acc: 0.2095 - val_loss: 0.0239 - val_acc: 0.2314\n",
      "Epoch 6/20\n",
      " - 229s - loss: 0.0219 - acc: 0.2332 - val_loss: 0.0230 - val_acc: 0.2389\n",
      "Epoch 7/20\n",
      " - 229s - loss: 0.0213 - acc: 0.2550 - val_loss: 0.0227 - val_acc: 0.2674\n",
      "Epoch 8/20\n",
      " - 229s - loss: 0.0206 - acc: 0.2734 - val_loss: 0.0223 - val_acc: 0.2621\n",
      "Epoch 9/20\n"
     ]
    },
    {
     "ename": "KeyboardInterrupt",
     "evalue": "",
     "output_type": "error",
     "traceback": [
      "\u001b[1;31m---------------------------------------------------------------------------\u001b[0m",
      "\u001b[1;31mKeyboardInterrupt\u001b[0m                         Traceback (most recent call last)",
      "\u001b[1;32m<ipython-input-36-a5aa4951bbc4>\u001b[0m in \u001b[0;36m<module>\u001b[1;34m()\u001b[0m\n\u001b[0;32m     25\u001b[0m \u001b[1;33m\u001b[0m\u001b[0m\n\u001b[0;32m     26\u001b[0m \u001b[0mmodel\u001b[0m\u001b[1;33m.\u001b[0m\u001b[0mcompile\u001b[0m\u001b[1;33m(\u001b[0m\u001b[0mloss\u001b[0m\u001b[1;33m=\u001b[0m\u001b[1;34m'poisson'\u001b[0m\u001b[1;33m,\u001b[0m\u001b[0moptimizer\u001b[0m\u001b[1;33m=\u001b[0m\u001b[1;34m'adam'\u001b[0m\u001b[1;33m,\u001b[0m\u001b[0mmetrics\u001b[0m\u001b[1;33m=\u001b[0m\u001b[1;33m[\u001b[0m\u001b[1;34m'accuracy'\u001b[0m\u001b[1;33m]\u001b[0m\u001b[1;33m)\u001b[0m\u001b[1;33m\u001b[0m\u001b[0m\n\u001b[1;32m---> 27\u001b[1;33m \u001b[0mmodel\u001b[0m\u001b[1;33m.\u001b[0m\u001b[0mfit\u001b[0m\u001b[1;33m(\u001b[0m\u001b[0mtrain_x\u001b[0m\u001b[1;33m[\u001b[0m\u001b[1;33m:\u001b[0m\u001b[1;36m95000\u001b[0m\u001b[1;33m]\u001b[0m\u001b[1;33m,\u001b[0m\u001b[0mtrain_y\u001b[0m\u001b[1;33m[\u001b[0m\u001b[1;33m:\u001b[0m\u001b[1;36m95000\u001b[0m\u001b[1;33m]\u001b[0m\u001b[1;33m,\u001b[0m\u001b[0mbatch_size\u001b[0m\u001b[1;33m=\u001b[0m\u001b[1;36m100\u001b[0m\u001b[1;33m,\u001b[0m\u001b[0mepochs\u001b[0m\u001b[1;33m=\u001b[0m\u001b[1;36m20\u001b[0m\u001b[1;33m,\u001b[0m\u001b[0mverbose\u001b[0m\u001b[1;33m=\u001b[0m\u001b[1;36m2\u001b[0m\u001b[1;33m,\u001b[0m\u001b[0mvalidation_split\u001b[0m\u001b[1;33m=\u001b[0m\u001b[1;36m0.05\u001b[0m\u001b[1;33m)\u001b[0m\u001b[1;33m\u001b[0m\u001b[0m\n\u001b[0m\u001b[0;32m     28\u001b[0m \u001b[0mtest_acc\u001b[0m\u001b[1;33m(\u001b[0m\u001b[0mmodel\u001b[0m\u001b[1;33m,\u001b[0m\u001b[0mtrain_x\u001b[0m\u001b[1;33m[\u001b[0m\u001b[1;36m95000\u001b[0m\u001b[1;33m:\u001b[0m\u001b[1;33m]\u001b[0m\u001b[1;33m,\u001b[0m\u001b[0mtrain_y\u001b[0m\u001b[1;33m[\u001b[0m\u001b[1;36m95000\u001b[0m\u001b[1;33m:\u001b[0m\u001b[1;33m]\u001b[0m\u001b[1;33m)\u001b[0m\u001b[1;33m\u001b[0m\u001b[0m\n",
      "\u001b[1;32mc:\\users\\leo\\appdata\\local\\programs\\python\\python36\\lib\\site-packages\\keras\\engine\\training.py\u001b[0m in \u001b[0;36mfit\u001b[1;34m(self, x, y, batch_size, epochs, verbose, callbacks, validation_split, validation_data, shuffle, class_weight, sample_weight, initial_epoch, steps_per_epoch, validation_steps, **kwargs)\u001b[0m\n\u001b[0;32m   1035\u001b[0m                                         \u001b[0minitial_epoch\u001b[0m\u001b[1;33m=\u001b[0m\u001b[0minitial_epoch\u001b[0m\u001b[1;33m,\u001b[0m\u001b[1;33m\u001b[0m\u001b[0m\n\u001b[0;32m   1036\u001b[0m                                         \u001b[0msteps_per_epoch\u001b[0m\u001b[1;33m=\u001b[0m\u001b[0msteps_per_epoch\u001b[0m\u001b[1;33m,\u001b[0m\u001b[1;33m\u001b[0m\u001b[0m\n\u001b[1;32m-> 1037\u001b[1;33m                                         validation_steps=validation_steps)\n\u001b[0m\u001b[0;32m   1038\u001b[0m \u001b[1;33m\u001b[0m\u001b[0m\n\u001b[0;32m   1039\u001b[0m     def evaluate(self, x=None, y=None,\n",
      "\u001b[1;32mc:\\users\\leo\\appdata\\local\\programs\\python\\python36\\lib\\site-packages\\keras\\engine\\training_arrays.py\u001b[0m in \u001b[0;36mfit_loop\u001b[1;34m(model, f, ins, out_labels, batch_size, epochs, verbose, callbacks, val_f, val_ins, shuffle, callback_metrics, initial_epoch, steps_per_epoch, validation_steps)\u001b[0m\n\u001b[0;32m    197\u001b[0m                     \u001b[0mins_batch\u001b[0m\u001b[1;33m[\u001b[0m\u001b[0mi\u001b[0m\u001b[1;33m]\u001b[0m \u001b[1;33m=\u001b[0m \u001b[0mins_batch\u001b[0m\u001b[1;33m[\u001b[0m\u001b[0mi\u001b[0m\u001b[1;33m]\u001b[0m\u001b[1;33m.\u001b[0m\u001b[0mtoarray\u001b[0m\u001b[1;33m(\u001b[0m\u001b[1;33m)\u001b[0m\u001b[1;33m\u001b[0m\u001b[0m\n\u001b[0;32m    198\u001b[0m \u001b[1;33m\u001b[0m\u001b[0m\n\u001b[1;32m--> 199\u001b[1;33m                 \u001b[0mouts\u001b[0m \u001b[1;33m=\u001b[0m \u001b[0mf\u001b[0m\u001b[1;33m(\u001b[0m\u001b[0mins_batch\u001b[0m\u001b[1;33m)\u001b[0m\u001b[1;33m\u001b[0m\u001b[0m\n\u001b[0m\u001b[0;32m    200\u001b[0m                 \u001b[0mouts\u001b[0m \u001b[1;33m=\u001b[0m \u001b[0mto_list\u001b[0m\u001b[1;33m(\u001b[0m\u001b[0mouts\u001b[0m\u001b[1;33m)\u001b[0m\u001b[1;33m\u001b[0m\u001b[0m\n\u001b[0;32m    201\u001b[0m                 \u001b[1;32mfor\u001b[0m \u001b[0ml\u001b[0m\u001b[1;33m,\u001b[0m \u001b[0mo\u001b[0m \u001b[1;32min\u001b[0m \u001b[0mzip\u001b[0m\u001b[1;33m(\u001b[0m\u001b[0mout_labels\u001b[0m\u001b[1;33m,\u001b[0m \u001b[0mouts\u001b[0m\u001b[1;33m)\u001b[0m\u001b[1;33m:\u001b[0m\u001b[1;33m\u001b[0m\u001b[0m\n",
      "\u001b[1;32mc:\\users\\leo\\appdata\\local\\programs\\python\\python36\\lib\\site-packages\\keras\\backend\\tensorflow_backend.py\u001b[0m in \u001b[0;36m__call__\u001b[1;34m(self, inputs)\u001b[0m\n\u001b[0;32m   2664\u001b[0m                 \u001b[1;32mreturn\u001b[0m \u001b[0mself\u001b[0m\u001b[1;33m.\u001b[0m\u001b[0m_legacy_call\u001b[0m\u001b[1;33m(\u001b[0m\u001b[0minputs\u001b[0m\u001b[1;33m)\u001b[0m\u001b[1;33m\u001b[0m\u001b[0m\n\u001b[0;32m   2665\u001b[0m \u001b[1;33m\u001b[0m\u001b[0m\n\u001b[1;32m-> 2666\u001b[1;33m             \u001b[1;32mreturn\u001b[0m \u001b[0mself\u001b[0m\u001b[1;33m.\u001b[0m\u001b[0m_call\u001b[0m\u001b[1;33m(\u001b[0m\u001b[0minputs\u001b[0m\u001b[1;33m)\u001b[0m\u001b[1;33m\u001b[0m\u001b[0m\n\u001b[0m\u001b[0;32m   2667\u001b[0m         \u001b[1;32melse\u001b[0m\u001b[1;33m:\u001b[0m\u001b[1;33m\u001b[0m\u001b[0m\n\u001b[0;32m   2668\u001b[0m             \u001b[1;32mif\u001b[0m \u001b[0mpy_any\u001b[0m\u001b[1;33m(\u001b[0m\u001b[0mis_tensor\u001b[0m\u001b[1;33m(\u001b[0m\u001b[0mx\u001b[0m\u001b[1;33m)\u001b[0m \u001b[1;32mfor\u001b[0m \u001b[0mx\u001b[0m \u001b[1;32min\u001b[0m \u001b[0minputs\u001b[0m\u001b[1;33m)\u001b[0m\u001b[1;33m:\u001b[0m\u001b[1;33m\u001b[0m\u001b[0m\n",
      "\u001b[1;32mc:\\users\\leo\\appdata\\local\\programs\\python\\python36\\lib\\site-packages\\keras\\backend\\tensorflow_backend.py\u001b[0m in \u001b[0;36m_call\u001b[1;34m(self, inputs)\u001b[0m\n\u001b[0;32m   2634\u001b[0m                                 \u001b[0msymbol_vals\u001b[0m\u001b[1;33m,\u001b[0m\u001b[1;33m\u001b[0m\u001b[0m\n\u001b[0;32m   2635\u001b[0m                                 session)\n\u001b[1;32m-> 2636\u001b[1;33m         \u001b[0mfetched\u001b[0m \u001b[1;33m=\u001b[0m \u001b[0mself\u001b[0m\u001b[1;33m.\u001b[0m\u001b[0m_callable_fn\u001b[0m\u001b[1;33m(\u001b[0m\u001b[1;33m*\u001b[0m\u001b[0marray_vals\u001b[0m\u001b[1;33m)\u001b[0m\u001b[1;33m\u001b[0m\u001b[0m\n\u001b[0m\u001b[0;32m   2637\u001b[0m         \u001b[1;32mreturn\u001b[0m \u001b[0mfetched\u001b[0m\u001b[1;33m[\u001b[0m\u001b[1;33m:\u001b[0m\u001b[0mlen\u001b[0m\u001b[1;33m(\u001b[0m\u001b[0mself\u001b[0m\u001b[1;33m.\u001b[0m\u001b[0moutputs\u001b[0m\u001b[1;33m)\u001b[0m\u001b[1;33m]\u001b[0m\u001b[1;33m\u001b[0m\u001b[0m\n\u001b[0;32m   2638\u001b[0m \u001b[1;33m\u001b[0m\u001b[0m\n",
      "\u001b[1;32mc:\\users\\leo\\appdata\\local\\programs\\python\\python36\\lib\\site-packages\\tensorflow\\python\\client\\session.py\u001b[0m in \u001b[0;36m__call__\u001b[1;34m(self, *args, **kwargs)\u001b[0m\n\u001b[0;32m   1380\u001b[0m           ret = tf_session.TF_SessionRunCallable(\n\u001b[0;32m   1381\u001b[0m               \u001b[0mself\u001b[0m\u001b[1;33m.\u001b[0m\u001b[0m_session\u001b[0m\u001b[1;33m.\u001b[0m\u001b[0m_session\u001b[0m\u001b[1;33m,\u001b[0m \u001b[0mself\u001b[0m\u001b[1;33m.\u001b[0m\u001b[0m_handle\u001b[0m\u001b[1;33m,\u001b[0m \u001b[0margs\u001b[0m\u001b[1;33m,\u001b[0m \u001b[0mstatus\u001b[0m\u001b[1;33m,\u001b[0m\u001b[1;33m\u001b[0m\u001b[0m\n\u001b[1;32m-> 1382\u001b[1;33m               run_metadata_ptr)\n\u001b[0m\u001b[0;32m   1383\u001b[0m         \u001b[1;32mif\u001b[0m \u001b[0mrun_metadata\u001b[0m\u001b[1;33m:\u001b[0m\u001b[1;33m\u001b[0m\u001b[0m\n\u001b[0;32m   1384\u001b[0m           \u001b[0mproto_data\u001b[0m \u001b[1;33m=\u001b[0m \u001b[0mtf_session\u001b[0m\u001b[1;33m.\u001b[0m\u001b[0mTF_GetBuffer\u001b[0m\u001b[1;33m(\u001b[0m\u001b[0mrun_metadata_ptr\u001b[0m\u001b[1;33m)\u001b[0m\u001b[1;33m\u001b[0m\u001b[0m\n",
      "\u001b[1;31mKeyboardInterrupt\u001b[0m: "
     ]
    }
   ],
   "source": [
    "model = Sequential()\n",
    "\n",
    "model.add(Convolution2D(64,3,2,activation='linear',input_shape=(img_rows,img_cols,3)))\n",
    "model.add(LeakyReLU(alpha=0.01))\n",
    "model.add(Convolution2D(64,3,2,activation='linear'))\n",
    "model.add(LeakyReLU(alpha=0.01))\n",
    "model.add(MaxPooling2D(pool_size=(2,2)))\n",
    "model.add(Convolution2D(128,3,2,activation='linear'))\n",
    "model.add(LeakyReLU(alpha=0.01))\n",
    "model.add(Convolution2D(128,3,2,activation='linear'))\n",
    "model.add(LeakyReLU(alpha=0.01))\n",
    "model.add(MaxPooling2D(pool_size=(2,2)))\n",
    "model.add(Convolution2D(256,3,2,activation='linear'))\n",
    "model.add(LeakyReLU(alpha=0.01))\n",
    "model.add(Convolution2D(256,3,2,activation='linear'))\n",
    "model.add(LeakyReLU(alpha=0.01))\n",
    "model.add(Dropout(0.5))\n",
    "model.add(MaxPooling2D(pool_size=(4,4)))\n",
    "model.add(Flatten())\n",
    "\n",
    "model.add(Dense(1024,activation='linear'))\n",
    "model.add(LeakyReLU(alpha=0.01))\n",
    "model.add(Dropout(0.5))\n",
    "model.add(Dense(num_classes,activation='softmax'))\n",
    "\n",
    "model.compile(loss='poisson',optimizer='adam',metrics=['accuracy'])\n",
    "model.fit(train_x[:95000],train_y[:95000],batch_size=100,epochs=20,verbose=2,validation_split=0.05)\n",
    "test_acc(model,train_x[95000:],train_y[95000:])"
   ]
  },
  {
   "cell_type": "code",
   "execution_count": 37,
   "metadata": {
    "scrolled": true
   },
   "outputs": [
    {
     "name": "stderr",
     "output_type": "stream",
     "text": [
      "c:\\users\\leo\\appdata\\local\\programs\\python\\python36\\lib\\site-packages\\ipykernel_launcher.py:3: UserWarning: Update your `Conv2D` call to the Keras 2 API: `Conv2D(64, (3, 2), activation=\"linear\", input_shape=(64, 64, 3...)`\n",
      "  This is separate from the ipykernel package so we can avoid doing imports until\n",
      "c:\\users\\leo\\appdata\\local\\programs\\python\\python36\\lib\\site-packages\\ipykernel_launcher.py:5: UserWarning: Update your `Conv2D` call to the Keras 2 API: `Conv2D(64, (3, 2), activation=\"linear\")`\n",
      "  \"\"\"\n",
      "c:\\users\\leo\\appdata\\local\\programs\\python\\python36\\lib\\site-packages\\ipykernel_launcher.py:8: UserWarning: Update your `Conv2D` call to the Keras 2 API: `Conv2D(128, (3, 2), activation=\"linear\")`\n",
      "  \n",
      "c:\\users\\leo\\appdata\\local\\programs\\python\\python36\\lib\\site-packages\\ipykernel_launcher.py:10: UserWarning: Update your `Conv2D` call to the Keras 2 API: `Conv2D(128, (3, 2), activation=\"linear\")`\n",
      "  # Remove the CWD from sys.path while we load stuff.\n",
      "c:\\users\\leo\\appdata\\local\\programs\\python\\python36\\lib\\site-packages\\ipykernel_launcher.py:13: UserWarning: Update your `Conv2D` call to the Keras 2 API: `Conv2D(256, (3, 2), activation=\"linear\")`\n",
      "  del sys.path[0]\n",
      "c:\\users\\leo\\appdata\\local\\programs\\python\\python36\\lib\\site-packages\\ipykernel_launcher.py:15: UserWarning: Update your `Conv2D` call to the Keras 2 API: `Conv2D(256, (3, 2), activation=\"linear\")`\n",
      "  from ipykernel import kernelapp as app\n"
     ]
    },
    {
     "name": "stdout",
     "output_type": "stream",
     "text": [
      "Train on 90250 samples, validate on 4750 samples\n",
      "Epoch 1/20\n",
      " - 223s - loss: 0.0315 - acc: 0.0046 - val_loss: 0.0315 - val_acc: 0.0059\n",
      "Epoch 2/20\n",
      " - 222s - loss: 0.0303 - acc: 0.0187 - val_loss: 0.0295 - val_acc: 0.0375\n",
      "Epoch 3/20\n",
      " - 227s - loss: 0.0280 - acc: 0.0598 - val_loss: 0.0275 - val_acc: 0.1055\n",
      "Epoch 4/20\n",
      " - 225s - loss: 0.0262 - acc: 0.1020 - val_loss: 0.0262 - val_acc: 0.1356\n",
      "Epoch 5/20\n",
      " - 226s - loss: 0.0250 - acc: 0.1337 - val_loss: 0.0255 - val_acc: 0.1756\n",
      "Epoch 6/20\n",
      " - 226s - loss: 0.0242 - acc: 0.1549 - val_loss: 0.0249 - val_acc: 0.1926\n",
      "Epoch 7/20\n",
      " - 239s - loss: 0.0236 - acc: 0.1744 - val_loss: 0.0241 - val_acc: 0.2112\n",
      "Epoch 8/20\n",
      " - 225s - loss: 0.0232 - acc: 0.1886 - val_loss: 0.0238 - val_acc: 0.2234\n",
      "Epoch 9/20\n",
      " - 226s - loss: 0.0227 - acc: 0.2027 - val_loss: 0.0235 - val_acc: 0.2337\n",
      "Epoch 10/20\n",
      " - 222s - loss: 0.0224 - acc: 0.2128 - val_loss: 0.0235 - val_acc: 0.2349\n",
      "Epoch 11/20\n",
      " - 225s - loss: 0.0220 - acc: 0.2257 - val_loss: 0.0232 - val_acc: 0.2457\n",
      "Epoch 12/20\n",
      " - 226s - loss: 0.0217 - acc: 0.2337 - val_loss: 0.0231 - val_acc: 0.2482\n",
      "Epoch 13/20\n",
      " - 225s - loss: 0.0214 - acc: 0.2456 - val_loss: 0.0229 - val_acc: 0.2577\n",
      "Epoch 14/20\n",
      " - 225s - loss: 0.0212 - acc: 0.2528 - val_loss: 0.0227 - val_acc: 0.2644\n",
      "Epoch 15/20\n",
      " - 225s - loss: 0.0209 - acc: 0.2607 - val_loss: 0.0225 - val_acc: 0.2600\n",
      "Epoch 16/20\n",
      " - 225s - loss: 0.0207 - acc: 0.2694 - val_loss: 0.0223 - val_acc: 0.2760\n",
      "Epoch 17/20\n",
      " - 225s - loss: 0.0204 - acc: 0.2776 - val_loss: 0.0222 - val_acc: 0.2794\n",
      "Epoch 18/20\n",
      " - 226s - loss: 0.0203 - acc: 0.2825 - val_loss: 0.0222 - val_acc: 0.2712\n",
      "Epoch 19/20\n",
      " - 226s - loss: 0.0200 - acc: 0.2916 - val_loss: 0.0221 - val_acc: 0.2766\n",
      "Epoch 20/20\n",
      " - 225s - loss: 0.0199 - acc: 0.2968 - val_loss: 0.0221 - val_acc: 0.2688\n",
      "Test Accuracy [26.84]\n"
     ]
    },
    {
     "data": {
      "text/plain": [
       "array([26.84])"
      ]
     },
     "execution_count": 37,
     "metadata": {},
     "output_type": "execute_result"
    }
   ],
   "source": [
    "model = Sequential()\n",
    "\n",
    "model.add(Convolution2D(64,3,2,activation='linear',input_shape=(img_rows,img_cols,3)))\n",
    "model.add(LeakyReLU(alpha=0.01))\n",
    "model.add(Convolution2D(64,3,2,activation='linear'))\n",
    "model.add(LeakyReLU(alpha=0.01))\n",
    "model.add(MaxPooling2D(pool_size=(2,2)))\n",
    "model.add(Convolution2D(128,3,2,activation='linear'))\n",
    "model.add(LeakyReLU(alpha=0.01))\n",
    "model.add(Convolution2D(128,3,2,activation='linear'))\n",
    "model.add(LeakyReLU(alpha=0.01))\n",
    "model.add(MaxPooling2D(pool_size=(2,2)))\n",
    "model.add(Convolution2D(256,3,2,activation='linear'))\n",
    "model.add(LeakyReLU(alpha=0.01))\n",
    "model.add(Convolution2D(256,3,2,activation='linear'))\n",
    "model.add(LeakyReLU(alpha=0.01))\n",
    "model.add(Dropout(0.5))\n",
    "model.add(MaxPooling2D(pool_size=(4,4)))\n",
    "model.add(Flatten())\n",
    "\n",
    "model.add(Dense(256,activation='linear'))\n",
    "model.add(LeakyReLU(alpha=0.01))\n",
    "model.add(Dropout(0.5))\n",
    "model.add(Dense(num_classes,activation='softmax'))\n",
    "\n",
    "model.compile(loss='poisson',optimizer='adam',metrics=['accuracy'])\n",
    "model.fit(train_x[:95000],train_y[:95000],batch_size=100,epochs=20,verbose=2,validation_split=0.05)\n",
    "test_acc(model,train_x[95000:],train_y[95000:])"
   ]
  },
  {
   "cell_type": "code",
   "execution_count": 38,
   "metadata": {
    "scrolled": true
   },
   "outputs": [
    {
     "name": "stderr",
     "output_type": "stream",
     "text": [
      "c:\\users\\leo\\appdata\\local\\programs\\python\\python36\\lib\\site-packages\\ipykernel_launcher.py:3: UserWarning: Update your `Conv2D` call to the Keras 2 API: `Conv2D(64, (3, 2), activation=\"linear\", input_shape=(64, 64, 3...)`\n",
      "  This is separate from the ipykernel package so we can avoid doing imports until\n",
      "c:\\users\\leo\\appdata\\local\\programs\\python\\python36\\lib\\site-packages\\ipykernel_launcher.py:5: UserWarning: Update your `Conv2D` call to the Keras 2 API: `Conv2D(64, (3, 2), activation=\"linear\")`\n",
      "  \"\"\"\n",
      "c:\\users\\leo\\appdata\\local\\programs\\python\\python36\\lib\\site-packages\\ipykernel_launcher.py:8: UserWarning: Update your `Conv2D` call to the Keras 2 API: `Conv2D(128, (3, 2), activation=\"linear\")`\n",
      "  \n",
      "c:\\users\\leo\\appdata\\local\\programs\\python\\python36\\lib\\site-packages\\ipykernel_launcher.py:10: UserWarning: Update your `Conv2D` call to the Keras 2 API: `Conv2D(128, (3, 2), activation=\"linear\")`\n",
      "  # Remove the CWD from sys.path while we load stuff.\n",
      "c:\\users\\leo\\appdata\\local\\programs\\python\\python36\\lib\\site-packages\\ipykernel_launcher.py:13: UserWarning: Update your `Conv2D` call to the Keras 2 API: `Conv2D(256, (3, 2), activation=\"linear\")`\n",
      "  del sys.path[0]\n",
      "c:\\users\\leo\\appdata\\local\\programs\\python\\python36\\lib\\site-packages\\ipykernel_launcher.py:15: UserWarning: Update your `Conv2D` call to the Keras 2 API: `Conv2D(256, (3, 2), activation=\"linear\")`\n",
      "  from ipykernel import kernelapp as app\n"
     ]
    },
    {
     "name": "stdout",
     "output_type": "stream",
     "text": [
      "Train on 90250 samples, validate on 4750 samples\n",
      "Epoch 1/20\n",
      " - 228s - loss: 4.9831 - acc: 0.0257 - val_loss: 4.6968 - val_acc: 0.0752\n",
      "Epoch 2/20\n",
      " - 226s - loss: 4.2827 - acc: 0.0983 - val_loss: 4.1935 - val_acc: 0.1482\n",
      "Epoch 3/20\n",
      " - 226s - loss: 3.8970 - acc: 0.1506 - val_loss: 3.9338 - val_acc: 0.1960\n",
      "Epoch 4/20\n",
      " - 226s - loss: 3.6634 - acc: 0.1881 - val_loss: 3.7698 - val_acc: 0.2200\n",
      "Epoch 5/20\n",
      " - 227s - loss: 3.4815 - acc: 0.2164 - val_loss: 3.6200 - val_acc: 0.2556\n",
      "Epoch 6/20\n",
      " - 227s - loss: 3.3424 - acc: 0.2403 - val_loss: 3.5563 - val_acc: 0.2634\n",
      "Epoch 7/20\n",
      " - 227s - loss: 3.2254 - acc: 0.2582 - val_loss: 3.4688 - val_acc: 0.2743\n",
      "Epoch 8/20\n",
      " - 227s - loss: 3.1271 - acc: 0.2763 - val_loss: 3.4563 - val_acc: 0.2846\n",
      "Epoch 9/20\n",
      " - 225s - loss: 3.0336 - acc: 0.2920 - val_loss: 3.3878 - val_acc: 0.2789\n",
      "Epoch 10/20\n",
      " - 226s - loss: 2.9558 - acc: 0.3044 - val_loss: 3.2995 - val_acc: 0.2926\n",
      "Epoch 11/20\n",
      " - 225s - loss: 2.8890 - acc: 0.3164 - val_loss: 3.3497 - val_acc: 0.2966\n",
      "Epoch 12/20\n",
      " - 225s - loss: 2.8173 - acc: 0.3289 - val_loss: 3.2973 - val_acc: 0.2975\n",
      "Epoch 13/20\n",
      " - 225s - loss: 2.7522 - acc: 0.3420 - val_loss: 3.2443 - val_acc: 0.3057\n",
      "Epoch 14/20\n",
      " - 224s - loss: 2.6987 - acc: 0.3519 - val_loss: 3.2187 - val_acc: 0.3029\n",
      "Epoch 15/20\n",
      " - 225s - loss: 2.6515 - acc: 0.3576 - val_loss: 3.2140 - val_acc: 0.3164\n",
      "Epoch 16/20\n",
      " - 226s - loss: 2.5949 - acc: 0.3707 - val_loss: 3.1922 - val_acc: 0.3034\n",
      "Epoch 17/20\n",
      " - 226s - loss: 2.5512 - acc: 0.3749 - val_loss: 3.2329 - val_acc: 0.3063\n",
      "Epoch 18/20\n",
      " - 226s - loss: 2.4993 - acc: 0.3849 - val_loss: 3.1746 - val_acc: 0.3069\n",
      "Epoch 19/20\n",
      " - 226s - loss: 2.4599 - acc: 0.3915 - val_loss: 3.1709 - val_acc: 0.3065\n",
      "Epoch 20/20\n",
      " - 227s - loss: 2.4217 - acc: 0.3995 - val_loss: 3.1560 - val_acc: 0.3152\n",
      "Test Accuracy [30.66]\n"
     ]
    },
    {
     "data": {
      "text/plain": [
       "array([30.66])"
      ]
     },
     "execution_count": 38,
     "metadata": {},
     "output_type": "execute_result"
    }
   ],
   "source": [
    "model = Sequential()\n",
    "\n",
    "model.add(Convolution2D(64,3,2,activation='linear',input_shape=(img_rows,img_cols,3)))\n",
    "model.add(LeakyReLU(alpha=0.01))\n",
    "model.add(Convolution2D(64,3,2,activation='linear'))\n",
    "model.add(LeakyReLU(alpha=0.01))\n",
    "model.add(MaxPooling2D(pool_size=(2,2)))\n",
    "model.add(Convolution2D(128,3,2,activation='linear'))\n",
    "model.add(LeakyReLU(alpha=0.01))\n",
    "model.add(Convolution2D(128,3,2,activation='linear'))\n",
    "model.add(LeakyReLU(alpha=0.01))\n",
    "model.add(MaxPooling2D(pool_size=(2,2)))\n",
    "model.add(Convolution2D(256,3,2,activation='linear'))\n",
    "model.add(LeakyReLU(alpha=0.01))\n",
    "model.add(Convolution2D(256,3,2,activation='linear'))\n",
    "model.add(LeakyReLU(alpha=0.01))\n",
    "model.add(Dropout(0.5))\n",
    "model.add(MaxPooling2D(pool_size=(4,4)))\n",
    "model.add(Flatten())\n",
    "\n",
    "model.add(Dense(512,activation='linear'))\n",
    "model.add(LeakyReLU(alpha=0.01))\n",
    "model.add(Dropout(0.5))\n",
    "model.add(Dense(num_classes,activation='softmax'))\n",
    "\n",
    "model.compile(loss='categorical_crossentropy',optimizer='adam',metrics=['accuracy'])\n",
    "model.fit(train_x[:95000],train_y[:95000],batch_size=100,epochs=20,verbose=2,validation_split=0.05)\n",
    "test_acc(model,train_x[95000:],train_y[95000:])"
   ]
  },
  {
   "cell_type": "code",
   "execution_count": 10,
   "metadata": {},
   "outputs": [
    {
     "name": "stderr",
     "output_type": "stream",
     "text": [
      "c:\\users\\leo\\appdata\\local\\programs\\python\\python36\\lib\\site-packages\\ipykernel_launcher.py:3: UserWarning: Update your `Conv2D` call to the Keras 2 API: `Conv2D(32, (3, 3), activation=\"linear\", input_shape=(64, 64, 3...)`\n",
      "  This is separate from the ipykernel package so we can avoid doing imports until\n",
      "c:\\users\\leo\\appdata\\local\\programs\\python\\python36\\lib\\site-packages\\ipykernel_launcher.py:5: UserWarning: Update your `Conv2D` call to the Keras 2 API: `Conv2D(64, (3, 3), activation=\"linear\")`\n",
      "  \"\"\"\n",
      "c:\\users\\leo\\appdata\\local\\programs\\python\\python36\\lib\\site-packages\\ipykernel_launcher.py:7: UserWarning: Update your `Conv2D` call to the Keras 2 API: `Conv2D(128, (7, 2), activation=\"linear\")`\n",
      "  import sys\n"
     ]
    },
    {
     "name": "stdout",
     "output_type": "stream",
     "text": [
      "Train on 90250 samples, validate on 4750 samples\n",
      "Epoch 1/15\n",
      " - 253s - loss: 0.0286 - acc: 0.0570 - val_loss: 0.0253 - val_acc: 0.1501\n",
      "Epoch 2/15\n",
      " - 244s - loss: 0.0252 - acc: 0.1383 - val_loss: 0.0233 - val_acc: 0.2099\n",
      "Epoch 3/15\n",
      " - 244s - loss: 0.0238 - acc: 0.1761 - val_loss: 0.0224 - val_acc: 0.2364\n",
      "Epoch 4/15\n",
      " - 245s - loss: 0.0229 - acc: 0.2047 - val_loss: 0.0219 - val_acc: 0.2442\n",
      "Epoch 5/15\n",
      " - 245s - loss: 0.0222 - acc: 0.2256 - val_loss: 0.0216 - val_acc: 0.2499\n",
      "Epoch 6/15\n",
      " - 246s - loss: 0.0217 - acc: 0.2430 - val_loss: 0.0214 - val_acc: 0.2709\n",
      "Epoch 7/15\n",
      " - 246s - loss: 0.0211 - acc: 0.2623 - val_loss: 0.0211 - val_acc: 0.2733\n",
      "Epoch 8/15\n",
      " - 246s - loss: 0.0207 - acc: 0.2782 - val_loss: 0.0212 - val_acc: 0.2747\n",
      "Epoch 9/15\n",
      " - 247s - loss: 0.0202 - acc: 0.2905 - val_loss: 0.0211 - val_acc: 0.2792\n",
      "Epoch 10/15\n",
      " - 246s - loss: 0.0198 - acc: 0.3083 - val_loss: 0.0209 - val_acc: 0.2827\n",
      "Epoch 11/15\n",
      " - 246s - loss: 0.0195 - acc: 0.3178 - val_loss: 0.0209 - val_acc: 0.2834\n",
      "Epoch 12/15\n",
      " - 245s - loss: 0.0191 - acc: 0.3291 - val_loss: 0.0206 - val_acc: 0.2964\n",
      "Epoch 13/15\n",
      " - 246s - loss: 0.0188 - acc: 0.3388 - val_loss: 0.0206 - val_acc: 0.2918\n",
      "Epoch 14/15\n",
      " - 246s - loss: 0.0186 - acc: 0.3515 - val_loss: 0.0207 - val_acc: 0.2952\n",
      "Epoch 15/15\n",
      " - 246s - loss: 0.0183 - acc: 0.3570 - val_loss: 0.0206 - val_acc: 0.2945\n",
      "Test Accuracy [28.66]\n"
     ]
    },
    {
     "data": {
      "text/plain": [
       "array([28.66])"
      ]
     },
     "execution_count": 10,
     "metadata": {},
     "output_type": "execute_result"
    }
   ],
   "source": [
    "model = Sequential()\n",
    "\n",
    "model.add(Convolution2D(32,3,3,activation='linear',input_shape=(img_rows,img_cols,3)))\n",
    "model.add(LeakyReLU(alpha=0.01))\n",
    "model.add(Convolution2D(64,3,3,activation='linear'))\n",
    "model.add(LeakyReLU(alpha=0.01))\n",
    "model.add(Convolution2D(128,7,2,activation='linear'))\n",
    "model.add(LeakyReLU(alpha=0.01))\n",
    "model.add(MaxPooling2D(pool_size=(4,4)))\n",
    "model.add(Dropout(0.75))\n",
    "model.add(Flatten())\n",
    "\n",
    "model.add(Dense(512,activation='linear'))\n",
    "model.add(LeakyReLU(alpha=0.01))\n",
    "model.add(Dropout(0.5))\n",
    "model.add(Dense(num_classes,activation='softmax'))\n",
    "\n",
    "model.compile(loss='poisson',optimizer='adam',metrics=['accuracy'])\n",
    "model.fit(train_x[:95000],train_y[:95000],batch_size=100,epochs=15,verbose=2,validation_split=0.05)\n",
    "test_acc(model,train_x[95000:],train_y[95000:])"
   ]
  },
  {
   "cell_type": "code",
   "execution_count": 13,
   "metadata": {
    "scrolled": false
   },
   "outputs": [
    {
     "name": "stderr",
     "output_type": "stream",
     "text": [
      "c:\\users\\leo\\appdata\\local\\programs\\python\\python36\\lib\\site-packages\\ipykernel_launcher.py:3: UserWarning: Update your `Conv2D` call to the Keras 2 API: `Conv2D(32, (3, 2), activation=\"linear\", input_shape=(64, 64, 3...)`\n",
      "  This is separate from the ipykernel package so we can avoid doing imports until\n",
      "c:\\users\\leo\\appdata\\local\\programs\\python\\python36\\lib\\site-packages\\ipykernel_launcher.py:5: UserWarning: Update your `Conv2D` call to the Keras 2 API: `Conv2D(32, (3, 2), activation=\"linear\")`\n",
      "  \"\"\"\n",
      "c:\\users\\leo\\appdata\\local\\programs\\python\\python36\\lib\\site-packages\\ipykernel_launcher.py:7: UserWarning: Update your `Conv2D` call to the Keras 2 API: `Conv2D(64, (3, 2), activation=\"linear\")`\n",
      "  import sys\n",
      "c:\\users\\leo\\appdata\\local\\programs\\python\\python36\\lib\\site-packages\\ipykernel_launcher.py:9: UserWarning: Update your `Conv2D` call to the Keras 2 API: `Conv2D(64, (3, 2), activation=\"linear\")`\n",
      "  if __name__ == '__main__':\n",
      "c:\\users\\leo\\appdata\\local\\programs\\python\\python36\\lib\\site-packages\\ipykernel_launcher.py:11: UserWarning: Update your `Conv2D` call to the Keras 2 API: `Conv2D(128, (3, 2), activation=\"linear\")`\n",
      "  # This is added back by InteractiveShellApp.init_path()\n",
      "c:\\users\\leo\\appdata\\local\\programs\\python\\python36\\lib\\site-packages\\ipykernel_launcher.py:13: UserWarning: Update your `Conv2D` call to the Keras 2 API: `Conv2D(128, (3, 2), activation=\"linear\")`\n",
      "  del sys.path[0]\n"
     ]
    },
    {
     "name": "stdout",
     "output_type": "stream",
     "text": [
      "Train on 90250 samples, validate on 4750 samples\n",
      "Epoch 1/20\n",
      " - 482s - loss: 0.0315 - acc: 0.0044 - val_loss: 0.0315 - val_acc: 0.0048\n",
      "Epoch 2/20\n",
      " - 477s - loss: 0.0315 - acc: 0.0046 - val_loss: 0.0315 - val_acc: 0.0034\n",
      "Epoch 3/20\n"
     ]
    },
    {
     "ename": "KeyboardInterrupt",
     "evalue": "",
     "output_type": "error",
     "traceback": [
      "\u001b[1;31m---------------------------------------------------------------------------\u001b[0m",
      "\u001b[1;31mKeyboardInterrupt\u001b[0m                         Traceback (most recent call last)",
      "\u001b[1;32m<ipython-input-13-59aac6d6fe07>\u001b[0m in \u001b[0;36m<module>\u001b[1;34m()\u001b[0m\n\u001b[0;32m     23\u001b[0m \u001b[1;33m\u001b[0m\u001b[0m\n\u001b[0;32m     24\u001b[0m \u001b[0mmodel\u001b[0m\u001b[1;33m.\u001b[0m\u001b[0mcompile\u001b[0m\u001b[1;33m(\u001b[0m\u001b[0mloss\u001b[0m\u001b[1;33m=\u001b[0m\u001b[1;34m'poisson'\u001b[0m\u001b[1;33m,\u001b[0m\u001b[0moptimizer\u001b[0m\u001b[1;33m=\u001b[0m\u001b[1;34m'adam'\u001b[0m\u001b[1;33m,\u001b[0m\u001b[0mmetrics\u001b[0m\u001b[1;33m=\u001b[0m\u001b[1;33m[\u001b[0m\u001b[1;34m'accuracy'\u001b[0m\u001b[1;33m]\u001b[0m\u001b[1;33m)\u001b[0m\u001b[1;33m\u001b[0m\u001b[0m\n\u001b[1;32m---> 25\u001b[1;33m \u001b[0mmodel\u001b[0m\u001b[1;33m.\u001b[0m\u001b[0mfit\u001b[0m\u001b[1;33m(\u001b[0m\u001b[0mtrain_x\u001b[0m\u001b[1;33m[\u001b[0m\u001b[1;33m:\u001b[0m\u001b[1;36m95000\u001b[0m\u001b[1;33m]\u001b[0m\u001b[1;33m,\u001b[0m\u001b[0mtrain_y\u001b[0m\u001b[1;33m[\u001b[0m\u001b[1;33m:\u001b[0m\u001b[1;36m95000\u001b[0m\u001b[1;33m]\u001b[0m\u001b[1;33m,\u001b[0m\u001b[0mbatch_size\u001b[0m\u001b[1;33m=\u001b[0m\u001b[1;36m100\u001b[0m\u001b[1;33m,\u001b[0m\u001b[0mepochs\u001b[0m\u001b[1;33m=\u001b[0m\u001b[1;36m20\u001b[0m\u001b[1;33m,\u001b[0m\u001b[0mverbose\u001b[0m\u001b[1;33m=\u001b[0m\u001b[1;36m2\u001b[0m\u001b[1;33m,\u001b[0m\u001b[0mvalidation_split\u001b[0m\u001b[1;33m=\u001b[0m\u001b[1;36m0.05\u001b[0m\u001b[1;33m)\u001b[0m\u001b[1;33m\u001b[0m\u001b[0m\n\u001b[0m\u001b[0;32m     26\u001b[0m \u001b[0mtest_acc\u001b[0m\u001b[1;33m(\u001b[0m\u001b[0mmodel\u001b[0m\u001b[1;33m,\u001b[0m\u001b[0mtrain_x\u001b[0m\u001b[1;33m[\u001b[0m\u001b[1;36m95000\u001b[0m\u001b[1;33m:\u001b[0m\u001b[1;33m]\u001b[0m\u001b[1;33m,\u001b[0m\u001b[0mtrain_y\u001b[0m\u001b[1;33m[\u001b[0m\u001b[1;36m95000\u001b[0m\u001b[1;33m:\u001b[0m\u001b[1;33m]\u001b[0m\u001b[1;33m)\u001b[0m\u001b[1;33m\u001b[0m\u001b[0m\n",
      "\u001b[1;32mc:\\users\\leo\\appdata\\local\\programs\\python\\python36\\lib\\site-packages\\keras\\engine\\training.py\u001b[0m in \u001b[0;36mfit\u001b[1;34m(self, x, y, batch_size, epochs, verbose, callbacks, validation_split, validation_data, shuffle, class_weight, sample_weight, initial_epoch, steps_per_epoch, validation_steps, **kwargs)\u001b[0m\n\u001b[0;32m   1035\u001b[0m                                         \u001b[0minitial_epoch\u001b[0m\u001b[1;33m=\u001b[0m\u001b[0minitial_epoch\u001b[0m\u001b[1;33m,\u001b[0m\u001b[1;33m\u001b[0m\u001b[0m\n\u001b[0;32m   1036\u001b[0m                                         \u001b[0msteps_per_epoch\u001b[0m\u001b[1;33m=\u001b[0m\u001b[0msteps_per_epoch\u001b[0m\u001b[1;33m,\u001b[0m\u001b[1;33m\u001b[0m\u001b[0m\n\u001b[1;32m-> 1037\u001b[1;33m                                         validation_steps=validation_steps)\n\u001b[0m\u001b[0;32m   1038\u001b[0m \u001b[1;33m\u001b[0m\u001b[0m\n\u001b[0;32m   1039\u001b[0m     def evaluate(self, x=None, y=None,\n",
      "\u001b[1;32mc:\\users\\leo\\appdata\\local\\programs\\python\\python36\\lib\\site-packages\\keras\\engine\\training_arrays.py\u001b[0m in \u001b[0;36mfit_loop\u001b[1;34m(model, f, ins, out_labels, batch_size, epochs, verbose, callbacks, val_f, val_ins, shuffle, callback_metrics, initial_epoch, steps_per_epoch, validation_steps)\u001b[0m\n\u001b[0;32m    197\u001b[0m                     \u001b[0mins_batch\u001b[0m\u001b[1;33m[\u001b[0m\u001b[0mi\u001b[0m\u001b[1;33m]\u001b[0m \u001b[1;33m=\u001b[0m \u001b[0mins_batch\u001b[0m\u001b[1;33m[\u001b[0m\u001b[0mi\u001b[0m\u001b[1;33m]\u001b[0m\u001b[1;33m.\u001b[0m\u001b[0mtoarray\u001b[0m\u001b[1;33m(\u001b[0m\u001b[1;33m)\u001b[0m\u001b[1;33m\u001b[0m\u001b[0m\n\u001b[0;32m    198\u001b[0m \u001b[1;33m\u001b[0m\u001b[0m\n\u001b[1;32m--> 199\u001b[1;33m                 \u001b[0mouts\u001b[0m \u001b[1;33m=\u001b[0m \u001b[0mf\u001b[0m\u001b[1;33m(\u001b[0m\u001b[0mins_batch\u001b[0m\u001b[1;33m)\u001b[0m\u001b[1;33m\u001b[0m\u001b[0m\n\u001b[0m\u001b[0;32m    200\u001b[0m                 \u001b[0mouts\u001b[0m \u001b[1;33m=\u001b[0m \u001b[0mto_list\u001b[0m\u001b[1;33m(\u001b[0m\u001b[0mouts\u001b[0m\u001b[1;33m)\u001b[0m\u001b[1;33m\u001b[0m\u001b[0m\n\u001b[0;32m    201\u001b[0m                 \u001b[1;32mfor\u001b[0m \u001b[0ml\u001b[0m\u001b[1;33m,\u001b[0m \u001b[0mo\u001b[0m \u001b[1;32min\u001b[0m \u001b[0mzip\u001b[0m\u001b[1;33m(\u001b[0m\u001b[0mout_labels\u001b[0m\u001b[1;33m,\u001b[0m \u001b[0mouts\u001b[0m\u001b[1;33m)\u001b[0m\u001b[1;33m:\u001b[0m\u001b[1;33m\u001b[0m\u001b[0m\n",
      "\u001b[1;32mc:\\users\\leo\\appdata\\local\\programs\\python\\python36\\lib\\site-packages\\keras\\backend\\tensorflow_backend.py\u001b[0m in \u001b[0;36m__call__\u001b[1;34m(self, inputs)\u001b[0m\n\u001b[0;32m   2664\u001b[0m                 \u001b[1;32mreturn\u001b[0m \u001b[0mself\u001b[0m\u001b[1;33m.\u001b[0m\u001b[0m_legacy_call\u001b[0m\u001b[1;33m(\u001b[0m\u001b[0minputs\u001b[0m\u001b[1;33m)\u001b[0m\u001b[1;33m\u001b[0m\u001b[0m\n\u001b[0;32m   2665\u001b[0m \u001b[1;33m\u001b[0m\u001b[0m\n\u001b[1;32m-> 2666\u001b[1;33m             \u001b[1;32mreturn\u001b[0m \u001b[0mself\u001b[0m\u001b[1;33m.\u001b[0m\u001b[0m_call\u001b[0m\u001b[1;33m(\u001b[0m\u001b[0minputs\u001b[0m\u001b[1;33m)\u001b[0m\u001b[1;33m\u001b[0m\u001b[0m\n\u001b[0m\u001b[0;32m   2667\u001b[0m         \u001b[1;32melse\u001b[0m\u001b[1;33m:\u001b[0m\u001b[1;33m\u001b[0m\u001b[0m\n\u001b[0;32m   2668\u001b[0m             \u001b[1;32mif\u001b[0m \u001b[0mpy_any\u001b[0m\u001b[1;33m(\u001b[0m\u001b[0mis_tensor\u001b[0m\u001b[1;33m(\u001b[0m\u001b[0mx\u001b[0m\u001b[1;33m)\u001b[0m \u001b[1;32mfor\u001b[0m \u001b[0mx\u001b[0m \u001b[1;32min\u001b[0m \u001b[0minputs\u001b[0m\u001b[1;33m)\u001b[0m\u001b[1;33m:\u001b[0m\u001b[1;33m\u001b[0m\u001b[0m\n",
      "\u001b[1;32mc:\\users\\leo\\appdata\\local\\programs\\python\\python36\\lib\\site-packages\\keras\\backend\\tensorflow_backend.py\u001b[0m in \u001b[0;36m_call\u001b[1;34m(self, inputs)\u001b[0m\n\u001b[0;32m   2634\u001b[0m                                 \u001b[0msymbol_vals\u001b[0m\u001b[1;33m,\u001b[0m\u001b[1;33m\u001b[0m\u001b[0m\n\u001b[0;32m   2635\u001b[0m                                 session)\n\u001b[1;32m-> 2636\u001b[1;33m         \u001b[0mfetched\u001b[0m \u001b[1;33m=\u001b[0m \u001b[0mself\u001b[0m\u001b[1;33m.\u001b[0m\u001b[0m_callable_fn\u001b[0m\u001b[1;33m(\u001b[0m\u001b[1;33m*\u001b[0m\u001b[0marray_vals\u001b[0m\u001b[1;33m)\u001b[0m\u001b[1;33m\u001b[0m\u001b[0m\n\u001b[0m\u001b[0;32m   2637\u001b[0m         \u001b[1;32mreturn\u001b[0m \u001b[0mfetched\u001b[0m\u001b[1;33m[\u001b[0m\u001b[1;33m:\u001b[0m\u001b[0mlen\u001b[0m\u001b[1;33m(\u001b[0m\u001b[0mself\u001b[0m\u001b[1;33m.\u001b[0m\u001b[0moutputs\u001b[0m\u001b[1;33m)\u001b[0m\u001b[1;33m]\u001b[0m\u001b[1;33m\u001b[0m\u001b[0m\n\u001b[0;32m   2638\u001b[0m \u001b[1;33m\u001b[0m\u001b[0m\n",
      "\u001b[1;32mc:\\users\\leo\\appdata\\local\\programs\\python\\python36\\lib\\site-packages\\tensorflow\\python\\client\\session.py\u001b[0m in \u001b[0;36m__call__\u001b[1;34m(self, *args, **kwargs)\u001b[0m\n\u001b[0;32m   1380\u001b[0m           ret = tf_session.TF_SessionRunCallable(\n\u001b[0;32m   1381\u001b[0m               \u001b[0mself\u001b[0m\u001b[1;33m.\u001b[0m\u001b[0m_session\u001b[0m\u001b[1;33m.\u001b[0m\u001b[0m_session\u001b[0m\u001b[1;33m,\u001b[0m \u001b[0mself\u001b[0m\u001b[1;33m.\u001b[0m\u001b[0m_handle\u001b[0m\u001b[1;33m,\u001b[0m \u001b[0margs\u001b[0m\u001b[1;33m,\u001b[0m \u001b[0mstatus\u001b[0m\u001b[1;33m,\u001b[0m\u001b[1;33m\u001b[0m\u001b[0m\n\u001b[1;32m-> 1382\u001b[1;33m               run_metadata_ptr)\n\u001b[0m\u001b[0;32m   1383\u001b[0m         \u001b[1;32mif\u001b[0m \u001b[0mrun_metadata\u001b[0m\u001b[1;33m:\u001b[0m\u001b[1;33m\u001b[0m\u001b[0m\n\u001b[0;32m   1384\u001b[0m           \u001b[0mproto_data\u001b[0m \u001b[1;33m=\u001b[0m \u001b[0mtf_session\u001b[0m\u001b[1;33m.\u001b[0m\u001b[0mTF_GetBuffer\u001b[0m\u001b[1;33m(\u001b[0m\u001b[0mrun_metadata_ptr\u001b[0m\u001b[1;33m)\u001b[0m\u001b[1;33m\u001b[0m\u001b[0m\n",
      "\u001b[1;31mKeyboardInterrupt\u001b[0m: "
     ]
    }
   ],
   "source": [
    "model = Sequential()\n",
    "\n",
    "model.add(Convolution2D(32,3,2,activation='linear',input_shape=(img_rows,img_cols,3)))\n",
    "model.add(LeakyReLU(alpha=0.01))\n",
    "model.add(Convolution2D(32,3,2,activation='linear'))\n",
    "model.add(LeakyReLU(alpha=0.01))\n",
    "model.add(Convolution2D(64,3,2,activation='linear'))\n",
    "model.add(LeakyReLU(alpha=0.01))\n",
    "model.add(Convolution2D(64,3,2,activation='linear'))\n",
    "model.add(LeakyReLU(alpha=0.01))\n",
    "model.add(Convolution2D(128,3,2,activation='linear'))\n",
    "model.add(LeakyReLU(alpha=0.01))\n",
    "model.add(Convolution2D(128,3,2,activation='linear'))\n",
    "model.add(LeakyReLU(alpha=0.01))\n",
    "model.add(Dropout(0.5))\n",
    "model.add(MaxPooling2D(pool_size=(4,4)))\n",
    "model.add(Flatten())\n",
    "\n",
    "model.add(Dense(512,activation='linear'))\n",
    "model.add(LeakyReLU(alpha=0.01))\n",
    "model.add(Dropout(0.5))\n",
    "model.add(Dense(num_classes,activation='softmax'))\n",
    "\n",
    "model.compile(loss='poisson',optimizer='adam',metrics=['accuracy'])\n",
    "model.fit(train_x[:95000],train_y[:95000],batch_size=100,epochs=20,verbose=2,validation_split=0.05)\n",
    "test_acc(model,train_x[95000:],train_y[95000:])"
   ]
  },
  {
   "cell_type": "code",
   "execution_count": null,
   "metadata": {},
   "outputs": [
    {
     "name": "stderr",
     "output_type": "stream",
     "text": [
      "c:\\users\\leo\\appdata\\local\\programs\\python\\python36\\lib\\site-packages\\ipykernel_launcher.py:4: UserWarning: Update your `Conv2D` call to the Keras 2 API: `Conv2D(64, (3, 2), activation=\"linear\", input_shape=(64, 64, 3...)`\n",
      "  after removing the cwd from sys.path.\n",
      "c:\\users\\leo\\appdata\\local\\programs\\python\\python36\\lib\\site-packages\\ipykernel_launcher.py:6: UserWarning: Update your `Conv2D` call to the Keras 2 API: `Conv2D(64, (3, 2), activation=\"linear\")`\n",
      "  \n",
      "c:\\users\\leo\\appdata\\local\\programs\\python\\python36\\lib\\site-packages\\ipykernel_launcher.py:9: UserWarning: Update your `Conv2D` call to the Keras 2 API: `Conv2D(128, (3, 2), activation=\"linear\")`\n",
      "  if __name__ == '__main__':\n",
      "c:\\users\\leo\\appdata\\local\\programs\\python\\python36\\lib\\site-packages\\ipykernel_launcher.py:11: UserWarning: Update your `Conv2D` call to the Keras 2 API: `Conv2D(128, (3, 2), activation=\"linear\")`\n",
      "  # This is added back by InteractiveShellApp.init_path()\n",
      "c:\\users\\leo\\appdata\\local\\programs\\python\\python36\\lib\\site-packages\\ipykernel_launcher.py:14: UserWarning: Update your `Conv2D` call to the Keras 2 API: `Conv2D(256, (3, 2), activation=\"linear\")`\n",
      "  \n",
      "c:\\users\\leo\\appdata\\local\\programs\\python\\python36\\lib\\site-packages\\ipykernel_launcher.py:16: UserWarning: Update your `Conv2D` call to the Keras 2 API: `Conv2D(256, (3, 2), activation=\"linear\")`\n",
      "  app.launch_new_instance()\n",
      "c:\\users\\leo\\appdata\\local\\programs\\python\\python36\\lib\\site-packages\\ipykernel_launcher.py:19: UserWarning: Update your `Conv2D` call to the Keras 2 API: `Conv2D(512, (3, 2), activation=\"linear\")`\n"
     ]
    },
    {
     "name": "stdout",
     "output_type": "stream",
     "text": [
      "Train on 90250 samples, validate on 4750 samples\n",
      "Epoch 1/20\n"
     ]
    }
   ],
   "source": [
    "\n",
    "model = Sequential()\n",
    "\n",
    "model.add(Convolution2D(64,3,2,activation='linear',input_shape=(img_rows,img_cols,3)))\n",
    "model.add(LeakyReLU(alpha=0.01))\n",
    "model.add(Convolution2D(64,3,2,activation='linear'))\n",
    "model.add(LeakyReLU(alpha=0.01))\n",
    "model.add(MaxPooling2D(pool_size=(2,2)))\n",
    "model.add(Convolution2D(128,3,2,activation='linear'))\n",
    "model.add(LeakyReLU(alpha=0.01))\n",
    "model.add(Convolution2D(128,3,2,activation='linear'))\n",
    "model.add(LeakyReLU(alpha=0.01))\n",
    "model.add(MaxPooling2D(pool_size=(2,2)))\n",
    "model.add(Convolution2D(256,3,2,activation='linear'))\n",
    "model.add(LeakyReLU(alpha=0.01))\n",
    "model.add(Convolution2D(256,3,2,activation='linear'))\n",
    "model.add(LeakyReLU(alpha=0.01))\n",
    "model.add(MaxPooling2D(pool_size=(2,2)))\n",
    "model.add(Convolution2D(512,3,2,activation='linear'))\n",
    "model.add(LeakyReLU(alpha=0.01))\n",
    "model.add(Dropout(0.5))\n",
    "model.add(MaxPooling2D(pool_size=(2,2)))\n",
    "model.add(Flatten())\n",
    "\n",
    "model.add(Dense(512,activation='linear'))\n",
    "model.add(LeakyReLU(alpha=0.01))\n",
    "model.add(Dropout(0.5))\n",
    "model.add(Dense(num_classes,activation='softmax'))\n",
    "\n",
    "model.compile(loss='poisson',optimizer='adam',metrics=['accuracy'])\n",
    "model.fit(train_x[:95000],train_y[:95000],batch_size=100,epochs=20,verbose=2,validation_split=0.05)\n",
    "test_acc(model,train_x[95000:],train_y[95000:])"
   ]
  },
  {
   "cell_type": "code",
   "execution_count": 9,
   "metadata": {
    "scrolled": false
   },
   "outputs": [
    {
     "name": "stderr",
     "output_type": "stream",
     "text": [
      "c:\\users\\leo\\appdata\\local\\programs\\python\\python36\\lib\\site-packages\\ipykernel_launcher.py:3: UserWarning: Update your `Conv2D` call to the Keras 2 API: `Conv2D(64, (3, 2), activation=\"linear\", input_shape=(64, 64, 3...)`\n",
      "  This is separate from the ipykernel package so we can avoid doing imports until\n",
      "c:\\users\\leo\\appdata\\local\\programs\\python\\python36\\lib\\site-packages\\ipykernel_launcher.py:5: UserWarning: Update your `Conv2D` call to the Keras 2 API: `Conv2D(64, (3, 2), activation=\"linear\")`\n",
      "  \"\"\"\n",
      "c:\\users\\leo\\appdata\\local\\programs\\python\\python36\\lib\\site-packages\\ipykernel_launcher.py:8: UserWarning: Update your `Conv2D` call to the Keras 2 API: `Conv2D(128, (3, 2), activation=\"linear\")`\n",
      "  \n",
      "c:\\users\\leo\\appdata\\local\\programs\\python\\python36\\lib\\site-packages\\ipykernel_launcher.py:10: UserWarning: Update your `Conv2D` call to the Keras 2 API: `Conv2D(256, (3, 2), activation=\"linear\")`\n",
      "  # Remove the CWD from sys.path while we load stuff.\n",
      "c:\\users\\leo\\appdata\\local\\programs\\python\\python36\\lib\\site-packages\\ipykernel_launcher.py:13: UserWarning: Update your `Conv2D` call to the Keras 2 API: `Conv2D(512, (3, 2), activation=\"linear\")`\n",
      "  del sys.path[0]\n",
      "c:\\users\\leo\\appdata\\local\\programs\\python\\python36\\lib\\site-packages\\ipykernel_launcher.py:15: UserWarning: Update your `Conv2D` call to the Keras 2 API: `Conv2D(512, (7, 2), activation=\"linear\")`\n",
      "  from ipykernel import kernelapp as app\n"
     ]
    },
    {
     "name": "stdout",
     "output_type": "stream",
     "text": [
      "Train on 90250 samples, validate on 4750 samples\n",
      "Epoch 1/20\n",
      " - 363s - loss: 0.0306 - acc: 0.0154 - val_loss: 0.0293 - val_acc: 0.0482\n",
      "Epoch 2/20\n",
      " - 361s - loss: 0.0276 - acc: 0.0670 - val_loss: 0.0263 - val_acc: 0.1158\n",
      "Epoch 3/20\n",
      " - 361s - loss: 0.0254 - acc: 0.1237 - val_loss: 0.0248 - val_acc: 0.1789\n",
      "Epoch 4/20\n",
      " - 361s - loss: 0.0240 - acc: 0.1624 - val_loss: 0.0237 - val_acc: 0.2000\n",
      "Epoch 5/20\n",
      " - 361s - loss: 0.0231 - acc: 0.1930 - val_loss: 0.0232 - val_acc: 0.2147\n",
      "Epoch 6/20\n",
      " - 361s - loss: 0.0222 - acc: 0.2194 - val_loss: 0.0225 - val_acc: 0.2368\n",
      "Epoch 7/20\n",
      " - 361s - loss: 0.0215 - acc: 0.2430 - val_loss: 0.0221 - val_acc: 0.2539\n",
      "Epoch 8/20\n",
      " - 361s - loss: 0.0209 - acc: 0.2631 - val_loss: 0.0218 - val_acc: 0.2581\n",
      "Epoch 9/20\n",
      " - 363s - loss: 0.0203 - acc: 0.2852 - val_loss: 0.0215 - val_acc: 0.2718\n",
      "Epoch 10/20\n",
      " - 363s - loss: 0.0197 - acc: 0.3062 - val_loss: 0.0213 - val_acc: 0.2867\n",
      "Epoch 11/20\n",
      " - 363s - loss: 0.0192 - acc: 0.3230 - val_loss: 0.0211 - val_acc: 0.2853\n",
      "Epoch 12/20\n",
      " - 363s - loss: 0.0186 - acc: 0.3452 - val_loss: 0.0209 - val_acc: 0.2884\n",
      "Epoch 13/20\n",
      " - 362s - loss: 0.0181 - acc: 0.3606 - val_loss: 0.0208 - val_acc: 0.2907\n",
      "Epoch 14/20\n",
      " - 362s - loss: 0.0176 - acc: 0.3799 - val_loss: 0.0208 - val_acc: 0.2920\n",
      "Epoch 15/20\n",
      " - 362s - loss: 0.0172 - acc: 0.3953 - val_loss: 0.0208 - val_acc: 0.2899\n",
      "Epoch 16/20\n",
      " - 362s - loss: 0.0167 - acc: 0.4138 - val_loss: 0.0208 - val_acc: 0.2924\n",
      "Epoch 17/20\n",
      " - 363s - loss: 0.0163 - acc: 0.4291 - val_loss: 0.0208 - val_acc: 0.2941\n",
      "Epoch 18/20\n",
      " - 362s - loss: 0.0159 - acc: 0.4468 - val_loss: 0.0209 - val_acc: 0.2876\n",
      "Epoch 19/20\n",
      " - 362s - loss: 0.0156 - acc: 0.4605 - val_loss: 0.0208 - val_acc: 0.2931\n",
      "Epoch 20/20\n",
      " - 362s - loss: 0.0152 - acc: 0.4732 - val_loss: 0.0210 - val_acc: 0.2859\n",
      "Test Accuracy [27.82]\n"
     ]
    },
    {
     "data": {
      "text/plain": [
       "array([27.82])"
      ]
     },
     "execution_count": 9,
     "metadata": {},
     "output_type": "execute_result"
    }
   ],
   "source": [
    "model = Sequential()\n",
    "\n",
    "model.add(Convolution2D(64,3,2,activation='linear',input_shape=(img_rows,img_cols,3)))\n",
    "model.add(LeakyReLU(alpha=0.01))\n",
    "model.add(Convolution2D(64,3,2,activation='linear'))\n",
    "model.add(LeakyReLU(alpha=0.01))\n",
    "model.add(MaxPooling2D(pool_size=(2,2)))\n",
    "model.add(Convolution2D(128,3,2,activation='linear'))\n",
    "model.add(LeakyReLU(alpha=0.01))\n",
    "model.add(Convolution2D(256,3,2,activation='linear'))\n",
    "model.add(LeakyReLU(alpha=0.01))\n",
    "model.add(MaxPooling2D(pool_size=(2,2)))\n",
    "model.add(Convolution2D(512,3,2,activation='linear'))\n",
    "model.add(LeakyReLU(alpha=0.01))\n",
    "model.add(Convolution2D(512,7,2,activation='linear'))\n",
    "model.add(LeakyReLU(alpha=0.01))\n",
    "model.add(Dropout(0.5))\n",
    "model.add(MaxPooling2D(pool_size=(2,2)))\n",
    "model.add(Flatten())\n",
    "\n",
    "model.add(Dense(512,activation='linear'))\n",
    "model.add(LeakyReLU(alpha=0.01))\n",
    "model.add(Dropout(0.5))\n",
    "model.add(Dense(num_classes,activation='softmax'))\n",
    "\n",
    "model.compile(loss='poisson',optimizer='adam',metrics=['accuracy'])\n",
    "model.fit(train_x[:95000],train_y[:95000],batch_size=100,epochs=20,verbose=2,validation_split=0.05)\n",
    "test_acc(model,train_x[95000:],train_y[95000:])"
   ]
  },
  {
   "cell_type": "code",
   "execution_count": null,
   "metadata": {
    "scrolled": true
   },
   "outputs": [
    {
     "name": "stderr",
     "output_type": "stream",
     "text": [
      "c:\\users\\leo\\appdata\\local\\programs\\python\\python36\\lib\\site-packages\\ipykernel_launcher.py:3: UserWarning: Update your `Conv2D` call to the Keras 2 API: `Conv2D(64, (3, 2), activation=\"linear\", input_shape=(64, 64, 3...)`\n",
      "  This is separate from the ipykernel package so we can avoid doing imports until\n",
      "c:\\users\\leo\\appdata\\local\\programs\\python\\python36\\lib\\site-packages\\ipykernel_launcher.py:5: UserWarning: Update your `Conv2D` call to the Keras 2 API: `Conv2D(64, (3, 2), activation=\"linear\")`\n",
      "  \"\"\"\n",
      "c:\\users\\leo\\appdata\\local\\programs\\python\\python36\\lib\\site-packages\\ipykernel_launcher.py:8: UserWarning: Update your `Conv2D` call to the Keras 2 API: `Conv2D(128, (3, 2), activation=\"linear\")`\n",
      "  \n",
      "c:\\users\\leo\\appdata\\local\\programs\\python\\python36\\lib\\site-packages\\ipykernel_launcher.py:10: UserWarning: Update your `Conv2D` call to the Keras 2 API: `Conv2D(256, (3, 2), activation=\"linear\")`\n",
      "  # Remove the CWD from sys.path while we load stuff.\n",
      "c:\\users\\leo\\appdata\\local\\programs\\python\\python36\\lib\\site-packages\\ipykernel_launcher.py:13: UserWarning: Update your `Conv2D` call to the Keras 2 API: `Conv2D(512, (3, 2), activation=\"linear\")`\n",
      "  del sys.path[0]\n",
      "c:\\users\\leo\\appdata\\local\\programs\\python\\python36\\lib\\site-packages\\ipykernel_launcher.py:15: UserWarning: Update your `Conv2D` call to the Keras 2 API: `Conv2D(512, (7, 2), activation=\"linear\")`\n",
      "  from ipykernel import kernelapp as app\n"
     ]
    },
    {
     "name": "stdout",
     "output_type": "stream",
     "text": [
      "Train on 90250 samples, validate on 4750 samples\n",
      "Epoch 1/20\n",
      " - 364s - loss: 0.0315 - acc: 0.0049 - val_loss: 0.0315 - val_acc: 0.0046\n",
      "Epoch 2/20\n"
     ]
    }
   ],
   "source": [
    "model = Sequential()\n",
    "\n",
    "model.add(Convolution2D(64,3,2,activation='linear',input_shape=(img_rows,img_cols,3)))\n",
    "model.add(LeakyReLU(alpha=0.01))\n",
    "model.add(Convolution2D(64,3,2,activation='linear'))\n",
    "model.add(LeakyReLU(alpha=0.01))\n",
    "model.add(MaxPooling2D(pool_size=(2,2)))\n",
    "model.add(Convolution2D(128,3,2,activation='linear'))\n",
    "model.add(LeakyReLU(alpha=0.01))\n",
    "model.add(Convolution2D(256,3,2,activation='linear'))\n",
    "model.add(LeakyReLU(alpha=0.01))\n",
    "model.add(MaxPooling2D(pool_size=(2,2)))\n",
    "model.add(Convolution2D(512,3,2,activation='linear'))\n",
    "model.add(LeakyReLU(alpha=0.01))\n",
    "model.add(Convolution2D(512,7,2,activation='linear'))\n",
    "model.add(LeakyReLU(alpha=0.01))\n",
    "model.add(Dropout(0.5))\n",
    "model.add(MaxPooling2D(pool_size=(2,2)))\n",
    "model.add(Flatten())\n",
    "\n",
    "model.add(Dense(512,activation='linear'))\n",
    "model.add(LeakyReLU(alpha=0.01))\n",
    "model.add(Dropout(0.5))\n",
    "model.add(Dense(num_classes,activation='softmax'))\n",
    "\n",
    "model.compile(loss='poisson',optimizer='adam',metrics=['accuracy'])\n",
    "model.fit(train_x[:95000],train_y[:95000],batch_size=100,epochs=20,verbose=2,validation_split=0.05)\n",
    "test_acc(model,train_x[95000:],train_y[95000:])"
   ]
  },
  {
   "cell_type": "code",
   "execution_count": 10,
   "metadata": {},
   "outputs": [
    {
     "name": "stderr",
     "output_type": "stream",
     "text": [
      "c:\\users\\leo\\appdata\\local\\programs\\python\\python36\\lib\\site-packages\\ipykernel_launcher.py:4: UserWarning: Update your `Conv2D` call to the Keras 2 API: `Conv2D(64, (3, 2), activation=\"linear\", input_shape=(64, 64, 3...)`\n",
      "  after removing the cwd from sys.path.\n",
      "c:\\users\\leo\\appdata\\local\\programs\\python\\python36\\lib\\site-packages\\ipykernel_launcher.py:6: UserWarning: Update your `Conv2D` call to the Keras 2 API: `Conv2D(64, (3, 2), activation=\"linear\")`\n",
      "  \n",
      "c:\\users\\leo\\appdata\\local\\programs\\python\\python36\\lib\\site-packages\\ipykernel_launcher.py:9: UserWarning: Update your `Conv2D` call to the Keras 2 API: `Conv2D(128, (3, 2), activation=\"linear\")`\n",
      "  if __name__ == '__main__':\n",
      "c:\\users\\leo\\appdata\\local\\programs\\python\\python36\\lib\\site-packages\\ipykernel_launcher.py:11: UserWarning: Update your `Conv2D` call to the Keras 2 API: `Conv2D(128, (3, 2), activation=\"linear\")`\n",
      "  # This is added back by InteractiveShellApp.init_path()\n",
      "c:\\users\\leo\\appdata\\local\\programs\\python\\python36\\lib\\site-packages\\ipykernel_launcher.py:14: UserWarning: Update your `Conv2D` call to the Keras 2 API: `Conv2D(256, (3, 2), activation=\"linear\")`\n",
      "  \n",
      "c:\\users\\leo\\appdata\\local\\programs\\python\\python36\\lib\\site-packages\\ipykernel_launcher.py:16: UserWarning: Update your `Conv2D` call to the Keras 2 API: `Conv2D(256, (3, 2), activation=\"linear\")`\n",
      "  app.launch_new_instance()\n"
     ]
    },
    {
     "name": "stdout",
     "output_type": "stream",
     "text": [
      "Train on 90250 samples, validate on 4750 samples\n",
      "Epoch 1/25\n",
      " - 224s - loss: 0.0303 - acc: 0.0185 - val_loss: 0.0300 - val_acc: 0.0444\n",
      "Epoch 2/25\n",
      " - 224s - loss: 0.0277 - acc: 0.0658 - val_loss: 0.0282 - val_acc: 0.1303\n",
      "Epoch 3/25\n",
      " - 224s - loss: 0.0256 - acc: 0.1186 - val_loss: 0.0274 - val_acc: 0.1728\n",
      "Epoch 4/25\n",
      " - 223s - loss: 0.0244 - acc: 0.1511 - val_loss: 0.0267 - val_acc: 0.1941\n",
      "Epoch 5/25\n",
      " - 220s - loss: 0.0236 - acc: 0.1747 - val_loss: 0.0261 - val_acc: 0.2069\n",
      "Epoch 6/25\n",
      " - 220s - loss: 0.0230 - acc: 0.1949 - val_loss: 0.0257 - val_acc: 0.2267\n",
      "Epoch 7/25\n",
      " - 219s - loss: 0.0225 - acc: 0.2108 - val_loss: 0.0259 - val_acc: 0.2305\n",
      "Epoch 8/25\n",
      " - 219s - loss: 0.0221 - acc: 0.2225 - val_loss: 0.0256 - val_acc: 0.2364\n",
      "Epoch 9/25\n",
      " - 220s - loss: 0.0217 - acc: 0.2370 - val_loss: 0.0253 - val_acc: 0.2503\n",
      "Epoch 10/25\n",
      " - 221s - loss: 0.0214 - acc: 0.2485 - val_loss: 0.0252 - val_acc: 0.2455\n",
      "Epoch 11/25\n",
      " - 220s - loss: 0.0212 - acc: 0.2578 - val_loss: 0.0250 - val_acc: 0.2585\n",
      "Epoch 12/25\n",
      " - 222s - loss: 0.0209 - acc: 0.2650 - val_loss: 0.0247 - val_acc: 0.2669\n",
      "Epoch 13/25\n",
      " - 221s - loss: 0.0206 - acc: 0.2744 - val_loss: 0.0247 - val_acc: 0.2764\n",
      "Epoch 14/25\n",
      " - 219s - loss: 0.0205 - acc: 0.2796 - val_loss: 0.0248 - val_acc: 0.2686\n",
      "Epoch 15/25\n",
      " - 219s - loss: 0.0202 - acc: 0.2877 - val_loss: 0.0246 - val_acc: 0.2733\n",
      "Epoch 16/25\n",
      " - 219s - loss: 0.0201 - acc: 0.2916 - val_loss: 0.0244 - val_acc: 0.2762\n",
      "Epoch 17/25\n",
      " - 219s - loss: 0.0199 - acc: 0.2980 - val_loss: 0.0245 - val_acc: 0.2737\n",
      "Epoch 18/25\n",
      " - 219s - loss: 0.0198 - acc: 0.3034 - val_loss: 0.0244 - val_acc: 0.2855\n",
      "Epoch 19/25\n",
      " - 219s - loss: 0.0196 - acc: 0.3095 - val_loss: 0.0242 - val_acc: 0.2802\n",
      "Epoch 20/25\n",
      " - 219s - loss: 0.0195 - acc: 0.3119 - val_loss: 0.0243 - val_acc: 0.2800\n",
      "Epoch 21/25\n",
      " - 219s - loss: 0.0194 - acc: 0.3172 - val_loss: 0.0242 - val_acc: 0.2749\n",
      "Epoch 22/25\n",
      " - 219s - loss: 0.0193 - acc: 0.3229 - val_loss: 0.0242 - val_acc: 0.2766\n",
      "Epoch 23/25\n",
      " - 220s - loss: 0.0191 - acc: 0.3244 - val_loss: 0.0240 - val_acc: 0.2846\n",
      "Epoch 24/25\n",
      " - 221s - loss: 0.0190 - acc: 0.3276 - val_loss: 0.0240 - val_acc: 0.2714\n",
      "Epoch 25/25\n",
      " - 221s - loss: 0.0190 - acc: 0.3309 - val_loss: 0.0244 - val_acc: 0.2712\n",
      "Test Accuracy [26.38]\n"
     ]
    },
    {
     "data": {
      "text/plain": [
       "array([26.38])"
      ]
     },
     "execution_count": 10,
     "metadata": {},
     "output_type": "execute_result"
    }
   ],
   "source": [
    "\n",
    "model = Sequential()\n",
    "\n",
    "model.add(Convolution2D(64,3,2,activation='linear',input_shape=(img_rows,img_cols,3)))\n",
    "model.add(LeakyReLU(alpha=0.01))\n",
    "model.add(Convolution2D(64,3,2,activation='linear'))\n",
    "model.add(LeakyReLU(alpha=0.01))\n",
    "model.add(MaxPooling2D(pool_size=(2,2)))\n",
    "model.add(Convolution2D(128,3,2,activation='linear'))\n",
    "model.add(LeakyReLU(alpha=0.01))\n",
    "model.add(Convolution2D(128,3,2,activation='linear'))\n",
    "model.add(LeakyReLU(alpha=0.01))\n",
    "model.add(MaxPooling2D(pool_size=(2,2)))\n",
    "model.add(Convolution2D(256,3,2,activation='linear'))\n",
    "model.add(LeakyReLU(alpha=0.01))\n",
    "model.add(Convolution2D(256,3,2,activation='linear'))\n",
    "model.add(LeakyReLU(alpha=0.01))\n",
    "model.add(Dropout(0.75))\n",
    "model.add(MaxPooling2D(pool_size=(4,4)))\n",
    "model.add(Flatten())\n",
    "\n",
    "model.add(Dense(512,activation='linear'))\n",
    "model.add(LeakyReLU(alpha=0.01))\n",
    "model.add(Dropout(0.5))\n",
    "model.add(Dense(num_classes,activation='softmax'))\n",
    "\n",
    "model.compile(loss='poisson',optimizer='adam',metrics=['accuracy'])\n",
    "model.fit(train_x[:95000],train_y[:95000],batch_size=100,epochs=25,verbose=2,validation_split=0.05)\n",
    "test_acc(model,train_x[95000:],train_y[95000:])"
   ]
  },
  {
   "cell_type": "code",
   "execution_count": null,
   "metadata": {
    "scrolled": true
   },
   "outputs": [
    {
     "name": "stderr",
     "output_type": "stream",
     "text": [
      "c:\\users\\leo\\appdata\\local\\programs\\python\\python36\\lib\\site-packages\\ipykernel_launcher.py:4: UserWarning: Update your `Conv2D` call to the Keras 2 API: `Conv2D(64, (3, 2), activation=\"linear\", input_shape=(64, 64, 3...)`\n",
      "  after removing the cwd from sys.path.\n",
      "c:\\users\\leo\\appdata\\local\\programs\\python\\python36\\lib\\site-packages\\ipykernel_launcher.py:6: UserWarning: Update your `Conv2D` call to the Keras 2 API: `Conv2D(64, (3, 2), activation=\"linear\")`\n",
      "  \n",
      "c:\\users\\leo\\appdata\\local\\programs\\python\\python36\\lib\\site-packages\\ipykernel_launcher.py:9: UserWarning: Update your `Conv2D` call to the Keras 2 API: `Conv2D(128, (3, 2), activation=\"linear\")`\n",
      "  if __name__ == '__main__':\n",
      "c:\\users\\leo\\appdata\\local\\programs\\python\\python36\\lib\\site-packages\\ipykernel_launcher.py:11: UserWarning: Update your `Conv2D` call to the Keras 2 API: `Conv2D(128, (3, 2), activation=\"linear\")`\n",
      "  # This is added back by InteractiveShellApp.init_path()\n",
      "c:\\users\\leo\\appdata\\local\\programs\\python\\python36\\lib\\site-packages\\ipykernel_launcher.py:14: UserWarning: Update your `Conv2D` call to the Keras 2 API: `Conv2D(256, (3, 2), activation=\"linear\")`\n",
      "  \n",
      "c:\\users\\leo\\appdata\\local\\programs\\python\\python36\\lib\\site-packages\\ipykernel_launcher.py:16: UserWarning: Update your `Conv2D` call to the Keras 2 API: `Conv2D(256, (3, 2), activation=\"linear\")`\n",
      "  app.launch_new_instance()\n"
     ]
    },
    {
     "name": "stdout",
     "output_type": "stream",
     "text": [
      "Train on 90250 samples, validate on 4750 samples\n",
      "Epoch 1/25\n",
      " - 226s - loss: 0.0309 - acc: 0.0116 - val_loss: 0.0303 - val_acc: 0.0265\n",
      "Epoch 2/25\n",
      " - 224s - loss: 0.0285 - acc: 0.0508 - val_loss: 0.0281 - val_acc: 0.0954\n",
      "Epoch 3/25\n",
      " - 227s - loss: 0.0262 - acc: 0.1019 - val_loss: 0.0267 - val_acc: 0.1478\n",
      "Epoch 4/25\n",
      " - 228s - loss: 0.0249 - acc: 0.1377 - val_loss: 0.0258 - val_acc: 0.1726\n",
      "Epoch 5/25\n",
      " - 229s - loss: 0.0241 - acc: 0.1612 - val_loss: 0.0250 - val_acc: 0.1971\n",
      "Epoch 6/25\n",
      " - 228s - loss: 0.0234 - acc: 0.1818 - val_loss: 0.0247 - val_acc: 0.2211\n",
      "Epoch 7/25\n",
      " - 228s - loss: 0.0229 - acc: 0.1980 - val_loss: 0.0242 - val_acc: 0.2280\n",
      "Epoch 8/25\n",
      " - 246s - loss: 0.0224 - acc: 0.2159 - val_loss: 0.0240 - val_acc: 0.2396\n",
      "Epoch 9/25\n",
      " - 318s - loss: 0.0220 - acc: 0.2266 - val_loss: 0.0237 - val_acc: 0.2526\n",
      "Epoch 10/25\n",
      " - 306s - loss: 0.0217 - acc: 0.2372 - val_loss: 0.0235 - val_acc: 0.2552\n",
      "Epoch 11/25\n",
      " - 292s - loss: 0.0214 - acc: 0.2488 - val_loss: 0.0234 - val_acc: 0.2615\n",
      "Epoch 12/25\n",
      " - 307s - loss: 0.0211 - acc: 0.2583 - val_loss: 0.0230 - val_acc: 0.2651\n",
      "Epoch 13/25\n",
      " - 296s - loss: 0.0208 - acc: 0.2671 - val_loss: 0.0228 - val_acc: 0.2714\n",
      "Epoch 14/25\n",
      " - 309s - loss: 0.0206 - acc: 0.2749 - val_loss: 0.0226 - val_acc: 0.2768\n",
      "Epoch 15/25\n",
      " - 313s - loss: 0.0203 - acc: 0.2836 - val_loss: 0.0226 - val_acc: 0.2762\n",
      "Epoch 16/25\n",
      " - 247s - loss: 0.0202 - acc: 0.2883 - val_loss: 0.0226 - val_acc: 0.2764\n",
      "Epoch 17/25\n",
      " - 224s - loss: 0.0199 - acc: 0.2981 - val_loss: 0.0226 - val_acc: 0.2876\n",
      "Epoch 18/25\n",
      " - 223s - loss: 0.0197 - acc: 0.3040 - val_loss: 0.0225 - val_acc: 0.2844\n",
      "Epoch 19/25\n",
      " - 226s - loss: 0.0196 - acc: 0.3087 - val_loss: 0.0222 - val_acc: 0.2808\n",
      "Epoch 20/25\n",
      " - 224s - loss: 0.0194 - acc: 0.3152 - val_loss: 0.0222 - val_acc: 0.2949\n",
      "Epoch 21/25\n",
      " - 223s - loss: 0.0193 - acc: 0.3191 - val_loss: 0.0221 - val_acc: 0.2861\n",
      "Epoch 22/25\n",
      " - 223s - loss: 0.0191 - acc: 0.3248 - val_loss: 0.0219 - val_acc: 0.2865\n",
      "Epoch 23/25\n",
      " - 222s - loss: 0.0190 - acc: 0.3309 - val_loss: 0.0220 - val_acc: 0.2901\n",
      "Epoch 24/25\n",
      " - 229s - loss: 0.0189 - acc: 0.3351 - val_loss: 0.0218 - val_acc: 0.2842\n",
      "Epoch 25/25\n"
     ]
    }
   ],
   "source": [
    "\n",
    "model = Sequential()\n",
    "\n",
    "model.add(Convolution2D(64,3,2,activation='linear',input_shape=(img_rows,img_cols,3)))\n",
    "model.add(LeakyReLU(alpha=0.01))\n",
    "model.add(Convolution2D(64,3,2,activation='linear'))\n",
    "model.add(LeakyReLU(alpha=0.01))\n",
    "model.add(MaxPooling2D(pool_size=(2,2)))\n",
    "model.add(Convolution2D(128,3,2,activation='linear'))\n",
    "model.add(LeakyReLU(alpha=0.01))\n",
    "model.add(Convolution2D(128,3,2,activation='linear'))\n",
    "model.add(LeakyReLU(alpha=0.01))\n",
    "model.add(MaxPooling2D(pool_size=(2,2)))\n",
    "model.add(Convolution2D(256,3,2,activation='linear'))\n",
    "model.add(LeakyReLU(alpha=0.01))\n",
    "model.add(Convolution2D(256,3,2,activation='linear'))\n",
    "model.add(LeakyReLU(alpha=0.01))\n",
    "model.add(Dropout(0.75))\n",
    "model.add(MaxPooling2D(pool_size=(2,2)))\n",
    "model.add(Flatten())\n",
    "\n",
    "model.add(Dense(512,activation='linear'))\n",
    "model.add(LeakyReLU(alpha=0.01))\n",
    "model.add(Dropout(0.5))\n",
    "model.add(Dense(num_classes,activation='softmax'))\n",
    "\n",
    "model.compile(loss='poisson',optimizer='adam',metrics=['accuracy'])\n",
    "model.fit(train_x[:95000],train_y[:95000],batch_size=100,epochs=25,verbose=2,validation_split=0.05)\n",
    "test_acc(model,train_x[95000:],train_y[95000:])"
   ]
  },
  {
   "cell_type": "code",
   "execution_count": null,
   "metadata": {},
   "outputs": [],
   "source": []
  }
 ],
 "metadata": {
  "kernelspec": {
   "display_name": "Python 3",
   "language": "python",
   "name": "python3"
  },
  "language_info": {
   "codemirror_mode": {
    "name": "ipython",
    "version": 3
   },
   "file_extension": ".py",
   "mimetype": "text/x-python",
   "name": "python",
   "nbconvert_exporter": "python",
   "pygments_lexer": "ipython3",
   "version": "3.6.5"
  }
 },
 "nbformat": 4,
 "nbformat_minor": 2
}
